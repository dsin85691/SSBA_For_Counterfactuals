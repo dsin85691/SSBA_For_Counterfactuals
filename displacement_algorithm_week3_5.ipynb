{
 "cells": [
  {
   "cell_type": "markdown",
   "metadata": {},
   "source": [
    "# Week 3 - 5 # \n",
    "\n",
    "Task: We needed to build a function that takes four required parameters (which is the dataset, the model, the desired class, and the undesired coordinates)\n",
    "\n",
    "Steps: \n",
    "1. We first read in the dataset and construct our model using sklearn library (svm classifier, logistic regression classifier, multi-layer perceptron)\n",
    "2. We then fit the model according to the dataset provided. \n",
    "3. We generate a meshgrid of points from which we applied the model to. \n",
    "4. We retrieved the predictions of the model for those values. \n",
    "5. We determined the decision boundary based on the model's predictions for the meshgrid of points. \n",
    "6. We interpolate the decision boundary with the points found in step 5. \n",
    "7. We apply distance algorithm / orthogonality algorithm to the interpolated points to find the point of minimal distance. \n",
    "8. We show that the point crosses the decision boundary in a plot."
   ]
  },
  {
   "cell_type": "code",
   "execution_count": 1,
   "metadata": {},
   "outputs": [
    {
     "name": "stderr",
     "output_type": "stream",
     "text": [
      "c:\\Users\\Compuworld\\anaconda3\\Lib\\site-packages\\pandas\\core\\arrays\\masked.py:60: UserWarning: Pandas requires version '1.3.6' or newer of 'bottleneck' (version '1.3.5' currently installed).\n",
      "  from pandas.core import (\n"
     ]
    }
   ],
   "source": [
    "import numpy as np\n",
    "import pandas as pd\n",
    "from sklearn import svm\n",
    "import matplotlib.pyplot as plt\n",
    "\n",
    "\n",
    "# Reading in the dataset\n",
    "df=pd.read_csv('SVM_Dataset2.csv')\n",
    "\n",
    "# SVM classifier with polynomial decision boundary\n",
    "svm_classifier = svm.SVC(kernel='poly',C=10, degree=2)\n",
    "# svm_classifier = svm.SVC(kernel='rbf', gamma=0.1, C=100)"
   ]
  },
  {
   "cell_type": "markdown",
   "metadata": {},
   "source": [
    "As shown in the report for weeks 1 - 3, the displacement algorithm uses orthogonality to find the point where the interpolated point vector is orthogonal to the vector from the point to the actual data point. \n",
    "\n",
    "We also have shown that we can replace this algorithm with a simple distance algorithm to get the same result. The distance algorithm just uses the distance formula $D = \\sqrt{(x_2 - x_1)^2 + (y_2 - y_1)^2}$ and determines which of the interpolated points is closest to the actual data point."
   ]
  },
  {
   "cell_type": "code",
   "execution_count": 16,
   "metadata": {},
   "outputs": [],
   "source": [
    "import math \n",
    "\n",
    "# Determines the new point that takes the original data point across the decision boundary.\n",
    "def direction_func(data_pt, final_dist_vec, scaler, direction, x1=0): \n",
    "    if direction == \"negative\": \n",
    "        x1 = x1 * -1\n",
    "    margin = np.array([x1, x1]) \n",
    "    modified_pt = data_pt - final_dist_vec*scaler + margin\n",
    "    return modified_pt\n",
    "\n",
    "# Distance formula function\n",
    "def J(x1, y1, x2, y2): \n",
    "    return math.sqrt((x2-x1)**2 + (y2-y1)**2)\n",
    "\n",
    "# Finds the interpolated point with a minimal distance from the data point\n",
    "def displacement_func2(X_pred, Y_pred, datapt, margin=0): \n",
    "    X_pred = X_pred.flatten() \n",
    "    Y_pred = Y_pred.flatten()\n",
    "\n",
    "    min_point_vector = (-1, -1)\n",
    "    min_dist = float('inf')\n",
    "\n",
    "\n",
    "    for k in range(len(X_pred)): \n",
    "        x, y = X_pred[k], Y_pred[k]\n",
    "\n",
    "        dist = J(x,y, datapt[0], datapt[1])\n",
    "\n",
    "        if min_dist > dist: \n",
    "            min_dist = dist \n",
    "            min_point_vector = (datapt[0] - x, datapt[1] - y)\n",
    "\n",
    "    return min_point_vector\n",
    "\n",
    "# Uniqueness of orthogonal projection: https://math.stackexchange.com/questions/953997/uniqueness-of-orthogonal-projections \n",
    "# Minimum distance orthogonal projection: https://math.stackexchange.com/questions/2304079/show-orthogonal-projection-is-minimal-distance \n",
    "def displacement_func(func, X_pred, Y_pred, data_pt, margin=0): \n",
    "    X_pred = X_pred.flatten() \n",
    "    Y_pred = Y_pred.flatten()\n",
    "\n",
    "    min_point_vector = (-1, -1)\n",
    "    min_orthogonal = 1\n",
    "\n",
    "    for k in range(1, len(X_pred)): \n",
    "        dist_x, dist_y = margin, Y_pred[k] - func(X_pred[k] - margin)\n",
    "        point_dist_x, point_dist_y = data_pt[0] - X_pred[k], data_pt[1] - Y_pred[k]\n",
    "\n",
    "        line_vector = np.array([dist_x, dist_y]).T \n",
    "        point_vector = np.array([point_dist_x, point_dist_y]) \n",
    "\n",
    "        # Taking the magnitudes of both vectors\n",
    "        line_vector_m = np.linalg.norm(line_vector)\n",
    "        point_vector_m = np.linalg.norm(point_vector)\n",
    "        \n",
    "        line_vector_norm = line_vector / line_vector_m\n",
    "        point_vector_norm = point_vector / point_vector_m\n",
    "\n",
    "        # Should be in the range of [-1, 1]\n",
    "        orthogonal = np.matmul(line_vector_norm, point_vector_norm)\n",
    "\n",
    "        # Taking the absolute value since we only that value of orthogonality is as close to 0 as possible\n",
    "        orthogonal = abs(orthogonal)\n",
    "                \n",
    "        if min_orthogonal > orthogonal: \n",
    "            min_orthogonal = orthogonal\n",
    "            min_point_vector = point_vector\n",
    "\n",
    "    return min_point_vector"
   ]
  },
  {
   "cell_type": "markdown",
   "metadata": {},
   "source": [
    "# Finding the Optimal Point (orthogonal point to the decision boundary) # \n",
    "\n",
    "To find the optimal point, we create a function optimal_point that takes in the four required parameters (df, model, desired_class, undesired_coords) to represent the parameters of the function needed to complete the task which is a function that can return the optimal point independent of the model, dataset, and data point values. \n",
    "\n",
    "Because we cannot easily determine the decision boundary if the function is to be model agnostic, we need to build a function that generates the decision boundary in the case of binary classification. We create a function boundary_generator in order to achieve this. The function iterates over each meshgrid point row by row and finds the point at which the classification changes from -1 to 1 or 1 to -1. This pattern is used to find the points of the decision boundary. \n",
    "\n",
    "Other parameters are added to the optimal point function: \n",
    "- step_size: the size of the step between meshgrid points (to generate the boundary)\n",
    "- N: the total number of interpolated points\n",
    "- margin: the added margin needed to get the optimal point across the boundary (not just on the boundary)\n",
    "- test: Whether to use the orthogonality algorithm (displacement_func -- in the case of False) or the distance algorithm (displacement_func2 -- in the case of True) \n",
    "- contours_val: Uses decision_function for svm to see if the decision boundary for svm matches the boundary generated by boundary_generator"
   ]
  },
  {
   "cell_type": "code",
   "execution_count": 14,
   "metadata": {},
   "outputs": [],
   "source": [
    "from scipy.interpolate import interp1d\n",
    "\n",
    "# Generates the decision boundary in the case of binary classification\n",
    "def boundary_generator(xx1, xx2, model, margin=0.005): \n",
    "    data = np.array([xx1.ravel(), xx2.ravel()]).T\n",
    "    class_labels = model.predict(data).reshape(xx1.shape)\n",
    "    boundary_df = pd.DataFrame([], columns=['x1', 'x2']) \n",
    "\n",
    "    for i in range(0, class_labels.shape[0]): \n",
    "        for j in range(1, class_labels.shape[1]): \n",
    "            if class_labels[i, j] != class_labels[i, j-1]: \n",
    "                result = smooth_op(model, np.array([xx1[i, j-1], xx2[i, j-1]]).reshape((1, data.shape[1])),   np.array([xx1[i,j], xx2[i,j]]).reshape((1, data.shape[1])))\n",
    "                result = np.squeeze(result, axis=0)\n",
    "                boundary_df.loc[len(boundary_df)] = result\n",
    "\n",
    "    return boundary_df\n",
    "\n",
    "# Helps to locate a better decision boundary\n",
    "def smooth_op(model, left, right):\n",
    "    model_left = model.predict(left) \n",
    "    model_right = model.predict(right) \n",
    "\n",
    "    while model_left != model_right:  \n",
    "        left = (left + right) / 2 \n",
    "        model_left = model.predict(left) \n",
    "    \n",
    "    return left \n",
    "\n",
    "# Algorithm that determines the point that is closest to the decision boundary from a specified data point (undesired_coords) \n",
    "def optimal_point(df, model, desired_class, undesired_coords, step_size=0.005, N=10000, margin=0.0001, test=False, contours_val=False): \n",
    "\n",
    "    # First feature\n",
    "    X1=df['x1']\n",
    "\n",
    "    # Second feature\n",
    "    X2=df['x2']\n",
    "\n",
    "    # Creating feature matrix from a set of two features\n",
    "    X_train=np.array(list(zip(X1,X2)))\n",
    "\n",
    "    # Getting labels of the features in the feature matrix\n",
    "    y_train=df['y'].values\n",
    "\n",
    "    model.fit(X_train, y_train)\n",
    "\n",
    "    X = X_train\n",
    "    x1_min, x1_max = X[:, 0].min() - 5, X[:, 0].max() + 5\n",
    "    x2_min, x2_max = X[:, 1].min() - 5, X[:, 1].max() + 5\n",
    "    xx1, xx2 = np.meshgrid(np.arange(x1_min, x1_max, step=step_size),np.arange(x2_min, x2_max, step=step_size))\n",
    "\n",
    "    boundary_df = boundary_generator(xx1=xx1, xx2=xx2, model=model)\n",
    "    boundary_df = boundary_df.drop_duplicates(subset='x1')\n",
    "\n",
    "    bound_x, bound_y = boundary_df.iloc[:, 0], boundary_df.iloc[:, 1]\n",
    "\n",
    "    # Cubic interpolation \n",
    "    f = interp1d(bound_x, bound_y, kind='cubic')\n",
    "    X_pred = np.linspace(np.min(bound_x), np.max(bound_x), N)[:, np.newaxis]\n",
    "    Y_pred = f(X_pred)\n",
    "\n",
    "    if contours_val: \n",
    "        Z = model.decision_function(np.array([xx1.ravel(), xx2.ravel()]).T).reshape(xx1.shape)\n",
    "        contours = plt.contour(xx1, xx2, Z, levels=[-1, 0, 1])\n",
    "\n",
    "        x_coords, y_coords = None, None\n",
    "        i = 0 \n",
    "        for collection in contours.collections:\n",
    "            for path in collection.get_paths():\n",
    "                if i == 1: \n",
    "                    vertices = path.vertices\n",
    "                    x_coords = vertices[:, 0]\n",
    "                    y_coords = vertices[:, 1]\n",
    "                i+=1\n",
    "        plt.plot(x_coords, y_coords, label='Decision Boundary')\n",
    "\n",
    "    plt.plot(X_pred, Y_pred)  # Interpolated curve\n",
    "    plt.xlabel('x')\n",
    "    plt.ylabel('y')\n",
    "\n",
    "    # Add a legend for the line plot\n",
    "    plt.legend()\n",
    "\n",
    "    if not test: \n",
    "        # Returns the minimum distance vector between the undesired coordinates and the decision boundary\n",
    "        min_dist_vector = displacement_func(f, X_pred, Y_pred, undesired_coords, margin=margin)\n",
    "    else: \n",
    "        min_dist_vector = displacement_func2(X_pred, Y_pred, undesired_coords)\n",
    "\n",
    "    if desired_class: \n",
    "        undesired_datapt = np.array([undesired_coords[0], undesired_coords[1]]).reshape(1, -1)  \n",
    "        optimal_datapt = direction_func(undesired_datapt, min_dist_vector, 1, 'negative', x1=margin)\n",
    "\n",
    "        color_ls = []\n",
    "        # Depending on labels assigns as 'b' or 'r' (blue or red) \n",
    "        for k in y_train:\n",
    "            if k == 1:\n",
    "                color_ls.append('b')\n",
    "            else:\n",
    "                color_ls.append('r')\n",
    "        color_ls\n",
    "        label = []\n",
    "        for k in y_train:\n",
    "            if k == 1:\n",
    "                label.append('H')\n",
    "            else:\n",
    "                label.append('NH')\n",
    "        label\n",
    "        plt.scatter(undesired_datapt[0,0], undesired_datapt[0,1], c = 'r')\n",
    "        plt.text(undesired_datapt[0,0]+0.002, undesired_datapt[0,1]+0.002, 'NH')\n",
    "        plt.scatter(optimal_datapt[0,0], optimal_datapt[0,1], c = 'b')\n",
    "        plt.text(optimal_datapt[0,0]+0.002, optimal_datapt[0,1]+0.002, 'H')\n",
    "        plt.plot([undesired_datapt[0,0], optimal_datapt[0,0]], [undesired_datapt[0,1],optimal_datapt[0,1]], linestyle='--')\n",
    "        print(J(undesired_datapt[0,0],undesired_datapt[0,1], optimal_datapt[0,0], optimal_datapt[0,1]))\n",
    "        # Display the plot\n",
    "        return optimal_datapt \n",
    "    else: \n",
    "        reduction = 0.2 \n",
    "        min_dist_vector = (1 - reduction) * min_dist_vector\n",
    "        optimal_datapt = direction_func(undesired_coords, min_dist_vector, 1, 'negative', x1=margin)\n",
    "        plt.scatter(undesired_datapt[0,0], undesired_datapt[0,1], c = 'r')\n",
    "        plt.text(undesired_datapt[0,0]+0.002, undesired_datapt[0,1]+0.002, 'NH')\n",
    "        plt.scatter(optimal_datapt[0,0], optimal_datapt[0,1], c = 'b')\n",
    "        plt.text(optimal_datapt[0,0]+0.002, optimal_datapt[0,1]+0.002, 'H')\n",
    "        plt.plot([undesired_datapt[0,0], optimal_datapt[0,0]], [undesired_datapt[0,1],optimal_datapt[0,1]], linestyle='--')\n",
    "        # Display the plot\n",
    "        return optimal_datapt"
   ]
  },
  {
   "cell_type": "code",
   "execution_count": 17,
   "metadata": {},
   "outputs": [
    {
     "name": "stdout",
     "output_type": "stream",
     "text": [
      "5.3606453422103435\n"
     ]
    },
    {
     "data": {
      "text/plain": [
       "array([[ 3.76930119, 17.82683826]])"
      ]
     },
     "execution_count": 17,
     "metadata": {},
     "output_type": "execute_result"
    },
    {
     "data": {
      "image/png": "[encoded data removed]",
      "text/plain": [
       "<Figure size 640x480 with 1 Axes>"
      ]
     },
     "metadata": {},
     "output_type": "display_data"
    }
   ],
   "source": [
    "optimal_projection = optimal_point(df, svm_classifier, desired_class=1, undesired_coords=(9,19), contours_val=True, N=100000, step_size=0.1, margin=0.00001, test=False)\n",
    "optimal_projection"
   ]
  },
  {
   "cell_type": "code",
   "execution_count": 18,
   "metadata": {},
   "outputs": [
    {
     "name": "stdout",
     "output_type": "stream",
     "text": [
      "5.358821738602314\n"
     ]
    },
    {
     "data": {
      "text/plain": [
       "array([[ 3.78242708, 17.77774667]])"
      ]
     },
     "execution_count": 18,
     "metadata": {},
     "output_type": "execute_result"
    },
    {
     "data": {
      "image/png": "[encoded data removed]",
      "text/plain": [
       "<Figure size 640x480 with 1 Axes>"
      ]
     },
     "metadata": {},
     "output_type": "display_data"
    }
   ],
   "source": [
    "optimal_projection = optimal_point(df, svm_classifier, desired_class=1, undesired_coords=(9,19), contours_val=True, N=100000, step_size=0.05, test=True)\n",
    "optimal_projection"
   ]
  },
  {
   "cell_type": "markdown",
   "metadata": {},
   "source": [
    "# Finding the Optimal Points # \n",
    "\n",
    "The code below finds the optimal data points with the orthogonality algorithm described earlier. In the code below, we iterate over each non-health data point and find the optimal points for each. We then plot those optimal data points as blue, 'healthy' data points in the graphic below."
   ]
  },
  {
   "cell_type": "code",
   "execution_count": 20,
   "metadata": {},
   "outputs": [
    {
     "name": "stderr",
     "output_type": "stream",
     "text": [
      "No artists with labels found to put in legend.  Note that artists whose label start with an underscore are ignored when legend() is called with no argument.\n",
      "No artists with labels found to put in legend.  Note that artists whose label start with an underscore are ignored when legend() is called with no argument.\n"
     ]
    },
    {
     "name": "stdout",
     "output_type": "stream",
     "text": [
      "3.6346825786751746\n"
     ]
    },
    {
     "name": "stderr",
     "output_type": "stream",
     "text": [
      "No artists with labels found to put in legend.  Note that artists whose label start with an underscore are ignored when legend() is called with no argument.\n"
     ]
    },
    {
     "name": "stdout",
     "output_type": "stream",
     "text": [
      "0.8082611109896327\n"
     ]
    },
    {
     "name": "stderr",
     "output_type": "stream",
     "text": [
      "No artists with labels found to put in legend.  Note that artists whose label start with an underscore are ignored when legend() is called with no argument.\n"
     ]
    },
    {
     "name": "stdout",
     "output_type": "stream",
     "text": [
      "5.368143842702653\n"
     ]
    },
    {
     "name": "stderr",
     "output_type": "stream",
     "text": [
      "No artists with labels found to put in legend.  Note that artists whose label start with an underscore are ignored when legend() is called with no argument.\n"
     ]
    },
    {
     "name": "stdout",
     "output_type": "stream",
     "text": [
      "5.823108401304631\n"
     ]
    },
    {
     "name": "stderr",
     "output_type": "stream",
     "text": [
      "No artists with labels found to put in legend.  Note that artists whose label start with an underscore are ignored when legend() is called with no argument.\n"
     ]
    },
    {
     "name": "stdout",
     "output_type": "stream",
     "text": [
      "4.5454259007457205\n"
     ]
    },
    {
     "name": "stderr",
     "output_type": "stream",
     "text": [
      "No artists with labels found to put in legend.  Note that artists whose label start with an underscore are ignored when legend() is called with no argument.\n"
     ]
    },
    {
     "name": "stdout",
     "output_type": "stream",
     "text": [
      "3.415402826135256\n"
     ]
    },
    {
     "name": "stderr",
     "output_type": "stream",
     "text": [
      "No artists with labels found to put in legend.  Note that artists whose label start with an underscore are ignored when legend() is called with no argument.\n"
     ]
    },
    {
     "name": "stdout",
     "output_type": "stream",
     "text": [
      "1.2823003745558275\n"
     ]
    },
    {
     "name": "stderr",
     "output_type": "stream",
     "text": [
      "No artists with labels found to put in legend.  Note that artists whose label start with an underscore are ignored when legend() is called with no argument.\n"
     ]
    },
    {
     "name": "stdout",
     "output_type": "stream",
     "text": [
      "3.048119386634009\n"
     ]
    },
    {
     "name": "stderr",
     "output_type": "stream",
     "text": [
      "No artists with labels found to put in legend.  Note that artists whose label start with an underscore are ignored when legend() is called with no argument.\n"
     ]
    },
    {
     "name": "stdout",
     "output_type": "stream",
     "text": [
      "5.965008159472882\n",
      "4.747229092074945\n"
     ]
    },
    {
     "data": {
      "image/png": "[encoded data removed]",
      "text/plain": [
       "<Figure size 640x480 with 1 Axes>"
      ]
     },
     "metadata": {},
     "output_type": "display_data"
    }
   ],
   "source": [
    "# Data frame consisting of all \"non-healthy\" data points or points where the classification is -1\n",
    "undesired_df = df.loc[df['y'] == -1]\n",
    "\n",
    "undesired_df = undesired_df.drop(columns=['y'])\n",
    "\n",
    "optimal_datapts = pd.DataFrame(data=[], columns=('x1', 'x2'))\n",
    "\n",
    "# Iterates over each of the rows of the undesired dataframe and finds the optimal point\n",
    "for r in range(undesired_df.shape[0]): \n",
    "    \n",
    "    # Undesired data point\n",
    "    data_pt = undesired_df.iloc[r]  \n",
    "\n",
    "    optimal_pt = optimal_point(df, svm_classifier, desired_class=1, undesired_coords=(data_pt.iloc[0], data_pt.iloc[1]), contours_val=False, N=100000, step_size=0.1, margin=0.0001, test=False)\n",
    "    \n",
    "    optimal_datapts.loc[len(optimal_datapts)] = optimal_pt[0]"
   ]
  },
  {
   "cell_type": "markdown",
   "metadata": {},
   "source": [
    "# Optimal Points # \n",
    "\n",
    "These are the optimal data points founds after iterating over each \"non-healthy\" data point. These are the points that are colored blue in the graphic above."
   ]
  },
  {
   "cell_type": "code",
   "execution_count": 21,
   "metadata": {},
   "outputs": [
    {
     "data": {
      "text/html": [
       "<div>\n",
       "<style scoped>\n",
       "    .dataframe tbody tr th:only-of-type {\n",
       "        vertical-align: middle;\n",
       "    }\n",
       "\n",
       "    .dataframe tbody tr th {\n",
       "        vertical-align: top;\n",
       "    }\n",
       "\n",
       "    .dataframe thead th {\n",
       "        text-align: right;\n",
       "    }\n",
       "</style>\n",
       "<table border=\"1\" class=\"dataframe\">\n",
       "  <thead>\n",
       "    <tr style=\"text-align: right;\">\n",
       "      <th></th>\n",
       "      <th>x1</th>\n",
       "      <th>x2</th>\n",
       "    </tr>\n",
       "  </thead>\n",
       "  <tbody>\n",
       "    <tr>\n",
       "      <th>0</th>\n",
       "      <td>3.388099</td>\n",
       "      <td>19.593686</td>\n",
       "    </tr>\n",
       "    <tr>\n",
       "      <th>1</th>\n",
       "      <td>7.511897</td>\n",
       "      <td>11.355763</td>\n",
       "    </tr>\n",
       "    <tr>\n",
       "      <th>2</th>\n",
       "      <td>3.809980</td>\n",
       "      <td>17.628630</td>\n",
       "    </tr>\n",
       "    <tr>\n",
       "      <th>3</th>\n",
       "      <td>5.654386</td>\n",
       "      <td>13.123890</td>\n",
       "    </tr>\n",
       "    <tr>\n",
       "      <th>4</th>\n",
       "      <td>10.785017</td>\n",
       "      <td>10.459661</td>\n",
       "    </tr>\n",
       "    <tr>\n",
       "      <th>5</th>\n",
       "      <td>13.497390</td>\n",
       "      <td>10.621009</td>\n",
       "    </tr>\n",
       "    <tr>\n",
       "      <th>6</th>\n",
       "      <td>14.214296</td>\n",
       "      <td>10.735733</td>\n",
       "    </tr>\n",
       "    <tr>\n",
       "      <th>7</th>\n",
       "      <td>15.664486</td>\n",
       "      <td>11.025191</td>\n",
       "    </tr>\n",
       "    <tr>\n",
       "      <th>8</th>\n",
       "      <td>16.437448</td>\n",
       "      <td>11.210780</td>\n",
       "    </tr>\n",
       "    <tr>\n",
       "      <th>9</th>\n",
       "      <td>17.246992</td>\n",
       "      <td>11.419477</td>\n",
       "    </tr>\n",
       "  </tbody>\n",
       "</table>\n",
       "</div>"
      ],
      "text/plain": [
       "          x1         x2\n",
       "0   3.388099  19.593686\n",
       "1   7.511897  11.355763\n",
       "2   3.809980  17.628630\n",
       "3   5.654386  13.123890\n",
       "4  10.785017  10.459661\n",
       "5  13.497390  10.621009\n",
       "6  14.214296  10.735733\n",
       "7  15.664486  11.025191\n",
       "8  16.437448  11.210780\n",
       "9  17.246992  11.419477"
      ]
     },
     "execution_count": 21,
     "metadata": {},
     "output_type": "execute_result"
    }
   ],
   "source": [
    "optimal_datapts"
   ]
  },
  {
   "cell_type": "code",
   "execution_count": 28,
   "metadata": {},
   "outputs": [
    {
     "data": {
      "text/html": [
       "<div>\n",
       "<style scoped>\n",
       "    .dataframe tbody tr th:only-of-type {\n",
       "        vertical-align: middle;\n",
       "    }\n",
       "\n",
       "    .dataframe tbody tr th {\n",
       "        vertical-align: top;\n",
       "    }\n",
       "\n",
       "    .dataframe thead th {\n",
       "        text-align: right;\n",
       "    }\n",
       "</style>\n",
       "<table border=\"1\" class=\"dataframe\">\n",
       "  <thead>\n",
       "    <tr style=\"text-align: right;\">\n",
       "      <th></th>\n",
       "      <th>distance</th>\n",
       "    </tr>\n",
       "  </thead>\n",
       "  <tbody>\n",
       "    <tr>\n",
       "      <th>0</th>\n",
       "      <td>3.613110</td>\n",
       "    </tr>\n",
       "    <tr>\n",
       "      <th>1</th>\n",
       "      <td>0.808261</td>\n",
       "    </tr>\n",
       "    <tr>\n",
       "      <th>2</th>\n",
       "      <td>5.360753</td>\n",
       "    </tr>\n",
       "    <tr>\n",
       "      <th>3</th>\n",
       "      <td>5.677127</td>\n",
       "    </tr>\n",
       "    <tr>\n",
       "      <th>4</th>\n",
       "      <td>4.545426</td>\n",
       "    </tr>\n",
       "    <tr>\n",
       "      <th>5</th>\n",
       "      <td>3.415403</td>\n",
       "    </tr>\n",
       "    <tr>\n",
       "      <th>6</th>\n",
       "      <td>1.282300</td>\n",
       "    </tr>\n",
       "    <tr>\n",
       "      <th>7</th>\n",
       "      <td>3.048119</td>\n",
       "    </tr>\n",
       "    <tr>\n",
       "      <th>8</th>\n",
       "      <td>5.965008</td>\n",
       "    </tr>\n",
       "    <tr>\n",
       "      <th>9</th>\n",
       "      <td>4.747229</td>\n",
       "    </tr>\n",
       "  </tbody>\n",
       "</table>\n",
       "</div>"
      ],
      "text/plain": [
       "   distance\n",
       "0  3.613110\n",
       "1  0.808261\n",
       "2  5.360753\n",
       "3  5.677127\n",
       "4  4.545426\n",
       "5  3.415403\n",
       "6  1.282300\n",
       "7  3.048119\n",
       "8  5.965008\n",
       "9  4.747229"
      ]
     },
     "execution_count": 28,
     "metadata": {},
     "output_type": "execute_result"
    }
   ],
   "source": [
    "dist_df_ortho_algo = pd.DataFrame(data=[], columns=[\"distance\"])\n",
    "\n",
    "for k in range(optimal_datapts.shape[0]): \n",
    "    dist_df_ortho_algo.loc[len(dist_df_ortho_algo)] = J(optimal_datapts.iloc[k,0], optimal_datapts.iloc[k,1], undesired_df.iloc[k,0], undesired_df.iloc[k,1])\n",
    "\n",
    "dist_df_ortho_algo"
   ]
  },
  {
   "cell_type": "code",
   "execution_count": 29,
   "metadata": {},
   "outputs": [
    {
     "data": {
      "text/html": [
       "<div>\n",
       "<style scoped>\n",
       "    .dataframe tbody tr th:only-of-type {\n",
       "        vertical-align: middle;\n",
       "    }\n",
       "\n",
       "    .dataframe tbody tr th {\n",
       "        vertical-align: top;\n",
       "    }\n",
       "\n",
       "    .dataframe thead th {\n",
       "        text-align: right;\n",
       "    }\n",
       "</style>\n",
       "<table border=\"1\" class=\"dataframe\">\n",
       "  <thead>\n",
       "    <tr style=\"text-align: right;\">\n",
       "      <th></th>\n",
       "      <th>x1</th>\n",
       "      <th>x2</th>\n",
       "    </tr>\n",
       "  </thead>\n",
       "  <tbody>\n",
       "    <tr>\n",
       "      <th>0</th>\n",
       "      <td>7.0</td>\n",
       "      <td>20</td>\n",
       "    </tr>\n",
       "    <tr>\n",
       "      <th>1</th>\n",
       "      <td>8.0</td>\n",
       "      <td>12</td>\n",
       "    </tr>\n",
       "    <tr>\n",
       "      <th>2</th>\n",
       "      <td>9.0</td>\n",
       "      <td>19</td>\n",
       "    </tr>\n",
       "    <tr>\n",
       "      <th>3</th>\n",
       "      <td>10.0</td>\n",
       "      <td>17</td>\n",
       "    </tr>\n",
       "    <tr>\n",
       "      <th>4</th>\n",
       "      <td>11.0</td>\n",
       "      <td>15</td>\n",
       "    </tr>\n",
       "    <tr>\n",
       "      <th>5</th>\n",
       "      <td>13.0</td>\n",
       "      <td>14</td>\n",
       "    </tr>\n",
       "    <tr>\n",
       "      <th>6</th>\n",
       "      <td>14.0</td>\n",
       "      <td>12</td>\n",
       "    </tr>\n",
       "    <tr>\n",
       "      <th>7</th>\n",
       "      <td>15.0</td>\n",
       "      <td>14</td>\n",
       "    </tr>\n",
       "    <tr>\n",
       "      <th>8</th>\n",
       "      <td>15.0</td>\n",
       "      <td>17</td>\n",
       "    </tr>\n",
       "    <tr>\n",
       "      <th>9</th>\n",
       "      <td>16.0</td>\n",
       "      <td>16</td>\n",
       "    </tr>\n",
       "  </tbody>\n",
       "</table>\n",
       "</div>"
      ],
      "text/plain": [
       "     x1  x2\n",
       "0   7.0  20\n",
       "1   8.0  12\n",
       "2   9.0  19\n",
       "3  10.0  17\n",
       "4  11.0  15\n",
       "5  13.0  14\n",
       "6  14.0  12\n",
       "7  15.0  14\n",
       "8  15.0  17\n",
       "9  16.0  16"
      ]
     },
     "execution_count": 29,
     "metadata": {},
     "output_type": "execute_result"
    }
   ],
   "source": [
    "undesired_df"
   ]
  },
  {
   "cell_type": "markdown",
   "metadata": {},
   "source": [
    "# Finding the Optimal Points # \n",
    "\n",
    "The code below finds the optimal data points with the distance algorithm instead of the orthogonality algorithm (test = True). Besides that, this code is the same as above. "
   ]
  },
  {
   "cell_type": "code",
   "execution_count": 24,
   "metadata": {},
   "outputs": [
    {
     "name": "stderr",
     "output_type": "stream",
     "text": [
      "No artists with labels found to put in legend.  Note that artists whose label start with an underscore are ignored when legend() is called with no argument.\n",
      "No artists with labels found to put in legend.  Note that artists whose label start with an underscore are ignored when legend() is called with no argument.\n"
     ]
    },
    {
     "name": "stdout",
     "output_type": "stream",
     "text": [
      "3.613109753321148\n",
      "0.8082611109896327\n"
     ]
    },
    {
     "name": "stderr",
     "output_type": "stream",
     "text": [
      "No artists with labels found to put in legend.  Note that artists whose label start with an underscore are ignored when legend() is called with no argument.\n",
      "No artists with labels found to put in legend.  Note that artists whose label start with an underscore are ignored when legend() is called with no argument.\n"
     ]
    },
    {
     "name": "stdout",
     "output_type": "stream",
     "text": [
      "5.360752857207701\n",
      "5.677126906497987\n"
     ]
    },
    {
     "name": "stderr",
     "output_type": "stream",
     "text": [
      "No artists with labels found to put in legend.  Note that artists whose label start with an underscore are ignored when legend() is called with no argument.\n",
      "No artists with labels found to put in legend.  Note that artists whose label start with an underscore are ignored when legend() is called with no argument.\n"
     ]
    },
    {
     "name": "stdout",
     "output_type": "stream",
     "text": [
      "4.5454259007457205\n",
      "3.415402826135256\n"
     ]
    },
    {
     "name": "stderr",
     "output_type": "stream",
     "text": [
      "No artists with labels found to put in legend.  Note that artists whose label start with an underscore are ignored when legend() is called with no argument.\n",
      "No artists with labels found to put in legend.  Note that artists whose label start with an underscore are ignored when legend() is called with no argument.\n"
     ]
    },
    {
     "name": "stdout",
     "output_type": "stream",
     "text": [
      "1.2823003745558275\n",
      "3.048119386634009\n"
     ]
    },
    {
     "name": "stderr",
     "output_type": "stream",
     "text": [
      "No artists with labels found to put in legend.  Note that artists whose label start with an underscore are ignored when legend() is called with no argument.\n",
      "No artists with labels found to put in legend.  Note that artists whose label start with an underscore are ignored when legend() is called with no argument.\n"
     ]
    },
    {
     "name": "stdout",
     "output_type": "stream",
     "text": [
      "5.965008159472882\n",
      "4.747229092074945\n"
     ]
    },
    {
     "data": {
      "image/png": "[encoded data removed]",
      "text/plain": [
       "<Figure size 640x480 with 1 Axes>"
      ]
     },
     "metadata": {},
     "output_type": "display_data"
    }
   ],
   "source": [
    "undesired_df = df.loc[df['y'] == -1]\n",
    "\n",
    "undesired_df = undesired_df.drop(columns=['y'])\n",
    "\n",
    "optimal_datapts = pd.DataFrame(data=[], columns=('x1', 'x2'))\n",
    "\n",
    "for r in range(undesired_df.shape[0]): \n",
    "    \n",
    "    data_pt = undesired_df.iloc[r]  \n",
    "\n",
    "    optimal_pt = optimal_point(df, svm_classifier, desired_class=1, undesired_coords=(data_pt.iloc[0], data_pt.iloc[1]), contours_val=False, N=100000, step_size=0.1, margin=0.0001, test=True)\n",
    "    \n",
    "    optimal_datapts.loc[len(optimal_datapts)] = optimal_pt[0]"
   ]
  },
  {
   "cell_type": "markdown",
   "metadata": {},
   "source": [
    "# Optimal Points # \n",
    "\n",
    "These are the optimal data points for the non-healthy data points using the distance algorithm instead. "
   ]
  },
  {
   "cell_type": "code",
   "execution_count": 25,
   "metadata": {},
   "outputs": [
    {
     "data": {
      "text/html": [
       "<div>\n",
       "<style scoped>\n",
       "    .dataframe tbody tr th:only-of-type {\n",
       "        vertical-align: middle;\n",
       "    }\n",
       "\n",
       "    .dataframe tbody tr th {\n",
       "        vertical-align: top;\n",
       "    }\n",
       "\n",
       "    .dataframe thead th {\n",
       "        text-align: right;\n",
       "    }\n",
       "</style>\n",
       "<table border=\"1\" class=\"dataframe\">\n",
       "  <thead>\n",
       "    <tr style=\"text-align: right;\">\n",
       "      <th></th>\n",
       "      <th>x1</th>\n",
       "      <th>x2</th>\n",
       "    </tr>\n",
       "  </thead>\n",
       "  <tbody>\n",
       "    <tr>\n",
       "      <th>0</th>\n",
       "      <td>3.467452</td>\n",
       "      <td>19.241272</td>\n",
       "    </tr>\n",
       "    <tr>\n",
       "      <th>1</th>\n",
       "      <td>7.511897</td>\n",
       "      <td>11.355763</td>\n",
       "    </tr>\n",
       "    <tr>\n",
       "      <th>2</th>\n",
       "      <td>3.769211</td>\n",
       "      <td>17.826748</td>\n",
       "    </tr>\n",
       "    <tr>\n",
       "      <th>3</th>\n",
       "      <td>4.939847</td>\n",
       "      <td>14.426166</td>\n",
       "    </tr>\n",
       "    <tr>\n",
       "      <th>4</th>\n",
       "      <td>10.785017</td>\n",
       "      <td>10.459661</td>\n",
       "    </tr>\n",
       "    <tr>\n",
       "      <th>5</th>\n",
       "      <td>13.497390</td>\n",
       "      <td>10.621009</td>\n",
       "    </tr>\n",
       "    <tr>\n",
       "      <th>6</th>\n",
       "      <td>14.214296</td>\n",
       "      <td>10.735733</td>\n",
       "    </tr>\n",
       "    <tr>\n",
       "      <th>7</th>\n",
       "      <td>15.664486</td>\n",
       "      <td>11.025191</td>\n",
       "    </tr>\n",
       "    <tr>\n",
       "      <th>8</th>\n",
       "      <td>16.437448</td>\n",
       "      <td>11.210780</td>\n",
       "    </tr>\n",
       "    <tr>\n",
       "      <th>9</th>\n",
       "      <td>17.246992</td>\n",
       "      <td>11.419477</td>\n",
       "    </tr>\n",
       "  </tbody>\n",
       "</table>\n",
       "</div>"
      ],
      "text/plain": [
       "          x1         x2\n",
       "0   3.467452  19.241272\n",
       "1   7.511897  11.355763\n",
       "2   3.769211  17.826748\n",
       "3   4.939847  14.426166\n",
       "4  10.785017  10.459661\n",
       "5  13.497390  10.621009\n",
       "6  14.214296  10.735733\n",
       "7  15.664486  11.025191\n",
       "8  16.437448  11.210780\n",
       "9  17.246992  11.419477"
      ]
     },
     "execution_count": 25,
     "metadata": {},
     "output_type": "execute_result"
    }
   ],
   "source": [
    "optimal_datapts"
   ]
  },
  {
   "cell_type": "code",
   "execution_count": 27,
   "metadata": {},
   "outputs": [
    {
     "data": {
      "text/html": [
       "<div>\n",
       "<style scoped>\n",
       "    .dataframe tbody tr th:only-of-type {\n",
       "        vertical-align: middle;\n",
       "    }\n",
       "\n",
       "    .dataframe tbody tr th {\n",
       "        vertical-align: top;\n",
       "    }\n",
       "\n",
       "    .dataframe thead th {\n",
       "        text-align: right;\n",
       "    }\n",
       "</style>\n",
       "<table border=\"1\" class=\"dataframe\">\n",
       "  <thead>\n",
       "    <tr style=\"text-align: right;\">\n",
       "      <th></th>\n",
       "      <th>distance</th>\n",
       "    </tr>\n",
       "  </thead>\n",
       "  <tbody>\n",
       "    <tr>\n",
       "      <th>0</th>\n",
       "      <td>3.613110</td>\n",
       "    </tr>\n",
       "    <tr>\n",
       "      <th>1</th>\n",
       "      <td>0.808261</td>\n",
       "    </tr>\n",
       "    <tr>\n",
       "      <th>2</th>\n",
       "      <td>5.360753</td>\n",
       "    </tr>\n",
       "    <tr>\n",
       "      <th>3</th>\n",
       "      <td>5.677127</td>\n",
       "    </tr>\n",
       "    <tr>\n",
       "      <th>4</th>\n",
       "      <td>4.545426</td>\n",
       "    </tr>\n",
       "    <tr>\n",
       "      <th>5</th>\n",
       "      <td>3.415403</td>\n",
       "    </tr>\n",
       "    <tr>\n",
       "      <th>6</th>\n",
       "      <td>1.282300</td>\n",
       "    </tr>\n",
       "    <tr>\n",
       "      <th>7</th>\n",
       "      <td>3.048119</td>\n",
       "    </tr>\n",
       "    <tr>\n",
       "      <th>8</th>\n",
       "      <td>5.965008</td>\n",
       "    </tr>\n",
       "    <tr>\n",
       "      <th>9</th>\n",
       "      <td>4.747229</td>\n",
       "    </tr>\n",
       "  </tbody>\n",
       "</table>\n",
       "</div>"
      ],
      "text/plain": [
       "   distance\n",
       "0  3.613110\n",
       "1  0.808261\n",
       "2  5.360753\n",
       "3  5.677127\n",
       "4  4.545426\n",
       "5  3.415403\n",
       "6  1.282300\n",
       "7  3.048119\n",
       "8  5.965008\n",
       "9  4.747229"
      ]
     },
     "execution_count": 27,
     "metadata": {},
     "output_type": "execute_result"
    }
   ],
   "source": [
    "dist_df_dist_algo = pd.DataFrame(data=[], columns=[\"distance\"])\n",
    "\n",
    "for k in range(optimal_datapts.shape[0]): \n",
    "    dist_df_dist_algo.loc[len(dist_df_dist_algo)] = J(optimal_datapts.iloc[k,0], optimal_datapts.iloc[k,1], undesired_df.iloc[k,0], undesired_df.iloc[k,1])\n",
    "\n",
    "dist_df_dist_algo"
   ]
  },
  {
   "cell_type": "markdown",
   "metadata": {},
   "source": [
    "# Difference in the distances found using each algorithm \n",
    "\n",
    "Since the distances should be similar, we expect that these values should be as close to 0 as possible."
   ]
  },
  {
   "cell_type": "code",
   "execution_count": 33,
   "metadata": {},
   "outputs": [
    {
     "data": {
      "text/html": [
       "<div>\n",
       "<style scoped>\n",
       "    .dataframe tbody tr th:only-of-type {\n",
       "        vertical-align: middle;\n",
       "    }\n",
       "\n",
       "    .dataframe tbody tr th {\n",
       "        vertical-align: top;\n",
       "    }\n",
       "\n",
       "    .dataframe thead th {\n",
       "        text-align: right;\n",
       "    }\n",
       "</style>\n",
       "<table border=\"1\" class=\"dataframe\">\n",
       "  <thead>\n",
       "    <tr style=\"text-align: right;\">\n",
       "      <th></th>\n",
       "      <th>distance</th>\n",
       "    </tr>\n",
       "  </thead>\n",
       "  <tbody>\n",
       "    <tr>\n",
       "      <th>0</th>\n",
       "      <td>0.0</td>\n",
       "    </tr>\n",
       "    <tr>\n",
       "      <th>1</th>\n",
       "      <td>0.0</td>\n",
       "    </tr>\n",
       "    <tr>\n",
       "      <th>2</th>\n",
       "      <td>0.0</td>\n",
       "    </tr>\n",
       "    <tr>\n",
       "      <th>3</th>\n",
       "      <td>0.0</td>\n",
       "    </tr>\n",
       "    <tr>\n",
       "      <th>4</th>\n",
       "      <td>0.0</td>\n",
       "    </tr>\n",
       "    <tr>\n",
       "      <th>5</th>\n",
       "      <td>0.0</td>\n",
       "    </tr>\n",
       "    <tr>\n",
       "      <th>6</th>\n",
       "      <td>0.0</td>\n",
       "    </tr>\n",
       "    <tr>\n",
       "      <th>7</th>\n",
       "      <td>0.0</td>\n",
       "    </tr>\n",
       "    <tr>\n",
       "      <th>8</th>\n",
       "      <td>0.0</td>\n",
       "    </tr>\n",
       "    <tr>\n",
       "      <th>9</th>\n",
       "      <td>0.0</td>\n",
       "    </tr>\n",
       "  </tbody>\n",
       "</table>\n",
       "</div>"
      ],
      "text/plain": [
       "   distance\n",
       "0       0.0\n",
       "1       0.0\n",
       "2       0.0\n",
       "3       0.0\n",
       "4       0.0\n",
       "5       0.0\n",
       "6       0.0\n",
       "7       0.0\n",
       "8       0.0\n",
       "9       0.0"
      ]
     },
     "execution_count": 33,
     "metadata": {},
     "output_type": "execute_result"
    }
   ],
   "source": [
    "abs_dists = dist_df_ortho_algo - dist_df_dist_algo\n",
    "\n",
    "abs_dists"
   ]
  },
  {
   "cell_type": "markdown",
   "metadata": {},
   "source": [
    "# Applying the Algorithm to Different Types of Models # \n",
    "\n",
    "We would like to test our algorithm to different types of models. In this case, we test the MLP classifier with the optimal_point function that we have made earlier. We create a training and testing split in order to see the results on the test set after fitting to the training set. "
   ]
  },
  {
   "cell_type": "code",
   "execution_count": 47,
   "metadata": {},
   "outputs": [
    {
     "name": "stderr",
     "output_type": "stream",
     "text": [
      "No artists with labels found to put in legend.  Note that artists whose label start with an underscore are ignored when legend() is called with no argument.\n"
     ]
    },
    {
     "name": "stdout",
     "output_type": "stream",
     "text": [
      "6.655416136416545\n"
     ]
    },
    {
     "data": {
      "text/plain": [
       "array([[14.21787618, 11.85178822]])"
      ]
     },
     "execution_count": 47,
     "metadata": {},
     "output_type": "execute_result"
    },
    {
     "data": {
      "image/png": "[encoded data removed]",
      "text/plain": [
       "<Figure size 640x480 with 1 Axes>"
      ]
     },
     "metadata": {},
     "output_type": "display_data"
    }
   ],
   "source": [
    "from sklearn.neural_network import MLPClassifier \n",
    "from sklearn.model_selection import train_test_split\n",
    "\n",
    "clf = MLPClassifier(random_state=1, max_iter=100000, hidden_layer_sizes=(100,25,25,1))\n",
    "X_train, X_test, y_train, y_test = train_test_split(df[['x1', 'x2']],df['y'], stratify=df['y'],\n",
    "                                                    random_state=1)\n",
    "\n",
    "optimal_point(df=pd.concat([X_train, y_train],axis=1), model=clf, desired_class=1, undesired_coords=(10,17), N=100000, step_size=0.1, margin=0.00001)"
   ]
  },
  {
   "cell_type": "code",
   "execution_count": 48,
   "metadata": {},
   "outputs": [
    {
     "name": "stderr",
     "output_type": "stream",
     "text": [
      "No artists with labels found to put in legend.  Note that artists whose label start with an underscore are ignored when legend() is called with no argument.\n",
      "No artists with labels found to put in legend.  Note that artists whose label start with an underscore are ignored when legend() is called with no argument.\n"
     ]
    },
    {
     "name": "stdout",
     "output_type": "stream",
     "text": [
      "2.811097804378389\n"
     ]
    },
    {
     "name": "stderr",
     "output_type": "stream",
     "text": [
      "No artists with labels found to put in legend.  Note that artists whose label start with an underscore are ignored when legend() is called with no argument.\n"
     ]
    },
    {
     "name": "stdout",
     "output_type": "stream",
     "text": [
      "0.8138260801083304\n"
     ]
    },
    {
     "name": "stderr",
     "output_type": "stream",
     "text": [
      "No artists with labels found to put in legend.  Note that artists whose label start with an underscore are ignored when legend() is called with no argument.\n"
     ]
    },
    {
     "name": "stdout",
     "output_type": "stream",
     "text": [
      "2.4404120975844315\n"
     ]
    },
    {
     "name": "stderr",
     "output_type": "stream",
     "text": [
      "No artists with labels found to put in legend.  Note that artists whose label start with an underscore are ignored when legend() is called with no argument.\n"
     ]
    },
    {
     "name": "stdout",
     "output_type": "stream",
     "text": [
      "3.6339854097505655\n",
      "3.6715902899979285\n"
     ]
    },
    {
     "data": {
      "image/png": "[encoded data removed]",
      "text/plain": [
       "<Figure size 640x480 with 1 Axes>"
      ]
     },
     "metadata": {},
     "output_type": "display_data"
    }
   ],
   "source": [
    "optimal_datapts = pd.DataFrame(data=[], columns=('x1', 'x2'))\n",
    "test_set = pd.concat([X_test, y_test],axis=1)\n",
    "for r in range(test_set.shape[0]):         \n",
    "    # Undesired data point\n",
    "    data_pt = test_set.iloc[r]  \n",
    "    optimal_pt = optimal_point(df=pd.concat([X_train, y_train],axis=1), model=clf, desired_class=1, undesired_coords=(data_pt.iloc[0], data_pt.iloc[1]), N=100000, margin=0.00001, step_size=0.1)\n",
    "    optimal_datapts.loc[len(optimal_datapts)] = optimal_pt[0]"
   ]
  },
  {
   "cell_type": "code",
   "execution_count": 49,
   "metadata": {},
   "outputs": [
    {
     "data": {
      "text/html": [
       "<div>\n",
       "<style scoped>\n",
       "    .dataframe tbody tr th:only-of-type {\n",
       "        vertical-align: middle;\n",
       "    }\n",
       "\n",
       "    .dataframe tbody tr th {\n",
       "        vertical-align: top;\n",
       "    }\n",
       "\n",
       "    .dataframe thead th {\n",
       "        text-align: right;\n",
       "    }\n",
       "</style>\n",
       "<table border=\"1\" class=\"dataframe\">\n",
       "  <thead>\n",
       "    <tr style=\"text-align: right;\">\n",
       "      <th></th>\n",
       "      <th>distance</th>\n",
       "    </tr>\n",
       "  </thead>\n",
       "  <tbody>\n",
       "    <tr>\n",
       "      <th>0</th>\n",
       "      <td>2.811098</td>\n",
       "    </tr>\n",
       "    <tr>\n",
       "      <th>1</th>\n",
       "      <td>0.813826</td>\n",
       "    </tr>\n",
       "    <tr>\n",
       "      <th>2</th>\n",
       "      <td>2.440412</td>\n",
       "    </tr>\n",
       "    <tr>\n",
       "      <th>3</th>\n",
       "      <td>3.633985</td>\n",
       "    </tr>\n",
       "    <tr>\n",
       "      <th>4</th>\n",
       "      <td>3.671590</td>\n",
       "    </tr>\n",
       "  </tbody>\n",
       "</table>\n",
       "</div>"
      ],
      "text/plain": [
       "   distance\n",
       "0  2.811098\n",
       "1  0.813826\n",
       "2  2.440412\n",
       "3  3.633985\n",
       "4  3.671590"
      ]
     },
     "execution_count": 49,
     "metadata": {},
     "output_type": "execute_result"
    }
   ],
   "source": [
    "dist_df_ortho_algo = pd.DataFrame(data=[], columns=[\"distance\"])\n",
    "\n",
    "for k in range(optimal_datapts.shape[0]): \n",
    "    dist_df_ortho_algo.loc[len(dist_df_ortho_algo)] = J(optimal_datapts.iloc[k,0], optimal_datapts.iloc[k,1], test_set.iloc[k,0], test_set.iloc[k,1])\n",
    "\n",
    "dist_df_ortho_algo"
   ]
  },
  {
   "cell_type": "code",
   "execution_count": 50,
   "metadata": {},
   "outputs": [
    {
     "name": "stderr",
     "output_type": "stream",
     "text": [
      "No artists with labels found to put in legend.  Note that artists whose label start with an underscore are ignored when legend() is called with no argument.\n",
      "No artists with labels found to put in legend.  Note that artists whose label start with an underscore are ignored when legend() is called with no argument.\n"
     ]
    },
    {
     "name": "stdout",
     "output_type": "stream",
     "text": [
      "2.79813675671726\n",
      "0.8138260801083304\n"
     ]
    },
    {
     "name": "stderr",
     "output_type": "stream",
     "text": [
      "No artists with labels found to put in legend.  Note that artists whose label start with an underscore are ignored when legend() is called with no argument.\n",
      "No artists with labels found to put in legend.  Note that artists whose label start with an underscore are ignored when legend() is called with no argument.\n"
     ]
    },
    {
     "name": "stdout",
     "output_type": "stream",
     "text": [
      "2.4404120975844315\n",
      "3.576180186876623\n"
     ]
    },
    {
     "name": "stderr",
     "output_type": "stream",
     "text": [
      "No artists with labels found to put in legend.  Note that artists whose label start with an underscore are ignored when legend() is called with no argument.\n"
     ]
    },
    {
     "name": "stdout",
     "output_type": "stream",
     "text": [
      "3.6600931455200825\n"
     ]
    },
    {
     "data": {
      "image/png": "[encoded data removed]",
      "text/plain": [
       "<Figure size 640x480 with 1 Axes>"
      ]
     },
     "metadata": {},
     "output_type": "display_data"
    }
   ],
   "source": [
    "optimal_datapts = pd.DataFrame(data=[], columns=('x1', 'x2'))\n",
    "test_set = pd.concat([X_test, y_test],axis=1)\n",
    "for r in range(test_set.shape[0]):         \n",
    "    # Undesired data point\n",
    "    data_pt = test_set.iloc[r]  \n",
    "    optimal_pt = optimal_point(df=pd.concat([X_train, y_train],axis=1), model=clf, desired_class=1, undesired_coords=(data_pt.iloc[0], data_pt.iloc[1]), N=100000, margin=0.00001, step_size=0.1, test=True)\n",
    "    optimal_datapts.loc[len(optimal_datapts)] = optimal_pt[0]"
   ]
  },
  {
   "cell_type": "code",
   "execution_count": 51,
   "metadata": {},
   "outputs": [
    {
     "data": {
      "text/html": [
       "<div>\n",
       "<style scoped>\n",
       "    .dataframe tbody tr th:only-of-type {\n",
       "        vertical-align: middle;\n",
       "    }\n",
       "\n",
       "    .dataframe tbody tr th {\n",
       "        vertical-align: top;\n",
       "    }\n",
       "\n",
       "    .dataframe thead th {\n",
       "        text-align: right;\n",
       "    }\n",
       "</style>\n",
       "<table border=\"1\" class=\"dataframe\">\n",
       "  <thead>\n",
       "    <tr style=\"text-align: right;\">\n",
       "      <th></th>\n",
       "      <th>distance</th>\n",
       "    </tr>\n",
       "  </thead>\n",
       "  <tbody>\n",
       "    <tr>\n",
       "      <th>0</th>\n",
       "      <td>2.798137</td>\n",
       "    </tr>\n",
       "    <tr>\n",
       "      <th>1</th>\n",
       "      <td>0.813826</td>\n",
       "    </tr>\n",
       "    <tr>\n",
       "      <th>2</th>\n",
       "      <td>2.440412</td>\n",
       "    </tr>\n",
       "    <tr>\n",
       "      <th>3</th>\n",
       "      <td>3.576180</td>\n",
       "    </tr>\n",
       "    <tr>\n",
       "      <th>4</th>\n",
       "      <td>3.660093</td>\n",
       "    </tr>\n",
       "  </tbody>\n",
       "</table>\n",
       "</div>"
      ],
      "text/plain": [
       "   distance\n",
       "0  2.798137\n",
       "1  0.813826\n",
       "2  2.440412\n",
       "3  3.576180\n",
       "4  3.660093"
      ]
     },
     "execution_count": 51,
     "metadata": {},
     "output_type": "execute_result"
    }
   ],
   "source": [
    "dist_df_dist_algo = pd.DataFrame(data=[], columns=[\"distance\"])\n",
    "\n",
    "for k in range(optimal_datapts.shape[0]): \n",
    "    dist_df_dist_algo.loc[len(dist_df_dist_algo)] = J(optimal_datapts.iloc[k,0], optimal_datapts.iloc[k,1], test_set.iloc[k,0], test_set.iloc[k,1])\n",
    "\n",
    "dist_df_dist_algo"
   ]
  },
  {
   "cell_type": "markdown",
   "metadata": {},
   "source": [
    "# Differences in the distances computed from distance and orthogonality algorithms \n",
    "\n",
    "The absolute value of the distances computed from the distance algorithm is very similar to the distances computed from the orthogonality algorithm."
   ]
  },
  {
   "cell_type": "code",
   "execution_count": 52,
   "metadata": {},
   "outputs": [
    {
     "data": {
      "text/html": [
       "<div>\n",
       "<style scoped>\n",
       "    .dataframe tbody tr th:only-of-type {\n",
       "        vertical-align: middle;\n",
       "    }\n",
       "\n",
       "    .dataframe tbody tr th {\n",
       "        vertical-align: top;\n",
       "    }\n",
       "\n",
       "    .dataframe thead th {\n",
       "        text-align: right;\n",
       "    }\n",
       "</style>\n",
       "<table border=\"1\" class=\"dataframe\">\n",
       "  <thead>\n",
       "    <tr style=\"text-align: right;\">\n",
       "      <th></th>\n",
       "      <th>distance</th>\n",
       "    </tr>\n",
       "  </thead>\n",
       "  <tbody>\n",
       "    <tr>\n",
       "      <th>0</th>\n",
       "      <td>0.012961</td>\n",
       "    </tr>\n",
       "    <tr>\n",
       "      <th>1</th>\n",
       "      <td>0.000000</td>\n",
       "    </tr>\n",
       "    <tr>\n",
       "      <th>2</th>\n",
       "      <td>0.000000</td>\n",
       "    </tr>\n",
       "    <tr>\n",
       "      <th>3</th>\n",
       "      <td>0.057805</td>\n",
       "    </tr>\n",
       "    <tr>\n",
       "      <th>4</th>\n",
       "      <td>0.011497</td>\n",
       "    </tr>\n",
       "  </tbody>\n",
       "</table>\n",
       "</div>"
      ],
      "text/plain": [
       "   distance\n",
       "0  0.012961\n",
       "1  0.000000\n",
       "2  0.000000\n",
       "3  0.057805\n",
       "4  0.011497"
      ]
     },
     "execution_count": 52,
     "metadata": {},
     "output_type": "execute_result"
    }
   ],
   "source": [
    "abs_dists = abs(dist_df_dist_algo - dist_df_ortho_algo)\n",
    "\n",
    "abs_dists"
   ]
  },
  {
   "cell_type": "markdown",
   "metadata": {},
   "source": [
    "# Logistic Regression # \n",
    "\n",
    "We apply the optimal_point function to the logistic regression classifier and see the results after applying to the dataset."
   ]
  },
  {
   "cell_type": "code",
   "execution_count": 53,
   "metadata": {},
   "outputs": [],
   "source": [
    "from sklearn.linear_model import LogisticRegression\n",
    "\n",
    "clf = LogisticRegression(random_state=0, max_iter=100000)"
   ]
  },
  {
   "cell_type": "markdown",
   "metadata": {},
   "source": [
    "# Finding Optimal Points # \n",
    "\n",
    "The code below is the same as above. We use the orthogonality algorithm and not the distance algorithm to find the optimal points."
   ]
  },
  {
   "cell_type": "code",
   "execution_count": 54,
   "metadata": {},
   "outputs": [
    {
     "name": "stderr",
     "output_type": "stream",
     "text": [
      "No artists with labels found to put in legend.  Note that artists whose label start with an underscore are ignored when legend() is called with no argument.\n",
      "No artists with labels found to put in legend.  Note that artists whose label start with an underscore are ignored when legend() is called with no argument.\n"
     ]
    },
    {
     "name": "stdout",
     "output_type": "stream",
     "text": [
      "5.244630082732938\n"
     ]
    },
    {
     "name": "stderr",
     "output_type": "stream",
     "text": [
      "No artists with labels found to put in legend.  Note that artists whose label start with an underscore are ignored when legend() is called with no argument.\n"
     ]
    },
    {
     "name": "stdout",
     "output_type": "stream",
     "text": [
      "1.2406713091105048\n"
     ]
    },
    {
     "name": "stderr",
     "output_type": "stream",
     "text": [
      "No artists with labels found to put in legend.  Note that artists whose label start with an underscore are ignored when legend() is called with no argument.\n"
     ]
    },
    {
     "name": "stdout",
     "output_type": "stream",
     "text": [
      "5.345738834405052\n"
     ]
    },
    {
     "name": "stderr",
     "output_type": "stream",
     "text": [
      "No artists with labels found to put in legend.  Note that artists whose label start with an underscore are ignored when legend() is called with no argument.\n"
     ]
    },
    {
     "name": "stdout",
     "output_type": "stream",
     "text": [
      "4.095113212407908\n"
     ]
    },
    {
     "name": "stderr",
     "output_type": "stream",
     "text": [
      "No artists with labels found to put in legend.  Note that artists whose label start with an underscore are ignored when legend() is called with no argument.\n"
     ]
    },
    {
     "name": "stdout",
     "output_type": "stream",
     "text": [
      "2.8349794190375186\n"
     ]
    },
    {
     "name": "stderr",
     "output_type": "stream",
     "text": [
      "No artists with labels found to put in legend.  Note that artists whose label start with an underscore are ignored when legend() is called with no argument.\n"
     ]
    },
    {
     "name": "stdout",
     "output_type": "stream",
     "text": [
      "2.957834609460762\n"
     ]
    },
    {
     "name": "stderr",
     "output_type": "stream",
     "text": [
      "No artists with labels found to put in legend.  Note that artists whose label start with an underscore are ignored when legend() is called with no argument.\n"
     ]
    },
    {
     "name": "stdout",
     "output_type": "stream",
     "text": [
      "1.7096729321179098\n"
     ]
    },
    {
     "name": "stderr",
     "output_type": "stream",
     "text": [
      "No artists with labels found to put in legend.  Note that artists whose label start with an underscore are ignored when legend() is called with no argument.\n"
     ]
    },
    {
     "name": "stdout",
     "output_type": "stream",
     "text": [
      "3.9488723025698174\n"
     ]
    },
    {
     "name": "stderr",
     "output_type": "stream",
     "text": [
      "No artists with labels found to put in legend.  Note that artists whose label start with an underscore are ignored when legend() is called with no argument.\n"
     ]
    },
    {
     "name": "stdout",
     "output_type": "stream",
     "text": [
      "6.573748928249334\n",
      "6.183891621805957\n"
     ]
    },
    {
     "data": {
      "image/png": "[encoded data removed]",
      "text/plain": [
       "<Figure size 640x480 with 1 Axes>"
      ]
     },
     "metadata": {},
     "output_type": "display_data"
    }
   ],
   "source": [
    "undesired_df = df.loc[df['y'] == -1]\n",
    "undesired_df = undesired_df.drop(columns=['y'])\n",
    "optimal_datapts = pd.DataFrame(data=[], columns=('x1', 'x2'))\n",
    "\n",
    "for r in range(undesired_df.shape[0]):         \n",
    "    # Undesired data point\n",
    "    data_pt = undesired_df.iloc[r]  \n",
    "    optimal_pt = optimal_point(df=df, model=clf, desired_class=1, undesired_coords=(data_pt.iloc[0], data_pt.iloc[1]), N=100000, step_size=0.1, margin=0.0001, test=False)\n",
    "    optimal_datapts.loc[len(optimal_datapts)] = optimal_pt[0]"
   ]
  },
  {
   "cell_type": "code",
   "execution_count": 56,
   "metadata": {},
   "outputs": [
    {
     "data": {
      "text/html": [
       "<div>\n",
       "<style scoped>\n",
       "    .dataframe tbody tr th:only-of-type {\n",
       "        vertical-align: middle;\n",
       "    }\n",
       "\n",
       "    .dataframe tbody tr th {\n",
       "        vertical-align: top;\n",
       "    }\n",
       "\n",
       "    .dataframe thead th {\n",
       "        text-align: right;\n",
       "    }\n",
       "</style>\n",
       "<table border=\"1\" class=\"dataframe\">\n",
       "  <thead>\n",
       "    <tr style=\"text-align: right;\">\n",
       "      <th></th>\n",
       "      <th>distance</th>\n",
       "    </tr>\n",
       "  </thead>\n",
       "  <tbody>\n",
       "    <tr>\n",
       "      <th>0</th>\n",
       "      <td>5.244630</td>\n",
       "    </tr>\n",
       "    <tr>\n",
       "      <th>1</th>\n",
       "      <td>1.240671</td>\n",
       "    </tr>\n",
       "    <tr>\n",
       "      <th>2</th>\n",
       "      <td>5.345739</td>\n",
       "    </tr>\n",
       "    <tr>\n",
       "      <th>3</th>\n",
       "      <td>4.095113</td>\n",
       "    </tr>\n",
       "    <tr>\n",
       "      <th>4</th>\n",
       "      <td>2.834979</td>\n",
       "    </tr>\n",
       "    <tr>\n",
       "      <th>5</th>\n",
       "      <td>2.957835</td>\n",
       "    </tr>\n",
       "    <tr>\n",
       "      <th>6</th>\n",
       "      <td>1.709673</td>\n",
       "    </tr>\n",
       "    <tr>\n",
       "      <th>7</th>\n",
       "      <td>3.948872</td>\n",
       "    </tr>\n",
       "    <tr>\n",
       "      <th>8</th>\n",
       "      <td>6.573749</td>\n",
       "    </tr>\n",
       "    <tr>\n",
       "      <th>9</th>\n",
       "      <td>6.183892</td>\n",
       "    </tr>\n",
       "  </tbody>\n",
       "</table>\n",
       "</div>"
      ],
      "text/plain": [
       "   distance\n",
       "0  5.244630\n",
       "1  1.240671\n",
       "2  5.345739\n",
       "3  4.095113\n",
       "4  2.834979\n",
       "5  2.957835\n",
       "6  1.709673\n",
       "7  3.948872\n",
       "8  6.573749\n",
       "9  6.183892"
      ]
     },
     "execution_count": 56,
     "metadata": {},
     "output_type": "execute_result"
    }
   ],
   "source": [
    "dist_df_ortho_algo = pd.DataFrame(data=[], columns=[\"distance\"])\n",
    "\n",
    "for k in range(optimal_datapts.shape[0]): \n",
    "    dist_df_ortho_algo.loc[len(dist_df_ortho_algo)] = J(optimal_datapts.iloc[k,0], optimal_datapts.iloc[k,1], undesired_df.iloc[k,0], undesired_df.iloc[k,1])\n",
    "\n",
    "dist_df_ortho_algo"
   ]
  },
  {
   "cell_type": "markdown",
   "metadata": {},
   "source": [
    "# Finding Optimal Points # \n",
    "\n",
    "The code below is the same as above. We use the distance algorithm to find the optimal points."
   ]
  },
  {
   "cell_type": "code",
   "execution_count": 39,
   "metadata": {},
   "outputs": [
    {
     "name": "stderr",
     "output_type": "stream",
     "text": [
      "No artists with labels found to put in legend.  Note that artists whose label start with an underscore are ignored when legend() is called with no argument.\n",
      "C:\\Users\\Compuworld\\AppData\\Local\\Temp\\ipykernel_13008\\3614412754.py:26: FutureWarning: Series.__getitem__ treating keys as positions is deprecated. In a future version, integer keys will always be treated as labels (consistent with DataFrame behavior). To access a value by position, use `ser.iloc[pos]`\n",
      "  dist = J(x,y, datapt[0], datapt[1])\n",
      "C:\\Users\\Compuworld\\AppData\\Local\\Temp\\ipykernel_13008\\3614412754.py:30: FutureWarning: Series.__getitem__ treating keys as positions is deprecated. In a future version, integer keys will always be treated as labels (consistent with DataFrame behavior). To access a value by position, use `ser.iloc[pos]`\n",
      "  min_point_vector = (datapt[0] - x, datapt[1] - y)\n",
      "C:\\Users\\Compuworld\\AppData\\Local\\Temp\\ipykernel_13008\\3556254240.py:90: FutureWarning: Series.__getitem__ treating keys as positions is deprecated. In a future version, integer keys will always be treated as labels (consistent with DataFrame behavior). To access a value by position, use `ser.iloc[pos]`\n",
      "  undesired_datapt = np.array([undesired_coords[0], undesired_coords[1]]).reshape(1, -1)\n",
      "No artists with labels found to put in legend.  Note that artists whose label start with an underscore are ignored when legend() is called with no argument.\n"
     ]
    },
    {
     "name": "stdout",
     "output_type": "stream",
     "text": [
      "5.23635147370157\n"
     ]
    },
    {
     "name": "stderr",
     "output_type": "stream",
     "text": [
      "C:\\Users\\Compuworld\\AppData\\Local\\Temp\\ipykernel_13008\\3614412754.py:26: FutureWarning: Series.__getitem__ treating keys as positions is deprecated. In a future version, integer keys will always be treated as labels (consistent with DataFrame behavior). To access a value by position, use `ser.iloc[pos]`\n",
      "  dist = J(x,y, datapt[0], datapt[1])\n",
      "C:\\Users\\Compuworld\\AppData\\Local\\Temp\\ipykernel_13008\\3614412754.py:30: FutureWarning: Series.__getitem__ treating keys as positions is deprecated. In a future version, integer keys will always be treated as labels (consistent with DataFrame behavior). To access a value by position, use `ser.iloc[pos]`\n",
      "  min_point_vector = (datapt[0] - x, datapt[1] - y)\n",
      "C:\\Users\\Compuworld\\AppData\\Local\\Temp\\ipykernel_13008\\3556254240.py:90: FutureWarning: Series.__getitem__ treating keys as positions is deprecated. In a future version, integer keys will always be treated as labels (consistent with DataFrame behavior). To access a value by position, use `ser.iloc[pos]`\n",
      "  undesired_datapt = np.array([undesired_coords[0], undesired_coords[1]]).reshape(1, -1)\n",
      "No artists with labels found to put in legend.  Note that artists whose label start with an underscore are ignored when legend() is called with no argument.\n"
     ]
    },
    {
     "name": "stdout",
     "output_type": "stream",
     "text": [
      "1.2386175111728093\n"
     ]
    },
    {
     "name": "stderr",
     "output_type": "stream",
     "text": [
      "C:\\Users\\Compuworld\\AppData\\Local\\Temp\\ipykernel_13008\\3614412754.py:26: FutureWarning: Series.__getitem__ treating keys as positions is deprecated. In a future version, integer keys will always be treated as labels (consistent with DataFrame behavior). To access a value by position, use `ser.iloc[pos]`\n",
      "  dist = J(x,y, datapt[0], datapt[1])\n",
      "C:\\Users\\Compuworld\\AppData\\Local\\Temp\\ipykernel_13008\\3614412754.py:30: FutureWarning: Series.__getitem__ treating keys as positions is deprecated. In a future version, integer keys will always be treated as labels (consistent with DataFrame behavior). To access a value by position, use `ser.iloc[pos]`\n",
      "  min_point_vector = (datapt[0] - x, datapt[1] - y)\n",
      "C:\\Users\\Compuworld\\AppData\\Local\\Temp\\ipykernel_13008\\3556254240.py:90: FutureWarning: Series.__getitem__ treating keys as positions is deprecated. In a future version, integer keys will always be treated as labels (consistent with DataFrame behavior). To access a value by position, use `ser.iloc[pos]`\n",
      "  undesired_datapt = np.array([undesired_coords[0], undesired_coords[1]]).reshape(1, -1)\n",
      "No artists with labels found to put in legend.  Note that artists whose label start with an underscore are ignored when legend() is called with no argument.\n"
     ]
    },
    {
     "name": "stdout",
     "output_type": "stream",
     "text": [
      "5.347856360802648\n"
     ]
    },
    {
     "name": "stderr",
     "output_type": "stream",
     "text": [
      "C:\\Users\\Compuworld\\AppData\\Local\\Temp\\ipykernel_13008\\3614412754.py:26: FutureWarning: Series.__getitem__ treating keys as positions is deprecated. In a future version, integer keys will always be treated as labels (consistent with DataFrame behavior). To access a value by position, use `ser.iloc[pos]`\n",
      "  dist = J(x,y, datapt[0], datapt[1])\n",
      "C:\\Users\\Compuworld\\AppData\\Local\\Temp\\ipykernel_13008\\3614412754.py:30: FutureWarning: Series.__getitem__ treating keys as positions is deprecated. In a future version, integer keys will always be treated as labels (consistent with DataFrame behavior). To access a value by position, use `ser.iloc[pos]`\n",
      "  min_point_vector = (datapt[0] - x, datapt[1] - y)\n",
      "C:\\Users\\Compuworld\\AppData\\Local\\Temp\\ipykernel_13008\\3556254240.py:90: FutureWarning: Series.__getitem__ treating keys as positions is deprecated. In a future version, integer keys will always be treated as labels (consistent with DataFrame behavior). To access a value by position, use `ser.iloc[pos]`\n",
      "  undesired_datapt = np.array([undesired_coords[0], undesired_coords[1]]).reshape(1, -1)\n",
      "No artists with labels found to put in legend.  Note that artists whose label start with an underscore are ignored when legend() is called with no argument.\n"
     ]
    },
    {
     "name": "stdout",
     "output_type": "stream",
     "text": [
      "4.095818295854123\n"
     ]
    },
    {
     "name": "stderr",
     "output_type": "stream",
     "text": [
      "C:\\Users\\Compuworld\\AppData\\Local\\Temp\\ipykernel_13008\\3614412754.py:26: FutureWarning: Series.__getitem__ treating keys as positions is deprecated. In a future version, integer keys will always be treated as labels (consistent with DataFrame behavior). To access a value by position, use `ser.iloc[pos]`\n",
      "  dist = J(x,y, datapt[0], datapt[1])\n",
      "C:\\Users\\Compuworld\\AppData\\Local\\Temp\\ipykernel_13008\\3614412754.py:30: FutureWarning: Series.__getitem__ treating keys as positions is deprecated. In a future version, integer keys will always be treated as labels (consistent with DataFrame behavior). To access a value by position, use `ser.iloc[pos]`\n",
      "  min_point_vector = (datapt[0] - x, datapt[1] - y)\n",
      "C:\\Users\\Compuworld\\AppData\\Local\\Temp\\ipykernel_13008\\3556254240.py:90: FutureWarning: Series.__getitem__ treating keys as positions is deprecated. In a future version, integer keys will always be treated as labels (consistent with DataFrame behavior). To access a value by position, use `ser.iloc[pos]`\n",
      "  undesired_datapt = np.array([undesired_coords[0], undesired_coords[1]]).reshape(1, -1)\n",
      "No artists with labels found to put in legend.  Note that artists whose label start with an underscore are ignored when legend() is called with no argument.\n"
     ]
    },
    {
     "name": "stdout",
     "output_type": "stream",
     "text": [
      "2.848198453796719\n"
     ]
    },
    {
     "name": "stderr",
     "output_type": "stream",
     "text": [
      "C:\\Users\\Compuworld\\AppData\\Local\\Temp\\ipykernel_13008\\3614412754.py:26: FutureWarning: Series.__getitem__ treating keys as positions is deprecated. In a future version, integer keys will always be treated as labels (consistent with DataFrame behavior). To access a value by position, use `ser.iloc[pos]`\n",
      "  dist = J(x,y, datapt[0], datapt[1])\n",
      "C:\\Users\\Compuworld\\AppData\\Local\\Temp\\ipykernel_13008\\3614412754.py:30: FutureWarning: Series.__getitem__ treating keys as positions is deprecated. In a future version, integer keys will always be treated as labels (consistent with DataFrame behavior). To access a value by position, use `ser.iloc[pos]`\n",
      "  min_point_vector = (datapt[0] - x, datapt[1] - y)\n",
      "C:\\Users\\Compuworld\\AppData\\Local\\Temp\\ipykernel_13008\\3556254240.py:90: FutureWarning: Series.__getitem__ treating keys as positions is deprecated. In a future version, integer keys will always be treated as labels (consistent with DataFrame behavior). To access a value by position, use `ser.iloc[pos]`\n",
      "  undesired_datapt = np.array([undesired_coords[0], undesired_coords[1]]).reshape(1, -1)\n",
      "No artists with labels found to put in legend.  Note that artists whose label start with an underscore are ignored when legend() is called with no argument.\n"
     ]
    },
    {
     "name": "stdout",
     "output_type": "stream",
     "text": [
      "2.959906074435108\n"
     ]
    },
    {
     "name": "stderr",
     "output_type": "stream",
     "text": [
      "C:\\Users\\Compuworld\\AppData\\Local\\Temp\\ipykernel_13008\\3614412754.py:26: FutureWarning: Series.__getitem__ treating keys as positions is deprecated. In a future version, integer keys will always be treated as labels (consistent with DataFrame behavior). To access a value by position, use `ser.iloc[pos]`\n",
      "  dist = J(x,y, datapt[0], datapt[1])\n",
      "C:\\Users\\Compuworld\\AppData\\Local\\Temp\\ipykernel_13008\\3614412754.py:30: FutureWarning: Series.__getitem__ treating keys as positions is deprecated. In a future version, integer keys will always be treated as labels (consistent with DataFrame behavior). To access a value by position, use `ser.iloc[pos]`\n",
      "  min_point_vector = (datapt[0] - x, datapt[1] - y)\n",
      "C:\\Users\\Compuworld\\AppData\\Local\\Temp\\ipykernel_13008\\3556254240.py:90: FutureWarning: Series.__getitem__ treating keys as positions is deprecated. In a future version, integer keys will always be treated as labels (consistent with DataFrame behavior). To access a value by position, use `ser.iloc[pos]`\n",
      "  undesired_datapt = np.array([undesired_coords[0], undesired_coords[1]]).reshape(1, -1)\n",
      "No artists with labels found to put in legend.  Note that artists whose label start with an underscore are ignored when legend() is called with no argument.\n"
     ]
    },
    {
     "name": "stdout",
     "output_type": "stream",
     "text": [
      "1.7119894242855638\n"
     ]
    },
    {
     "name": "stderr",
     "output_type": "stream",
     "text": [
      "C:\\Users\\Compuworld\\AppData\\Local\\Temp\\ipykernel_13008\\3614412754.py:26: FutureWarning: Series.__getitem__ treating keys as positions is deprecated. In a future version, integer keys will always be treated as labels (consistent with DataFrame behavior). To access a value by position, use `ser.iloc[pos]`\n",
      "  dist = J(x,y, datapt[0], datapt[1])\n",
      "C:\\Users\\Compuworld\\AppData\\Local\\Temp\\ipykernel_13008\\3614412754.py:30: FutureWarning: Series.__getitem__ treating keys as positions is deprecated. In a future version, integer keys will always be treated as labels (consistent with DataFrame behavior). To access a value by position, use `ser.iloc[pos]`\n",
      "  min_point_vector = (datapt[0] - x, datapt[1] - y)\n",
      "C:\\Users\\Compuworld\\AppData\\Local\\Temp\\ipykernel_13008\\3556254240.py:90: FutureWarning: Series.__getitem__ treating keys as positions is deprecated. In a future version, integer keys will always be treated as labels (consistent with DataFrame behavior). To access a value by position, use `ser.iloc[pos]`\n",
      "  undesired_datapt = np.array([undesired_coords[0], undesired_coords[1]]).reshape(1, -1)\n",
      "No artists with labels found to put in legend.  Note that artists whose label start with an underscore are ignored when legend() is called with no argument.\n"
     ]
    },
    {
     "name": "stdout",
     "output_type": "stream",
     "text": [
      "3.941951748771951\n"
     ]
    },
    {
     "name": "stderr",
     "output_type": "stream",
     "text": [
      "C:\\Users\\Compuworld\\AppData\\Local\\Temp\\ipykernel_13008\\3614412754.py:26: FutureWarning: Series.__getitem__ treating keys as positions is deprecated. In a future version, integer keys will always be treated as labels (consistent with DataFrame behavior). To access a value by position, use `ser.iloc[pos]`\n",
      "  dist = J(x,y, datapt[0], datapt[1])\n",
      "C:\\Users\\Compuworld\\AppData\\Local\\Temp\\ipykernel_13008\\3614412754.py:30: FutureWarning: Series.__getitem__ treating keys as positions is deprecated. In a future version, integer keys will always be treated as labels (consistent with DataFrame behavior). To access a value by position, use `ser.iloc[pos]`\n",
      "  min_point_vector = (datapt[0] - x, datapt[1] - y)\n",
      "C:\\Users\\Compuworld\\AppData\\Local\\Temp\\ipykernel_13008\\3556254240.py:90: FutureWarning: Series.__getitem__ treating keys as positions is deprecated. In a future version, integer keys will always be treated as labels (consistent with DataFrame behavior). To access a value by position, use `ser.iloc[pos]`\n",
      "  undesired_datapt = np.array([undesired_coords[0], undesired_coords[1]]).reshape(1, -1)\n",
      "No artists with labels found to put in legend.  Note that artists whose label start with an underscore are ignored when legend() is called with no argument.\n"
     ]
    },
    {
     "name": "stdout",
     "output_type": "stream",
     "text": [
      "6.549901309177953\n"
     ]
    },
    {
     "name": "stderr",
     "output_type": "stream",
     "text": [
      "C:\\Users\\Compuworld\\AppData\\Local\\Temp\\ipykernel_13008\\3614412754.py:26: FutureWarning: Series.__getitem__ treating keys as positions is deprecated. In a future version, integer keys will always be treated as labels (consistent with DataFrame behavior). To access a value by position, use `ser.iloc[pos]`\n",
      "  dist = J(x,y, datapt[0], datapt[1])\n",
      "C:\\Users\\Compuworld\\AppData\\Local\\Temp\\ipykernel_13008\\3614412754.py:30: FutureWarning: Series.__getitem__ treating keys as positions is deprecated. In a future version, integer keys will always be treated as labels (consistent with DataFrame behavior). To access a value by position, use `ser.iloc[pos]`\n",
      "  min_point_vector = (datapt[0] - x, datapt[1] - y)\n",
      "C:\\Users\\Compuworld\\AppData\\Local\\Temp\\ipykernel_13008\\3556254240.py:90: FutureWarning: Series.__getitem__ treating keys as positions is deprecated. In a future version, integer keys will always be treated as labels (consistent with DataFrame behavior). To access a value by position, use `ser.iloc[pos]`\n",
      "  undesired_datapt = np.array([undesired_coords[0], undesired_coords[1]]).reshape(1, -1)\n"
     ]
    },
    {
     "name": "stdout",
     "output_type": "stream",
     "text": [
      "6.171934956547971\n"
     ]
    },
    {
     "data": {
      "image/png": "[encoded data removed]",
      "text/plain": [
       "<Figure size 640x480 with 1 Axes>"
      ]
     },
     "metadata": {},
     "output_type": "display_data"
    }
   ],
   "source": [
    "undesired_df = df.loc[df['y'] == -1]\n",
    "undesired_df = undesired_df.drop(columns=['y'])\n",
    "optimal_datapts = pd.DataFrame(data=[], columns=('x1', 'x2'))\n",
    "\n",
    "for r in range(undesired_df.shape[0]):         \n",
    "    # Undesired data point\n",
    "    data_pt = undesired_df.iloc[r]  \n",
    "    optimal_pt = optimal_point(df=df, model=clf, desired_class=1, undesired_coords=(data_pt.iloc[0], data_pt.iloc[1]), N=100000, step_size=0.1, margin=0.0001, test=True)\n",
    "    optimal_datapts.loc[len(optimal_datapts)] = optimal_pt[0]"
   ]
  }
 ],
 "metadata": {
  "kernelspec": {
   "display_name": "base",
   "language": "python",
   "name": "python3"
  },
  "language_info": {
   "codemirror_mode": {
    "name": "ipython",
    "version": 3
   },
   "file_extension": ".py",
   "mimetype": "text/x-python",
   "name": "python",
   "nbconvert_exporter": "python",
   "pygments_lexer": "ipython3",
   "version": "3.11.4"
  }
 },
 "nbformat": 4,
 "nbformat_minor": 2
}
