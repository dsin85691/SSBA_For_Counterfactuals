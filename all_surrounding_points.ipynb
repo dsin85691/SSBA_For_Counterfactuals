{
 "cells": [
  {
   "cell_type": "code",
   "execution_count": 26,
   "id": "caring-filing",
   "metadata": {},
   "outputs": [],
   "source": [
    "import numpy as np\n",
    "\n",
    "          \n",
    "def get_cube_points(x, y, delta_x, delta_y, step = 0.1):\n",
    "    points = [\n",
    "        (i, j)\n",
    "        for i in np.arange(x - delta_x, x + delta_x , step)\n",
    "        for j in np.arange(y - delta_y, y + delta_y , step)\n",
    "\n",
    "    ]\n",
    "    return points"
   ]
  },
  {
   "cell_type": "code",
   "execution_count": 27,
   "id": "minor-glucose",
   "metadata": {},
   "outputs": [],
   "source": [
    "center = (11, 15)  # Center point\n",
    "deltas = (1, 1)  # Cube extends 1 unit in all directions\n",
    "cube_points = get_cube_points(*center, *deltas)\n",
    "\n",
    "# Print points\n",
    "# for point in cube_points:\n",
    "#     print(point)"
   ]
  },
  {
   "cell_type": "code",
   "execution_count": 28,
   "id": "apart-franklin",
   "metadata": {},
   "outputs": [],
   "source": [
    "# import numpy as np\n",
    "\n",
    "# np.array(cube_points)[:,0]"
   ]
  },
  {
   "cell_type": "code",
   "execution_count": 29,
   "id": "ordinary-roller",
   "metadata": {},
   "outputs": [
    {
     "data": {
      "text/plain": [
       "<matplotlib.collections.PathCollection at 0x7f937272aa20>"
      ]
     },
     "execution_count": 29,
     "metadata": {},
     "output_type": "execute_result"
    },
    {
     "data": {
      "image/png": "[encoded data removed]",
      "text/plain": [
       "<Figure size 432x288 with 1 Axes>"
      ]
     },
     "metadata": {},
     "output_type": "display_data"
    }
   ],
   "source": [
    "import matplotlib.pyplot as plt\n",
    "import numpy as np\n",
    "\n",
    "plt.scatter(np.array(cube_points)[:,0], np.array(cube_points)[:,1])"
   ]
  },
  {
   "cell_type": "code",
   "execution_count": 68,
   "id": "conditional-traffic",
   "metadata": {},
   "outputs": [
    {
     "name": "stdout",
     "output_type": "stream",
     "text": [
      "(10.0, 14)\n",
      "(10, 14.5)\n",
      "(10, 15.0)\n",
      "(10, 15.5)\n",
      "(10.0, 16)\n",
      "(10.5, 14)\n",
      "(10.5, 16)\n",
      "(11.0, 14)\n",
      "(11.0, 16)\n",
      "(11.5, 14)\n",
      "(11.5, 16)\n",
      "(12.0, 14)\n",
      "(12, 14.5)\n",
      "(12, 15.0)\n",
      "(12, 15.5)\n",
      "(12.0, 16)\n"
     ]
    }
   ],
   "source": [
    "import numpy as np\n",
    "\n",
    "def get_border_points(x, y, delta_x, delta_y, step=0.1):\n",
    "    points = []\n",
    "    \n",
    "    # Define the boundaries\n",
    "    x_min, x_max = x - delta_x, x + delta_x\n",
    "    y_min, y_max = y - delta_y, y + delta_y\n",
    "\n",
    "    # Generate points along the four edges\n",
    "    for i in np.arange(x_min, x_max + step, step):\n",
    "        points.append((i, y_min))  # Bottom edge\n",
    "        points.append((i, y_max))  # Top edge\n",
    "\n",
    "    for j in np.arange(y_min, y_max + step, step):\n",
    "        points.append((x_min, j))  # Left edge\n",
    "        points.append((x_max, j))  # Right edge\n",
    "\n",
    "    # Remove duplicates (corner points get added twice)\n",
    "    points = list(set(points))\n",
    "    \n",
    "    return points\n",
    "\n",
    "# Example usage\n",
    "border_points = get_border_points(x=11, y=15, delta_x=1, delta_y=1, step=0.5)\n",
    "\n",
    "# Print results\n",
    "for point in sorted(border_points):\n",
    "    print(point)"
   ]
  },
  {
   "cell_type": "code",
   "execution_count": 69,
   "id": "treated-complex",
   "metadata": {},
   "outputs": [
    {
     "data": {
      "text/plain": [
       "<matplotlib.collections.PathCollection at 0x7f9372a3bcc0>"
      ]
     },
     "execution_count": 69,
     "metadata": {},
     "output_type": "execute_result"
    },
    {
     "data": {
      "image/png": "[encoded data removed]",
      "text/plain": [
       "<Figure size 432x288 with 1 Axes>"
      ]
     },
     "metadata": {},
     "output_type": "display_data"
    }
   ],
   "source": [
    "import matplotlib.pyplot as plt\n",
    "import numpy as np\n",
    "\n",
    "plt.scatter(np.array(border_points)[:,0], np.array(border_points)[:,1])"
   ]
  },
  {
   "cell_type": "code",
   "execution_count": 58,
   "id": "circular-gravity",
   "metadata": {},
   "outputs": [
    {
     "name": "stdout",
     "output_type": "stream",
     "text": [
      "1.1\n"
     ]
    }
   ],
   "source": [
    "x = 11\n",
    "change_p = 10\n",
    "delta_x = (change_p/100)*x\n",
    "print(delta_x)"
   ]
  },
  {
   "cell_type": "code",
   "execution_count": 62,
   "id": "enclosed-opportunity",
   "metadata": {},
   "outputs": [
    {
     "name": "stdout",
     "output_type": "stream",
     "text": [
      "1.2\n"
     ]
    }
   ],
   "source": [
    "y = 15\n",
    "change_p = 8\n",
    "delta_y = (change_p/100)*y\n",
    "print(delta_y)"
   ]
  },
  {
   "cell_type": "code",
   "execution_count": 73,
   "id": "protecting-present",
   "metadata": {},
   "outputs": [
    {
     "data": {
      "text/plain": [
       "<matplotlib.collections.PathCollection at 0x7f937411c780>"
      ]
     },
     "execution_count": 73,
     "metadata": {},
     "output_type": "execute_result"
    },
    {
     "data": {
      "image/png": "[encoded data removed]",
      "text/plain": [
       "<Figure size 432x288 with 1 Axes>"
      ]
     },
     "metadata": {},
     "output_type": "display_data"
    }
   ],
   "source": [
    "border_points = get_border_points(x=11, y=15, delta_x=1.1, delta_y=1.2, step=0.05)\n",
    "plt.scatter(np.array(border_points)[:,0], np.array(border_points)[:,1])"
   ]
  },
  {
   "cell_type": "code",
   "execution_count": 65,
   "id": "english-congress",
   "metadata": {},
   "outputs": [
    {
     "data": {
      "text/plain": [
       "10.0"
      ]
     },
     "execution_count": 65,
     "metadata": {},
     "output_type": "execute_result"
    }
   ],
   "source": [
    "(delta_x/x)*100"
   ]
  },
  {
   "cell_type": "code",
   "execution_count": 66,
   "id": "signal-policy",
   "metadata": {},
   "outputs": [
    {
     "data": {
      "text/plain": [
       "8.0"
      ]
     },
     "execution_count": 66,
     "metadata": {},
     "output_type": "execute_result"
    }
   ],
   "source": [
    "(delta_y/y)*100"
   ]
  }
 ],
 "metadata": {
  "kernelspec": {
   "display_name": "Python 3",
   "language": "python",
   "name": "python3"
  },
  "language_info": {
   "codemirror_mode": {
    "name": "ipython",
    "version": 3
   },
   "file_extension": ".py",
   "mimetype": "text/x-python",
   "name": "python",
   "nbconvert_exporter": "python",
   "pygments_lexer": "ipython3",
   "version": "3.6.8"
  }
 },
 "nbformat": 4,
 "nbformat_minor": 5
}
