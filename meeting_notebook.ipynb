{
 "cells": [
  {
   "cell_type": "code",
   "execution_count": 1,
   "id": "87500ca3",
   "metadata": {},
   "outputs": [
    {
     "name": "stderr",
     "output_type": "stream",
     "text": [
      "c:\\Users\\Compuworld\\anaconda3\\Lib\\site-packages\\pandas\\core\\arrays\\masked.py:60: UserWarning: Pandas requires version '1.3.6' or newer of 'bottleneck' (version '1.3.5' currently installed).\n",
      "  from pandas.core import (\n"
     ]
    }
   ],
   "source": [
    "import pandas as pd\n",
    "from sklearn import svm\n",
    "import matplotlib.pyplot as plt\n",
    "import numpy as np\n",
    "import warnings\n",
    "import random \n",
    "from scipy.interpolate import RBFInterpolator\n",
    "from scipy.spatial import KDTree\n",
    "import numba \n",
    "\n",
    "random.seed(0)\n",
    "warnings.filterwarnings('ignore', category=UserWarning)"
   ]
  },
  {
   "cell_type": "markdown",
   "id": "0cde4d54",
   "metadata": {},
   "source": [
    "# Problem Statement\n",
    "\n",
    "We define the problem in terms of supervised learning. Consider a dataset of $N$ points with $f$ features with two classes, one denoting the point as \"unhealthy\" and the other as \"healthy.\" \n",
    "\n",
    "We apply an AI model (model-agnostic) such that the model learns a decision boundary or contour between the two classes. \n",
    "\n",
    "For the problem, we want to find the closest distance from any given unhealthy point to the decision boundary. We mean that among all points in the decision boundary, which point will be closest to the point? \n",
    "\n",
    "Additionally, given a set of constraints in $f$ dimensions or fewer, what is the closest point satisfying the constraints to the decision boundary? If constraints are defined for all $f$ dimensions, there would be a box around the original \"unhealthy\" point. What point lies on the box closest to the decision boundary?"
   ]
  },
  {
   "cell_type": "markdown",
   "id": "637daa82",
   "metadata": {},
   "source": [
    "# Goals for the Problem Statement \n",
    "\n",
    "1. Find the Decision Boundary for any model defined on a dataset of $N$ points with $f$ within the binary classification case. The Boundary must be model-agnostic and work for any dataset (invariant to the number of features and data points). \n",
    "2. We must find the closest distance from a given unhealthy data point (from 1.) to the decision boundary. This must work in any Euclidean space of dimension $R^f$ so that it can work with any dataset. \n",
    "3. Given a set of constraints in $f$ dimensions or fewer, what is the closest point satisfying the constraints to the decision boundary? We will show examples in 2D. "
   ]
  },
  {
   "cell_type": "markdown",
   "id": "3cf39e6c",
   "metadata": {},
   "source": [
    "# Importing the Dataset and Creating the Model\n",
    "\n",
    "Below, we import the SVM dataset into the Jupiter Notebook. This dataset consists of $20$ points, which are one of two classes, either \"healthy\" or \"unhealthy.\" The \"unhealthy\" points are colored red, whereas the healthy points are colored blue.\n",
    "\n",
    "We create an SVM classifier to apply to the SVM dataset."
   ]
  },
  {
   "cell_type": "code",
   "execution_count": 2,
   "id": "4bbaf609",
   "metadata": {},
   "outputs": [],
   "source": [
    "# Reading in the dataset\n",
    "df=pd.read_csv('SVM_Dataset2.csv')\n",
    "\n",
    "# SVM classifier with polynomial decision boundary\n",
    "svm_classifier = svm.SVC(kernel='poly',C=10, degree=2, probability=True)\n",
    "# svm_classifier = svm.SVC(kernel='rbf', gamma=0.1, C=100)"
   ]
  },
  {
   "cell_type": "markdown",
   "id": "964a754c",
   "metadata": {},
   "source": [
    "# Visualizing the Dataset\n",
    "\n",
    "Below, we show a visualization of the dataset on two features ($x_1$ and $x_2$), and we label each of the data points as one of two classes (\"healthy\" or \"unhealthy\")"
   ]
  },
  {
   "cell_type": "code",
   "execution_count": 3,
   "id": "2a2e72c6",
   "metadata": {},
   "outputs": [
    {
     "data": {
      "image/png": "[encoded data removed]",
      "text/plain": [
       "<Figure size 640x480 with 1 Axes>"
      ]
     },
     "metadata": {},
     "output_type": "display_data"
    }
   ],
   "source": [
    "def visualize_dataset():\n",
    "    X1=df['x1']\n",
    "    X2=df['x2']\n",
    "    X_train=np.array(list(zip(X1,X2)))\n",
    "    y_train=df['y'].values\n",
    "    # svm_classifier = svm.SVC(kernel='linear', C=10)\n",
    "    #svm_classifier = svm.SVC(kernel='poly', C=10)\n",
    "    svm_classifier = svm.SVC(kernel='poly',C=10, degree=2)\n",
    "    # svm_classifier = svm.SVC(kernel='rbf', gamma=0.1, C=100)\n",
    "    svm_classifier.fit(X_train, y_train)\n",
    "    color_ls = []\n",
    "    for k in y_train:\n",
    "        if k == 1:\n",
    "            color_ls.append('b')\n",
    "        else:\n",
    "            color_ls.append('r')\n",
    "    color_ls\n",
    "    label = []\n",
    "    for k in y_train:\n",
    "        if k == 1:\n",
    "            label.append('H')\n",
    "        else:\n",
    "            label.append('NH')\n",
    "    label\n",
    "    def plot_decision_boundary(clf, X, y):\n",
    "        x1_min, x1_max = X[:, 0].min() - 1, X[:, 0].max() + 1\n",
    "        x2_min, x2_max = X[:, 1].min() - 1, X[:, 1].max() + 1\n",
    "        xx1, xx2 = np.meshgrid(np.arange(x1_min, x1_max),np.arange(x2_min, x2_max))\n",
    "        Z = clf.decision_function(np.array([xx1.ravel(), xx2.ravel()]).T).reshape(xx1.shape)\n",
    "        m = np.nonzero(Z < -19)\n",
    "        Q = clf.predict(np.array([xx1.ravel(), xx2.ravel()]).T).reshape(xx1.shape)\n",
    "        plt.contourf(xx1, xx2, Z, colors='k', levels=[-1, 0, 1], alpha=0.4,linestyles=['--', '-', '--'])\n",
    "        plt.xlim(xx1.min(), xx1.max())\n",
    "        plt.ylim(xx2.min(), xx2.max())\n",
    "        \n",
    "    plot_decision_boundary(svm_classifier, X_train, y_train)\n",
    "\n",
    "    for k, (i,j) in enumerate(X_train):\n",
    "        plt.scatter(i, j, c = color_ls[k])\n",
    "        plt.text(i+0.02, j+0.02, label[k])\n",
    "\n",
    "visualize_dataset()"
   ]
  },
  {
   "cell_type": "markdown",
   "id": "db1af16f",
   "metadata": {},
   "source": [
    "# Closest Point Functions \n",
    "\n",
    "```closest_point()``` - computes the closest distance from a point in $R^f$ from the decision boundary usually defined as a numpy array of points in $R^f$ where $f$ is the number of features \n",
    "\n",
    "```closest_border_point``` - This computes the closest distance from a set of border points from the decision boundary. Border points are defined with constraints around the original unhealthy point. Generating a box around an unhealthy point will determine the closest distance from the box to the decision boundary."
   ]
  },
  {
   "cell_type": "code",
   "execution_count": 4,
   "id": "e8d91002",
   "metadata": {},
   "outputs": [],
   "source": [
    "def closest_point(point, contour):\n",
    "    tree = KDTree(contour)\n",
    "    closest_index = tree.query(point)[1]\n",
    "    if not isinstance(closest_index, np.int64): \n",
    "        closest_index = closest_index[0]\n",
    "    closest_point = contour[closest_index]\n",
    "    return closest_point\n",
    "\n",
    "def closest_border_point(border_points, contour): \n",
    "    # Build a KDTree for fast nearest neighbor search\n",
    "    tree = KDTree(contour) \n",
    "\n",
    "    min_point, total_min = None, float('inf')\n",
    "\n",
    "    for border_point in border_points: \n",
    "        # Find the distance and index of the closest contour point using KDTree\n",
    "        dist, _ = tree.query(border_point)\n",
    "\n",
    "        # Update the minimum point and distance if a closer point is found\n",
    "        if dist < total_min: \n",
    "            total_min = dist \n",
    "            min_point = border_point \n",
    "    \n",
    "    return min_point"
   ]
  },
  {
   "cell_type": "markdown",
   "id": "3966f885",
   "metadata": {},
   "source": [
    "# Displacement Function \n",
    "\n",
    "```move_from_A_to_B_with_x1_displacement()``` - moves from a given point A to another point B with a displacement value delta "
   ]
  },
  {
   "cell_type": "code",
   "execution_count": 5,
   "id": "c5c0a603",
   "metadata": {},
   "outputs": [
    {
     "name": "stdout",
     "output_type": "stream",
     "text": [
      "[0.49983339 0.49983339 0.49983339]\n",
      "[3 3 3]\n",
      "New point P with desired x1 movement: [2.49950017 3.49950017 4.49950017]\n"
     ]
    }
   ],
   "source": [
    "def move_from_A_to_B_with_x1_displacement(A, B, deltas, epsilon=1e-3):\n",
    "    \"\"\"\n",
    "    Move from point A to point B in n-dimensional space with a desired movement in the x1 dimension.\n",
    "    \n",
    "    Parameters:\n",
    "    - A: list or np.array, coordinates of the starting point A\n",
    "    - B: list or np.array, coordinates of the target point B\n",
    "    - delta_x1: float, the desired displacement in the x1 dimension\n",
    "    \n",
    "    Returns:\n",
    "    - P: np.array, coordinates of the new point after moving delta_x1 along x1-axis\n",
    "    \"\"\"\n",
    "    A = np.array(A)\n",
    "    B = np.array(B)\n",
    "    \n",
    "    # Calculate direction vector from A to B\n",
    "    D = B - A\n",
    "    \n",
    "    # Calculate the scaling factor t for the desired movement in x1\n",
    "    t = deltas / (D + epsilon)   # D[0] is the x1 component of the direction vector\n",
    "    \n",
    "    # Calculate the new point P based on t\n",
    "    P = A + t * D\n",
    "\n",
    "    print(t) \n",
    "    print(D)\n",
    "    \n",
    "    return P\n",
    "\n",
    "# Example usage\n",
    "A = [1, 2, 3]  # Starting point in 3D space\n",
    "B = [4, 5, 6]  # Target point in 3D space\n",
    "delta_x1 = 1.5  # Desired movement in x1 dimension\n",
    "\n",
    "P = move_from_A_to_B_with_x1_displacement(A, B, delta_x1)\n",
    "print(\"New point P with desired x1 movement:\", P)"
   ]
  },
  {
   "cell_type": "markdown",
   "id": "f96cd388",
   "metadata": {},
   "source": [
    "# Finding Decision Boundary Points\n",
    "\n",
    "```compute_decision_boundary_points_all_features()``` -- computes the decision boundary points from a generated mesh grid of points \n",
    "\n",
    "```prediction()``` -- Looks for the midpoint between two classes and appends them to a list consisting of boundary points"
   ]
  },
  {
   "cell_type": "code",
   "execution_count": 6,
   "id": "9a9d7a9e",
   "metadata": {},
   "outputs": [],
   "source": [
    "@numba.njit \n",
    "def prediction(Z, grid, epsilon): \n",
    "    boundary_points = [] \n",
    "    for i in range(len(grid) - 1):\n",
    "            for j in range(i + 1, len(grid)):\n",
    "                if np.linalg.norm(grid[i] - grid[j]) < epsilon and Z[i] != Z[j]:\n",
    "                    boundary_points.append((grid[i] + grid[j]) / 2)  # Midpoint between two classes\n",
    "    return boundary_points\n",
    "\n",
    "def compute_decision_boundary_points_all_features(model, X, resolution=100, epsilon=0.01):\n",
    "    \"\"\"\n",
    "    Compute decision boundary points in the high-dimensional feature space.\n",
    "    Args:\n",
    "        model: Trained classifier.\n",
    "        X: Input pandas dataframe (n_samples, n_features).\n",
    "        resolution: Number of points to sample along each feature axis.\n",
    "        epsilon: Small step size to detect class changes.\n",
    "    Returns:\n",
    "        boundary_points: Array of points near the decision boundary.\n",
    "    \"\"\"\n",
    "    n_features = X.shape[1]\n",
    "    # A grid that contains R^f samples from the f dimensional space where f is the number of features\n",
    "    grid = np.zeros((resolution ** n_features, n_features))\n",
    "\n",
    "    # Generates a grid that contains R^f samples based on whether the column contains numeric or categorical values \n",
    "    # If the column contains numeric types, then the grid generates a column based on subdividing the numeric columns evenly\n",
    "    for i in range(n_features):\n",
    "        # Checks if the column is not a column consisting of categorical values\n",
    "        # If it is not categorical, then the column must be numeric. \n",
    "        if not isinstance(X[X.columns[i]].dtype, pd.CategoricalDtype):\n",
    "            grid[:, i] = np.tile(np.linspace(X.iloc[:, i].min() - 1, X.iloc[:, i].max() + 1, resolution).repeat(resolution ** (n_features - i - 1)), resolution ** i)\n",
    "        else:\n",
    "            cat_array = X.iloc[:, i].astype('category').cat.categories\n",
    "            cat_array = np.arange(len(cat_array))  # e.g., [0, 1, 2] for 3 categories\n",
    "            repeats_per_cat = resolution ** (n_features - i - 1)\n",
    "            tiles = resolution ** i\n",
    "            col_values = np.tile(np.repeat(cat_array, repeats_per_cat), tiles)\n",
    "            grid[:, i] = col_values\n",
    "            \n",
    "    # Predict the class for each point in the grid\n",
    "    Z = model.predict(grid)\n",
    "    # Find points near the decision boundary\n",
    "    boundary_points = prediction(Z, grid, epsilon)\n",
    " \n",
    "    return pd.DataFrame(np.unique(boundary_points,axis=0), columns=X.columns)"
   ]
  },
  {
   "cell_type": "markdown",
   "id": "1693eae5",
   "metadata": {},
   "source": [
    "# Interpolation, Generating boundaries for a n-dimensional cube \n",
    "\n",
    "- RBF Interpolation is used for interpolating scattered data points\n",
    "\n",
    "```multi_dim_interpolator()``` -- returns an interpolator based on RBF interpolation \n",
    "\n",
    "```get_multi_dim_border_points()``` -- generates points on the boundaries of an n-dimensional hyperrectangle/cube "
   ]
  },
  {
   "cell_type": "code",
   "execution_count": null,
   "id": "e64c84b6",
   "metadata": {},
   "outputs": [],
   "source": [
    "def multi_dim_interpolator(boundary_points, N=10000): \n",
    "    n_features = boundary_points.shape[1]\n",
    "    X_vals, y_vals = boundary_points[:N,0:n_features-1], np.reshape(boundary_points[:N,-1], (-1,1)) \n",
    "    interpolator = RBFInterpolator(X_vals, y_vals, kernel='cubic', smoothing=1e-2)\n",
    "    return interpolator \n",
    "\n",
    "def generate_add_boundary_pts(X, N=25): \n",
    "    n_features = X.shape[1]\n",
    "    ranges = [np.linspace(X.iloc[:, j].min()-1, X.iloc[:, j].max()+1, N) for j in range(n_features-1)]\n",
    "    grid_points = np.vstack([r.ravel() for r in ranges]).T\n",
    "    return grid_points \n",
    "\n",
    "def get_multi_dim_border_points(center, extents, step=0.1):\n",
    "    \"\"\"\n",
    "    Generate points on the boundaries of an n-dimensional hyperrectangle.\n",
    "    \n",
    "    Parameters:\n",
    "    - center: List or array of length n, the center of the hyperrectangle.\n",
    "    - extents: List or array of length n, the half-widths in each dimension.\n",
    "    - step: Float, step size for sampling points along each dimension.\n",
    "    \n",
    "    Returns:\n",
    "    - List of tuples, each tuple representing a point on the boundary.\n",
    "    \"\"\"\n",
    "    center = np.array(center)\n",
    "    extents = np.array(extents)\n",
    "    n = len(center)  # Number of dimensions\n",
    "    points = set()   # Use set to avoid duplicates\n",
    "    \n",
    "    # Define min and max bounds for each dimension\n",
    "    bounds = [(c - e / 2, c + e / 2) for c, e in zip(center, extents)]\n",
    "    \n",
    "    # For each dimension, generate points on the lower and upper boundaries\n",
    "    for dim in range(n):\n",
    "        # For lower and upper boundary in this dimension\n",
    "        for bound_val in [bounds[dim][0], bounds[dim][1]]:\n",
    "            # Generate grid points for all other dimensions\n",
    "            other_dims = [i for i in range(n) if i != dim]\n",
    "            ranges = [np.arange(bounds[i][0], bounds[i][1] + step, step) for i in other_dims]\n",
    "            if not ranges:  # Handle 1D case\n",
    "                points.add(tuple([bound_val] if dim == 0 else []))\n",
    "                continue\n",
    "            # Create meshgrid for other dimensions\n",
    "            grids = np.meshgrid(*ranges, indexing='ij')\n",
    "            coords = [grid.ravel() for grid in grids]\n",
    "            \n",
    "            # Construct points\n",
    "            for coord in zip(*coords):\n",
    "                point = [0] * n\n",
    "                # Set the current dimension to the boundary value\n",
    "                point[dim] = bound_val\n",
    "                # Set other dimensions to the grid values\n",
    "                for i, val in zip(other_dims, coord):\n",
    "                    point[i] = val\n",
    "                points.add(tuple(point))\n",
    "    \n",
    "    return list(points)\n",
    "\n",
    "def det_constraints(datapt, changes): \n",
    "    constraints = [-1] * len(changes) \n",
    "    len_constr = 0 \n",
    "    for i in range(len(changes)): \n",
    "        if type(changes[i]) == float or type(changes[i]) == int:\n",
    "            constraints[i] = (changes[i]/100)*datapt[i]\n",
    "            len_constr+=1\n",
    "    return constraints, len_constr\n",
    "\n",
    "def constraint_bounds(contours, datapt, constraints): \n",
    "    if len(constraints) == 0: \n",
    "        raise Exception(\"No constraints were assigned.\")\n",
    "    bounded_contour = contours.copy() \n",
    "    for i in range(len(constraints)): \n",
    "        if constraints[i] > 0:\n",
    "            x = datapt[0][i]\n",
    "            # This should just be the delta\n",
    "            delta_x = constraints[i]\n",
    "            # Generate a lower and upper bounds on each constraint\n",
    "            lowb_x, highb_x = x - (delta_x / 2), x + (delta_x / 2)\n",
    "            contour_arr = bounded_contour[:, i]\n",
    "            # Choose the correct indices for the multi-dimensional df\n",
    "            indices = np.where((contour_arr >= lowb_x) & (contour_arr <= highb_x))\n",
    "            bounded_contour_pts = bounded_contour[indices]\n",
    "            bounded_contour = bounded_contour_pts\n",
    "            if i == 0:\n",
    "                plt.axvline(x=highb_x, color='b', linestyle='-', label='High Bound x')\n",
    "                plt.axvline(x=lowb_x, color='b', linestyle='-', label='Low bound x')\n",
    "            else: \n",
    "                plt.axhline(y=highb_x, color='b', linestyle='-', label='High Bound y')\n",
    "                plt.axhline(y=lowb_x, color='b', linestyle='-', label='Low bound y')\n",
    "    return bounded_contour\n",
    "\n",
    "#constraints = [(\"gender\", \"equal\"), (\"age\", \"greater\"), (\"height\", \"equal\"), (\"family_history_with_overweight\", \"equal\")]\n",
    "def real_world_constraints(points, undesired_coords, constraints): \n",
    "# [(\"gender\", \"equal\"), (\"age\", \"greater\"), (\"height\", \"equal\"), (\"family_history_with_overweight\", \"equal\")]\n",
    "    if len(constraints) == 0: \n",
    "        return points \n",
    "    \n",
    "    for constraint in constraints: \n",
    "        select_pts = None\n",
    "        if constraint[1] == \"equal\": \n",
    "            select_pts = points.loc[points[constraint[0]] == undesired_coords[points.columns.get_loc(constraint[0])], :]\n",
    "        elif constraint[1] == \"greater\": \n",
    "            select_pts = points.loc[points[constraint[0]] > undesired_coords[points.columns.get_loc(constraint[0])], :] \n",
    "        else: \n",
    "            select_pts = points.loc[points[constraint[0] < undesired_coords[points.columns.get_loc(constraint[0])]], :]\n",
    "\n",
    "        points = select_pts\n",
    "    \n",
    "    return points"
   ]
  },
  {
   "cell_type": "markdown",
   "id": "477ef92d",
   "metadata": {},
   "source": [
    "# Generating the optimal point\n",
    "\n",
    "```optimal_point()``` -- generates the boundary point closest to a given \"undesired\" coordinates (unhealthy point); if given a constraint, it will find the closest point from the box to the contour and/or look for the closest point to the contour depending on selected constraints\n",
    "\n",
    "```optimal_point()``` should be able to do all of the above goals. So, the function is a process that goes over each goal separately. \n",
    "\n",
    "The first goal is to find decision boundary points. Once we have the trained model, we iterate over the points of a grid to determine which points lie at the endpoints of a decision boundary point. \n",
    "\n",
    "The function ```compute_decision_boundary_points_all_features()``` generates a $R^f$ grid where $R$ is the number of points in each dimension (equally spaced). Then, it iterates over every point of the grid to figure out which points belong to the decision boundary and which points do not belong to the boundary. \n",
    "\n",
    "The second goal is to determine which of the decision boundary points is closest to the indicated unhealthy point (the identifier is \"undesired_coords\"). Once we have a set of decision boundary points, we iterate over everyone and determine the Euclidean distance from the unhealthy point. \n",
    "\n",
    "The function ```closest_point()'' uses KDTrees to determine the closest point on the decision boundary from the given unhealthy point. \n",
    "\n",
    "The third and final goal is to set constraints on the original set of features and then determine the closest point following the constraints to the decision boundary. \n",
    "\n",
    "The functions ```get_multi_dim_border_points()``` and ```constraint_bounds()``` consider the cases when # of constraints == # of features and # of constraints <  # of features, respectively. \n",
    "\n",
    "The first function finds all points on a multidimensional box around the original unhealthy point. Since we determine a closed constraint around each dimension, we just look for all of the points where one of the endpoints is fixed. \n",
    "\n",
    "Given that there are no constraints in some dimensions, we look for a decision boundary point or set of decision boundary points that fit all constraints. "
   ]
  },
  {
   "cell_type": "code",
   "execution_count": 14,
   "id": "388875f6",
   "metadata": {},
   "outputs": [],
   "source": [
    "# Algorithm that determines the point that is closest to the decision boundary from a specified data point (undesired_coords) \n",
    "def optimal_point(dataset, model, desired_class, original_class, undesired_coords, resolution=100, point_epsilon=0.1, epsilon=0.01, constraints=[], deltas=[]): \n",
    "    \n",
    "    X_train, y_train = dataset.iloc[:, 0:dataset.shape[1]-1], dataset.iloc[:, -1]\n",
    "    n_features = X_train.shape[1]\n",
    "\n",
    "    print(\"fitting model...\")\n",
    "    model.fit(X_train, y_train)\n",
    "    print(\"model finished.\")\n",
    "\n",
    "    print(\"boundary points started generation...\")\n",
    "    boundary_points = compute_decision_boundary_points_all_features(model, X_train, resolution=resolution, epsilon=point_epsilon)\n",
    "    print(\"boundary points finished.\")\n",
    "\n",
    "    # Fitting the boundary points to the constraints provided by the real world\n",
    "    contours = real_world_constraints(points=boundary_points, undesired_coords=undesired_coords, constraints=constraints)\n",
    "    contours = contours.to_numpy()\n",
    "    # print(\"Generating the final contour for multi-dimensional interpolation finished.\")\n",
    "    # contours = boundary_points\n",
    "    undesired_datapt = np.reshape(np.array(list(undesired_coords)), (1, -1))\n",
    "    # Find the closest point from the undesired point to the contour line\n",
    "    print(\"Finding the closest point from the contour line to the point...\")\n",
    "    optimal_datapt = closest_point(undesired_datapt, contour=contours)\n",
    "    print(\"Finding the closest point from the contour line to the point.\")\n",
    "    plt.plot(contours[:,0], contours[:,1], lw=0.5, color='red')\n",
    "\n",
    "    if desired_class != original_class: \n",
    "        D = optimal_datapt - undesired_datapt\n",
    "        deltas = D * (1+epsilon)\n",
    "        optimal_datapt = move_from_A_to_B_with_x1_displacement(undesired_datapt, optimal_datapt, deltas=deltas)\n",
    "    else: \n",
    "        closest_boundedpt = None\n",
    "        deltas, len_constr = det_constraints(datapt=undesired_datapt[0], changes=deltas)\n",
    "        bounded_contour_pts = None\n",
    "        #print(undesired_datapt.shape)\n",
    "        if len_constr > n_features: \n",
    "            raise Exception(\"There cannot be more constraints than features\")\n",
    "        elif len_constr == n_features:\n",
    "            bounded_contour_pts = get_multi_dim_border_points(center=undesired_datapt[0], extents=deltas, step=0.05)\n",
    "            np_bounded_contour = np.array(bounded_contour_pts)\n",
    "            x_values, y_values = np_bounded_contour[:,0], np_bounded_contour[:, 1]\n",
    "            plt.scatter(x_values, y_values, marker='o')\n",
    "            closest_boundedpt = closest_border_point(bounded_contour_pts, contour=contours)\n",
    "        else: \n",
    "            # Generate bounded contour points\n",
    "            bounded_contour_pts = constraint_bounds(contours, undesired_datapt, deltas)\n",
    "            closest_boundedpt = closest_point(point=undesired_datapt, contour=bounded_contour_pts)\n",
    "\n",
    "        D = closest_boundedpt - undesired_datapt\n",
    "        optimal_datapt = move_from_A_to_B_with_x1_displacement(undesired_datapt, closest_boundedpt, deltas=D)\n",
    "    plt.scatter(undesired_datapt[0][0], undesired_datapt[0][1], c = 'r')\n",
    "    plt.text(undesired_datapt[0][0]+0.002, undesired_datapt[0][1]+0.002, 'NH')\n",
    "    plt.scatter(optimal_datapt[0][0], optimal_datapt[0][1], c = 'r')\n",
    "    plt.text(optimal_datapt[0][0]+0.002, optimal_datapt[0][1]+0.002, 'NH')\n",
    "    plt.plot([undesired_datapt[0][0], optimal_datapt[0][0]], [undesired_datapt[0][1],optimal_datapt[0][1]], linestyle='--')\n",
    "    return optimal_datapt"
   ]
  },
  {
   "cell_type": "code",
   "execution_count": 256,
   "id": "ecdb6496",
   "metadata": {},
   "outputs": [
    {
     "name": "stdout",
     "output_type": "stream",
     "text": [
      "fitting model...\n",
      "model finished.\n",
      "boundary points started generation...\n",
      "boundary points finished.\n",
      "Finding the closest point from the contour line to the point...\n",
      "Finding the closest point from the contour line to the point.\n",
      "[[1.07131923 1.07023801]]\n",
      "[[-0.81208054 -4.4966443 ]]\n"
     ]
    },
    {
     "data": {
      "text/plain": [
       "array([[10.13000251, 10.18752037]])"
      ]
     },
     "execution_count": 256,
     "metadata": {},
     "output_type": "execute_result"
    },
    {
     "data": {
      "image/png": "[encoded data removed]",
      "text/plain": [
       "<Figure size 640x480 with 1 Axes>"
      ]
     },
     "metadata": {},
     "output_type": "display_data"
    }
   ],
   "source": [
    "visualize_dataset()\n",
    "optimal_point(df, svm_classifier, desired_class=1, original_class=-1, resolution=150, undesired_coords=(11,15), point_epsilon=0.1, epsilon=0.07)"
   ]
  },
  {
   "cell_type": "markdown",
   "id": "7ce185e2",
   "metadata": {},
   "source": [
    "# An example of applying the optimal point function \n",
    "\n",
    "We apply the optimal point function with the given dataset using a fitted SVM classifier. We return the closest point on the decision boundary from the unhealthy point."
   ]
  },
  {
   "cell_type": "code",
   "execution_count": 16,
   "id": "045b4741",
   "metadata": {},
   "outputs": [
    {
     "name": "stdout",
     "output_type": "stream",
     "text": [
      "fitting model...\n",
      "model finished.\n",
      "boundary points started generation...\n",
      "boundary points finished.\n",
      "Finding the closest point from the contour line to the point...\n",
      "Finding the closest point from the contour line to the point.\n",
      "[[1.00364964 1.0026738 ]]\n",
      "[[-0.275 -0.375]]\n"
     ]
    },
    {
     "data": {
      "text/plain": [
       "array([[10.72399635, 14.62399733]])"
      ]
     },
     "execution_count": 16,
     "metadata": {},
     "output_type": "execute_result"
    },
    {
     "data": {
      "image/png": "[encoded data removed]",
      "text/plain": [
       "<Figure size 640x480 with 1 Axes>"
      ]
     },
     "metadata": {},
     "output_type": "display_data"
    }
   ],
   "source": [
    "optimal_projection = optimal_point(df, svm_classifier, desired_class=1, original_class=1, resolution=150, undesired_coords=(11,15), point_epsilon=0.1, epsilon=0.07, constraints=[], deltas=[5,5])\n",
    "optimal_projection"
   ]
  },
  {
   "cell_type": "markdown",
   "id": "cc4eed63",
   "metadata": {},
   "source": [
    "# Setting Constraints on Each Dimension \n",
    "\n",
    "Below, we define the dataset using an SVM classifier, where we specify constraints on each dimension. This means that for the given undesired (unhealthy point) coordinates $(11,15)$, we can define constraints on $x$ and $y$. This means that both $x$ and $y$ are defined within the two bounds $(x - \\frac{0.15*x}{2}, x + \\frac{0.15*x}{2})$ and $(y - \\frac{0.15*y}{2}, y + \\frac{0.15*y}{2})$. Below, we set $x = 11$ and $y = 15$, generating the box we see below. "
   ]
  },
  {
   "cell_type": "code",
   "execution_count": 17,
   "id": "a9176ed0",
   "metadata": {},
   "outputs": [
    {
     "name": "stdout",
     "output_type": "stream",
     "text": [
      "fitting model...\n",
      "model finished.\n",
      "boundary points started generation...\n",
      "boundary points finished.\n",
      "Finding the closest point from the contour line to the point...\n",
      "Finding the closest point from the contour line to the point.\n",
      "[[1.00121359 1.00088968]]\n",
      "[[-0.825 -1.125]]\n"
     ]
    },
    {
     "data": {
      "text/plain": [
       "array([[10.17399879, 13.87399911]])"
      ]
     },
     "execution_count": 17,
     "metadata": {},
     "output_type": "execute_result"
    },
    {
     "data": {
      "image/png": "[encoded data removed]",
      "text/plain": [
       "<Figure size 640x480 with 1 Axes>"
      ]
     },
     "metadata": {},
     "output_type": "display_data"
    }
   ],
   "source": [
    "optimal_projection = optimal_point(df, svm_classifier, desired_class=1, original_class=1, resolution=150, undesired_coords=(11,15), point_epsilon=0.1, epsilon=0.07, constraints=[], deltas=[15,15])\n",
    "optimal_projection"
   ]
  },
  {
   "cell_type": "markdown",
   "id": "5afef508",
   "metadata": {},
   "source": [
    "# Defining in $N$ or fewer dimensions \n",
    "\n",
    "Below, we define constraints for a single dimension while letting the other constraint run free. In this case, we define a $15$% constraint around the undesired coordinate y-value while leaving the $x$ coordinate fixed. This means that the y bounds highlighted in blue below are between $(y - \\frac{0.15*y}{2}, y + \\frac{0.15*y}{2})$. \n",
    "\n",
    "Similarly, we can do the same thing while constraining only $x$ and letting $y$ run freely."
   ]
  },
  {
   "cell_type": "code",
   "execution_count": 18,
   "id": "4b6e5680",
   "metadata": {},
   "outputs": [
    {
     "ename": "TypeError",
     "evalue": "optimal_point() got an unexpected keyword argument 'changes'",
     "output_type": "error",
     "traceback": [
      "\u001b[1;31m---------------------------------------------------------------------------\u001b[0m",
      "\u001b[1;31mTypeError\u001b[0m                                 Traceback (most recent call last)",
      "Cell \u001b[1;32mIn[18], line 1\u001b[0m\n\u001b[1;32m----> 1\u001b[0m optimal_projection \u001b[38;5;241m=\u001b[39m optimal_point(df, svm_classifier, resolution\u001b[38;5;241m=\u001b[39m\u001b[38;5;241m300\u001b[39m, undesired_coords\u001b[38;5;241m=\u001b[39m(\u001b[38;5;241m11\u001b[39m,\u001b[38;5;241m15\u001b[39m), desired_class\u001b[38;5;241m=\u001b[39m\u001b[38;5;241m-\u001b[39m\u001b[38;5;241m1\u001b[39m, point_epsilon\u001b[38;5;241m=\u001b[39m\u001b[38;5;241m0.1\u001b[39m, epsilon\u001b[38;5;241m=\u001b[39m\u001b[38;5;241m0.01\u001b[39m, changes\u001b[38;5;241m=\u001b[39m[\u001b[38;5;28;01mNone\u001b[39;00m, \u001b[38;5;241m15\u001b[39m])\n\u001b[0;32m      2\u001b[0m optimal_projection\n",
      "\u001b[1;31mTypeError\u001b[0m: optimal_point() got an unexpected keyword argument 'changes'"
     ]
    }
   ],
   "source": [
    "optimal_projection = optimal_point(df, svm_classifier, resolution=300, undesired_coords=(11,15), desired_class=-1, point_epsilon=0.1, epsilon=0.01, changes=[None, 15])\n",
    "optimal_projection"
   ]
  },
  {
   "cell_type": "markdown",
   "id": "3951f4e4",
   "metadata": {},
   "source": [
    "# Binary Search Approach (Euclidean Space)\n",
    "\n",
    "Consider an N-dimensional Euclidean space where a given point x is represented as ($x_1$, $x_2$, ..., $x_n$) in the space. \n",
    "\n",
    "If we consider two such points, $x_1$ and $x_2$, which are members of different classes, we can find a decision boundary point by performing a binary search. \n",
    "\n",
    "Take the midpoint of the two endpoints and evaluate which class the midpoint lies. From that midpoint, it will match one of two endpoints and not the other. Take the midpoint and the non-matching point. Iterate until it is smaller than some epsilon value. "
   ]
  },
  {
   "cell_type": "code",
   "execution_count": 235,
   "id": "7fb15c83",
   "metadata": {},
   "outputs": [],
   "source": [
    "def alpha_binary_search(model, point, opp_point, point_target, opp_target, epsilon=0.01): \n",
    "    start, end = 0, 1\n",
    "    while abs(end - start) >= epsilon: \n",
    "        alpha = (start + end) / 2  # Fix: float division\n",
    "        temp_candidate = (1 - alpha) * point + alpha * opp_point\n",
    "        temp_target = model.predict([temp_candidate])[0]\n",
    "        if temp_target == point_target: \n",
    "            start = alpha \n",
    "            point_target = temp_target\n",
    "        elif temp_target == opp_target: \n",
    "            end = alpha \n",
    "            opp_target = temp_target\n",
    "    return (start + end) / 2\n",
    "\n",
    "def find_decision_boundary(model, X, y, epsilon=1e-3, threshold=10000):\n",
    "    categorical_features = X.select_dtypes(include=int).columns.tolist()\n",
    "    cat_indices = [X.columns.get_loc(col) for col in categorical_features]\n",
    "\n",
    "    bool_vec = [1] * (len(X.columns)) \n",
    "\n",
    "    for i in range(len(cat_indices)): \n",
    "        bool_vec[cat_indices[i]] = 0 \n",
    "\n",
    "    X_np= X.to_numpy() \n",
    "    y_np = y.to_numpy()\n",
    "    boundary_points = []\n",
    "    unique_labels = np.unique(y_np)\n",
    "    if len(unique_labels) != 2:\n",
    "        raise ValueError(\"Only supports binary classification.\")\n",
    "    \n",
    "    label_a, label_b = unique_labels[0], unique_labels[1]\n",
    "    cluster_a = X_np[y == label_a]\n",
    "    cluster_b = X_np[y == label_b]\n",
    "\n",
    "    total_N = 0 \n",
    "    for i in range(cluster_a.shape[0]):\n",
    "        point = cluster_a[i]\n",
    "        for j in range(cluster_b.shape[0]): \n",
    "            match_point = cluster_b[j]\n",
    "            alpha = alpha_binary_search(model, point, match_point, label_a, label_b, epsilon=epsilon)\n",
    "            boundary = (1 - alpha) * point + alpha * match_point\n",
    "            boundary_points.append(boundary)\n",
    "            total_N+=1\n",
    "            if total_N >= threshold: \n",
    "                break\n",
    "        if total_N >= threshold: \n",
    "            break\n",
    "    \n",
    "    boundary_pts = pd.DataFrame(data=boundary_points, columns=X.columns)\n",
    "\n",
    "    for col in categorical_features: \n",
    "        boundary_pts[col] = boundary_pts[col].astype(int)\n",
    "\n",
    "    return boundary_pts"
   ]
  },
  {
   "cell_type": "markdown",
   "id": "292653a1",
   "metadata": {},
   "source": [
    "# Revised Optimal Point using Binary Search Approach \n",
    "\n",
    "Instead of using the ```optimal_point()``` function with the grid-based approach, we can use the above function to retrieve decision boundary points using the binary search approach. \n",
    "\n",
    "We generally choose a small epsilon to find points that best matches those of decision boundary points. \n",
    "\n",
    "We changed the parameter ```resolution``` with ```threshold```. ```resolution``` refers to the size of one of the dimensions of a high-dimensional cube whereas ```threshold``` refers to the number of decision boundary points that we want to find using the binary search approach. "
   ]
  },
  {
   "cell_type": "code",
   "execution_count": 236,
   "id": "adfe7b07",
   "metadata": {},
   "outputs": [],
   "source": [
    "# Algorithm that determines the point that is closest to the decision boundary from a specified data point (undesired_coords) \n",
    "def optimal_point(dataset, model, desired_class, original_class, undesired_coords, threshold=10000, point_epsilon=0.1, epsilon=0.01, constraints=[]): \n",
    "    \n",
    "    X_train, y_train = dataset.iloc[:, 0:dataset.shape[1]-1], dataset.iloc[:, -1]\n",
    "    n_features = X_train.shape[1]\n",
    "\n",
    "    print(\"fitting model...\")\n",
    "    model.fit(X_train, y_train)\n",
    "    print(\"model finished.\")\n",
    "\n",
    "    print(\"boundary points started generation...\")\n",
    "\n",
    "    # IMPORTANT # \n",
    "    # We are replacing the grid-based approach with the binary search approach\n",
    "    # Instead of building a grid in N-dimensions, we use binary search to find points on the decision boundary\n",
    "    boundary_points = find_decision_boundary(model, X_train, y_train, threshold=threshold, epsilon=point_epsilon)\n",
    "    print(\"boundary points finished.\")\n",
    "    print(boundary_points.shape)    \n",
    "\n",
    "    # Fitting the boundary points to the constraints provided by the real world\n",
    "    contours = real_world_constraints(points=boundary_points, undesired_coords=undesired_coords, constraints=constraints)\n",
    "    contours = np.unique(contours.to_numpy(),axis=0)\n",
    "    # print(\"Generating the final contour for multi-dimensional interpolation finished.\")\n",
    "    # contours = boundary_points\n",
    "    undesired_datapt = np.reshape(np.array(list(undesired_coords)), (1, -1))\n",
    "    # Find the closest point from the undesired point to the contour line\n",
    "    print(\"Finding the closest point from the contour line to the point...\")\n",
    "    optimal_datapt = closest_point(undesired_datapt, contour=contours)\n",
    "    print(\"Finding the closest point from the contour line to the point.\")\n",
    "    #plt.plot(contours[:,0], contours[:,1], lw=0.5, color='red')\n",
    "    #print(optimal_datapt)\n",
    "    if desired_class != original_class: \n",
    "        D = optimal_datapt - undesired_datapt\n",
    "        deltas = D * (1+epsilon)\n",
    "        optimal_datapt = move_from_A_to_B_with_x1_displacement(undesired_datapt, optimal_datapt, deltas=deltas)\n",
    "    else:\n",
    "        closest_boundedpt = None\n",
    "        constraints, len_constr = det_constraints(datapt=undesired_datapt[0], changes=constraints)\n",
    "        bounded_contour_pts = None\n",
    "        #print(undesired_datapt.shape)\n",
    "        if len_constr > n_features: \n",
    "            raise Exception(\"There cannot be more constraints than features\")\n",
    "        elif len_constr == n_features:\n",
    "            bounded_contour_pts = get_multi_dim_border_points(center=undesired_datapt[0], extents=constraints, step=0.05)\n",
    "            np_bounded_contour = np.array(bounded_contour_pts)\n",
    "            x_values, y_values = np_bounded_contour[:,0], np_bounded_contour[:, 1]\n",
    "            #plt.scatter(x_values, y_values, marker='o')\n",
    "            closest_boundedpt = closest_border_point(bounded_contour_pts, contour=contours)\n",
    "        else: \n",
    "            # Generate bounded contour points\n",
    "            bounded_contour_pts = constraint_bounds(contours, undesired_datapt, constraints)\n",
    "            closest_boundedpt = closest_point(point=undesired_datapt, contour=bounded_contour_pts)\n",
    "\n",
    "        D = closest_boundedpt - undesired_datapt\n",
    "        optimal_datapt = move_from_A_to_B_with_x1_displacement(undesired_datapt, closest_boundedpt, deltas=D)\n",
    "    # plt.scatter(undesired_datapt[0][0], undesired_datapt[0][1], c = 'r')\n",
    "    # plt.text(undesired_datapt[0][0]+0.002, undesired_datapt[0][1]+0.002, 'NH')\n",
    "    # plt.scatter(optimal_datapt[0][0], optimal_datapt[0][1], c = 'r')\n",
    "    # plt.text(optimal_datapt[0][0]+0.002, optimal_datapt[0][1]+0.002, 'NH')\n",
    "    # plt.plot([undesired_datapt[0][0], optimal_datapt[0][0]], [undesired_datapt[0][1],optimal_datapt[0][1]], linestyle='--')\n",
    "    return optimal_datapt"
   ]
  },
  {
   "cell_type": "code",
   "execution_count": 95,
   "id": "c6985915",
   "metadata": {},
   "outputs": [
    {
     "name": "stdout",
     "output_type": "stream",
     "text": [
      "fitting model...\n",
      "model finished.\n",
      "boundary points started generation...\n",
      "[ 4.38671875 15.64453125]\n",
      "[ 5.69335938 13.03125   ]\n",
      "[ 7.        11.6796875]\n",
      "[ 7.88671875 11.1328125 ]\n",
      "[ 8.6640625  10.84765625]\n",
      "boundary points finished.\n",
      "(5, 2)\n",
      "         x1         x2\n",
      "0  4.386719  15.644531\n",
      "1  5.693359  13.031250\n",
      "2  7.000000  11.679688\n",
      "3  7.886719  11.132812\n",
      "4  8.664062  10.847656\n",
      "(5, 2)\n",
      "<class 'numpy.ndarray'>\n",
      "Finding the closest point from the contour line to the point...\n",
      "Finding the closest point from the contour line to the point.\n",
      "[[1.07 1.07]]\n",
      "[[-2.3359375  -4.15234375]]\n"
     ]
    },
    {
     "data": {
      "text/plain": [
       "array([[ 8.50054687, 10.55699219]])"
      ]
     },
     "execution_count": 95,
     "metadata": {},
     "output_type": "execute_result"
    },
    {
     "data": {
      "image/png": "[encoded data removed]",
      "text/plain": [
       "<Figure size 640x480 with 1 Axes>"
      ]
     },
     "metadata": {},
     "output_type": "display_data"
    }
   ],
   "source": [
    "visualize_dataset()\n",
    "optimal_point(df, svm_classifier, desired_class=1, original_class=-1, threshold=5, undesired_coords=(11,15), point_epsilon=0.01, epsilon=0.07, constraints=[])"
   ]
  },
  {
   "cell_type": "code",
   "execution_count": 44,
   "id": "075d21cb",
   "metadata": {},
   "outputs": [
    {
     "name": "stdout",
     "output_type": "stream",
     "text": [
      "fitting model...\n",
      "model finished.\n",
      "boundary points started generation...\n",
      "boundary points finished.\n",
      "(100, 2)\n",
      "(100, 2)\n",
      "<class 'numpy.ndarray'>\n",
      "Finding the closest point from the contour line to the point...\n",
      "Finding the closest point from the contour line to the point.\n",
      "[[1.07 1.07]]\n",
      "[[-0.34765625 -4.49609375]]\n"
     ]
    },
    {
     "data": {
      "text/plain": [
       "array([[10.62800781, 10.18917969]])"
      ]
     },
     "execution_count": 44,
     "metadata": {},
     "output_type": "execute_result"
    },
    {
     "data": {
      "image/png": "[encoded data removed]",
      "text/plain": [
       "<Figure size 640x480 with 1 Axes>"
      ]
     },
     "metadata": {},
     "output_type": "display_data"
    }
   ],
   "source": [
    "visualize_dataset()\n",
    "optimal_point(df, svm_classifier, desired_class=1, original_class=-1, threshold=100, undesired_coords=(11,15), point_epsilon=0.01, epsilon=0.07, constraints=[])"
   ]
  },
  {
   "cell_type": "markdown",
   "id": "b61db123",
   "metadata": {},
   "source": [
    "# Setting Constraints with Binary Search Approach # \n",
    "\n",
    "Similar to before, we can define a set of constraints on both dimensions. This means that both $x$ and $y$ are defined within the two bounds $(x - \\frac{0.15*x}{2}, y + \\frac{0.15*y}{2})$. Here, we define a $15%$ interval around the point $(x,y)$ using the respective $x$ and $y$ to define the deltas in both directions.\n",
    "\n",
    "Below, we set $x = 11$ and $y = 15$, generating the box we see below. "
   ]
  },
  {
   "cell_type": "code",
   "execution_count": 32,
   "id": "c2209659",
   "metadata": {},
   "outputs": [
    {
     "name": "stdout",
     "output_type": "stream",
     "text": [
      "fitting model...\n",
      "model finished.\n",
      "boundary points started generation...\n",
      "boundary points finished.\n",
      "(100, 2)\n",
      "(100, 2)\n",
      "Finding the closest point from the contour line to the point...\n",
      "Finding the closest point from the contour line to the point.\n",
      "[[1. 1.]]\n",
      "[[-0.825 -1.125]]\n"
     ]
    },
    {
     "data": {
      "text/plain": [
       "array([[10.175, 13.875]])"
      ]
     },
     "execution_count": 32,
     "metadata": {},
     "output_type": "execute_result"
    },
    {
     "data": {
      "image/png": "[encoded data removed]",
      "text/plain": [
       "<Figure size 640x480 with 1 Axes>"
      ]
     },
     "metadata": {},
     "output_type": "display_data"
    }
   ],
   "source": [
    "visualize_dataset()\n",
    "optimal_projection = optimal_point(df, svm_classifier, threshold=100, undesired_coords=(11,15), desired_class=-1, point_epsilon=0.01, epsilon=0.01, changes=[15,15])\n",
    "optimal_projection"
   ]
  },
  {
   "cell_type": "markdown",
   "id": "ea88a901",
   "metadata": {},
   "source": [
    "Similarly, we do the same thing with a larger box around the point $(x,y)$, but in this case, we define a $25%$ interval around the point $(x,y)$ in which we define a bound around (x,y) as $(x - \\frac{x - 0.25*x}{2}, y + \\frac{y + 0.25*y}{2})$. Here, we define a $25%$ interval around the point $(x,y)$ using the respective $x$ and $y$ to define the deltas in both directions."
   ]
  },
  {
   "cell_type": "code",
   "execution_count": 33,
   "id": "d2479790",
   "metadata": {},
   "outputs": [
    {
     "name": "stdout",
     "output_type": "stream",
     "text": [
      "fitting model...\n",
      "model finished.\n",
      "boundary points started generation...\n",
      "boundary points finished.\n",
      "(100, 2)\n",
      "(100, 2)\n",
      "Finding the closest point from the contour line to the point...\n",
      "Finding the closest point from the contour line to the point.\n",
      "[[1. 1.]]\n",
      "[[-1.375 -1.875]]\n"
     ]
    },
    {
     "data": {
      "text/plain": [
       "array([[ 9.625, 13.125]])"
      ]
     },
     "execution_count": 33,
     "metadata": {},
     "output_type": "execute_result"
    },
    {
     "data": {
      "image/png": "[encoded data removed]",
      "text/plain": [
       "<Figure size 640x480 with 1 Axes>"
      ]
     },
     "metadata": {},
     "output_type": "display_data"
    }
   ],
   "source": [
    "visualize_dataset()\n",
    "optimal_projection = optimal_point(df, svm_classifier, threshold=100, undesired_coords=(11,15), desired_class=-1, point_epsilon=0.01, epsilon=0.01, changes=[25,25])\n",
    "optimal_projection"
   ]
  },
  {
   "cell_type": "markdown",
   "id": "908f7e63",
   "metadata": {},
   "source": [
    "# Obesity Counterfactual Explanations \n",
    "\n",
    "The issue of counterfactual explanations is that they require multiple questions to be answered to be feasible & actionable counterfactual explanations. \n",
    "\n",
    "1. How do we minimize the change in the feature values and make the observed instance as similar to the original instance (Wachter 2018)? \n",
    "2. How do we identify features that change the desired outcome y'? (Pearl ...) We do not want to change features that cannot be \"changed\" or would be unethical to ask for such a change. Asking for the person to change gender would be unethical. Similarly asking for a person to change their height especially if they are older than 18 would be infeasible. We would want to condition on those variables which affect the value of the outcome Y which we cannot change. \n",
    "3. Feasible Constraints (Mahajan 2019; Poyiadzi 2019) -- How do we ensure that the change is \"actionable\"? Let's say that the person is under the age of 18 and still growing. Does it make sense to change the person's height by a foot for a counterfactual explanation? Can we say that a person should take 50 doses of a given drug every day? We should make changes or treatments reasonable and ethical. \n",
    "\n",
    "For this problem, we only address $1$ and $3$. For addressing $2$ in this setting, we use domain knowledge to find features that would make sense to change. For settings that do not have access to domain knowledge, methods such as causal discovery would be able to construct structural causal models necessary to identify such features. \n",
    "\n",
    "For this setting, we use a observational dataset of 2000 samples from an obesity dataset. Domain knowledge in this setting is not difficult to obtain. There are four levels of obesity, but in this case, we change the labeling so that obesity levels equate to being obese. In this setting, we deal with a binary classification problem where there are two classes, \"normal\" or \"obese.\" \n",
    "\n",
    "In weight analysis, we can use domain knowledge to our deconstruction of the problem. "
   ]
  },
  {
   "cell_type": "markdown",
   "id": "9d8c0a9c",
   "metadata": {},
   "source": [
    "Let's identify the variables which are changeable (actionable) and identify features that change the outcome?\n",
    "\n",
    "\n",
    "1. Identify features that are actionable (treatment) \n",
    "\n",
    "- Gender --> Cannot change (Not able to influence)\n",
    "- Age --> Can change (cannot decrease age) \n",
    "- height --> Cannot change (Not able to influence)\n",
    "- Weight --> Can change (Able to influence)\n",
    "- family_history_with_overweight --> not changeable \n",
    "- FAVC --> Changeable (Able to influence)\n",
    "- FCVC --> Changeable (Able to influence)\n",
    "- CAEC --> Changeable (Able to influence)\n",
    "- NCP ---> Changeable (Able to influence) \n",
    "- SMOKE --> Changeable (Able to influence) \n",
    "- CH2O --> Changeable (Able to influence) \n",
    "- SCC --> Changeable (Able to influence) \n",
    "- FAF --> Changeable (Able to influence) \n",
    "- TUE --> Changeable (Able to influence) \n",
    "- CALC --> Changeable (Able to influence) \n",
    "- MTRANS --> Changeable (Able to influence) \n",
    "- Obesity -- Target (Not able to influence; dependent variable)\n"
   ]
  },
  {
   "cell_type": "markdown",
   "id": "ccca9153",
   "metadata": {},
   "source": [
    "2. Identify features that affect the outcome \n",
    "\n",
    "We use the five most important features selected by the paper (Yagin et. al. 2023). They apply a neural network optimized using Bayesian optimization techniques. \n",
    "\n",
    "By mutual information classify, these variables are FAVC, SMOKE, FAF, CALC, FCVC (Yagin et. al. pg 8)"
   ]
  },
  {
   "cell_type": "code",
   "execution_count": 196,
   "id": "f049b2a0",
   "metadata": {},
   "outputs": [
    {
     "data": {
      "text/html": [
       "<style>#sk-container-id-9 {color: black;}#sk-container-id-9 pre{padding: 0;}#sk-container-id-9 div.sk-toggleable {background-color: white;}#sk-container-id-9 label.sk-toggleable__label {cursor: pointer;display: block;width: 100%;margin-bottom: 0;padding: 0.3em;box-sizing: border-box;text-align: center;}#sk-container-id-9 label.sk-toggleable__label-arrow:before {content: \"▸\";float: left;margin-right: 0.25em;color: #696969;}#sk-container-id-9 label.sk-toggleable__label-arrow:hover:before {color: black;}#sk-container-id-9 div.sk-estimator:hover label.sk-toggleable__label-arrow:before {color: black;}#sk-container-id-9 div.sk-toggleable__content {max-height: 0;max-width: 0;overflow: hidden;text-align: left;background-color: #f0f8ff;}#sk-container-id-9 div.sk-toggleable__content pre {margin: 0.2em;color: black;border-radius: 0.25em;background-color: #f0f8ff;}#sk-container-id-9 input.sk-toggleable__control:checked~div.sk-toggleable__content {max-height: 200px;max-width: 100%;overflow: auto;}#sk-container-id-9 input.sk-toggleable__control:checked~label.sk-toggleable__label-arrow:before {content: \"▾\";}#sk-container-id-9 div.sk-estimator input.sk-toggleable__control:checked~label.sk-toggleable__label {background-color: #d4ebff;}#sk-container-id-9 div.sk-label input.sk-toggleable__control:checked~label.sk-toggleable__label {background-color: #d4ebff;}#sk-container-id-9 input.sk-hidden--visually {border: 0;clip: rect(1px 1px 1px 1px);clip: rect(1px, 1px, 1px, 1px);height: 1px;margin: -1px;overflow: hidden;padding: 0;position: absolute;width: 1px;}#sk-container-id-9 div.sk-estimator {font-family: monospace;background-color: #f0f8ff;border: 1px dotted black;border-radius: 0.25em;box-sizing: border-box;margin-bottom: 0.5em;}#sk-container-id-9 div.sk-estimator:hover {background-color: #d4ebff;}#sk-container-id-9 div.sk-parallel-item::after {content: \"\";width: 100%;border-bottom: 1px solid gray;flex-grow: 1;}#sk-container-id-9 div.sk-label:hover label.sk-toggleable__label {background-color: #d4ebff;}#sk-container-id-9 div.sk-serial::before {content: \"\";position: absolute;border-left: 1px solid gray;box-sizing: border-box;top: 0;bottom: 0;left: 50%;z-index: 0;}#sk-container-id-9 div.sk-serial {display: flex;flex-direction: column;align-items: center;background-color: white;padding-right: 0.2em;padding-left: 0.2em;position: relative;}#sk-container-id-9 div.sk-item {position: relative;z-index: 1;}#sk-container-id-9 div.sk-parallel {display: flex;align-items: stretch;justify-content: center;background-color: white;position: relative;}#sk-container-id-9 div.sk-item::before, #sk-container-id-9 div.sk-parallel-item::before {content: \"\";position: absolute;border-left: 1px solid gray;box-sizing: border-box;top: 0;bottom: 0;left: 50%;z-index: -1;}#sk-container-id-9 div.sk-parallel-item {display: flex;flex-direction: column;z-index: 1;position: relative;background-color: white;}#sk-container-id-9 div.sk-parallel-item:first-child::after {align-self: flex-end;width: 50%;}#sk-container-id-9 div.sk-parallel-item:last-child::after {align-self: flex-start;width: 50%;}#sk-container-id-9 div.sk-parallel-item:only-child::after {width: 0;}#sk-container-id-9 div.sk-dashed-wrapped {border: 1px dashed gray;margin: 0 0.4em 0.5em 0.4em;box-sizing: border-box;padding-bottom: 0.4em;background-color: white;}#sk-container-id-9 div.sk-label label {font-family: monospace;font-weight: bold;display: inline-block;line-height: 1.2em;}#sk-container-id-9 div.sk-label-container {text-align: center;}#sk-container-id-9 div.sk-container {/* jupyter's `normalize.less` sets `[hidden] { display: none; }` but bootstrap.min.css set `[hidden] { display: none !important; }` so we also need the `!important` here to be able to override the default hidden behavior on the sphinx rendered scikit-learn.org. See: https://github.com/scikit-learn/scikit-learn/issues/21755 */display: inline-block !important;position: relative;}#sk-container-id-9 div.sk-text-repr-fallback {display: none;}</style><div id=\"sk-container-id-9\" class=\"sk-top-container\"><div class=\"sk-text-repr-fallback\"><pre>RandomForestClassifier(random_state=42)</pre><b>In a Jupyter environment, please rerun this cell to show the HTML representation or trust the notebook. <br />On GitHub, the HTML representation is unable to render, please try loading this page with nbviewer.org.</b></div><div class=\"sk-container\" hidden><div class=\"sk-item\"><div class=\"sk-estimator sk-toggleable\"><input class=\"sk-toggleable__control sk-hidden--visually\" id=\"sk-estimator-id-9\" type=\"checkbox\" checked><label for=\"sk-estimator-id-9\" class=\"sk-toggleable__label sk-toggleable__label-arrow\">RandomForestClassifier</label><div class=\"sk-toggleable__content\"><pre>RandomForestClassifier(random_state=42)</pre></div></div></div></div></div>"
      ],
      "text/plain": [
       "RandomForestClassifier(random_state=42)"
      ]
     },
     "execution_count": 196,
     "metadata": {},
     "output_type": "execute_result"
    }
   ],
   "source": [
    "from sklearn.ensemble import RandomForestClassifier\n",
    "from sklearn.preprocessing import LabelEncoder\n",
    "\n",
    "obesity_df = pd.read_csv(\n",
    "'ObesityDataSet_raw_and_data_sinthetic.csv'\n",
    ")\n",
    "for col in ['Gender', 'CAEC', 'CALC', 'MTRANS', 'FAVC', 'SMOKE', 'FCVC', 'SCC', 'family_history_with_overweight', 'TUE']:\n",
    "    obesity_df[col] = LabelEncoder().fit_transform(obesity_df[col])\n",
    "obesity_df['NObeyesdad'] = (obesity_df['NObeyesdad'] != \"Normal_Weight\").astype(int)\n",
    "X = obesity_df.drop('NObeyesdad', axis=1)\n",
    "y = obesity_df['NObeyesdad']\n",
    "unique_vals = pd.unique(y)\n",
    "rf = RandomForestClassifier(random_state=42)\n",
    "rf.fit(X, y)"
   ]
  },
  {
   "cell_type": "code",
   "execution_count": 197,
   "id": "8ff03e43",
   "metadata": {},
   "outputs": [
    {
     "name": "stdout",
     "output_type": "stream",
     "text": [
      "                           Feature  Importance\n",
      "3                           Weight    0.283680\n",
      "2                           Height    0.095884\n",
      "10                            CH2O    0.084538\n",
      "12                             FAF    0.081346\n",
      "0                              Age    0.079115\n",
      "14                            CAEC    0.069462\n",
      "13                             TUE    0.057489\n",
      "6                             FCVC    0.053171\n",
      "7                              NCP    0.049682\n",
      "11  family_history_with_overweight    0.038363\n",
      "15                          MTRANS    0.034813\n",
      "4                             CALC    0.020734\n",
      "1                           Gender    0.019780\n",
      "5                             FAVC    0.017578\n",
      "8                              SCC    0.009905\n",
      "9                            SMOKE    0.004460\n"
     ]
    }
   ],
   "source": [
    "importance = pd.DataFrame({'Feature': X.columns, 'Importance': rf.feature_importances_})\n",
    "print(importance.sort_values('Importance', ascending=False))"
   ]
  },
  {
   "cell_type": "code",
   "execution_count": 243,
   "id": "325af31c",
   "metadata": {},
   "outputs": [],
   "source": [
    "# \"delta\" -- setting a delta around the undesired data point \n",
    "# \"greater\" -- the constraint only accepts values greater than a given feature value \n",
    "# \"less\" -- the constraint only accepts values less than a given feature value\n",
    "# \"equal\" -- the constraint accepts values equal to a given feature value \n",
    "\n",
    "# - Gender --> Cannot change (Not able to influence)\n",
    "# - Age --> Can change (cannot decrease age) \n",
    "# - height --> Cannot change (Not able to influence)\n",
    "# - Weight --> change (Able to influence)\n",
    "# - family_history_with_overweight --> not changeable \n",
    "# - FAVC --> Changeable (Able to influence)\n",
    "# - FCVC --> Changeable (Able to influence)\n",
    "# - CAEC --> Changeable (Able to influence)\n",
    "# - NCP ---> Changeable (Able to influence) \n",
    "# - SMOKE --> Changeable (Able to influence) \n",
    "# - CH2O --> Changeable (Able to influence) \n",
    "# - SCC --> Changeable (Able to influence) \n",
    "# - FAF --> Changeable (Able to influence) \n",
    "# - TUE --> Changeable (Able to influence) \n",
    "# - CALC --> Changeable (Able to influence) \n",
    "# - MTRANS --> Changeable (Able to influence) \n",
    "# - Obesity -- Target (Not able to influence; dependent variable)\n",
    "\n",
    "#constraints = [(\"gender\", \"equal\"), (\"age\", \"greater\"), (\"height\", \"equal\"), (\"family_history_with_overweight\", \"equal\")]\n",
    "#constraints= [(\"gender\", \"equal\"), (\"age\", \"greater\"), (\"height\", \"equal\")] \n",
    "constraints = [(\"gender\", \"equal\"), (\"age\", \"greater\"), (\"height\", \"greater\")]"
   ]
  },
  {
   "cell_type": "code",
   "execution_count": 199,
   "id": "789e1397",
   "metadata": {},
   "outputs": [],
   "source": [
    "obesity_df.columns = [col.lower() for col in obesity_df.columns]"
   ]
  },
  {
   "cell_type": "code",
   "execution_count": 200,
   "id": "75eaf324",
   "metadata": {},
   "outputs": [
    {
     "data": {
      "text/html": [
       "<div>\n",
       "<style scoped>\n",
       "    .dataframe tbody tr th:only-of-type {\n",
       "        vertical-align: middle;\n",
       "    }\n",
       "\n",
       "    .dataframe tbody tr th {\n",
       "        vertical-align: top;\n",
       "    }\n",
       "\n",
       "    .dataframe thead th {\n",
       "        text-align: right;\n",
       "    }\n",
       "</style>\n",
       "<table border=\"1\" class=\"dataframe\">\n",
       "  <thead>\n",
       "    <tr style=\"text-align: right;\">\n",
       "      <th></th>\n",
       "      <th>age</th>\n",
       "      <th>gender</th>\n",
       "      <th>height</th>\n",
       "      <th>weight</th>\n",
       "      <th>calc</th>\n",
       "      <th>favc</th>\n",
       "      <th>fcvc</th>\n",
       "      <th>ncp</th>\n",
       "      <th>scc</th>\n",
       "      <th>smoke</th>\n",
       "      <th>ch2o</th>\n",
       "      <th>family_history_with_overweight</th>\n",
       "      <th>faf</th>\n",
       "      <th>tue</th>\n",
       "      <th>caec</th>\n",
       "      <th>mtrans</th>\n",
       "      <th>nobeyesdad</th>\n",
       "    </tr>\n",
       "  </thead>\n",
       "  <tbody>\n",
       "    <tr>\n",
       "      <th>0</th>\n",
       "      <td>21.0</td>\n",
       "      <td>0</td>\n",
       "      <td>1.62</td>\n",
       "      <td>64.0</td>\n",
       "      <td>3</td>\n",
       "      <td>0</td>\n",
       "      <td>170</td>\n",
       "      <td>3.0</td>\n",
       "      <td>0</td>\n",
       "      <td>0</td>\n",
       "      <td>2.0</td>\n",
       "      <td>1</td>\n",
       "      <td>0.0</td>\n",
       "      <td>840</td>\n",
       "      <td>2</td>\n",
       "      <td>3</td>\n",
       "      <td>0</td>\n",
       "    </tr>\n",
       "    <tr>\n",
       "      <th>1</th>\n",
       "      <td>21.0</td>\n",
       "      <td>0</td>\n",
       "      <td>1.52</td>\n",
       "      <td>56.0</td>\n",
       "      <td>2</td>\n",
       "      <td>0</td>\n",
       "      <td>809</td>\n",
       "      <td>3.0</td>\n",
       "      <td>1</td>\n",
       "      <td>1</td>\n",
       "      <td>3.0</td>\n",
       "      <td>1</td>\n",
       "      <td>3.0</td>\n",
       "      <td>0</td>\n",
       "      <td>2</td>\n",
       "      <td>3</td>\n",
       "      <td>0</td>\n",
       "    </tr>\n",
       "    <tr>\n",
       "      <th>2</th>\n",
       "      <td>23.0</td>\n",
       "      <td>1</td>\n",
       "      <td>1.80</td>\n",
       "      <td>77.0</td>\n",
       "      <td>1</td>\n",
       "      <td>0</td>\n",
       "      <td>170</td>\n",
       "      <td>3.0</td>\n",
       "      <td>0</td>\n",
       "      <td>0</td>\n",
       "      <td>2.0</td>\n",
       "      <td>1</td>\n",
       "      <td>2.0</td>\n",
       "      <td>840</td>\n",
       "      <td>2</td>\n",
       "      <td>3</td>\n",
       "      <td>0</td>\n",
       "    </tr>\n",
       "    <tr>\n",
       "      <th>3</th>\n",
       "      <td>27.0</td>\n",
       "      <td>1</td>\n",
       "      <td>1.80</td>\n",
       "      <td>87.0</td>\n",
       "      <td>1</td>\n",
       "      <td>0</td>\n",
       "      <td>809</td>\n",
       "      <td>3.0</td>\n",
       "      <td>0</td>\n",
       "      <td>0</td>\n",
       "      <td>2.0</td>\n",
       "      <td>0</td>\n",
       "      <td>2.0</td>\n",
       "      <td>0</td>\n",
       "      <td>2</td>\n",
       "      <td>4</td>\n",
       "      <td>1</td>\n",
       "    </tr>\n",
       "    <tr>\n",
       "      <th>4</th>\n",
       "      <td>22.0</td>\n",
       "      <td>1</td>\n",
       "      <td>1.78</td>\n",
       "      <td>89.8</td>\n",
       "      <td>2</td>\n",
       "      <td>0</td>\n",
       "      <td>170</td>\n",
       "      <td>1.0</td>\n",
       "      <td>0</td>\n",
       "      <td>0</td>\n",
       "      <td>2.0</td>\n",
       "      <td>0</td>\n",
       "      <td>0.0</td>\n",
       "      <td>0</td>\n",
       "      <td>2</td>\n",
       "      <td>3</td>\n",
       "      <td>1</td>\n",
       "    </tr>\n",
       "    <tr>\n",
       "      <th>5</th>\n",
       "      <td>29.0</td>\n",
       "      <td>1</td>\n",
       "      <td>1.62</td>\n",
       "      <td>53.0</td>\n",
       "      <td>2</td>\n",
       "      <td>1</td>\n",
       "      <td>170</td>\n",
       "      <td>3.0</td>\n",
       "      <td>0</td>\n",
       "      <td>0</td>\n",
       "      <td>2.0</td>\n",
       "      <td>0</td>\n",
       "      <td>0.0</td>\n",
       "      <td>0</td>\n",
       "      <td>2</td>\n",
       "      <td>0</td>\n",
       "      <td>0</td>\n",
       "    </tr>\n",
       "    <tr>\n",
       "      <th>6</th>\n",
       "      <td>23.0</td>\n",
       "      <td>0</td>\n",
       "      <td>1.50</td>\n",
       "      <td>55.0</td>\n",
       "      <td>2</td>\n",
       "      <td>1</td>\n",
       "      <td>809</td>\n",
       "      <td>3.0</td>\n",
       "      <td>0</td>\n",
       "      <td>0</td>\n",
       "      <td>2.0</td>\n",
       "      <td>1</td>\n",
       "      <td>1.0</td>\n",
       "      <td>0</td>\n",
       "      <td>2</td>\n",
       "      <td>2</td>\n",
       "      <td>0</td>\n",
       "    </tr>\n",
       "    <tr>\n",
       "      <th>7</th>\n",
       "      <td>22.0</td>\n",
       "      <td>1</td>\n",
       "      <td>1.64</td>\n",
       "      <td>53.0</td>\n",
       "      <td>2</td>\n",
       "      <td>0</td>\n",
       "      <td>170</td>\n",
       "      <td>3.0</td>\n",
       "      <td>0</td>\n",
       "      <td>0</td>\n",
       "      <td>2.0</td>\n",
       "      <td>0</td>\n",
       "      <td>3.0</td>\n",
       "      <td>0</td>\n",
       "      <td>2</td>\n",
       "      <td>3</td>\n",
       "      <td>0</td>\n",
       "    </tr>\n",
       "    <tr>\n",
       "      <th>8</th>\n",
       "      <td>24.0</td>\n",
       "      <td>1</td>\n",
       "      <td>1.78</td>\n",
       "      <td>64.0</td>\n",
       "      <td>1</td>\n",
       "      <td>1</td>\n",
       "      <td>809</td>\n",
       "      <td>3.0</td>\n",
       "      <td>0</td>\n",
       "      <td>0</td>\n",
       "      <td>2.0</td>\n",
       "      <td>1</td>\n",
       "      <td>1.0</td>\n",
       "      <td>840</td>\n",
       "      <td>2</td>\n",
       "      <td>3</td>\n",
       "      <td>0</td>\n",
       "    </tr>\n",
       "    <tr>\n",
       "      <th>9</th>\n",
       "      <td>22.0</td>\n",
       "      <td>1</td>\n",
       "      <td>1.72</td>\n",
       "      <td>68.0</td>\n",
       "      <td>3</td>\n",
       "      <td>1</td>\n",
       "      <td>170</td>\n",
       "      <td>3.0</td>\n",
       "      <td>0</td>\n",
       "      <td>0</td>\n",
       "      <td>2.0</td>\n",
       "      <td>1</td>\n",
       "      <td>1.0</td>\n",
       "      <td>840</td>\n",
       "      <td>2</td>\n",
       "      <td>3</td>\n",
       "      <td>0</td>\n",
       "    </tr>\n",
       "    <tr>\n",
       "      <th>10</th>\n",
       "      <td>26.0</td>\n",
       "      <td>1</td>\n",
       "      <td>1.85</td>\n",
       "      <td>105.0</td>\n",
       "      <td>2</td>\n",
       "      <td>1</td>\n",
       "      <td>809</td>\n",
       "      <td>3.0</td>\n",
       "      <td>0</td>\n",
       "      <td>0</td>\n",
       "      <td>3.0</td>\n",
       "      <td>1</td>\n",
       "      <td>2.0</td>\n",
       "      <td>1128</td>\n",
       "      <td>1</td>\n",
       "      <td>3</td>\n",
       "      <td>1</td>\n",
       "    </tr>\n",
       "    <tr>\n",
       "      <th>11</th>\n",
       "      <td>21.0</td>\n",
       "      <td>0</td>\n",
       "      <td>1.72</td>\n",
       "      <td>80.0</td>\n",
       "      <td>2</td>\n",
       "      <td>1</td>\n",
       "      <td>170</td>\n",
       "      <td>3.0</td>\n",
       "      <td>1</td>\n",
       "      <td>0</td>\n",
       "      <td>2.0</td>\n",
       "      <td>1</td>\n",
       "      <td>2.0</td>\n",
       "      <td>840</td>\n",
       "      <td>1</td>\n",
       "      <td>3</td>\n",
       "      <td>1</td>\n",
       "    </tr>\n",
       "    <tr>\n",
       "      <th>12</th>\n",
       "      <td>22.0</td>\n",
       "      <td>1</td>\n",
       "      <td>1.65</td>\n",
       "      <td>56.0</td>\n",
       "      <td>2</td>\n",
       "      <td>0</td>\n",
       "      <td>809</td>\n",
       "      <td>3.0</td>\n",
       "      <td>0</td>\n",
       "      <td>0</td>\n",
       "      <td>3.0</td>\n",
       "      <td>0</td>\n",
       "      <td>2.0</td>\n",
       "      <td>0</td>\n",
       "      <td>2</td>\n",
       "      <td>3</td>\n",
       "      <td>0</td>\n",
       "    </tr>\n",
       "    <tr>\n",
       "      <th>13</th>\n",
       "      <td>41.0</td>\n",
       "      <td>1</td>\n",
       "      <td>1.80</td>\n",
       "      <td>99.0</td>\n",
       "      <td>1</td>\n",
       "      <td>1</td>\n",
       "      <td>170</td>\n",
       "      <td>3.0</td>\n",
       "      <td>0</td>\n",
       "      <td>0</td>\n",
       "      <td>2.0</td>\n",
       "      <td>0</td>\n",
       "      <td>2.0</td>\n",
       "      <td>840</td>\n",
       "      <td>2</td>\n",
       "      <td>0</td>\n",
       "      <td>1</td>\n",
       "    </tr>\n",
       "    <tr>\n",
       "      <th>14</th>\n",
       "      <td>23.0</td>\n",
       "      <td>1</td>\n",
       "      <td>1.77</td>\n",
       "      <td>60.0</td>\n",
       "      <td>2</td>\n",
       "      <td>1</td>\n",
       "      <td>809</td>\n",
       "      <td>1.0</td>\n",
       "      <td>0</td>\n",
       "      <td>0</td>\n",
       "      <td>1.0</td>\n",
       "      <td>1</td>\n",
       "      <td>1.0</td>\n",
       "      <td>840</td>\n",
       "      <td>2</td>\n",
       "      <td>3</td>\n",
       "      <td>0</td>\n",
       "    </tr>\n",
       "    <tr>\n",
       "      <th>15</th>\n",
       "      <td>22.0</td>\n",
       "      <td>0</td>\n",
       "      <td>1.70</td>\n",
       "      <td>66.0</td>\n",
       "      <td>2</td>\n",
       "      <td>0</td>\n",
       "      <td>809</td>\n",
       "      <td>3.0</td>\n",
       "      <td>1</td>\n",
       "      <td>0</td>\n",
       "      <td>2.0</td>\n",
       "      <td>1</td>\n",
       "      <td>2.0</td>\n",
       "      <td>840</td>\n",
       "      <td>0</td>\n",
       "      <td>3</td>\n",
       "      <td>0</td>\n",
       "    </tr>\n",
       "    <tr>\n",
       "      <th>16</th>\n",
       "      <td>27.0</td>\n",
       "      <td>1</td>\n",
       "      <td>1.93</td>\n",
       "      <td>102.0</td>\n",
       "      <td>2</td>\n",
       "      <td>1</td>\n",
       "      <td>170</td>\n",
       "      <td>1.0</td>\n",
       "      <td>0</td>\n",
       "      <td>0</td>\n",
       "      <td>1.0</td>\n",
       "      <td>1</td>\n",
       "      <td>1.0</td>\n",
       "      <td>0</td>\n",
       "      <td>2</td>\n",
       "      <td>3</td>\n",
       "      <td>1</td>\n",
       "    </tr>\n",
       "    <tr>\n",
       "      <th>17</th>\n",
       "      <td>29.0</td>\n",
       "      <td>0</td>\n",
       "      <td>1.53</td>\n",
       "      <td>78.0</td>\n",
       "      <td>3</td>\n",
       "      <td>1</td>\n",
       "      <td>170</td>\n",
       "      <td>1.0</td>\n",
       "      <td>0</td>\n",
       "      <td>0</td>\n",
       "      <td>2.0</td>\n",
       "      <td>0</td>\n",
       "      <td>0.0</td>\n",
       "      <td>0</td>\n",
       "      <td>2</td>\n",
       "      <td>0</td>\n",
       "      <td>1</td>\n",
       "    </tr>\n",
       "    <tr>\n",
       "      <th>18</th>\n",
       "      <td>30.0</td>\n",
       "      <td>0</td>\n",
       "      <td>1.71</td>\n",
       "      <td>82.0</td>\n",
       "      <td>3</td>\n",
       "      <td>1</td>\n",
       "      <td>809</td>\n",
       "      <td>4.0</td>\n",
       "      <td>0</td>\n",
       "      <td>1</td>\n",
       "      <td>1.0</td>\n",
       "      <td>1</td>\n",
       "      <td>0.0</td>\n",
       "      <td>0</td>\n",
       "      <td>1</td>\n",
       "      <td>0</td>\n",
       "      <td>1</td>\n",
       "    </tr>\n",
       "    <tr>\n",
       "      <th>19</th>\n",
       "      <td>23.0</td>\n",
       "      <td>0</td>\n",
       "      <td>1.65</td>\n",
       "      <td>70.0</td>\n",
       "      <td>2</td>\n",
       "      <td>0</td>\n",
       "      <td>170</td>\n",
       "      <td>1.0</td>\n",
       "      <td>0</td>\n",
       "      <td>0</td>\n",
       "      <td>2.0</td>\n",
       "      <td>1</td>\n",
       "      <td>0.0</td>\n",
       "      <td>0</td>\n",
       "      <td>2</td>\n",
       "      <td>3</td>\n",
       "      <td>1</td>\n",
       "    </tr>\n",
       "  </tbody>\n",
       "</table>\n",
       "</div>"
      ],
      "text/plain": [
       "     age  gender  height  weight  calc  favc  fcvc  ncp  scc  smoke  ch2o  \\\n",
       "0   21.0       0    1.62    64.0     3     0   170  3.0    0      0   2.0   \n",
       "1   21.0       0    1.52    56.0     2     0   809  3.0    1      1   3.0   \n",
       "2   23.0       1    1.80    77.0     1     0   170  3.0    0      0   2.0   \n",
       "3   27.0       1    1.80    87.0     1     0   809  3.0    0      0   2.0   \n",
       "4   22.0       1    1.78    89.8     2     0   170  1.0    0      0   2.0   \n",
       "5   29.0       1    1.62    53.0     2     1   170  3.0    0      0   2.0   \n",
       "6   23.0       0    1.50    55.0     2     1   809  3.0    0      0   2.0   \n",
       "7   22.0       1    1.64    53.0     2     0   170  3.0    0      0   2.0   \n",
       "8   24.0       1    1.78    64.0     1     1   809  3.0    0      0   2.0   \n",
       "9   22.0       1    1.72    68.0     3     1   170  3.0    0      0   2.0   \n",
       "10  26.0       1    1.85   105.0     2     1   809  3.0    0      0   3.0   \n",
       "11  21.0       0    1.72    80.0     2     1   170  3.0    1      0   2.0   \n",
       "12  22.0       1    1.65    56.0     2     0   809  3.0    0      0   3.0   \n",
       "13  41.0       1    1.80    99.0     1     1   170  3.0    0      0   2.0   \n",
       "14  23.0       1    1.77    60.0     2     1   809  1.0    0      0   1.0   \n",
       "15  22.0       0    1.70    66.0     2     0   809  3.0    1      0   2.0   \n",
       "16  27.0       1    1.93   102.0     2     1   170  1.0    0      0   1.0   \n",
       "17  29.0       0    1.53    78.0     3     1   170  1.0    0      0   2.0   \n",
       "18  30.0       0    1.71    82.0     3     1   809  4.0    0      1   1.0   \n",
       "19  23.0       0    1.65    70.0     2     0   170  1.0    0      0   2.0   \n",
       "\n",
       "    family_history_with_overweight  faf   tue  caec  mtrans  nobeyesdad  \n",
       "0                                1  0.0   840     2       3           0  \n",
       "1                                1  3.0     0     2       3           0  \n",
       "2                                1  2.0   840     2       3           0  \n",
       "3                                0  2.0     0     2       4           1  \n",
       "4                                0  0.0     0     2       3           1  \n",
       "5                                0  0.0     0     2       0           0  \n",
       "6                                1  1.0     0     2       2           0  \n",
       "7                                0  3.0     0     2       3           0  \n",
       "8                                1  1.0   840     2       3           0  \n",
       "9                                1  1.0   840     2       3           0  \n",
       "10                               1  2.0  1128     1       3           1  \n",
       "11                               1  2.0   840     1       3           1  \n",
       "12                               0  2.0     0     2       3           0  \n",
       "13                               0  2.0   840     2       0           1  \n",
       "14                               1  1.0   840     2       3           0  \n",
       "15                               1  2.0   840     0       3           0  \n",
       "16                               1  1.0     0     2       3           1  \n",
       "17                               0  0.0     0     2       0           1  \n",
       "18                               1  0.0     0     1       0           1  \n",
       "19                               1  0.0     0     2       3           1  "
      ]
     },
     "execution_count": 200,
     "metadata": {},
     "output_type": "execute_result"
    }
   ],
   "source": [
    "obesity_df.head(n=20)"
   ]
  },
  {
   "cell_type": "code",
   "execution_count": 201,
   "id": "309615d8",
   "metadata": {},
   "outputs": [
    {
     "name": "stdout",
     "output_type": "stream",
     "text": [
      "age float64\n",
      "gender int32\n",
      "height float64\n",
      "weight float64\n",
      "calc int32\n",
      "favc int32\n",
      "fcvc int64\n",
      "ncp float64\n",
      "scc int32\n",
      "smoke int32\n",
      "ch2o float64\n",
      "family_history_with_overweight int32\n",
      "faf float64\n",
      "tue int64\n",
      "caec int32\n",
      "mtrans int32\n",
      "nobeyesdad int32\n"
     ]
    }
   ],
   "source": [
    "for col in obesity_df.columns: \n",
    "    print(col, obesity_df[col].dtype)"
   ]
  },
  {
   "cell_type": "code",
   "execution_count": 202,
   "id": "ad767dac",
   "metadata": {},
   "outputs": [
    {
     "data": {
      "text/plain": [
       "age                                27.0\n",
       "gender                              1.0\n",
       "height                              1.8\n",
       "weight                             87.0\n",
       "calc                                1.0\n",
       "favc                                0.0\n",
       "fcvc                              809.0\n",
       "ncp                                 3.0\n",
       "scc                                 0.0\n",
       "smoke                               0.0\n",
       "ch2o                                2.0\n",
       "family_history_with_overweight      0.0\n",
       "faf                                 2.0\n",
       "tue                                 0.0\n",
       "caec                                2.0\n",
       "mtrans                              4.0\n",
       "Name: 3, dtype: float64"
      ]
     },
     "execution_count": 202,
     "metadata": {},
     "output_type": "execute_result"
    }
   ],
   "source": [
    "obesity_df.iloc[3,:obesity_df.shape[1]-1]"
   ]
  },
  {
   "cell_type": "code",
   "execution_count": 242,
   "id": "0b61f2c7",
   "metadata": {},
   "outputs": [
    {
     "data": {
      "text/plain": [
       "[('gender', 'equal'), ('age', 'greater'), ('height', 'equal')]"
      ]
     },
     "execution_count": 242,
     "metadata": {},
     "output_type": "execute_result"
    }
   ],
   "source": [
    "constraints"
   ]
  },
  {
   "cell_type": "code",
   "execution_count": 244,
   "id": "963e7eac",
   "metadata": {},
   "outputs": [
    {
     "name": "stdout",
     "output_type": "stream",
     "text": [
      "fitting model...\n",
      "model finished.\n",
      "boundary points started generation...\n",
      "boundary points finished.\n",
      "(250000, 16)\n",
      "Finding the closest point from the contour line to the point...\n",
      "Finding the closest point from the contour line to the point.\n",
      "[[0.94247703 0.         0.96798137 1.0000644  0.999002   0.999002\n",
      "  1.00000257 0.         0.         0.         1.55145353 0.999002\n",
      "  0.99899391 1.00000011 0.         1.00025106]]\n",
      "[[ 1.63840742e-02  0.00000000e+00  3.02308750e-02 -1.57728229e+01\n",
      "   1.00000000e+00  1.00000000e+00 -6.37000000e+02  0.00000000e+00\n",
      "   0.00000000e+00  0.00000000e+00 -2.81339453e-03  1.00000000e+00\n",
      "   9.91958687e-01  1.12300000e+03  0.00000000e+00 -4.00000000e+00]]\n"
     ]
    },
    {
     "name": "stderr",
     "output_type": "stream",
     "text": [
      "C:\\Users\\Compuworld\\AppData\\Local\\Temp\\ipykernel_49896\\581390928.py:101: FutureWarning: Series.__getitem__ treating keys as positions is deprecated. In a future version, integer keys will always be treated as labels (consistent with DataFrame behavior). To access a value by position, use `ser.iloc[pos]`\n",
      "  select_pts = points.loc[points[constraint[0]] == undesired_coords[points.columns.get_loc(constraint[0])], :]\n",
      "C:\\Users\\Compuworld\\AppData\\Local\\Temp\\ipykernel_49896\\581390928.py:103: FutureWarning: Series.__getitem__ treating keys as positions is deprecated. In a future version, integer keys will always be treated as labels (consistent with DataFrame behavior). To access a value by position, use `ser.iloc[pos]`\n",
      "  select_pts = points.loc[points[constraint[0]] > undesired_coords[points.columns.get_loc(constraint[0])], :]\n"
     ]
    },
    {
     "data": {
      "text/plain": [
       "array([[ 2.70154416e+01,  1.00000000e+00,  1.82926292e+00,\n",
       "         7.12261613e+01,  1.99900200e+00,  9.99001998e-01,\n",
       "         1.71998363e+02,  3.00000000e+00,  0.00000000e+00,\n",
       "         0.00000000e+00,  1.99563515e+00,  9.99001998e-01,\n",
       "         2.99096069e+00,  1.12300012e+03,  2.00000000e+00,\n",
       "        -1.00425106e-03]])"
      ]
     },
     "execution_count": 244,
     "metadata": {},
     "output_type": "execute_result"
    }
   ],
   "source": [
    "optimal_point(obesity_df, svm_classifier, desired_class=0, original_class=1, threshold=250000, undesired_coords=obesity_df.iloc[3,:obesity_df.shape[1]-1], point_epsilon=0.01, epsilon=1e-6, constraints=constraints)"
   ]
  }
 ],
 "metadata": {
  "kernelspec": {
   "display_name": "base",
   "language": "python",
   "name": "python3"
  },
  "language_info": {
   "codemirror_mode": {
    "name": "ipython",
    "version": 3
   },
   "file_extension": ".py",
   "mimetype": "text/x-python",
   "name": "python",
   "nbconvert_exporter": "python",
   "pygments_lexer": "ipython3",
   "version": "3.11.4"
  }
 },
 "nbformat": 4,
 "nbformat_minor": 5
}
