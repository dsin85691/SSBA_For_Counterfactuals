{
 "cells": [
  {
   "cell_type": "code",
   "execution_count": 5,
   "id": "87500ca3",
   "metadata": {},
   "outputs": [
    {
     "name": "stderr",
     "output_type": "stream",
     "text": [
      "c:\\Users\\Compuworld\\anaconda3\\Lib\\site-packages\\pandas\\core\\arrays\\masked.py:60: UserWarning: Pandas requires version '1.3.6' or newer of 'bottleneck' (version '1.3.5' currently installed).\n",
      "  from pandas.core import (\n"
     ]
    }
   ],
   "source": [
    "import pandas as pd\n",
    "from sklearn import svm\n",
    "import matplotlib.pyplot as plt\n",
    "import numpy as np\n",
    "import warnings\n",
    "import random \n",
    "from scipy.interpolate import RBFInterpolator\n",
    "from scipy.spatial import KDTree\n",
    "import numba \n",
    "\n",
    "random.seed(0)\n",
    "warnings.filterwarnings('ignore', category=UserWarning)"
   ]
  },
  {
   "cell_type": "markdown",
   "id": "0cde4d54",
   "metadata": {},
   "source": [
    "# Problem Statement\n",
    "\n",
    "We define the problem in terms of supervised learning. Consider a dataset of $N$ points with $f$ features with two classes, one denoting the point as \"unhealthy\" and the other denoting the point as \"healthy.\" \n",
    "\n",
    "We apply an AI model (model-agnostic) such that the model learns a decision boundary or contour between the two classes. \n",
    "\n",
    "For the problem, we want to find the closest distance from any given unhealthy point to the decision boundary. We mean that among all points in the decision boundary, what point in the boundary will be closest to the point? \n",
    "\n",
    "Additionally, given a set of constraints in $f$ dimensions or fewer, what is the closest point satisfying the constraints to the decision boundary? If constraints are defined for all $f$ dimensions, there would be a box around the original \"unhealthy\" point. What point lies on the box which is closest to the decision boundary?"
   ]
  },
  {
   "cell_type": "markdown",
   "id": "637daa82",
   "metadata": {},
   "source": [
    "# Goals for the Problem Statement \n",
    "\n",
    "1. Find the Decision Boundary for any model defined on a dataset of $N$ points with $f$ within the binary classification case. Finding the Decision Boundary must be model-agnostic and must work for any dataset (invariant to the number of features and data points). \n",
    "2. We must find the closest distance from a given unhealthy data point (from 1.) to the decision boundary. This must work in any Euclidean space of dimension $R^f$ so that it can work with any dataset. \n",
    "3. Given a set of constraints in $f$ dimensions or fewer, what is the closest point satisfying the constraints to the decision boundary? We will show examples in 2D. "
   ]
  },
  {
   "cell_type": "markdown",
   "id": "3cf39e6c",
   "metadata": {},
   "source": [
    "# Importing the Dataset and Creating the Model\n",
    "\n",
    "Below, we import the SVM dataset into the Juypter Notebook. This dataset consists of $20$ points which are one of two classes, either \"healthy\" or \"unhealthy.\" The \"unhealthy\" points are colored red whereas the healthy points are colored blue.\n",
    "\n",
    "We create an svm classifier that we use to apply to the SVM dataset."
   ]
  },
  {
   "cell_type": "code",
   "execution_count": 6,
   "id": "4bbaf609",
   "metadata": {},
   "outputs": [],
   "source": [
    "# Reading in the dataset\n",
    "df=pd.read_csv('SVM_Dataset2.csv')\n",
    "\n",
    "# SVM classifier with polynomial decision boundary\n",
    "svm_classifier = svm.SVC(kernel='poly',C=10, degree=2, probability=True)\n",
    "# svm_classifier = svm.SVC(kernel='rbf', gamma=0.1, C=100)"
   ]
  },
  {
   "cell_type": "markdown",
   "id": "964a754c",
   "metadata": {},
   "source": [
    "# Visualizing the Dataset\n",
    "\n",
    "Below, we show a visualization of the dataset on two features ($x_1$ and $x_2$), and we label each of the data points as one of two classes (\"healthy\" or \"unhealthy\")"
   ]
  },
  {
   "cell_type": "code",
   "execution_count": 9,
   "id": "2a2e72c6",
   "metadata": {},
   "outputs": [
    {
     "data": {
      "image/png": "[encoded data removed]",
      "text/plain": [
       "<Figure size 640x480 with 1 Axes>"
      ]
     },
     "metadata": {},
     "output_type": "display_data"
    }
   ],
   "source": [
    "X1=df['x1']\n",
    "X2=df['x2']\n",
    "X_train=np.array(list(zip(X1,X2)))\n",
    "y_train=df['y'].values\n",
    "# svm_classifier = svm.SVC(kernel='linear', C=10)\n",
    "#svm_classifier = svm.SVC(kernel='poly', C=10)\n",
    "svm_classifier = svm.SVC(kernel='poly',C=10, degree=2)\n",
    "# svm_classifier = svm.SVC(kernel='rbf', gamma=0.1, C=100)\n",
    "svm_classifier.fit(X_train, y_train)\n",
    "color_ls = []\n",
    "for k in y_train:\n",
    "    if k == 1:\n",
    "        color_ls.append('b')\n",
    "    else:\n",
    "        color_ls.append('r')\n",
    "color_ls\n",
    "label = []\n",
    "for k in y_train:\n",
    "    if k == 1:\n",
    "        label.append('H')\n",
    "    else:\n",
    "        label.append('NH')\n",
    "label\n",
    "def plot_decision_boundary(clf, X, y):\n",
    "    x1_min, x1_max = X[:, 0].min() - 1, X[:, 0].max() + 1\n",
    "    x2_min, x2_max = X[:, 1].min() - 1, X[:, 1].max() + 1\n",
    "    xx1, xx2 = np.meshgrid(np.arange(x1_min, x1_max),np.arange(x2_min, x2_max))\n",
    "    Z = clf.decision_function(np.array([xx1.ravel(), xx2.ravel()]).T).reshape(xx1.shape)\n",
    "    m = np.nonzero(Z < -19)\n",
    "    Q = clf.predict(np.array([xx1.ravel(), xx2.ravel()]).T).reshape(xx1.shape)\n",
    "    plt.contourf(xx1, xx2, Z, colors='k', levels=[-1, 0, 1], alpha=0.4,linestyles=['--', '-', '--'])\n",
    "    plt.xlim(xx1.min(), xx1.max())\n",
    "    plt.ylim(xx2.min(), xx2.max())\n",
    "    \n",
    "plot_decision_boundary(svm_classifier, X_train, y_train)\n",
    "\n",
    "for k, (i,j) in enumerate(X_train):\n",
    "    plt.scatter(i, j, c = color_ls[k])\n",
    "    plt.text(i+0.02, j+0.02, label[k])"
   ]
  },
  {
   "cell_type": "markdown",
   "id": "db1af16f",
   "metadata": {},
   "source": [
    "# Closest Point Functions \n",
    "\n",
    "```closest_point()``` - computes the closest distance from a point in $R^f$ from the decision boundary usually defined as an numpy array of points in $R^f$ where $f$ is the number of features \n",
    "\n",
    "```closest_border_point``` - This computes the closest distance from a set of border points from the decision boundary. Border points are defined with constraints around the original unhealthy point. If we generate a box around an unhealthy point, this will determine the closest distance from the box to the decision boundary."
   ]
  },
  {
   "cell_type": "code",
   "execution_count": 3,
   "id": "e8d91002",
   "metadata": {},
   "outputs": [],
   "source": [
    "def closest_point(point, contour):\n",
    "    tree = KDTree(contour)\n",
    "    closest_index = tree.query(point)[1]\n",
    "    if not isinstance(closest_index, np.int64): \n",
    "        closest_index = closest_index[0]\n",
    "    closest_point = contour[closest_index]\n",
    "    return closest_point\n",
    "\n",
    "def closest_border_point(border_points, contour): \n",
    "    # Build a KDTree for fast nearest neighbor search\n",
    "    tree = KDTree(contour) \n",
    "\n",
    "    min_point, total_min = None, float('inf')\n",
    "\n",
    "    for border_point in border_points: \n",
    "        # Find the distance and index of the closest contour point using KDTree\n",
    "        dist, _ = tree.query(border_point)\n",
    "\n",
    "        # Update the minimum point and distance if a closer point is found\n",
    "        if dist < total_min: \n",
    "            total_min = dist \n",
    "            min_point = border_point \n",
    "    \n",
    "    return min_point"
   ]
  },
  {
   "cell_type": "markdown",
   "id": "3966f885",
   "metadata": {},
   "source": [
    "# Displacement Function \n",
    "\n",
    "```move_from_A_to_B_with_x1_displacement()``` - moves from a given point A to another point B with a displacement value delta "
   ]
  },
  {
   "cell_type": "code",
   "execution_count": 4,
   "id": "c5c0a603",
   "metadata": {},
   "outputs": [
    {
     "name": "stdout",
     "output_type": "stream",
     "text": [
      "[0.5 0.5 0.5]\n",
      "[3 3 3]\n",
      "New point P with desired x1 movement: [2.5 3.5 4.5]\n"
     ]
    }
   ],
   "source": [
    "def move_from_A_to_B_with_x1_displacement(A, B, deltas):\n",
    "    \"\"\"\n",
    "    Move from point A to point B in n-dimensional space with a desired movement in the x1 dimension.\n",
    "    \n",
    "    Parameters:\n",
    "    - A: list or np.array, coordinates of the starting point A\n",
    "    - B: list or np.array, coordinates of the target point B\n",
    "    - delta_x1: float, the desired displacement in the x1 dimension\n",
    "    \n",
    "    Returns:\n",
    "    - P: np.array, coordinates of the new point after moving delta_x1 along x1-axis\n",
    "    \"\"\"\n",
    "    A = np.array(A)\n",
    "    B = np.array(B)\n",
    "    \n",
    "    # Calculate direction vector from A to B\n",
    "    D = B - A\n",
    "    \n",
    "    # Calculate the scaling factor t for the desired movement in x1\n",
    "    t = deltas / D  # D[0] is the x1 component of the direction vector\n",
    "    \n",
    "    # Calculate the new point P based on t\n",
    "    P = A + t * D\n",
    "\n",
    "    print(t) \n",
    "    print(D)\n",
    "    \n",
    "    return P\n",
    "\n",
    "# Example usage\n",
    "A = [1, 2, 3]  # Starting point in 3D space\n",
    "B = [4, 5, 6]  # Target point in 3D space\n",
    "delta_x1 = 1.5  # Desired movement in x1 dimension\n",
    "\n",
    "P = move_from_A_to_B_with_x1_displacement(A, B, delta_x1)\n",
    "print(\"New point P with desired x1 movement:\", P)"
   ]
  },
  {
   "cell_type": "markdown",
   "id": "f96cd388",
   "metadata": {},
   "source": [
    "# Finding Decision Boundary Points\n",
    "\n",
    "```compute_decision_boundary_points_all_features()``` -- computes the decision boundary points from a generated meshgrid of points \n",
    "\n",
    "```prediction()``` -- Looks for the midpoint between two classes and appends them to a list consisting of boundary points"
   ]
  },
  {
   "cell_type": "code",
   "execution_count": 5,
   "id": "9a9d7a9e",
   "metadata": {},
   "outputs": [],
   "source": [
    "@numba.njit \n",
    "def prediction(Z, grid, epsilon): \n",
    "    boundary_points = [] \n",
    "    for i in range(len(grid) - 1):\n",
    "            for j in range(i + 1, len(grid)):\n",
    "                if np.linalg.norm(grid[i] - grid[j]) < epsilon and Z[i] != Z[j]:\n",
    "                    boundary_points.append((grid[i] + grid[j]) / 2)  # Midpoint between two classes\n",
    "    return boundary_points\n",
    "\n",
    "def compute_decision_boundary_points_all_features(model, X, resolution=100, epsilon=0.01):\n",
    "    \"\"\"\n",
    "    Compute decision boundary points in the high-dimensional feature space.\n",
    "    Args:\n",
    "        model: Trained classifier.\n",
    "        X: Input data (n_samples, n_features).\n",
    "        resolution: Number of points to sample along each feature axis.\n",
    "        epsilon: Small step size to detect class changes.\n",
    "    Returns:\n",
    "        boundary_points: Array of points near the decision boundary.\n",
    "    \"\"\"\n",
    "    n_features = X.shape[1]\n",
    "    grid = np.zeros((resolution ** n_features, n_features))\n",
    "    for i in range(n_features):\n",
    "        grid[:, i] = np.tile(np.linspace(X[:, i].min() - 1, X[:, i].max() + 1, resolution).repeat(resolution ** (n_features - i - 1)), resolution ** i)\n",
    "    # Predict the class for each point in the grid\n",
    "    Z = model.predict(grid)\n",
    "    # Find points near the decision boundary\n",
    "    boundary_points = prediction(Z, grid, epsilon)\n",
    " \n",
    "    return np.array(boundary_points)"
   ]
  },
  {
   "cell_type": "markdown",
   "id": "1693eae5",
   "metadata": {},
   "source": [
    "# Interpolation, Generating boundaries for a n-dimensional cube \n",
    "\n",
    "- RBF Interpolation used for interpolating scattered data points\n",
    "\n",
    "```multi_dim_interpolator()``` -- returns an interpolator based on RBF interpolation \n",
    "\n",
    "```get_multi_dim_border_points()``` -- generates points on the boundaries of an n-dimensional hyperrectangle / cube "
   ]
  },
  {
   "cell_type": "code",
   "execution_count": 6,
   "id": "e64c84b6",
   "metadata": {},
   "outputs": [],
   "source": [
    "def multi_dim_interpolator(boundary_points, N=10000): \n",
    "    n_features = boundary_points.shape[1]\n",
    "    X_vals, y_vals = boundary_points[:N,0:n_features-1], np.reshape(boundary_points[:N,-1], (-1,1)) \n",
    "    interpolator = RBFInterpolator(X_vals, y_vals, kernel='cubic', smoothing=1e-2)\n",
    "    return interpolator \n",
    "\n",
    "def generate_add_boundary_pts(X, N=25): \n",
    "    n_features = X.shape[1]\n",
    "    ranges = [np.linspace(X.iloc[:, j].min()-1, X.iloc[:, j].max()+1, N) for j in range(n_features-1)]\n",
    "    grid_points = np.vstack([r.ravel() for r in ranges]).T\n",
    "    return grid_points \n",
    "\n",
    "def get_multi_dim_border_points(center, extents, step=0.1):\n",
    "    \"\"\"\n",
    "    Generate points on the boundaries of an n-dimensional hyperrectangle.\n",
    "    \n",
    "    Parameters:\n",
    "    - center: List or array of length n, the center of the hyperrectangle.\n",
    "    - extents: List or array of length n, the half-widths in each dimension.\n",
    "    - step: Float, step size for sampling points along each dimension.\n",
    "    \n",
    "    Returns:\n",
    "    - List of tuples, each tuple representing a point on the boundary.\n",
    "    \"\"\"\n",
    "    center = np.array(center)\n",
    "    extents = np.array(extents)\n",
    "    n = len(center)  # Number of dimensions\n",
    "    points = set()   # Use set to avoid duplicates\n",
    "    \n",
    "    # Define min and max bounds for each dimension\n",
    "    bounds = [(c - e, c + e) for c, e in zip(center, extents)]\n",
    "    \n",
    "    # For each dimension, generate points on the lower and upper boundaries\n",
    "    for dim in range(n):\n",
    "        # For lower and upper boundary in this dimension\n",
    "        for bound_val in [bounds[dim][0], bounds[dim][1]]:\n",
    "            # Generate grid points for all other dimensions\n",
    "            other_dims = [i for i in range(n) if i != dim]\n",
    "            ranges = [np.arange(bounds[i][0], bounds[i][1] + step, step) for i in other_dims]\n",
    "            if not ranges:  # Handle 1D case\n",
    "                points.add(tuple([bound_val] if dim == 0 else []))\n",
    "                continue\n",
    "            # Create meshgrid for other dimensions\n",
    "            grids = np.meshgrid(*ranges, indexing='ij')\n",
    "            coords = [grid.ravel() for grid in grids]\n",
    "            \n",
    "            # Construct points\n",
    "            for coord in zip(*coords):\n",
    "                point = [0] * n\n",
    "                # Set the current dimension to the boundary value\n",
    "                point[dim] = bound_val\n",
    "                # Set other dimensions to the grid values\n",
    "                for i, val in zip(other_dims, coord):\n",
    "                    point[i] = val\n",
    "                points.add(tuple(point))\n",
    "    \n",
    "    return list(points)\n",
    "\n",
    "def det_constraints(datapt, changes): \n",
    "    constraints = [-1] * len(changes) \n",
    "    len_constr = 0 \n",
    "    for i in range(len(changes)): \n",
    "        if type(changes[i]) == float or type(changes[i]) == int:\n",
    "            constraints[i] = (changes[i]/100)*datapt[i]\n",
    "            len_constr+=1\n",
    "    return constraints, len_constr\n",
    "\n",
    "def constraint_bounds(contours, datapt, constraints): \n",
    "    if len(constraints) == 0: \n",
    "        raise Exception(\"No constraints were assigned.\")\n",
    "    bounded_contour = contours.copy() \n",
    "    for i in range(len(constraints)): \n",
    "        if constraints[i] > 0:\n",
    "            x = datapt[0][i]\n",
    "            # This should just be the delta\n",
    "            delta_x = constraints[i]\n",
    "            # Generate a lower and upper bounds on each constraint\n",
    "            lowb_x, highb_x = x - (delta_x / 2), x + (delta_x / 2)\n",
    "            contour_arr = bounded_contour[:, i]\n",
    "            # Choose the correct indices for the multi-dimensional df\n",
    "            indices = np.where((contour_arr >= lowb_x) & (contour_arr <= highb_x))\n",
    "            bounded_contour_pts = bounded_contour[indices]\n",
    "            bounded_contour = bounded_contour_pts\n",
    "            if i == 0:\n",
    "                plt.axvline(x=highb_x, color='b', linestyle='-', label='High Bound x')\n",
    "                plt.axvline(x=lowb_x, color='b', linestyle='-', label='Low bound x')\n",
    "            else: \n",
    "                plt.axhline(y=highb_x, color='b', linestyle='-', label='High Bound y')\n",
    "                plt.axhline(y=lowb_x, color='b', linestyle='-', label='Low bound y')\n",
    "    return bounded_contour"
   ]
  },
  {
   "cell_type": "markdown",
   "id": "477ef92d",
   "metadata": {},
   "source": [
    "# Generating the optimal point\n",
    "\n",
    "```optimal_point()``` -- generates the boundary point closest to a given \"undesired\" coordinates (unhealthy point); if given a constraint, it will find the closest point from the box to the contour and/or look for the closest point to the contour depending on selected constraints\n",
    "\n",
    "1. Fits on the dataset \n",
    "2. Computes the decision boundary points from the given fitted model and the provided dataset\n",
    "3. Finds the closest boundary point from the undesired data point (unhealthy data point)"
   ]
  },
  {
   "cell_type": "code",
   "execution_count": 7,
   "id": "388875f6",
   "metadata": {},
   "outputs": [],
   "source": [
    "# Algorithm that determines the point that is closest to the decision boundary from a specified data point (undesired_coords) \n",
    "def optimal_point(dataset, model, desired_class, undesired_coords, resolution=100, point_epsilon=0.1, epsilon=0.01, changes=[]): \n",
    "    \n",
    "    X_train, y_train = dataset.iloc[:, 0:dataset.shape[1]-1], dataset.iloc[:, -1]\n",
    "    n_features = X_train.shape[1]\n",
    "\n",
    "    print(\"fitting model...\")\n",
    "    model.fit(X_train, y_train)\n",
    "    print(\"model finished.\")\n",
    "\n",
    "    # Generate points on multi-dimensional contour\n",
    "    print(\"boundary points started generation...\")\n",
    "    boundary_points = compute_decision_boundary_points_all_features(model, X_train.to_numpy(), resolution=resolution, epsilon=point_epsilon)\n",
    "    print(\"boundary points finished.\")\n",
    "    print(boundary_points.shape)\n",
    "    contours = np.unique(boundary_points, axis=0)\n",
    "\n",
    "    probs = model.predict_proba(contours)\n",
    "    average_diff = np.mean(probs[:, 0] - probs[:, 1])\n",
    "    print(\"Average difference:\", average_diff)\n",
    "    print(contours.shape)\n",
    "    # print(\"Generating the final contour for multi-dimensional interpolation finished.\")\n",
    "    # contours = boundary_points\n",
    "    undesired_datapt = np.reshape(np.array(list(undesired_coords)), (1, -1))\n",
    "    # Find the closest point from the undesired point to the contour line\n",
    "    print(\"Finding the closest point from the contour line to the point...\")\n",
    "    optimal_datapt = closest_point(undesired_datapt, contour=contours)\n",
    "    print(\"Finding the closest point from the contour line to the point.\")\n",
    "    plt.plot(contours[:,0], contours[:,1], lw=0.5, color='black')\n",
    "\n",
    "    if desired_class == 1: \n",
    "        D = optimal_datapt - undesired_datapt\n",
    "        deltas = D * (1+epsilon)\n",
    "        optimal_datapt = move_from_A_to_B_with_x1_displacement(undesired_datapt, optimal_datapt, deltas=deltas)\n",
    "    elif desired_class == -1: \n",
    "        closest_boundedpt = None\n",
    "        constraints, len_constr = det_constraints(datapt=undesired_datapt[0], changes=changes)\n",
    "        bounded_contour_pts = None\n",
    "        #print(undesired_datapt.shape)\n",
    "        if len_constr > n_features: \n",
    "            raise Exception(\"There cannot be more constraints than features\")\n",
    "        elif len_constr == n_features:\n",
    "            bounded_contour_pts = get_multi_dim_border_points(center=undesired_datapt[0], extents=constraints, step=0.05)\n",
    "            np_bounded_contour = np.array(bounded_contour_pts)\n",
    "            x_values, y_values = np_bounded_contour[:,0], np_bounded_contour[:, 1]\n",
    "            plt.scatter(x_values, y_values, marker='o')\n",
    "            closest_boundedpt = closest_border_point(bounded_contour_pts, contour=contours)\n",
    "        else: \n",
    "            # Generate bounded contour points\n",
    "            bounded_contour_pts = constraint_bounds(contours, undesired_datapt, constraints)\n",
    "            closest_boundedpt = closest_point(point=undesired_datapt, contour=bounded_contour_pts)\n",
    "\n",
    "        D = closest_boundedpt - undesired_datapt\n",
    "        optimal_datapt = move_from_A_to_B_with_x1_displacement(undesired_datapt, closest_boundedpt, deltas=D)\n",
    "    plt.scatter(undesired_datapt[0][0], undesired_datapt[0][1], c = 'r')\n",
    "    plt.text(undesired_datapt[0][0]+0.002, undesired_datapt[0][1]+0.002, 'NH')\n",
    "    plt.scatter(optimal_datapt[0][0], optimal_datapt[0][1], c = 'r')\n",
    "    plt.text(optimal_datapt[0][0]+0.002, optimal_datapt[0][1]+0.002, 'NH')\n",
    "    plt.plot([undesired_datapt[0][0], optimal_datapt[0][0]], [undesired_datapt[0][1],optimal_datapt[0][1]], linestyle='--')\n",
    "    return optimal_datapt"
   ]
  },
  {
   "cell_type": "markdown",
   "id": "7ce185e2",
   "metadata": {},
   "source": [
    "# An example of applying the optimal point function \n",
    "\n",
    "We apply the optimal point function with the given dataset using a fitted SVM classifier. We return the closest point on the decision boundary from the given unhealthy point."
   ]
  },
  {
   "cell_type": "code",
   "execution_count": null,
   "id": "045b4741",
   "metadata": {},
   "outputs": [
    {
     "name": "stdout",
     "output_type": "stream",
     "text": [
      "fitting model...\n",
      "model finished.\n",
      "boundary points started generation...\n",
      "boundary points finished.\n",
      "(3900, 2)\n",
      "Average difference: -0.28020312698784194\n",
      "(2705, 2)\n",
      "Finding the closest point from the contour line to the point...\n",
      "Finding the closest point from the contour line to the point.\n",
      "[[1.07 1.07]]\n",
      "[[-0.53868195 -4.47277937]]\n"
     ]
    },
    {
     "data": {
      "text/plain": [
       "array([[10.42361032, 10.21412607]])"
      ]
     },
     "execution_count": 23,
     "metadata": {},
     "output_type": "execute_result"
    },
    {
     "data": {
      "image/png": "[encoded data removed]",
      "text/plain": [
       "<Figure size 640x480 with 1 Axes>"
      ]
     },
     "metadata": {},
     "output_type": "display_data"
    }
   ],
   "source": [
    "optimal_projection = optimal_point(df, svm_classifier, desired_class=1, resolution=350, undesired_coords=(11,15), point_epsilon=0.1, epsilon=0.07)\n",
    "optimal_projection"
   ]
  },
  {
   "cell_type": "markdown",
   "id": "cc4eed63",
   "metadata": {},
   "source": [
    "# Setting Constraints on Each Dimension \n",
    "\n",
    "Below, we define the dataset on an SVM classifier where we specify constraints on each dimension."
   ]
  },
  {
   "cell_type": "code",
   "execution_count": 9,
   "id": "a9176ed0",
   "metadata": {},
   "outputs": [
    {
     "name": "stdout",
     "output_type": "stream",
     "text": [
      "fitting model...\n",
      "model finished.\n",
      "boundary points started generation...\n",
      "boundary points finished.\n",
      "(1666, 2)\n",
      "Average difference: -0.26206655271404783\n",
      "(1401, 2)\n",
      "Finding the closest point from the contour line to the point...\n",
      "Finding the closest point from the contour line to the point.\n",
      "[[1. 1.]]\n",
      "[[-1.65 -2.25]]\n"
     ]
    },
    {
     "data": {
      "text/plain": [
       "array([[ 9.35, 12.75]])"
      ]
     },
     "execution_count": 9,
     "metadata": {},
     "output_type": "execute_result"
    },
    {
     "data": {
      "image/png": "[encoded data removed]",
      "text/plain": [
       "<Figure size 640x480 with 1 Axes>"
      ]
     },
     "metadata": {},
     "output_type": "display_data"
    }
   ],
   "source": [
    "optimal_projection = optimal_point(df, svm_classifier, resolution=300, undesired_coords=(11,15), desired_class=-1, point_epsilon=0.1, epsilon=0.01, changes=[15,15])\n",
    "optimal_projection"
   ]
  },
  {
   "cell_type": "markdown",
   "id": "5afef508",
   "metadata": {},
   "source": [
    "# Defining in $N$ or fewer dimensions \n",
    "\n",
    "Below, we define constraints for a single dimension while letting the other constraint run free."
   ]
  },
  {
   "cell_type": "code",
   "execution_count": 10,
   "id": "4b6e5680",
   "metadata": {},
   "outputs": [
    {
     "name": "stdout",
     "output_type": "stream",
     "text": [
      "fitting model...\n",
      "model finished.\n",
      "boundary points started generation...\n",
      "boundary points finished.\n",
      "(1666, 2)\n",
      "Average difference: -0.2835905712976492\n",
      "(1401, 2)\n",
      "Finding the closest point from the contour line to the point...\n",
      "Finding the closest point from the contour line to the point.\n",
      "[[1. 1.]]\n",
      "[[-5.7993311  -1.10702341]]\n"
     ]
    },
    {
     "data": {
      "text/plain": [
       "array([[ 5.2006689 , 13.89297659]])"
      ]
     },
     "execution_count": 10,
     "metadata": {},
     "output_type": "execute_result"
    },
    {
     "data": {
      "image/png": "[encoded data removed]",
      "text/plain": [
       "<Figure size 640x480 with 1 Axes>"
      ]
     },
     "metadata": {},
     "output_type": "display_data"
    }
   ],
   "source": [
    "optimal_projection = optimal_point(df, svm_classifier, resolution=300, undesired_coords=(11,15), desired_class=-1, point_epsilon=0.1, epsilon=0.01, changes=[None, 15])\n",
    "optimal_projection"
   ]
  },
  {
   "cell_type": "markdown",
   "id": "3951f4e4",
   "metadata": {},
   "source": [
    "# Next Steps \n",
    "\n",
    "Biggest Challenge: \n",
    "\n",
    "Finding a simpler algorithm with a lower time complexity. Currently the time complexity is $O(R^{2f})$ where $R$ is the size of each dimension and $f$ is the number of features or the size of the coordinate space. Due to high time complexity, the algorithm fails for high number of features such as $f = 50$. \n",
    "\n",
    "1. Euclidean approach (Applying geometric algorithm that would find the decision boundary)\n",
    "2. Differential approach (Applying gradient / Hessian-based approaches)\n",
    "3. Reinforcement Learning (RL) "
   ]
  }
 ],
 "metadata": {
  "kernelspec": {
   "display_name": "base",
   "language": "python",
   "name": "python3"
  },
  "language_info": {
   "codemirror_mode": {
    "name": "ipython",
    "version": 3
   },
   "file_extension": ".py",
   "mimetype": "text/x-python",
   "name": "python",
   "nbconvert_exporter": "python",
   "pygments_lexer": "ipython3",
   "version": "3.11.4"
  }
 },
 "nbformat": 4,
 "nbformat_minor": 5
}
