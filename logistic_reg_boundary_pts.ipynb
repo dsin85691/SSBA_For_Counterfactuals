{
 "cells": [
  {
   "cell_type": "code",
   "execution_count": 1,
   "metadata": {},
   "outputs": [],
   "source": [
    "from sklearn.datasets import make_classification\n",
    "from sklearn.linear_model import LogisticRegression"
   ]
  },
  {
   "cell_type": "code",
   "execution_count": 18,
   "metadata": {},
   "outputs": [
    {
     "data": {
      "text/html": [
       "<style>#sk-container-id-1 {color: black;}#sk-container-id-1 pre{padding: 0;}#sk-container-id-1 div.sk-toggleable {background-color: white;}#sk-container-id-1 label.sk-toggleable__label {cursor: pointer;display: block;width: 100%;margin-bottom: 0;padding: 0.3em;box-sizing: border-box;text-align: center;}#sk-container-id-1 label.sk-toggleable__label-arrow:before {content: \"▸\";float: left;margin-right: 0.25em;color: #696969;}#sk-container-id-1 label.sk-toggleable__label-arrow:hover:before {color: black;}#sk-container-id-1 div.sk-estimator:hover label.sk-toggleable__label-arrow:before {color: black;}#sk-container-id-1 div.sk-toggleable__content {max-height: 0;max-width: 0;overflow: hidden;text-align: left;background-color: #f0f8ff;}#sk-container-id-1 div.sk-toggleable__content pre {margin: 0.2em;color: black;border-radius: 0.25em;background-color: #f0f8ff;}#sk-container-id-1 input.sk-toggleable__control:checked~div.sk-toggleable__content {max-height: 200px;max-width: 100%;overflow: auto;}#sk-container-id-1 input.sk-toggleable__control:checked~label.sk-toggleable__label-arrow:before {content: \"▾\";}#sk-container-id-1 div.sk-estimator input.sk-toggleable__control:checked~label.sk-toggleable__label {background-color: #d4ebff;}#sk-container-id-1 div.sk-label input.sk-toggleable__control:checked~label.sk-toggleable__label {background-color: #d4ebff;}#sk-container-id-1 input.sk-hidden--visually {border: 0;clip: rect(1px 1px 1px 1px);clip: rect(1px, 1px, 1px, 1px);height: 1px;margin: -1px;overflow: hidden;padding: 0;position: absolute;width: 1px;}#sk-container-id-1 div.sk-estimator {font-family: monospace;background-color: #f0f8ff;border: 1px dotted black;border-radius: 0.25em;box-sizing: border-box;margin-bottom: 0.5em;}#sk-container-id-1 div.sk-estimator:hover {background-color: #d4ebff;}#sk-container-id-1 div.sk-parallel-item::after {content: \"\";width: 100%;border-bottom: 1px solid gray;flex-grow: 1;}#sk-container-id-1 div.sk-label:hover label.sk-toggleable__label {background-color: #d4ebff;}#sk-container-id-1 div.sk-serial::before {content: \"\";position: absolute;border-left: 1px solid gray;box-sizing: border-box;top: 0;bottom: 0;left: 50%;z-index: 0;}#sk-container-id-1 div.sk-serial {display: flex;flex-direction: column;align-items: center;background-color: white;padding-right: 0.2em;padding-left: 0.2em;position: relative;}#sk-container-id-1 div.sk-item {position: relative;z-index: 1;}#sk-container-id-1 div.sk-parallel {display: flex;align-items: stretch;justify-content: center;background-color: white;position: relative;}#sk-container-id-1 div.sk-item::before, #sk-container-id-1 div.sk-parallel-item::before {content: \"\";position: absolute;border-left: 1px solid gray;box-sizing: border-box;top: 0;bottom: 0;left: 50%;z-index: -1;}#sk-container-id-1 div.sk-parallel-item {display: flex;flex-direction: column;z-index: 1;position: relative;background-color: white;}#sk-container-id-1 div.sk-parallel-item:first-child::after {align-self: flex-end;width: 50%;}#sk-container-id-1 div.sk-parallel-item:last-child::after {align-self: flex-start;width: 50%;}#sk-container-id-1 div.sk-parallel-item:only-child::after {width: 0;}#sk-container-id-1 div.sk-dashed-wrapped {border: 1px dashed gray;margin: 0 0.4em 0.5em 0.4em;box-sizing: border-box;padding-bottom: 0.4em;background-color: white;}#sk-container-id-1 div.sk-label label {font-family: monospace;font-weight: bold;display: inline-block;line-height: 1.2em;}#sk-container-id-1 div.sk-label-container {text-align: center;}#sk-container-id-1 div.sk-container {/* jupyter's `normalize.less` sets `[hidden] { display: none; }` but bootstrap.min.css set `[hidden] { display: none !important; }` so we also need the `!important` here to be able to override the default hidden behavior on the sphinx rendered scikit-learn.org. See: https://github.com/scikit-learn/scikit-learn/issues/21755 */display: inline-block !important;position: relative;}#sk-container-id-1 div.sk-text-repr-fallback {display: none;}</style><div id=\"sk-container-id-1\" class=\"sk-top-container\"><div class=\"sk-text-repr-fallback\"><pre>LogisticRegression()</pre><b>In a Jupyter environment, please rerun this cell to show the HTML representation or trust the notebook. <br />On GitHub, the HTML representation is unable to render, please try loading this page with nbviewer.org.</b></div><div class=\"sk-container\" hidden><div class=\"sk-item\"><div class=\"sk-estimator sk-toggleable\"><input class=\"sk-toggleable__control sk-hidden--visually\" id=\"sk-estimator-id-1\" type=\"checkbox\" checked><label for=\"sk-estimator-id-1\" class=\"sk-toggleable__label sk-toggleable__label-arrow\">LogisticRegression</label><div class=\"sk-toggleable__content\"><pre>LogisticRegression()</pre></div></div></div></div></div>"
      ],
      "text/plain": [
       "LogisticRegression()"
      ]
     },
     "execution_count": 18,
     "metadata": {},
     "output_type": "execute_result"
    }
   ],
   "source": [
    "import numpy as np \n",
    "X, y = make_classification(n_samples=1000, n_features=4, n_informative=4, n_redundant=0, random_state=42)\n",
    " \n",
    "# Train a Logistic Regression model (or any other classifier)\n",
    "model = LogisticRegression()\n",
    "model.fit(X, y)"
   ]
  },
  {
   "cell_type": "code",
   "execution_count": null,
   "metadata": {},
   "outputs": [],
   "source": [
    "def compute_decision_boundary_points_cpu(model, X, resolution=100, epsilon=0.01):\n",
    "    \"\"\"\n",
    "    Compute decision boundary points in the high-dimensional feature space.\n",
    "    Args:\n",
    "        model: Trained classifier.\n",
    "        X: Input data (n_samples, n_features).\n",
    "        resolution: Number of points to sample along each feature axis.\n",
    "        epsilon: Small step size to detect class changes.\n",
    "    Returns:\n",
    "        boundary_points: Array of points near the decision boundary.\n",
    "    \"\"\"\n",
    "    n_features = X.shape[1]\n",
    "    boundary_points = []\n",
    " \n",
    "    # Create a grid for all features\n",
    "    grid = np.zeros((resolution ** n_features, n_features))\n",
    "    for i, feature in enumerate(range(n_features)):\n",
    "        np_array = np.linspace(X[:, feature].min() - 1, X[:, feature].max() + 1, resolution ** (n_features)).reshape(-1)\n",
    "        grid[:, i] = np_array \n",
    "\n",
    "    # Predict the class for each point in the grid\n",
    "    Z = model.predict(grid)\n",
    " \n",
    "    # Find points near the decision boundary\n",
    "    for i in range(len(grid) - 1):\n",
    "        for j in range(i + 1, len(grid)):\n",
    "            if np.linalg.norm(grid[i] - grid[j]) < epsilon and Z[i] != Z[j]:\n",
    "                boundary_points.append((grid[i] + grid[j]) / 2)  # Midpoint between two classes\n",
    " \n",
    "    return np.array(boundary_points)"
   ]
  },
  {
   "cell_type": "code",
   "execution_count": 3,
   "metadata": {},
   "outputs": [
    {
     "name": "stdout",
     "output_type": "stream",
     "text": [
      "Decision Boundary Points (All Features):\n",
      "[[-0.59537255 -0.34083565 -0.32703044  0.25246708]\n",
      " [-0.59512088 -0.34058681 -0.3267609   0.25275028]\n",
      " [-0.59486922 -0.34033797 -0.32649137  0.25303347]\n",
      " ...\n",
      " [-0.54906595 -0.29504871 -0.27743642  0.30457496]\n",
      " [-0.54881428 -0.29479987 -0.27716689  0.30485815]\n",
      " [-0.54856262 -0.29455102 -0.27689736  0.30514134]]\n",
      "(4465, 4)\n"
     ]
    }
   ],
   "source": [
    "# Compute decision boundary points considering all features\n",
    "boundary_points = compute_decision_boundary_points_cpu(model, X, resolution=12, epsilon=0.1)\n",
    " \n",
    "# Print the decision boundary points\n",
    "print(\"Decision Boundary Points (All Features):\")\n",
    "print(boundary_points)\n",
    "print(boundary_points.shape)"
   ]
  },
  {
   "cell_type": "code",
   "execution_count": 4,
   "metadata": {},
   "outputs": [
    {
     "name": "stdout",
     "output_type": "stream",
     "text": [
      "Decision Boundary Points (Probability Across Both classes):\n"
     ]
    },
    {
     "data": {
      "text/plain": [
       "array([[0.50653839, 0.49346161],\n",
       "       [0.50646862, 0.49353138],\n",
       "       [0.50639885, 0.49360115],\n",
       "       ...,\n",
       "       [0.49369896, 0.50630104],\n",
       "       [0.49362919, 0.50637081],\n",
       "       [0.49355942, 0.50644058]])"
      ]
     },
     "execution_count": 4,
     "metadata": {},
     "output_type": "execute_result"
    }
   ],
   "source": [
    "print(\"Decision Boundary Points (Probability Across Both classes):\")\n",
    "model.predict_proba(boundary_points) "
   ]
  },
  {
   "cell_type": "code",
   "execution_count": 29,
   "metadata": {},
   "outputs": [
    {
     "name": "stdout",
     "output_type": "stream",
     "text": [
      "4\n"
     ]
    },
    {
     "ename": "ValueError",
     "evalue": "Unknown interpolation method 'cubic' for 3 dimensional data",
     "output_type": "error",
     "traceback": [
      "\u001b[1;31m---------------------------------------------------------------------------\u001b[0m",
      "\u001b[1;31mValueError\u001b[0m                                Traceback (most recent call last)",
      "Cell \u001b[1;32mIn[29], line 10\u001b[0m\n\u001b[0;32m      7\u001b[0m new_points \u001b[38;5;241m=\u001b[39m np\u001b[38;5;241m.\u001b[39mrandom\u001b[38;5;241m.\u001b[39mrand(\u001b[38;5;241m1000\u001b[39m, n_features\u001b[38;5;241m-\u001b[39m\u001b[38;5;241m1\u001b[39m)\n\u001b[0;32m      8\u001b[0m X_vals, y_vals \u001b[38;5;241m=\u001b[39m boundary_points[:,\u001b[38;5;241m0\u001b[39m:n_features\u001b[38;5;241m-\u001b[39m\u001b[38;5;241m1\u001b[39m], boundary_points[:,\u001b[38;5;241m-\u001b[39m\u001b[38;5;241m1\u001b[39m] \n\u001b[1;32m---> 10\u001b[0m interpolated_values \u001b[38;5;241m=\u001b[39m griddata(X_vals, y_vals, new_points, method\u001b[38;5;241m=\u001b[39m\u001b[38;5;124m'\u001b[39m\u001b[38;5;124mcubic\u001b[39m\u001b[38;5;124m'\u001b[39m)\n",
      "File \u001b[1;32mc:\\Users\\Compuworld\\anaconda3\\Lib\\site-packages\\scipy\\interpolate\\_ndgriddata.py:281\u001b[0m, in \u001b[0;36mgriddata\u001b[1;34m(points, values, xi, method, fill_value, rescale)\u001b[0m\n\u001b[0;32m    279\u001b[0m     \u001b[38;5;28;01mreturn\u001b[39;00m ip(xi)\n\u001b[0;32m    280\u001b[0m \u001b[38;5;28;01melse\u001b[39;00m:\n\u001b[1;32m--> 281\u001b[0m     \u001b[38;5;28;01mraise\u001b[39;00m \u001b[38;5;167;01mValueError\u001b[39;00m(\u001b[38;5;124m\"\u001b[39m\u001b[38;5;124mUnknown interpolation method \u001b[39m\u001b[38;5;132;01m%r\u001b[39;00m\u001b[38;5;124m for \u001b[39m\u001b[38;5;124m\"\u001b[39m\n\u001b[0;32m    282\u001b[0m                      \u001b[38;5;124m\"\u001b[39m\u001b[38;5;132;01m%d\u001b[39;00m\u001b[38;5;124m dimensional data\u001b[39m\u001b[38;5;124m\"\u001b[39m \u001b[38;5;241m%\u001b[39m (method, ndim))\n",
      "\u001b[1;31mValueError\u001b[0m: Unknown interpolation method 'cubic' for 3 dimensional data"
     ]
    }
   ],
   "source": [
    "from scipy.interpolate import griddata\n",
    "\n",
    "n_features = X.shape[1]\n",
    "print(n_features)\n",
    "ranges = [np.linspace(X[:, j].min() - 1, X[:, j].max() + 1, 100) for j in range(n_features)]\n",
    "grids = np.meshgrid(*ranges)\n",
    "new_points = np.random.rand(1000, n_features-1)\n",
    "X_vals, y_vals = boundary_points[:,0:n_features-1], boundary_points[:,-1] \n",
    "\n",
    "interpolated_values = griddata(X_vals, y_vals, new_points, method='cubic')"
   ]
  },
  {
   "cell_type": "code",
   "execution_count": 2,
   "metadata": {},
   "outputs": [
    {
     "ename": "NameError",
     "evalue": "name 'boundary_points' is not defined",
     "output_type": "error",
     "traceback": [
      "\u001b[1;31m---------------------------------------------------------------------------\u001b[0m",
      "\u001b[1;31mNameError\u001b[0m                                 Traceback (most recent call last)",
      "Cell \u001b[1;32mIn[2], line 2\u001b[0m\n\u001b[0;32m      1\u001b[0m \u001b[38;5;28;01mfrom\u001b[39;00m \u001b[38;5;21;01mscipy\u001b[39;00m\u001b[38;5;21;01m.\u001b[39;00m\u001b[38;5;21;01minterpolate\u001b[39;00m \u001b[38;5;28;01mimport\u001b[39;00m RBFInterpolator \n\u001b[1;32m----> 2\u001b[0m \u001b[38;5;28mprint\u001b[39m(boundary_points\u001b[38;5;241m.\u001b[39mshape)\n\u001b[0;32m      3\u001b[0m n_features \u001b[38;5;241m=\u001b[39m X\u001b[38;5;241m.\u001b[39mshape[\u001b[38;5;241m1\u001b[39m]\n\u001b[0;32m      4\u001b[0m X_vals, y_vals \u001b[38;5;241m=\u001b[39m boundary_points[:,\u001b[38;5;241m0\u001b[39m:n_features\u001b[38;5;241m-\u001b[39m\u001b[38;5;241m1\u001b[39m], np\u001b[38;5;241m.\u001b[39mreshape(boundary_points[:,\u001b[38;5;241m-\u001b[39m\u001b[38;5;241m1\u001b[39m], (\u001b[38;5;241m-\u001b[39m\u001b[38;5;241m1\u001b[39m,\u001b[38;5;241m1\u001b[39m)) \n",
      "\u001b[1;31mNameError\u001b[0m: name 'boundary_points' is not defined"
     ]
    }
   ],
   "source": [
    "from scipy.interpolate import RBFInterpolator \n",
    "print(boundary_points.shape)\n",
    "n_features = X.shape[1]\n",
    "X_vals, y_vals = boundary_points[:,0:n_features-1], np.reshape(boundary_points[:,-1], (-1,1)) \n",
    "print(y_vals.shape)\n",
    "interpolator = RBFInterpolator(X_vals, y_vals, kernel='cubic', smoothing=1e-12)"
   ]
  },
  {
   "cell_type": "code",
   "execution_count": 31,
   "metadata": {},
   "outputs": [],
   "source": [
    "n_features = X.shape[1]\n",
    "ranges = [np.linspace(X[:, j].min() - 1, X[:, j].max() + 1, 15) for j in range(n_features)]\n",
    "grids = np.meshgrid(*ranges) \n",
    "\n",
    "grid_points = np.vstack([g.ravel() for g in grids]).T"
   ]
  },
  {
   "cell_type": "code",
   "execution_count": 32,
   "metadata": {},
   "outputs": [
    {
     "name": "stdout",
     "output_type": "stream",
     "text": [
      "(50625, 4)\n"
     ]
    }
   ],
   "source": [
    "print(grid_points.shape)"
   ]
  },
  {
   "cell_type": "code",
   "execution_count": 33,
   "metadata": {},
   "outputs": [
    {
     "name": "stdout",
     "output_type": "stream",
     "text": [
      "(50625, 3)\n",
      "(50625, 3)\n",
      "(50625, 1)\n",
      "(50625, 4)\n"
     ]
    }
   ],
   "source": [
    "eval_coords = grid_points[:,0:n_features-1]\n",
    "print(eval_coords.shape)\n",
    "eval_values = interpolator(eval_coords)\n",
    "add_boundary_pts = np.hstack((eval_coords, eval_values))\n",
    "print(eval_coords.shape)\n",
    "print(eval_values.shape)\n",
    "print(add_boundary_pts.shape)"
   ]
  },
  {
   "cell_type": "code",
   "execution_count": 34,
   "metadata": {},
   "outputs": [
    {
     "data": {
      "text/plain": [
       "array([[0.99712035, 0.00287965],\n",
       "       [0.99712035, 0.00287965],\n",
       "       [0.99712035, 0.00287965],\n",
       "       ...,\n",
       "       [0.00324154, 0.99675846],\n",
       "       [0.00324154, 0.99675846],\n",
       "       [0.00324154, 0.99675846]])"
      ]
     },
     "execution_count": 34,
     "metadata": {},
     "output_type": "execute_result"
    }
   ],
   "source": [
    "model.predict_proba(add_boundary_pts)"
   ]
  }
 ],
 "metadata": {
  "kernelspec": {
   "display_name": "base",
   "language": "python",
   "name": "python3"
  },
  "language_info": {
   "codemirror_mode": {
    "name": "ipython",
    "version": 3
   },
   "file_extension": ".py",
   "mimetype": "text/x-python",
   "name": "python",
   "nbconvert_exporter": "python",
   "pygments_lexer": "ipython3",
   "version": "3.11.4"
  }
 },
 "nbformat": 4,
 "nbformat_minor": 2
}
