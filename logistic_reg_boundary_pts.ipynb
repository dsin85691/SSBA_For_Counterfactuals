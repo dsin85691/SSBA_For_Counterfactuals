{
 "cells": [
  {
   "cell_type": "code",
   "execution_count": 3,
   "metadata": {},
   "outputs": [],
   "source": [
    "from sklearn.datasets import make_classification\n",
    "from sklearn.linear_model import LogisticRegression\n",
    "import numba\n",
    "from numba import cuda\n",
    "import matplotlib.pyplot as plt\n",
    "import numpy as np\n",
    "from scipy.interpolate import interp1d\n",
    "import pandas as pd\n",
    "from sklearn import svm\n",
    "from scipy.linalg import norm\n",
    "\n",
    "np.set_printoptions(threshold=50)"
   ]
  },
  {
   "cell_type": "code",
   "execution_count": 4,
   "metadata": {},
   "outputs": [],
   "source": [
    "# import numpy as np \n",
    "# X, y = make_classification(n_samples=1000, n_features=4, n_informative=4, n_redundant=0, random_state=42)\n",
    " \n",
    "# # Train a Logistic Regression model (or any other classifier)\n",
    "# model = LogisticRegression()\n",
    "# model.fit(X, y)"
   ]
  },
  {
   "cell_type": "code",
   "execution_count": 5,
   "metadata": {},
   "outputs": [],
   "source": [
    "# Reading in the dataset\n",
    "df=pd.read_csv('SVM_Dataset2.csv')\n",
    "\n",
    "# svm_classifier.fit(df[['x1', 'x2']], df[['y']])"
   ]
  },
  {
   "cell_type": "code",
   "execution_count": 6,
   "metadata": {},
   "outputs": [],
   "source": [
    "def broadcast_compute(Z, grid, epsilon): \n",
    "    for i in range(len(grid) - 1):\n",
    "        # Compute broadcasted points (difference between grid[i,:] and all other points)\n",
    "        broadcasted_pts = grid[i, :] - grid  # This creates a matrix of differences\n",
    "\n",
    "        # Compute the row-wise norm of broadcasted points\n",
    "        norm_broadcasted_pts = np.linalg.norm(broadcasted_pts, axis=1)\n",
    "\n",
    "        # Compute the difference in predictions\n",
    "        Z_vec = Z[i] - Z\n",
    "\n",
    "        # Create a mask where the norm is less than epsilon and Z_vec equals -1\n",
    "        mask = (norm_broadcasted_pts < epsilon) & Z_vec != 0\n",
    "\n",
    "        # Find the indices where the mask is true\n",
    "        masked_indices = np.where(mask)[0]  # Use [0] to extract the array of indices from the tuple\n",
    "\n",
    "        # Compute new points as the midpoint between grid[i,:] and the masked points\n",
    "        new_pts = (grid[i, :] + grid[masked_indices]) / 2\n",
    "\n",
    "        # Append new points to the boundary_points array\n",
    "        boundary_points = np.append(boundary_points, new_pts, axis=0)\n",
    "    \n",
    "    boundary_points = boundary_points[1:,:]\n",
    "    return boundary_points\n",
    "\n",
    "def compute_decision_boundary_points_gpu(model, X, resolution=100, epsilon=0.01):\n",
    "    n_features = X.shape[1]    \n",
    "    grid = np.zeros((resolution ** n_features, n_features))\n",
    "    for i, feature in enumerate(range(n_features)):\n",
    "        cp_array = np.linspace(X[:, feature].min() - 1, X[:, feature].max() + 1, resolution ** (n_features)).reshape(-1)\n",
    "        grid[:, i] = cp_array\n",
    "    Z = np.asarray(model.predict(grid))\n",
    "    return broadcast_compute(Z, grid, epsilon)"
   ]
  },
  {
   "cell_type": "code",
   "execution_count": 26,
   "metadata": {},
   "outputs": [],
   "source": [
    "import cupy as cp\n",
    "\n",
    "@numba.njit\n",
    "def find_boundary_cpu(grid, Z, epsilon):\n",
    "    boundary_points = []\n",
    "    \n",
    "    for i in range(len(grid) - 1):\n",
    "        for j in range(i + 1, len(grid)):\n",
    "            if np.linalg.norm(grid[i] - grid[j]) < epsilon and Z[i] != Z[j]:\n",
    "                midpoint = (grid[i] + grid[j]) / 2\n",
    "                boundary_points.append(midpoint)\n",
    "    return boundary_points\n",
    "\n",
    "@numba.njit\n",
    "def cartesian_product_numba(arrays, out):\n",
    "    n_arrays = len(arrays)\n",
    "    shape = [len(a) for a in arrays]\n",
    "    for idx in range(out.shape[0]):\n",
    "        remainder = idx\n",
    "        for dim in range(n_arrays - 1, -1, -1):\n",
    "            size = shape[dim]\n",
    "            out[idx, dim] = arrays[dim][remainder % size]\n",
    "            remainder = remainder // size\n",
    "\n",
    "@cuda.jit\n",
    "def cartesian_product_cuda(arrays, n_arrays, out):\n",
    "    idx = cuda.grid(1)  # Global thread index\n",
    "    if idx < out.shape[0]:\n",
    "        stride = 1\n",
    "        for i in range(n_arrays - 1, -1, -1):\n",
    "            arr_len = arrays[i].shape[0]\n",
    "            out[idx, i] = arrays[i][(idx // stride) % arr_len]\n",
    "            stride *= arr_len\n",
    "\n",
    "def compute_cartesian_product_cuda(arrays):\n",
    "    # Calculate output shape\n",
    "    shape = [len(a) for a in arrays]\n",
    "    out_size = np.prod(shape)\n",
    "    n_arrays = len(arrays)\n",
    "    \n",
    "    # Check for memory feasibility\n",
    "    if out_size > 10**9:  # Arbitrary limit to avoid memory issues\n",
    "        raise ValueError(f\"Output size {out_size} is too large for GPU memory\")\n",
    "    \n",
    "    # Allocate output array\n",
    "    out = cp.zeros((out_size, n_arrays), dtype=np.float32)\n",
    "    \n",
    "    # Transfer arrays to device\n",
    "    d_arrays = cp.asarray([cuda.to_device(np.array(arr, dtype=np.float32)) for arr in arrays])\n",
    "    d_out = cuda.to_device(out)\n",
    "    \n",
    "    # Configure CUDA grid and block sizes\n",
    "    threads_per_block = 128\n",
    "    blocks_per_grid = (out_size + threads_per_block - 1) // threads_per_block\n",
    "    \n",
    "    # Launch kernel\n",
    "    cartesian_product_cuda[blocks_per_grid, threads_per_block](d_arrays, n_arrays, d_out)\n",
    "    \n",
    "    # Copy result back to host\n",
    "    result = d_out.copy_to_host()\n",
    "    return result\n",
    "\n",
    "\n",
    "@cuda.jit \n",
    "def find_boundary_gpu(grid, Z, epsilon, boundary_points, count):\n",
    "    i = cuda.grid(1)\n",
    "    n = grid.shape[0]\n",
    "\n",
    "    if i < n:\n",
    "        for j in range(i + 1, n):\n",
    "            dist = 0.0\n",
    "            for k in range(grid.shape[1]):\n",
    "                diff = grid[i, k] - grid[j, k]\n",
    "                dist += diff * diff\n",
    "            dist = dist ** 0.5\n",
    "\n",
    "            if dist < epsilon and Z[i] != Z[j]:\n",
    "                idx = cuda.atomic.add(count, 0, 1)\n",
    "                for d in range(grid.shape[1]):\n",
    "                    boundary_points[idx, d] = (grid[i, d] + grid[j, d]) / 2\n",
    "\n",
    "def compute_decision_boundary_points_cpu(model, X, resolution=100, epsilon=0.01):\n",
    "    \"\"\"\n",
    "    Compute decision boundary points in the high-dimensional feature space.\n",
    "    Args:\n",
    "        model: Trained classifier.\n",
    "        X: Input data (n_samples, n_features).\n",
    "        resolution: Number of points to sample along each feature axis.\n",
    "        epsilon: Small step size to detect class changes.\n",
    "    Returns:\n",
    "        boundary_points: Array of points near the decision boundary.\n",
    "    \"\"\"\n",
    "    n_features = X.shape[1]\n",
    "    linspaces = [] \n",
    "    \n",
    "    for i in range(n_features):\n",
    "        dim =  np.linspace(X.iloc[:, i].min() - 1, X.iloc[:, i].max() + 1, resolution)\n",
    "        linspaces.append(dim) \n",
    "\n",
    "    total_size = np.prod([len(arr) for arr in linspaces])\n",
    "    out = np.empty((total_size, len(linspaces)), dtype=np.float64)\n",
    "    arrays = tuple(np.asarray(arr) for arr in linspaces)\n",
    "    cartesian_product_numba(arrays, out)\n",
    "    Z = model.predict(out)\n",
    "    boundary_points = find_boundary_cpu(out, Z, epsilon)\n",
    "    boundary_df = pd.DataFrame(boundary_points, columns=X.columns)\n",
    "    return boundary_df\n",
    "\n",
    "def compute_decision_boundary_points_gpu(model, X, resolution=100, epsilon=0.01):\n",
    "    \"\"\"\n",
    "    Compute decision boundary points in the high-dimensional feature space.\n",
    "    Args:\n",
    "        model: Trained classifier.\n",
    "        X: Input data (n_samples, n_features).\n",
    "        resolution: Number of points to sample along each feature axis.\n",
    "        epsilon: Small step size to detect class changes.\n",
    "    Returns:\n",
    "        boundary_points: Array of points near the decision boundary.\n",
    "    \"\"\"\n",
    "    n_features = X.shape[1]\n",
    "    linspaces = [] \n",
    "    \n",
    "    for i in range(n_features):\n",
    "        dim =  np.linspace(X.iloc[:, i].min() - 1, X.iloc[:, i].max() + 1, resolution)\n",
    "        linspaces.append(dim) \n",
    "\n",
    "    \n",
    "    grid = compute_cartesian_product_cuda(linspaces)\n",
    "    Z = model.predict(grid)\n",
    "\n",
    "    d_grid = cuda.to_device(grid)\n",
    "    d_Z = cuda.to_device(Z)\n",
    "    grid_size = resolution ** n_features\n",
    "    max_boundary_points = grid_size  # worst case\n",
    "    d_boundary_points = cuda.device_array((max_boundary_points, n_features), dtype=np.float32)\n",
    "    d_count = cuda.to_device(np.array([0], dtype=np.int32))\n",
    "\n",
    "    threads_per_block = 128\n",
    "    blocks_per_grid = (grid_size + threads_per_block - 1) // threads_per_block\n",
    "\n",
    "    find_boundary_gpu[blocks_per_grid, threads_per_block](d_grid, d_Z, epsilon, d_boundary_points, d_count)\n",
    "\n",
    "    count = d_count.copy_to_host()[0]\n",
    "    boundary_points = d_boundary_points.copy_to_host()[:count]\n",
    "\n",
    "    return boundary_points"
   ]
  },
  {
   "cell_type": "markdown",
   "metadata": {},
   "source": [
    "# Experiments of the Computation Costs for CPU only \n",
    "\n",
    "$\\textbf{ CPU used: AMD Ryzen 9 7950X 16-Core processor}$\n",
    "\n",
    "- 50 Resolution (R = 50) with CPU only \n",
    "- 47 minutes - Does not finish \n",
    "\n",
    "- 25 Resolution (R = 25) with CPU only \n",
    "- 23 minutes - Does not finish \n",
    "\n",
    "- 20 Resolution (R = 20) with CPU only \n",
    "- 20 minutes - Does not finish\n",
    "\n",
    "- 15 Resolution (R = 15) with CPU only \n",
    "- 26 minutes - Does not finish \n",
    "\n",
    "- 12 Resolution (R = 12) with CPU only \n",
    "- 6 minute runtime Done\n",
    "\n",
    "- 10 Resolution (R = 10) with CPU only \n",
    "- 85 seconds Done\n",
    "\n",
    "- 7 Resolution (R = 7) with CPU only\n",
    "- 5 seconds Done\n",
    "\n",
    "- 5 Resolution (R = 5) with CPU only \n",
    "- 0.3 second runtime"
   ]
  },
  {
   "cell_type": "markdown",
   "metadata": {},
   "source": [
    "# Experiments with CPU only (with Numba) \n",
    "\n",
    "- 20 Resolution (R = 20) with CPU \n",
    "- Over 10 minutes - NOT DONE\n",
    "\n",
    "- 17 Resolution (R = 17) with CPU \n",
    "- 6 minute runtime\n",
    "\n",
    "- 15 Resolution (R = 15) with CPU \n",
    "- 2 minute runtime\n",
    "\n",
    "- 10 Resolution (R = 10) with CPU \n",
    "- 6 second runtime"
   ]
  },
  {
   "cell_type": "code",
   "execution_count": 13,
   "metadata": {},
   "outputs": [
    {
     "name": "stderr",
     "output_type": "stream",
     "text": [
      "c:\\Users\\Compuworld\\anaconda3\\Lib\\site-packages\\sklearn\\base.py:464: UserWarning: X does not have valid feature names, but SVC was fitted with feature names\n",
      "  warnings.warn(\n"
     ]
    },
    {
     "name": "stdout",
     "output_type": "stream",
     "text": [
      "Decision Boundary Points (All Features):\n",
      "             x1         x2\n",
      "0      3.140562  20.829317\n",
      "1      3.140562  20.863454\n",
      "2      3.140562  20.897590\n",
      "3      3.140562  20.897590\n",
      "4      3.140562  20.931727\n",
      "...         ...        ...\n",
      "1045  16.915663  11.339357\n",
      "1046  16.943775  11.339357\n",
      "1047  16.971888  11.339357\n",
      "1048  16.971888  11.339357\n",
      "1049  17.000000  11.339357\n",
      "\n",
      "[1050 rows x 2 columns]\n",
      "(1050, 2)\n"
     ]
    },
    {
     "data": {
      "text/plain": [
       "[<matplotlib.lines.Line2D at 0x1e51d62d410>]"
      ]
     },
     "execution_count": 13,
     "metadata": {},
     "output_type": "execute_result"
    },
    {
     "data": {
      "image/png": "[encoded data removed]",
      "text/plain": [
       "<Figure size 640x480 with 1 Axes>"
      ]
     },
     "metadata": {},
     "output_type": "display_data"
    }
   ],
   "source": [
    "svm_classifier = svm.SVC(kernel='poly',C=10, degree=2, probability=True)\n",
    "svm_classifier.fit(df[['x1', 'x2']], df['y'].values)\n",
    "# Compute decision boundary points considering all features\n",
    "boundary_points = compute_decision_boundary_points_cpu(svm_classifier, df[['x1','x2']], resolution=250, epsilon=0.1)\n",
    " \n",
    "# Print the decision boundary points\n",
    "print(\"Decision Boundary Points (All Features):\")\n",
    "print(boundary_points)\n",
    "print(boundary_points.shape)\n",
    "\n",
    "boundary_points = boundary_points.drop_duplicates(subset='x1')\n",
    "bound_x, bound_y = boundary_points.iloc[:,0], boundary_points.iloc[:, 1]\n",
    "\n",
    "N = 1000000\n",
    "lower_boundx, upper_boundx = np.min(bound_x), np.max(bound_x)\n",
    "f = interp1d(bound_x, bound_y, kind='cubic')\n",
    "X_pred = np.linspace(lower_boundx, upper_boundx, N)[:, np.newaxis]\n",
    "Y_pred = f(X_pred)\n",
    "lower_boundy, upper_boundy = np.min(bound_y), np.max(bound_y)\n",
    "x_min, x_max = bound_x.min(), bound_x.max()\n",
    "y_min, y_max = bound_y.min(), bound_y.max()\n",
    "\n",
    "X_pred = np.clip(X_pred, x_min, x_max)\n",
    "Y_pred = np.clip(Y_pred, y_min, y_max)\n",
    "plt.plot(X_pred, Y_pred, color='black')\n",
    "\n",
    "# undesired_datapt = np.array([undesired_coords[0], undesired_coords[1]])\n",
    "# optimal_datapt = closest_point(undesired_datapt, contour=contours)"
   ]
  },
  {
   "cell_type": "code",
   "execution_count": 16,
   "metadata": {},
   "outputs": [
    {
     "name": "stdout",
     "output_type": "stream",
     "text": [
      "Decision Boundary Points (Probability Across Both classes):\n"
     ]
    },
    {
     "ename": "AttributeError",
     "evalue": "'DataFrame' object has no attribute 'predict_proba'",
     "output_type": "error",
     "traceback": [
      "\u001b[1;31m---------------------------------------------------------------------------\u001b[0m",
      "\u001b[1;31mAttributeError\u001b[0m                            Traceback (most recent call last)",
      "\u001b[1;32m~\\AppData\\Local\\Temp\\ipykernel_32876\\2452209022.py\u001b[0m in \u001b[0;36m?\u001b[1;34m()\u001b[0m\n\u001b[0;32m      1\u001b[0m \u001b[0mprint\u001b[0m\u001b[1;33m(\u001b[0m\u001b[1;34m\"Decision Boundary Points (Probability Across Both classes):\"\u001b[0m\u001b[1;33m)\u001b[0m\u001b[1;33m\u001b[0m\u001b[1;33m\u001b[0m\u001b[0m\n\u001b[1;32m----> 2\u001b[1;33m \u001b[0mboundary_points\u001b[0m\u001b[1;33m.\u001b[0m\u001b[0mpredict_proba\u001b[0m\u001b[1;33m(\u001b[0m\u001b[0mboundary_points\u001b[0m\u001b[1;33m)\u001b[0m\u001b[1;33m\u001b[0m\u001b[1;33m\u001b[0m\u001b[0m\n\u001b[0m",
      "\u001b[1;32mc:\\Users\\Compuworld\\anaconda3\\Lib\\site-packages\\pandas\\core\\generic.py\u001b[0m in \u001b[0;36m?\u001b[1;34m(self, name)\u001b[0m\n\u001b[0;32m   6295\u001b[0m             \u001b[1;32mand\u001b[0m \u001b[0mname\u001b[0m \u001b[1;32mnot\u001b[0m \u001b[1;32min\u001b[0m \u001b[0mself\u001b[0m\u001b[1;33m.\u001b[0m\u001b[0m_accessors\u001b[0m\u001b[1;33m\u001b[0m\u001b[1;33m\u001b[0m\u001b[0m\n\u001b[0;32m   6296\u001b[0m             \u001b[1;32mand\u001b[0m \u001b[0mself\u001b[0m\u001b[1;33m.\u001b[0m\u001b[0m_info_axis\u001b[0m\u001b[1;33m.\u001b[0m\u001b[0m_can_hold_identifiers_and_holds_name\u001b[0m\u001b[1;33m(\u001b[0m\u001b[0mname\u001b[0m\u001b[1;33m)\u001b[0m\u001b[1;33m\u001b[0m\u001b[1;33m\u001b[0m\u001b[0m\n\u001b[0;32m   6297\u001b[0m         ):\n\u001b[0;32m   6298\u001b[0m             \u001b[1;32mreturn\u001b[0m \u001b[0mself\u001b[0m\u001b[1;33m[\u001b[0m\u001b[0mname\u001b[0m\u001b[1;33m]\u001b[0m\u001b[1;33m\u001b[0m\u001b[1;33m\u001b[0m\u001b[0m\n\u001b[1;32m-> 6299\u001b[1;33m         \u001b[1;32mreturn\u001b[0m \u001b[0mobject\u001b[0m\u001b[1;33m.\u001b[0m\u001b[0m__getattribute__\u001b[0m\u001b[1;33m(\u001b[0m\u001b[0mself\u001b[0m\u001b[1;33m,\u001b[0m \u001b[0mname\u001b[0m\u001b[1;33m)\u001b[0m\u001b[1;33m\u001b[0m\u001b[1;33m\u001b[0m\u001b[0m\n\u001b[0m",
      "\u001b[1;31mAttributeError\u001b[0m: 'DataFrame' object has no attribute 'predict_proba'"
     ]
    }
   ],
   "source": [
    "print(\"Decision Boundary Points (Probability Across Both classes):\")\n",
    "boundary_points.predict_proba(boundary_points) "
   ]
  },
  {
   "cell_type": "markdown",
   "metadata": {},
   "source": [
    "# Experiments with GPU (with Numba) \n",
    "\n",
    "- 20 Resolution (R = 20) with GPU \n",
    "- 5.9 second runtime\n",
    "\n",
    "- 15 Resolution (R = 15) with GPU \n",
    "- 1.0 second runtime"
   ]
  },
  {
   "cell_type": "code",
   "execution_count": 30,
   "metadata": {},
   "outputs": [
    {
     "name": "stderr",
     "output_type": "stream",
     "text": [
      "c:\\Users\\Compuworld\\anaconda3\\Lib\\site-packages\\sklearn\\base.py:464: UserWarning: X does not have valid feature names, but SVC was fitted with feature names\n",
      "  warnings.warn(\n"
     ]
    },
    {
     "name": "stdout",
     "output_type": "stream",
     "text": [
      "Decision Boundary Points (All Features):\n",
      "[[ 3.6452906 18.325651 ]\n",
      " [ 3.5611222 18.700401 ]\n",
      " [ 3.8416834 17.508015 ]\n",
      " ...\n",
      " [16.901804  11.307615 ]\n",
      " [16.901804  11.341682 ]\n",
      " [16.901804  11.324649 ]]\n",
      "(13624, 2)\n"
     ]
    },
    {
     "data": {
      "text/plain": [
       "[<matplotlib.lines.Line2D at 0x1e544767010>]"
      ]
     },
     "execution_count": 30,
     "metadata": {},
     "output_type": "execute_result"
    },
    {
     "data": {
      "image/png": "[encoded data removed]",
      "text/plain": [
       "<Figure size 640x480 with 1 Axes>"
      ]
     },
     "metadata": {},
     "output_type": "display_data"
    }
   ],
   "source": [
    "# Compute decision boundary points considering all features\n",
    "boundary_points = compute_decision_boundary_points_gpu(svm_classifier, df[['x1','x2']], resolution=500, epsilon=0.1)\n",
    " \n",
    "# Print the decision boundary points\n",
    "print(\"Decision Boundary Points (All Features):\")\n",
    "print(boundary_points)\n",
    "print(boundary_points.shape)\n",
    "\n",
    "N = 1000000\n",
    "lower_boundx, upper_boundx = np.min(bound_x), np.max(bound_x)\n",
    "f = interp1d(bound_x, bound_y, kind='cubic')\n",
    "X_pred = np.linspace(lower_boundx, upper_boundx, N)[:, np.newaxis]\n",
    "Y_pred = f(X_pred)\n",
    "lower_boundy, upper_boundy = np.min(bound_y), np.max(bound_y)\n",
    "x_min, x_max = bound_x.min(), bound_x.max()\n",
    "y_min, y_max = bound_y.min(), bound_y.max()\n",
    "\n",
    "X_pred = np.clip(X_pred, x_min, x_max)\n",
    "Y_pred = np.clip(Y_pred, y_min, y_max)\n",
    "plt.plot(X_pred, Y_pred, color='black')"
   ]
  },
  {
   "cell_type": "code",
   "execution_count": 7,
   "metadata": {},
   "outputs": [
    {
     "name": "stdout",
     "output_type": "stream",
     "text": [
      "Decision Boundary Points (Probability Across Both classes):\n"
     ]
    },
    {
     "data": {
      "text/plain": [
       "array([[0.49999349, 0.50000651],\n",
       "       [0.50000254, 0.49999746],\n",
       "       [0.49998445, 0.50001555],\n",
       "       ...,\n",
       "       [0.50135906, 0.49864094],\n",
       "       [0.50134097, 0.49865903],\n",
       "       [0.50132289, 0.49867711]])"
      ]
     },
     "execution_count": 7,
     "metadata": {},
     "output_type": "execute_result"
    }
   ],
   "source": [
    "print(\"Decision Boundary Points (Probability Across Both classes):\")\n",
    "model.predict_proba(boundary_points) "
   ]
  },
  {
   "cell_type": "code",
   "execution_count": 8,
   "metadata": {},
   "outputs": [
    {
     "name": "stdout",
     "output_type": "stream",
     "text": [
      "4\n"
     ]
    },
    {
     "ename": "ValueError",
     "evalue": "Unknown interpolation method 'cubic' for 3 dimensional data",
     "output_type": "error",
     "traceback": [
      "\u001b[1;31m---------------------------------------------------------------------------\u001b[0m",
      "\u001b[1;31mValueError\u001b[0m                                Traceback (most recent call last)",
      "Cell \u001b[1;32mIn[8], line 10\u001b[0m\n\u001b[0;32m      7\u001b[0m new_points \u001b[38;5;241m=\u001b[39m np\u001b[38;5;241m.\u001b[39mrandom\u001b[38;5;241m.\u001b[39mrand(\u001b[38;5;241m1000\u001b[39m, n_features\u001b[38;5;241m-\u001b[39m\u001b[38;5;241m1\u001b[39m)\n\u001b[0;32m      8\u001b[0m X_vals, y_vals \u001b[38;5;241m=\u001b[39m boundary_points[:,\u001b[38;5;241m0\u001b[39m:n_features\u001b[38;5;241m-\u001b[39m\u001b[38;5;241m1\u001b[39m], boundary_points[:,\u001b[38;5;241m-\u001b[39m\u001b[38;5;241m1\u001b[39m] \n\u001b[1;32m---> 10\u001b[0m interpolated_values \u001b[38;5;241m=\u001b[39m griddata(X_vals, y_vals, new_points, method\u001b[38;5;241m=\u001b[39m\u001b[38;5;124m'\u001b[39m\u001b[38;5;124mcubic\u001b[39m\u001b[38;5;124m'\u001b[39m)\n",
      "File \u001b[1;32mc:\\Users\\Compuworld\\anaconda3\\Lib\\site-packages\\scipy\\interpolate\\_ndgriddata.py:281\u001b[0m, in \u001b[0;36mgriddata\u001b[1;34m(points, values, xi, method, fill_value, rescale)\u001b[0m\n\u001b[0;32m    279\u001b[0m     \u001b[38;5;28;01mreturn\u001b[39;00m ip(xi)\n\u001b[0;32m    280\u001b[0m \u001b[38;5;28;01melse\u001b[39;00m:\n\u001b[1;32m--> 281\u001b[0m     \u001b[38;5;28;01mraise\u001b[39;00m \u001b[38;5;167;01mValueError\u001b[39;00m(\u001b[38;5;124m\"\u001b[39m\u001b[38;5;124mUnknown interpolation method \u001b[39m\u001b[38;5;132;01m%r\u001b[39;00m\u001b[38;5;124m for \u001b[39m\u001b[38;5;124m\"\u001b[39m\n\u001b[0;32m    282\u001b[0m                      \u001b[38;5;124m\"\u001b[39m\u001b[38;5;132;01m%d\u001b[39;00m\u001b[38;5;124m dimensional data\u001b[39m\u001b[38;5;124m\"\u001b[39m \u001b[38;5;241m%\u001b[39m (method, ndim))\n",
      "\u001b[1;31mValueError\u001b[0m: Unknown interpolation method 'cubic' for 3 dimensional data"
     ]
    }
   ],
   "source": [
    "from scipy.interpolate import griddata\n",
    "\n",
    "n_features = X.shape[1]\n",
    "print(n_features)\n",
    "ranges = [np.linspace(X[:, j].min() - 1, X[:, j].max() + 1, 100) for j in range(n_features)]\n",
    "grids = np.meshgrid(*ranges)\n",
    "new_points = np.random.rand(1000, n_features-1)\n",
    "X_vals, y_vals = boundary_points[:,0:n_features-1], boundary_points[:,-1] \n",
    "\n",
    "interpolated_values = griddata(X_vals, y_vals, new_points, method='cubic')"
   ]
  },
  {
   "cell_type": "code",
   "execution_count": 9,
   "metadata": {},
   "outputs": [
    {
     "name": "stdout",
     "output_type": "stream",
     "text": [
      "(160000, 4)\n",
      "(160000, 1)\n"
     ]
    },
    {
     "ename": "MemoryError",
     "evalue": "(unable to allocate 18446744073541027856 bytes)",
     "output_type": "error",
     "traceback": [
      "\u001b[1;31m---------------------------------------------------------------------------\u001b[0m",
      "\u001b[1;31mMemoryError\u001b[0m                               Traceback (most recent call last)",
      "Cell \u001b[1;32mIn[9], line 6\u001b[0m\n\u001b[0;32m      4\u001b[0m X_vals, y_vals \u001b[38;5;241m=\u001b[39m boundary_points[:,\u001b[38;5;241m0\u001b[39m:n_features\u001b[38;5;241m-\u001b[39m\u001b[38;5;241m1\u001b[39m], np\u001b[38;5;241m.\u001b[39mreshape(boundary_points[:,\u001b[38;5;241m-\u001b[39m\u001b[38;5;241m1\u001b[39m], (\u001b[38;5;241m-\u001b[39m\u001b[38;5;241m1\u001b[39m,\u001b[38;5;241m1\u001b[39m)) \n\u001b[0;32m      5\u001b[0m \u001b[38;5;28mprint\u001b[39m(y_vals\u001b[38;5;241m.\u001b[39mshape)\n\u001b[1;32m----> 6\u001b[0m interpolator \u001b[38;5;241m=\u001b[39m RBFInterpolator(X_vals, y_vals, kernel\u001b[38;5;241m=\u001b[39m\u001b[38;5;124m'\u001b[39m\u001b[38;5;124mcubic\u001b[39m\u001b[38;5;124m'\u001b[39m, smoothing\u001b[38;5;241m=\u001b[39m\u001b[38;5;241m1e-12\u001b[39m)\n",
      "File \u001b[1;32mc:\\Users\\Compuworld\\anaconda3\\Lib\\site-packages\\scipy\\interpolate\\_rbfinterp.py:373\u001b[0m, in \u001b[0;36mRBFInterpolator.__init__\u001b[1;34m(self, y, d, neighbors, smoothing, kernel, epsilon, degree)\u001b[0m\n\u001b[0;32m    367\u001b[0m     \u001b[38;5;28;01mraise\u001b[39;00m \u001b[38;5;167;01mValueError\u001b[39;00m(\n\u001b[0;32m    368\u001b[0m         \u001b[38;5;124mf\u001b[39m\u001b[38;5;124m\"\u001b[39m\u001b[38;5;124mAt least \u001b[39m\u001b[38;5;132;01m{\u001b[39;00mpowers\u001b[38;5;241m.\u001b[39mshape[\u001b[38;5;241m0\u001b[39m]\u001b[38;5;132;01m}\u001b[39;00m\u001b[38;5;124m data points are required when \u001b[39m\u001b[38;5;124m\"\u001b[39m\n\u001b[0;32m    369\u001b[0m         \u001b[38;5;124mf\u001b[39m\u001b[38;5;124m\"\u001b[39m\u001b[38;5;124m`degree` is \u001b[39m\u001b[38;5;132;01m{\u001b[39;00mdegree\u001b[38;5;132;01m}\u001b[39;00m\u001b[38;5;124m and the number of dimensions is \u001b[39m\u001b[38;5;132;01m{\u001b[39;00mndim\u001b[38;5;132;01m}\u001b[39;00m\u001b[38;5;124m.\u001b[39m\u001b[38;5;124m\"\u001b[39m\n\u001b[0;32m    370\u001b[0m         )\n\u001b[0;32m    372\u001b[0m \u001b[38;5;28;01mif\u001b[39;00m neighbors \u001b[38;5;129;01mis\u001b[39;00m \u001b[38;5;28;01mNone\u001b[39;00m:\n\u001b[1;32m--> 373\u001b[0m     shift, scale, coeffs \u001b[38;5;241m=\u001b[39m _build_and_solve_system(\n\u001b[0;32m    374\u001b[0m         y, d, smoothing, kernel, epsilon, powers\n\u001b[0;32m    375\u001b[0m         )\n\u001b[0;32m    377\u001b[0m     \u001b[38;5;66;03m# Make these attributes private since they do not always exist.\u001b[39;00m\n\u001b[0;32m    378\u001b[0m     \u001b[38;5;28mself\u001b[39m\u001b[38;5;241m.\u001b[39m_shift \u001b[38;5;241m=\u001b[39m shift\n",
      "File \u001b[1;32mc:\\Users\\Compuworld\\anaconda3\\Lib\\site-packages\\scipy\\interpolate\\_rbfinterp.py:110\u001b[0m, in \u001b[0;36m_build_and_solve_system\u001b[1;34m(y, d, smoothing, kernel, epsilon, powers)\u001b[0m\n\u001b[0;32m     82\u001b[0m \u001b[38;5;28;01mdef\u001b[39;00m \u001b[38;5;21m_build_and_solve_system\u001b[39m(y, d, smoothing, kernel, epsilon, powers):\n\u001b[0;32m     83\u001b[0m \u001b[38;5;250m    \u001b[39m\u001b[38;5;124;03m\"\"\"Build and solve the RBF interpolation system of equations.\u001b[39;00m\n\u001b[0;32m     84\u001b[0m \n\u001b[0;32m     85\u001b[0m \u001b[38;5;124;03m    Parameters\u001b[39;00m\n\u001b[1;32m   (...)\u001b[0m\n\u001b[0;32m    108\u001b[0m \n\u001b[0;32m    109\u001b[0m \u001b[38;5;124;03m    \"\"\"\u001b[39;00m\n\u001b[1;32m--> 110\u001b[0m     lhs, rhs, shift, scale \u001b[38;5;241m=\u001b[39m _build_system(\n\u001b[0;32m    111\u001b[0m         y, d, smoothing, kernel, epsilon, powers\n\u001b[0;32m    112\u001b[0m         )\n\u001b[0;32m    113\u001b[0m     _, _, coeffs, info \u001b[38;5;241m=\u001b[39m dgesv(lhs, rhs, overwrite_a\u001b[38;5;241m=\u001b[39m\u001b[38;5;28;01mTrue\u001b[39;00m, overwrite_b\u001b[38;5;241m=\u001b[39m\u001b[38;5;28;01mTrue\u001b[39;00m)\n\u001b[0;32m    114\u001b[0m     \u001b[38;5;28;01mif\u001b[39;00m info \u001b[38;5;241m<\u001b[39m \u001b[38;5;241m0\u001b[39m:\n",
      "\u001b[1;31mMemoryError\u001b[0m: (unable to allocate 18446744073541027856 bytes)"
     ]
    }
   ],
   "source": [
    "from scipy.interpolate import RBFInterpolator \n",
    "print(boundary_points.shape)\n",
    "n_features = X.shape[1]\n",
    "X_vals, y_vals = boundary_points[:,0:n_features-1], np.reshape(boundary_points[:,-1], (-1,1)) \n",
    "print(y_vals.shape)\n",
    "interpolator = RBFInterpolator(X_vals, y_vals, kernel='cubic', smoothing=1e-12)"
   ]
  },
  {
   "cell_type": "code",
   "execution_count": 17,
   "metadata": {},
   "outputs": [
    {
     "name": "stdout",
     "output_type": "stream",
     "text": [
      "(390625, 4)\n"
     ]
    }
   ],
   "source": [
    "n_features = X.shape[1]\n",
    "ranges = [np.linspace(boundary_points[:, j].min(), boundary_points[:, j].max(), 25) for j in range(n_features)]\n",
    "grids = np.meshgrid(*ranges) \n",
    "\n",
    "grid_points = np.vstack([g.ravel() for g in grids]).T\n",
    "print(grid_points.shape)"
   ]
  },
  {
   "cell_type": "code",
   "execution_count": 18,
   "metadata": {},
   "outputs": [
    {
     "name": "stdout",
     "output_type": "stream",
     "text": [
      "(390625, 4)\n"
     ]
    }
   ],
   "source": [
    "print(grid_points.shape)"
   ]
  },
  {
   "cell_type": "code",
   "execution_count": 19,
   "metadata": {},
   "outputs": [
    {
     "name": "stdout",
     "output_type": "stream",
     "text": [
      "(390625, 3)\n",
      "(390625, 3)\n",
      "(390625, 1)\n",
      "(390625, 4)\n"
     ]
    }
   ],
   "source": [
    "eval_coords = grid_points[:,0:n_features-1]\n",
    "print(eval_coords.shape)\n",
    "eval_values = interpolator(eval_coords)\n",
    "add_boundary_pts = np.hstack((eval_coords, eval_values))\n",
    "print(eval_coords.shape)\n",
    "print(eval_values.shape)\n",
    "print(add_boundary_pts.shape)"
   ]
  },
  {
   "cell_type": "markdown",
   "metadata": {},
   "source": [
    "# Interpolating Additional Boundary points Using N-1 data point coordinates "
   ]
  },
  {
   "cell_type": "code",
   "execution_count": 20,
   "metadata": {},
   "outputs": [],
   "source": [
    "arr = model.predict_proba(add_boundary_pts)"
   ]
  },
  {
   "cell_type": "code",
   "execution_count": 21,
   "metadata": {},
   "outputs": [
    {
     "name": "stdout",
     "output_type": "stream",
     "text": [
      "Average difference: -3.008925147444152e-06\n"
     ]
    }
   ],
   "source": [
    "average_diff = np.mean(arr[:, 0] - arr[:, 1])\n",
    "print(\"Average difference:\", average_diff)"
   ]
  }
 ],
 "metadata": {
  "kernelspec": {
   "display_name": "base",
   "language": "python",
   "name": "python3"
  },
  "language_info": {
   "codemirror_mode": {
    "name": "ipython",
    "version": 3
   },
   "file_extension": ".py",
   "mimetype": "text/x-python",
   "name": "python",
   "nbconvert_exporter": "python",
   "pygments_lexer": "ipython3",
   "version": "3.11.4"
  }
 },
 "nbformat": 4,
 "nbformat_minor": 2
}
