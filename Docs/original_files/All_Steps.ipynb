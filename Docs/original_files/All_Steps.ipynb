{
 "cells": [
  {
   "cell_type": "code",
   "execution_count": 38,
   "id": "integral-adrian",
   "metadata": {},
   "outputs": [
    {
     "name": "stdout",
     "output_type": "stream",
     "text": [
      "[ 3.  4.  5.  6.  7.  8.  9. 10. 11. 12. 13. 14. 15. 16.] [4. 4. 4. 4. 4. 4. 4. 4. 4. 4. 4. 4. 4. 4.] [ 7.01664866  6.91151815  6.93554526  7.08873001  7.3710724   7.78257243\n",
      "  8.32323009  8.99304538  9.79201831 10.72014888 11.77743709 12.96388293\n",
      " 14.2794864  15.72424751]\n",
      "[ 3.  4.  5.  6.  7.  8.  9. 10. 11. 12. 13. 14. 15. 16.] [5. 5. 5. 5. 5. 5. 5. 5. 5. 5. 5. 5. 5. 5.] [ 6.60811358  6.3636875   6.24841905  6.26230824  6.40535507  6.67755953\n",
      "  7.07892163  7.60944137  8.26911874  9.05795374  9.97594638 11.02309666\n",
      " 12.19940458 13.50487013]\n",
      "[ 3.  4.  5.  6.  7.  8.  9. 10. 11. 12. 13. 14. 15. 16.] [20. 20. 20. 20. 20. 20. 20. 20. 20. 20. 20. 20. 20. 20.] [  0.72946317  -1.60439633  -3.80909819  -5.88464242  -7.83102902\n",
      "  -9.64825797 -11.33632929 -12.89524298 -14.32499903 -15.62559744\n",
      " -16.79703822 -17.83932136 -18.75244687 -19.53641474]\n",
      "[ 3.83149327  2.61199826  1.52166088  0.56048114 -0.27154096 -0.97440542\n",
      " -1.54811225 -1.99266145 -2.30805301 -2.49428693 -2.55136322 -2.47928187\n",
      " -2.27804288 -1.94764626]\n",
      "[ 7.01664866  6.91151815  6.93554526  7.08873001  7.3710724   7.78257243\n",
      "  8.32323009  8.99304538  9.79201831 10.72014888 11.77743709 12.96388293\n",
      " 14.2794864  15.72424751]\n",
      "[ -0.34328832  -0.64854195  -0.82463795  -0.87157631  -0.78935704\n",
      "  -0.57798013  -0.23744558  -0.29647855  -0.99934301  -1.57304985\n",
      "  -2.01759904  -2.3329906   -2.51922452  -2.57630081  -2.50421946\n",
      "  -2.30298047  -1.97258385  -0.27425316  -1.24557082  -2.08773085\n",
      "  -2.80073324  -3.384578    -3.83926512  -4.1647946   -4.36116645\n",
      "  -4.42838066  -4.36643724  -4.17533618  -1.08197174  -2.19258496\n",
      "  -3.17404055  -4.0263385   -4.74947882  -5.3434615   -5.80828655\n",
      "  -6.14395396  -6.35046373  -6.42781587  -6.37601037  -0.50854576\n",
      "  -1.88761218  -3.13752097  -4.25827212  -5.24986563  -6.11230151\n",
      "  -6.84557975  -7.44970036  -7.92466333  -8.27046867  -8.48711637\n",
      "  -8.57460643  -1.17281251  -2.69117449  -4.08037884  -5.34042555\n",
      "  -6.47131463  -7.47304607  -8.34561987  -9.08903604  -9.70329457\n",
      " -10.18839547 -10.54433873 -10.77112435  -0.04818595  -1.83500113\n",
      "  -3.49265868  -5.02115858  -6.42050086  -7.69068549  -8.8317125\n",
      "  -9.84358186 -10.72629359 -11.47984768 -12.10424414 -12.59948296\n",
      " -12.96556415  -0.56900088  -2.49511162  -4.29206472  -5.95986019\n",
      "  -7.49849803  -8.90797823 -10.18830079 -11.33946572 -12.36147301\n",
      " -13.25432266 -14.01801468 -14.65254906 -15.15792581  -1.08773767\n",
      "  -3.15314397  -5.08939264  -6.89648367  -8.57441707 -10.12319283\n",
      " -11.54281095 -12.83327144 -13.99457429 -15.02671951 -15.92970709\n",
      " -16.70353703 -17.34820934  -1.60439633  -3.80909819  -5.88464242\n",
      "  -7.83102902  -9.64825797 -11.33632929 -12.89524298 -14.32499903\n",
      " -15.62559744 -16.79703822 -17.83932136 -18.75244687 -19.53641474]\n",
      "(array([16]), array([13]))\n",
      "[-19.53641474]\n",
      "Q\n",
      "[[ 1  1  1  1  1  1  1  1  1  1  1  1  1  1]\n",
      " [ 1  1  1  1  1  1  1  1  1  1  1  1  1  1]\n",
      " [ 1  1  1  1  1  1  1  1  1  1  1  1  1  1]\n",
      " [ 1  1  1  1  1  1  1  1  1  1  1  1  1  1]\n",
      " [ 1  1  1  1  1  1  1  1  1  1  1  1  1  1]\n",
      " [ 1  1  1  1  1  1  1  1  1  1  1  1  1  1]\n",
      " [ 1  1  1  1  1  1  1  1  1  1  1  1  1  1]\n",
      " [ 1  1  1  1  1  1 -1 -1 -1 -1 -1 -1 -1  1]\n",
      " [ 1  1  1  1 -1 -1 -1 -1 -1 -1 -1 -1 -1 -1]\n",
      " [ 1  1  1 -1 -1 -1 -1 -1 -1 -1 -1 -1 -1 -1]\n",
      " [ 1  1  1 -1 -1 -1 -1 -1 -1 -1 -1 -1 -1 -1]\n",
      " [ 1  1 -1 -1 -1 -1 -1 -1 -1 -1 -1 -1 -1 -1]\n",
      " [ 1  1 -1 -1 -1 -1 -1 -1 -1 -1 -1 -1 -1 -1]\n",
      " [ 1 -1 -1 -1 -1 -1 -1 -1 -1 -1 -1 -1 -1 -1]\n",
      " [ 1 -1 -1 -1 -1 -1 -1 -1 -1 -1 -1 -1 -1 -1]\n",
      " [ 1 -1 -1 -1 -1 -1 -1 -1 -1 -1 -1 -1 -1 -1]\n",
      " [ 1 -1 -1 -1 -1 -1 -1 -1 -1 -1 -1 -1 -1 -1]]\n",
      "(17, 14)\n",
      "(17, 14)\n",
      "(17, 14)\n"
     ]
    },
    {
     "data": {
      "text/plain": [
       "array([[ 8. , 12. ],\n",
       "       [ 4. , 15. ],\n",
       "       [ 5.5, 12. ],\n",
       "       [13. , 10. ]])"
      ]
     },
     "execution_count": 38,
     "metadata": {},
     "output_type": "execute_result"
    },
    {
     "data": {
      "image/png": "[encoded data removed]",
      "text/plain": [
       "<Figure size 432x288 with 1 Axes>"
      ]
     },
     "metadata": {},
     "output_type": "display_data"
    }
   ],
   "source": [
    "import numpy as np\n",
    "import pandas as pd\n",
    "from sklearn import svm\n",
    "import matplotlib.pyplot as plt\n",
    "\n",
    "df=pd.read_csv('SVM_Dataset2.csv')\n",
    "X1=df['x1']\n",
    "X2=df['x2']\n",
    "X_train=np.array(list(zip(X1,X2)))\n",
    "y_train=df['y'].values\n",
    "# svm_classifier = svm.SVC(kernel='linear', C=10)\n",
    "#svm_classifier = svm.SVC(kernel='poly', C=10)\n",
    "svm_classifier = svm.SVC(kernel='poly',C=10, degree=2)\n",
    "# svm_classifier = svm.SVC(kernel='rbf', gamma=0.1, C=100)\n",
    "svm_classifier.fit(X_train, y_train)\n",
    "color_ls = []\n",
    "for k in y_train:\n",
    "    if k == 1:\n",
    "        color_ls.append('b')\n",
    "    else:\n",
    "        color_ls.append('r')\n",
    "color_ls\n",
    "label = []\n",
    "for k in y_train:\n",
    "    if k == 1:\n",
    "        label.append('H')\n",
    "    else:\n",
    "        label.append('NH')\n",
    "label\n",
    "def plot_decision_boundary(clf, X, y):\n",
    "    x1_min, x1_max = X[:, 0].min() - 1, X[:, 0].max() + 1\n",
    "    x2_min, x2_max = X[:, 1].min() - 1, X[:, 1].max() + 1\n",
    "    xx1, xx2 = np.meshgrid(np.arange(x1_min, x1_max),np.arange(x2_min, x2_max))\n",
    "    Z = clf.decision_function(np.array([xx1.ravel(), xx2.ravel()]).T).reshape(xx1.shape)\n",
    "    print(xx1[0], xx2[0], Z[0])\n",
    "    print(xx1[1], xx2[1], Z[1])\n",
    "    print(xx1[-1], xx2[-1], Z[-1])\n",
    "    print(np.mean(Z, axis=0))\n",
    "    print(np.max(Z, axis=0))\n",
    "    print(Z[Z < 0])\n",
    "    print(np.nonzero(Z < -19))\n",
    "    m = np.nonzero(Z < -19)\n",
    "    print(Z[m])\n",
    "    Q = clf.predict(np.array([xx1.ravel(), xx2.ravel()]).T).reshape(xx1.shape)\n",
    "    print('Q')\n",
    "    print(Q)\n",
    "    print(Q.shape)\n",
    "    print(xx1.shape)\n",
    "    print(xx2.shape)\n",
    "    plt.contourf(xx1, xx2, Z, colors='k', levels=[-1, 0, 1], alpha=0.4,linestyles=['--', '-', '--'])\n",
    "    plt.xlim(xx1.min(), xx1.max())\n",
    "    plt.ylim(xx2.min(), xx2.max())\n",
    "    \n",
    "plot_decision_boundary(svm_classifier, X_train, y_train)\n",
    "\n",
    "for k, (i,j) in enumerate(X_train):\n",
    "    plt.scatter(i, j, c = color_ls[k])\n",
    "    plt.text(i+0.02, j+0.02, label[k])\n",
    "    \n",
    "svm_classifier.support_vectors_"
   ]
  },
  {
   "cell_type": "markdown",
   "id": "heard-islam",
   "metadata": {},
   "source": [
    "## Decision Trajectories Steps"
   ]
  },
  {
   "cell_type": "code",
   "execution_count": 39,
   "id": "vertical-sweden",
   "metadata": {},
   "outputs": [
    {
     "data": {
      "image/png": "[encoded data removed]",
      "text/plain": [
       "<Figure size 432x288 with 1 Axes>"
      ]
     },
     "metadata": {},
     "output_type": "display_data"
    }
   ],
   "source": [
    "X = X_train\n",
    "x1_min, x1_max = X[:, 0].min() - 1, X[:, 0].max() + 1\n",
    "x2_min, x2_max = X[:, 1].min() - 1, X[:, 1].max() + 1\n",
    "xx1, xx2 = np.meshgrid(np.arange(x1_min, x1_max),np.arange(x2_min, x2_max))\n",
    "Z = svm_classifier.decision_function(np.array([xx1.ravel(), xx2.ravel()]).T).reshape(xx1.shape)\n",
    "contours = plt.contour(xx1, xx2, Z, levels=[-1, 0, 1])"
   ]
  },
  {
   "cell_type": "code",
   "execution_count": 40,
   "id": "trained-dominant",
   "metadata": {},
   "outputs": [
    {
     "name": "stdout",
     "output_type": "stream",
     "text": [
      "(array([16.        , 15.        , 14.        , 13.        , 12.        ,\n",
      "       11.        , 10.        ,  9.        ,  8.00114516,  8.        ,\n",
      "        7.        ,  6.74717764,  6.        ,  5.93388154,  5.35636735,\n",
      "        5.        ,  4.89510746,  4.53268747,  4.22376653,  4.        ,\n",
      "        3.96002045,  3.7410314 ]), array([11.55888497, 11.36918012, 11.21909005, 11.1178789 , 11.07794363,\n",
      "       11.11626064, 11.25671541, 11.53401547, 12.        , 12.00060363,\n",
      "       12.74125717, 13.        , 13.89851449, 14.        , 15.        ,\n",
      "       15.73984471, 16.        , 17.        , 18.        , 18.83086284,\n",
      "       19.        , 20.        ]))\n",
      "(array([16.        , 15.50553445, 15.        , 14.        , 13.        ,\n",
      "       12.        , 11.        , 10.        ,  9.        ,  8.20976194,\n",
      "        8.        ,  7.        ,  6.64366506,  6.        ,  5.75078663,\n",
      "        5.12728088,  5.        ,  4.66281816,  4.28813442,  4.        ,\n",
      "        3.9748504 ,  3.72315009,  3.50434907,  3.31255659]), array([11.10533536, 11.        , 10.88515957, 10.70026713, 10.55877732,\n",
      "       10.47168431, 10.45403791, 10.52700365, 10.72132062, 11.        ,\n",
      "       11.08356332, 11.68830133, 12.        , 12.66133086, 13.        ,\n",
      "       14.        , 14.23681299, 15.        , 16.        , 16.90784741,\n",
      "       17.        , 18.        , 19.        , 20.        ]))\n",
      "(array([16.        , 15.        , 14.        , 13.00095568, 13.        ,\n",
      "       12.        , 11.        , 10.        ,  9.        ,  8.62235606,\n",
      "        8.        ,  7.        ,  6.50152315,  6.        ,  5.51678502,\n",
      "        5.        ,  4.85867501,  4.38477366,  4.        ,  3.99980353,\n",
      "        3.70433972,  3.45292233,  3.23659562,  3.04867768,  3.        ]), array([10.65211364, 10.40151007, 10.18168032, 10.        ,  9.99981289,\n",
      "        9.86569236,  9.79226095,  9.79798716,  9.90967903, 10.        ,\n",
      "       10.16810951, 10.63775644, 11.        , 11.42792113, 12.        ,\n",
      "       12.74082392, 13.        , 14.        , 14.99938962, 15.        ,\n",
      "       16.        , 17.        , 18.        , 19.        , 19.28308616]))\n"
     ]
    }
   ],
   "source": [
    "for collection in contours.collections:\n",
    "    for path in collection.get_paths():\n",
    "        vertices = path.vertices\n",
    "        x_coords = vertices[:, 0]\n",
    "        y_coords = vertices[:, 1]\n",
    "        print((x_coords, y_coords))"
   ]
  },
  {
   "cell_type": "code",
   "execution_count": 41,
   "id": "previous-function",
   "metadata": {},
   "outputs": [
    {
     "data": {
      "text/plain": [
       "array([[16.        , 10.65211364],\n",
       "       [15.        , 10.40151007],\n",
       "       [14.        , 10.18168032],\n",
       "       [13.00095568, 10.        ],\n",
       "       [13.        ,  9.99981289],\n",
       "       [12.        ,  9.86569236],\n",
       "       [11.        ,  9.79226095],\n",
       "       [10.        ,  9.79798716],\n",
       "       [ 9.        ,  9.90967903],\n",
       "       [ 8.62235606, 10.        ],\n",
       "       [ 8.        , 10.16810951],\n",
       "       [ 7.        , 10.63775644],\n",
       "       [ 6.50152315, 11.        ],\n",
       "       [ 6.        , 11.42792113],\n",
       "       [ 5.51678502, 12.        ],\n",
       "       [ 5.        , 12.74082392],\n",
       "       [ 4.85867501, 13.        ],\n",
       "       [ 4.38477366, 14.        ],\n",
       "       [ 4.        , 14.99938962],\n",
       "       [ 3.99980353, 15.        ],\n",
       "       [ 3.70433972, 16.        ],\n",
       "       [ 3.45292233, 17.        ],\n",
       "       [ 3.23659562, 18.        ],\n",
       "       [ 3.04867768, 19.        ],\n",
       "       [ 3.        , 19.28308616]])"
      ]
     },
     "execution_count": 41,
     "metadata": {},
     "output_type": "execute_result"
    }
   ],
   "source": [
    "# The Yellow Line\n",
    "np.c_[x_coords, y_coords]"
   ]
  },
  {
   "cell_type": "markdown",
   "id": "polyphonic-finland",
   "metadata": {},
   "source": [
    "## Interpolation Step\n",
    "\n",
    "- It is better to interpolate the points of decision trajectory\n",
    "- As an option, we aare applying GaussianProcessRegressor for interpolation task\n",
    "- Other interpolation algorithms can be investigated"
   ]
  },
  {
   "cell_type": "code",
   "execution_count": 164,
   "id": "thermal-mustang",
   "metadata": {},
   "outputs": [
    {
     "name": "stderr",
     "output_type": "stream",
     "text": [
      "/Users/miladtoutounchian/anaconda3/lib/python3.6/site-packages/sklearn/gaussian_process/_gpr.py:506: ConvergenceWarning: lbfgs failed to converge (status=2):\n",
      "ABNORMAL_TERMINATION_IN_LNSRCH.\n",
      "\n",
      "Increase the number of iterations (max_iter) or scale the data as shown in:\n",
      "    https://scikit-learn.org/stable/modules/preprocessing.html\n",
      "  _check_optimize_result(\"lbfgs\", opt_res)\n"
     ]
    }
   ],
   "source": [
    "from sklearn.gaussian_process import GaussianProcessRegressor\n",
    "from sklearn.gaussian_process.kernels import RBF\n",
    "\n",
    "# Define the kernel\n",
    "kernel = RBF(length_scale=1.0)\n",
    "\n",
    "# Create a Gaussian Process Regressor\n",
    "gp = GaussianProcessRegressor(kernel=kernel, n_restarts_optimizer=10)\n",
    "\n",
    "# Fit the model\n",
    "gp.fit(np.c_[x_coords, y_coords][:,0].reshape(-1,1), np.c_[x_coords, y_coords][:,1])\n",
    "\n",
    "X_pred = np.linspace(np.min(x_coords), np.max(x_coords), 1000)[:, np.newaxis]\n",
    "y_pred, sigma = gp.predict(X_pred, return_std=True)"
   ]
  },
  {
   "cell_type": "markdown",
   "id": "independent-portal",
   "metadata": {},
   "source": [
    "### Use Cubic Interpolation"
   ]
  },
  {
   "cell_type": "code",
   "execution_count": 287,
   "id": "hindu-insurance",
   "metadata": {},
   "outputs": [],
   "source": [
    "from scipy.interpolate import interp1d\n",
    "\n",
    "f = interp1d(x_coords, y_coords, kind='cubic')\n",
    "X_pred = np.linspace(np.min(x_coords), np.max(x_coords), 1000)[:, np.newaxis]\n",
    "y_pred = f(X_pred)"
   ]
  },
  {
   "cell_type": "code",
   "execution_count": 288,
   "id": "neural-baseline",
   "metadata": {},
   "outputs": [
    {
     "data": {
      "text/plain": [
       "(1000, 2)"
      ]
     },
     "execution_count": 288,
     "metadata": {},
     "output_type": "execute_result"
    }
   ],
   "source": [
    "np.c_[X_pred, y_pred].shape"
   ]
  },
  {
   "cell_type": "code",
   "execution_count": 289,
   "id": "detailed-preservation",
   "metadata": {},
   "outputs": [
    {
     "data": {
      "text/plain": [
       "(25, 2)"
      ]
     },
     "execution_count": 289,
     "metadata": {},
     "output_type": "execute_result"
    }
   ],
   "source": [
    "np.c_[x_coords, y_coords].shape"
   ]
  },
  {
   "cell_type": "code",
   "execution_count": 290,
   "id": "experimental-portugal",
   "metadata": {},
   "outputs": [
    {
     "data": {
      "text/plain": [
       "[<matplotlib.lines.Line2D at 0x7f9b685cbf60>]"
      ]
     },
     "execution_count": 290,
     "metadata": {},
     "output_type": "execute_result"
    },
    {
     "data": {
      "image/png": "[encoded data removed]",
      "text/plain": [
       "<Figure size 432x288 with 1 Axes>"
      ]
     },
     "metadata": {},
     "output_type": "display_data"
    }
   ],
   "source": [
    "plt.plot(X_pred, y_pred)\n",
    "plt.plot(x_coords, y_coords)"
   ]
  },
  {
   "cell_type": "markdown",
   "id": "vertical-decrease",
   "metadata": {},
   "source": [
    "## Projection Step"
   ]
  },
  {
   "cell_type": "code",
   "execution_count": 291,
   "id": "associate-partner",
   "metadata": {},
   "outputs": [],
   "source": [
    "from scipy.spatial import KDTree\n",
    "\n",
    "# Function to reflect a point across the contour\n",
    "def reflect_point(point, contour):\n",
    "    tree = KDTree(contour)\n",
    "    closest_index = tree.query(point)[1]\n",
    "    closest_point = contour[closest_index]\n",
    "    reflected_point = closest_point + (closest_point - point)\n",
    "    return reflected_point"
   ]
  },
  {
   "cell_type": "code",
   "execution_count": 301,
   "id": "painful-investor",
   "metadata": {},
   "outputs": [],
   "source": [
    "contour_points = np.c_[X_pred, y_pred]"
   ]
  },
  {
   "cell_type": "code",
   "execution_count": 302,
   "id": "enormous-shuttle",
   "metadata": {},
   "outputs": [
    {
     "data": {
      "text/plain": [
       "(1000, 2)"
      ]
     },
     "execution_count": 302,
     "metadata": {},
     "output_type": "execute_result"
    }
   ],
   "source": [
    "contour_points.shape"
   ]
  },
  {
   "cell_type": "code",
   "execution_count": 297,
   "id": "greatest-paragraph",
   "metadata": {},
   "outputs": [],
   "source": [
    "# Reflect points\n",
    "reflected_points = np.array([reflect_point(point, contour_points) for point in X_train])"
   ]
  },
  {
   "cell_type": "code",
   "execution_count": 298,
   "id": "theoretical-grain",
   "metadata": {},
   "outputs": [
    {
     "data": {
      "text/plain": [
       "(20, 2)"
      ]
     },
     "execution_count": 298,
     "metadata": {},
     "output_type": "execute_result"
    }
   ],
   "source": [
    "reflected_points.shape"
   ]
  },
  {
   "cell_type": "code",
   "execution_count": 299,
   "id": "inside-girlfriend",
   "metadata": {},
   "outputs": [
    {
     "data": {
      "text/plain": [
       "<matplotlib.contour.QuadContourSet at 0x7f9b6915ea90>"
      ]
     },
     "execution_count": 299,
     "metadata": {},
     "output_type": "execute_result"
    },
    {
     "data": {
      "image/png": "[encoded data removed]",
      "text/plain": [
       "<Figure size 432x288 with 1 Axes>"
      ]
     },
     "metadata": {},
     "output_type": "display_data"
    }
   ],
   "source": [
    "plt.scatter(reflected_points[:,0][0:5], reflected_points[:,1][0:5], color = 'k')\n",
    "plt.scatter(X_train[:,0][0:5], X_train[:,1][0:5])\n",
    "plt.contour(xx1, xx2, Z, levels=[-1, 0, 1])"
   ]
  },
  {
   "cell_type": "code",
   "execution_count": 300,
   "id": "convertible-breathing",
   "metadata": {},
   "outputs": [
    {
     "data": {
      "text/plain": [
       "<matplotlib.contour.QuadContourSet at 0x7f9b692a87f0>"
      ]
     },
     "execution_count": 300,
     "metadata": {},
     "output_type": "execute_result"
    },
    {
     "data": {
      "image/png": "[encoded data removed]",
      "text/plain": [
       "<Figure size 432x288 with 1 Axes>"
      ]
     },
     "metadata": {},
     "output_type": "display_data"
    }
   ],
   "source": [
    "plt.scatter(reflected_points[:,0][5:10], reflected_points[:,1][5:10], color = 'k')\n",
    "plt.scatter(X_train[:,0][5:10], X_train[:,1][5:10])\n",
    "plt.contour(xx1, xx2, Z, levels=[-1, 0, 1])"
   ]
  },
  {
   "cell_type": "code",
   "execution_count": 286,
   "id": "labeled-gamma",
   "metadata": {},
   "outputs": [
    {
     "data": {
      "text/plain": [
       "<matplotlib.contour.QuadContourSet at 0x7f9b68be7fd0>"
      ]
     },
     "execution_count": 286,
     "metadata": {},
     "output_type": "execute_result"
    },
    {
     "data": {
      "image/png": "[encoded data removed]",
      "text/plain": [
       "<Figure size 432x288 with 1 Axes>"
      ]
     },
     "metadata": {},
     "output_type": "display_data"
    }
   ],
   "source": [
    "plt.scatter(reflected_points[:,0][10:15], reflected_points[:,1][10:15], color = 'k')\n",
    "plt.scatter(X_train[:,0][10:15], X_train[:,1][10:15])\n",
    "plt.contour(xx1, xx2, Z, levels=[-1, 0, 1])"
   ]
  },
  {
   "cell_type": "code",
   "execution_count": 268,
   "id": "african-ridge",
   "metadata": {},
   "outputs": [
    {
     "data": {
      "text/plain": [
       "<matplotlib.contour.QuadContourSet at 0x7f9b69445160>"
      ]
     },
     "execution_count": 268,
     "metadata": {},
     "output_type": "execute_result"
    },
    {
     "data": {
      "image/png": "[encoded data removed]",
      "text/plain": [
       "<Figure size 432x288 with 1 Axes>"
      ]
     },
     "metadata": {},
     "output_type": "display_data"
    }
   ],
   "source": [
    "plt.scatter(reflected_points[:,0][15:20], reflected_points[:,1][15:20], color = 'k')\n",
    "plt.scatter(X_train[:,0][15:20], X_train[:,1][15:20])\n",
    "plt.contour(xx1, xx2, Z, levels=[-1, 0, 1])"
   ]
  },
  {
   "cell_type": "markdown",
   "id": "aware-response",
   "metadata": {},
   "source": [
    "## Another function for reflection"
   ]
  },
  {
   "cell_type": "code",
   "execution_count": 269,
   "id": "lyric-subsection",
   "metadata": {
    "jupyter": {
     "source_hidden": true
    }
   },
   "outputs": [],
   "source": [
    "# Define a function to compute the Euclidean distance between two points\n",
    "def euclidean_distance(p1, p2):\n",
    "    return np.sqrt(np.sum((p1 - p2) ** 2))\n",
    "\n",
    "# Define a function to project a point onto a trajectory (find the closest point)\n",
    "def project_point_onto_trajectory(point, trajectory):\n",
    "    # Compute the distance between the point and all points on the trajectory\n",
    "    distances = np.array([euclidean_distance(point, p) for p in trajectory])\n",
    "    \n",
    "    # Find the index of the closest point on the trajectory\n",
    "    closest_index = np.argmin(distances)\n",
    "    \n",
    "    # Return the closest point (projection)\n",
    "    return trajectory[closest_index]\n",
    "\n",
    "# Define a function to reflect a point across its projection on a trajectory\n",
    "def reflect_point_across_trajectory(point, trajectory):\n",
    "    # Find the closest point on the trajectory (projection)\n",
    "    projection = project_point_onto_trajectory(point, trajectory)\n",
    "    \n",
    "    # Calculate the reflection of the point across the projection\n",
    "    reflection = 2 * projection - point\n",
    "    \n",
    "    return reflection\n",
    "\n",
    "reflected_points_class_new = np.array([reflect_point_across_trajectory(point, contour_points) for point, classof in zip(X_train, y_train) if classof == -1])"
   ]
  },
  {
   "cell_type": "code",
   "execution_count": 270,
   "id": "flexible-bangladesh",
   "metadata": {},
   "outputs": [
    {
     "data": {
      "text/plain": [
       "(10, 2)"
      ]
     },
     "execution_count": 270,
     "metadata": {},
     "output_type": "execute_result"
    }
   ],
   "source": [
    "reflected_points_class_new.shape"
   ]
  },
  {
   "cell_type": "code",
   "execution_count": 271,
   "id": "exempt-generator",
   "metadata": {
    "jupyter": {
     "source_hidden": true
    }
   },
   "outputs": [
    {
     "data": {
      "text/plain": [
       "<matplotlib.contour.QuadContourSet at 0x7f9b6883abe0>"
      ]
     },
     "execution_count": 271,
     "metadata": {},
     "output_type": "execute_result"
    },
    {
     "data": {
      "image/png": "[encoded data removed]",
      "text/plain": [
       "<Figure size 432x288 with 1 Axes>"
      ]
     },
     "metadata": {},
     "output_type": "display_data"
    }
   ],
   "source": [
    "plt.scatter(reflected_points_class_new[:,0], reflected_points_class_new[:,1], color = 'k')\n",
    "plt.scatter(X_train[y_train == 1][:,0], X_train[y_train == 1][:,1])\n",
    "plt.contour(xx1, xx2, Z, levels=[-1, 0, 1])"
   ]
  },
  {
   "cell_type": "markdown",
   "id": "according-schema",
   "metadata": {},
   "source": [
    "## Consider class for projection"
   ]
  },
  {
   "cell_type": "code",
   "execution_count": 272,
   "id": "funded-prairie",
   "metadata": {},
   "outputs": [],
   "source": [
    "# Reflect points\n",
    "reflected_points_class = np.array([reflect_point(point, contour_points) for point, classof in zip(X_train, y_train) if classof == -1])"
   ]
  },
  {
   "cell_type": "code",
   "execution_count": 273,
   "id": "stopped-marijuana",
   "metadata": {},
   "outputs": [
    {
     "data": {
      "text/plain": [
       "(10, 2)"
      ]
     },
     "execution_count": 273,
     "metadata": {},
     "output_type": "execute_result"
    }
   ],
   "source": [
    "reflected_points_class.shape"
   ]
  },
  {
   "cell_type": "code",
   "execution_count": 274,
   "id": "severe-battle",
   "metadata": {},
   "outputs": [
    {
     "data": {
      "text/plain": [
       "<matplotlib.contour.QuadContourSet at 0x7f9b683fbe80>"
      ]
     },
     "execution_count": 274,
     "metadata": {},
     "output_type": "execute_result"
    },
    {
     "data": {
      "image/png": "[encoded data removed]",
      "text/plain": [
       "<Figure size 432x288 with 1 Axes>"
      ]
     },
     "metadata": {},
     "output_type": "display_data"
    }
   ],
   "source": [
    "plt.scatter(reflected_points_class[:,0], reflected_points_class[:,1], color = 'k')\n",
    "plt.scatter(X_train[y_train == 1][:,0], X_train[y_train == 1][:,1])\n",
    "plt.contour(xx1, xx2, Z, levels=[-1, 0, 1])"
   ]
  },
  {
   "cell_type": "code",
   "execution_count": 275,
   "id": "abroad-fleece",
   "metadata": {},
   "outputs": [
    {
     "data": {
      "text/plain": [
       "(20, 2)"
      ]
     },
     "execution_count": 275,
     "metadata": {},
     "output_type": "execute_result"
    }
   ],
   "source": [
    "X_train.shape"
   ]
  },
  {
   "cell_type": "markdown",
   "id": "instrumental-development",
   "metadata": {},
   "source": [
    "## Optimal Personalized Treatment Plan:\n",
    "\n",
    "For continuous features without constraint:\n",
    "\n",
    "\t- The average of original point and orthogonal projected point is the optimal solution\n",
    "\n",
    "For continuous features with defining maximum possible changes as constraints (for example x2 can be changed only by 20%):\n",
    "\n",
    "\t- It is possible that for some counterfactual samples, the optimal solution would be infeasible\n",
    "\t- However, we can provide better movement for those infeasible point\n",
    "\t- For better movement of infeasible points should move to the direction of a line that connect the original point to a nearest or near points on the decision trajectory \t \n",
    "\n",
    "For having both categorical and numerical features:\n",
    "\n",
    "\t- If we have C categorical features that can not be changes and N features in total, the search space would be N-C"
   ]
  },
  {
   "cell_type": "markdown",
   "id": "cutting-montgomery",
   "metadata": {},
   "source": [
    "## Close work to this Geometric idea\n",
    "\n",
    "- Check Counterfactual Explanation\n",
    "\n",
    "-DiCE: https://github.com/interpretml/DiCE/blob/main/docs/source/notebooks/DiCE_getting_started.ipynb\n"
   ]
  }
 ],
 "metadata": {
  "kernelspec": {
   "display_name": "Python 3",
   "language": "python",
   "name": "python3"
  },
  "language_info": {
   "codemirror_mode": {
    "name": "ipython",
    "version": 3
   },
   "file_extension": ".py",
   "mimetype": "text/x-python",
   "name": "python",
   "nbconvert_exporter": "python",
   "pygments_lexer": "ipython3",
   "version": "3.6.8"
  }
 },
 "nbformat": 4,
 "nbformat_minor": 5
}
