{
 "cells": [
  {
   "cell_type": "markdown",
   "metadata": {},
   "source": [
    "# Computation Notebook \n",
    "\n",
    "This notebook is meant to show and compare the computational costs with the grid-based approach (searching all possible gridpoints) versus the gridless approach (binary search) to find decision boundary points. \n",
    "\n",
    "We show the times that are associated with each of these."
   ]
  },
  {
   "cell_type": "code",
   "execution_count": 1,
   "metadata": {},
   "outputs": [],
   "source": [
    "from sklearn.datasets import make_classification\n",
    "from sklearn.linear_model import LogisticRegression\n",
    "import matplotlib.pyplot as plt\n",
    "import numpy as np \n",
    "import pandas as pd\n",
    "import warnings\n",
    "import random \n",
    "from sklearn.utils import resample\n",
    "\n",
    "random.seed(0)\n",
    "warnings.filterwarnings('ignore', category=UserWarning)\n",
    "\n",
    "import os\n",
    "import sys\n",
    "nb_dir = os.path.split(os.getcwd())[0]\n",
    "if nb_dir not in sys.path:\n",
    "    sys.path.append(nb_dir)"
   ]
  },
  {
   "cell_type": "markdown",
   "metadata": {},
   "source": [
    "# Experiments of the Computation Costs for Grid-based Approach (Logistic Regression with Numba)\n",
    "\n",
    "$\\textbf{ Logistic Regression with Grid-based Method }$ -- 50 features\n",
    "\n",
    "Resolution: $R = 15$ ($15^{50}$ points), Memory Error (Maximum allowed dimension exceeded), 0 boundary points found\n",
    "\n",
    "Resolution: $R = 10$ ($10^{50}$ points), Memory Error (Maximum allowed dimension exceeded), 0 boundary points found\n",
    "\n",
    "$\\textbf{ Logistic Regression with Grid-based Method }$ -- 10 features\n",
    "\n",
    "Resolution: $R = 15$ ($15^{15}$ points), 42 Terabyte Memory Error, 0 boundary points found\n",
    "\n",
    "Resolution: $R = 10$ ($10^{10}$ points), 745 Gigabytes Memory Error, 0 boundary points found\n",
    "\n",
    "\n",
    "$\\textbf{ Logistic Regression with Grid-based Method }$ -- 2 features\n",
    "\n",
    "Resolution: $R = 150$ ($150^2 = 22,500$ points searched), 28.1 seconds runtime, 454 boundary points found\n",
    "\n",
    "Resolution: $R = 100$ ($100^2 = 10,000$ points searched) 5.5 seconds runtime, 104 boundary points found"
   ]
  },
  {
   "cell_type": "code",
   "execution_count": 2,
   "metadata": {},
   "outputs": [],
   "source": [
    "from files.grid_optimal_point import optimal_point"
   ]
  },
  {
   "cell_type": "code",
   "execution_count": 3,
   "metadata": {},
   "outputs": [],
   "source": [
    "X, y = make_classification(n_samples=2000, n_features=2, n_informative=2, n_redundant=0, random_state=42, n_classes=2)\n",
    "model = LogisticRegression()\n",
    "y = y.reshape(-1,1)\n",
    "df1 = pd.DataFrame(data=np.hstack((X,y)))"
   ]
  },
  {
   "cell_type": "code",
   "execution_count": 4,
   "metadata": {},
   "outputs": [
    {
     "data": {
      "text/html": [
       "<div>\n",
       "<style scoped>\n",
       "    .dataframe tbody tr th:only-of-type {\n",
       "        vertical-align: middle;\n",
       "    }\n",
       "\n",
       "    .dataframe tbody tr th {\n",
       "        vertical-align: top;\n",
       "    }\n",
       "\n",
       "    .dataframe thead th {\n",
       "        text-align: right;\n",
       "    }\n",
       "</style>\n",
       "<table border=\"1\" class=\"dataframe\">\n",
       "  <thead>\n",
       "    <tr style=\"text-align: right;\">\n",
       "      <th></th>\n",
       "      <th>0</th>\n",
       "      <th>1</th>\n",
       "      <th>2</th>\n",
       "    </tr>\n",
       "  </thead>\n",
       "  <tbody>\n",
       "    <tr>\n",
       "      <th>0</th>\n",
       "      <td>0.800062</td>\n",
       "      <td>-0.957489</td>\n",
       "      <td>1.0</td>\n",
       "    </tr>\n",
       "    <tr>\n",
       "      <th>1</th>\n",
       "      <td>1.187099</td>\n",
       "      <td>1.159787</td>\n",
       "      <td>1.0</td>\n",
       "    </tr>\n",
       "    <tr>\n",
       "      <th>2</th>\n",
       "      <td>0.154512</td>\n",
       "      <td>1.217520</td>\n",
       "      <td>0.0</td>\n",
       "    </tr>\n",
       "    <tr>\n",
       "      <th>3</th>\n",
       "      <td>0.179014</td>\n",
       "      <td>-0.852832</td>\n",
       "      <td>1.0</td>\n",
       "    </tr>\n",
       "    <tr>\n",
       "      <th>4</th>\n",
       "      <td>-0.735827</td>\n",
       "      <td>-0.245366</td>\n",
       "      <td>0.0</td>\n",
       "    </tr>\n",
       "    <tr>\n",
       "      <th>5</th>\n",
       "      <td>0.039487</td>\n",
       "      <td>1.320957</td>\n",
       "      <td>1.0</td>\n",
       "    </tr>\n",
       "    <tr>\n",
       "      <th>6</th>\n",
       "      <td>-1.482199</td>\n",
       "      <td>0.419738</td>\n",
       "      <td>0.0</td>\n",
       "    </tr>\n",
       "    <tr>\n",
       "      <th>7</th>\n",
       "      <td>-0.622829</td>\n",
       "      <td>-0.803223</td>\n",
       "      <td>0.0</td>\n",
       "    </tr>\n",
       "    <tr>\n",
       "      <th>8</th>\n",
       "      <td>0.965721</td>\n",
       "      <td>-1.068587</td>\n",
       "      <td>1.0</td>\n",
       "    </tr>\n",
       "    <tr>\n",
       "      <th>9</th>\n",
       "      <td>0.798459</td>\n",
       "      <td>-1.022348</td>\n",
       "      <td>1.0</td>\n",
       "    </tr>\n",
       "  </tbody>\n",
       "</table>\n",
       "</div>"
      ],
      "text/plain": [
       "          0         1    2\n",
       "0  0.800062 -0.957489  1.0\n",
       "1  1.187099  1.159787  1.0\n",
       "2  0.154512  1.217520  0.0\n",
       "3  0.179014 -0.852832  1.0\n",
       "4 -0.735827 -0.245366  0.0\n",
       "5  0.039487  1.320957  1.0\n",
       "6 -1.482199  0.419738  0.0\n",
       "7 -0.622829 -0.803223  0.0\n",
       "8  0.965721 -1.068587  1.0\n",
       "9  0.798459 -1.022348  1.0"
      ]
     },
     "execution_count": 4,
     "metadata": {},
     "output_type": "execute_result"
    }
   ],
   "source": [
    "df1.head(n=10)"
   ]
  },
  {
   "cell_type": "code",
   "execution_count": 5,
   "metadata": {},
   "outputs": [
    {
     "name": "stderr",
     "output_type": "stream",
     "text": [
      "/mnt/c/Users/Compuworld/drexel_research_2024_2025/Docs/files/common_functions.py:425: FutureWarning: The behavior of DataFrame concatenation with empty or all-NA entries is deprecated. In a future version, this will no longer exclude empty or all-NA columns when determining the result dtypes. To retain the old behavior, exclude the relevant entries before the concat operation.\n",
      "  balanced_dataset = pd.concat([balanced_dataset, upsampled_class], ignore_index=True)\n"
     ]
    },
    {
     "name": "stdout",
     "output_type": "stream",
     "text": [
      "Class counts:\n",
      " 2\n",
      "1    1000\n",
      "0    1000\n",
      "Name: count, dtype: int64\n",
      "Fitting model...\n",
      "Model training complete.\n",
      "boundary points started generation...\n",
      "boundary points finished.\n",
      "Number of boundary points\n",
      "(311, 2)\n",
      "Finding the closest point from the contour line to the point...\n",
      "Finding the closest point from the contour line to the point.\n",
      "[[1.07092306 0.87624128]]\n",
      "[[-1.16018181  0.00452233]]\n"
     ]
    },
    {
     "data": {
      "text/plain": [
       "[np.float64(-0.05536678064834133), np.float64(1.163749815503608)]"
      ]
     },
     "execution_count": 5,
     "metadata": {},
     "output_type": "execute_result"
    }
   ],
   "source": [
    "optimal_point(df1, model=model, desired_class=0, original_class=1, resolution=150, chosen_row=1, point_epsilon=0.1, epsilon=0.07, plot=False)"
   ]
  },
  {
   "cell_type": "code",
   "execution_count": 62,
   "metadata": {},
   "outputs": [
    {
     "name": "stderr",
     "output_type": "stream",
     "text": [
      "C:\\Users\\Compuworld\\AppData\\Local\\Temp\\ipykernel_26024\\3739720189.py:17: FutureWarning: The behavior of DataFrame concatenation with empty or all-NA entries is deprecated. In a future version, this will no longer exclude empty or all-NA columns when determining the result dtypes. To retain the old behavior, exclude the relevant entries before the concat operation.\n",
      "  balanced_dataset = pd.concat([balanced_dataset, upsampled_class], ignore_index=True)\n"
     ]
    },
    {
     "name": "stdout",
     "output_type": "stream",
     "text": [
      "Class counts:\n",
      " 2\n",
      "1    1000\n",
      "0    1000\n",
      "Name: count, dtype: int64\n",
      "Fitting model...\n",
      "Model training complete.\n",
      "boundary points started generation...\n",
      "boundary points finished.\n",
      "(104, 2)\n",
      "Finding the closest point from the contour line to the point...\n",
      "Finding the closest point from the contour line to the point.\n",
      "[[1.07092411 1.09801295]]\n",
      "[[-1.15887253 -0.03919662]]\n"
     ]
    },
    {
     "data": {
      "text/plain": [
       "[-0.05396585561956102, 1.116748769377007]"
      ]
     },
     "execution_count": 62,
     "metadata": {},
     "output_type": "execute_result"
    }
   ],
   "source": [
    "optimal_point(df1, model=model, desired_class=0, original_class=1, resolution=100, chosen_row=1, point_epsilon=0.1, epsilon=0.07)"
   ]
  },
  {
   "cell_type": "code",
   "execution_count": 6,
   "metadata": {},
   "outputs": [],
   "source": [
    "X, y = make_classification(n_samples=2000, n_features=10, n_informative=10, n_redundant=0, random_state=42, n_classes=2)\n",
    "model = LogisticRegression()\n",
    "y = y.reshape(-1,1)\n",
    "df2 = pd.DataFrame(data=np.hstack((X,y)))"
   ]
  },
  {
   "cell_type": "code",
   "execution_count": 7,
   "metadata": {},
   "outputs": [
    {
     "data": {
      "text/html": [
       "<div>\n",
       "<style scoped>\n",
       "    .dataframe tbody tr th:only-of-type {\n",
       "        vertical-align: middle;\n",
       "    }\n",
       "\n",
       "    .dataframe tbody tr th {\n",
       "        vertical-align: top;\n",
       "    }\n",
       "\n",
       "    .dataframe thead th {\n",
       "        text-align: right;\n",
       "    }\n",
       "</style>\n",
       "<table border=\"1\" class=\"dataframe\">\n",
       "  <thead>\n",
       "    <tr style=\"text-align: right;\">\n",
       "      <th></th>\n",
       "      <th>0</th>\n",
       "      <th>1</th>\n",
       "      <th>2</th>\n",
       "      <th>3</th>\n",
       "      <th>4</th>\n",
       "      <th>5</th>\n",
       "      <th>6</th>\n",
       "      <th>7</th>\n",
       "      <th>8</th>\n",
       "      <th>9</th>\n",
       "      <th>10</th>\n",
       "    </tr>\n",
       "  </thead>\n",
       "  <tbody>\n",
       "    <tr>\n",
       "      <th>0</th>\n",
       "      <td>1.990620</td>\n",
       "      <td>-2.921959</td>\n",
       "      <td>-5.689956</td>\n",
       "      <td>3.173745</td>\n",
       "      <td>-4.393239</td>\n",
       "      <td>0.538239</td>\n",
       "      <td>-0.962650</td>\n",
       "      <td>-3.024594</td>\n",
       "      <td>-0.837913</td>\n",
       "      <td>-1.944185</td>\n",
       "      <td>1.0</td>\n",
       "    </tr>\n",
       "    <tr>\n",
       "      <th>1</th>\n",
       "      <td>1.342356</td>\n",
       "      <td>0.942957</td>\n",
       "      <td>3.057782</td>\n",
       "      <td>0.059667</td>\n",
       "      <td>-0.611317</td>\n",
       "      <td>-0.985521</td>\n",
       "      <td>0.323851</td>\n",
       "      <td>0.853719</td>\n",
       "      <td>1.741036</td>\n",
       "      <td>2.069323</td>\n",
       "      <td>1.0</td>\n",
       "    </tr>\n",
       "    <tr>\n",
       "      <th>2</th>\n",
       "      <td>-1.063987</td>\n",
       "      <td>2.185873</td>\n",
       "      <td>-2.230002</td>\n",
       "      <td>1.095676</td>\n",
       "      <td>-0.240747</td>\n",
       "      <td>-1.776678</td>\n",
       "      <td>-4.165090</td>\n",
       "      <td>-0.122159</td>\n",
       "      <td>0.688403</td>\n",
       "      <td>1.401783</td>\n",
       "      <td>1.0</td>\n",
       "    </tr>\n",
       "    <tr>\n",
       "      <th>3</th>\n",
       "      <td>-4.852159</td>\n",
       "      <td>1.297380</td>\n",
       "      <td>3.466596</td>\n",
       "      <td>4.114327</td>\n",
       "      <td>-4.004815</td>\n",
       "      <td>-0.591707</td>\n",
       "      <td>2.035825</td>\n",
       "      <td>3.118117</td>\n",
       "      <td>-0.996438</td>\n",
       "      <td>1.465570</td>\n",
       "      <td>1.0</td>\n",
       "    </tr>\n",
       "    <tr>\n",
       "      <th>4</th>\n",
       "      <td>0.033975</td>\n",
       "      <td>-0.181000</td>\n",
       "      <td>0.438378</td>\n",
       "      <td>-1.506810</td>\n",
       "      <td>-0.503984</td>\n",
       "      <td>2.442108</td>\n",
       "      <td>-0.408010</td>\n",
       "      <td>1.722336</td>\n",
       "      <td>2.563095</td>\n",
       "      <td>-3.228898</td>\n",
       "      <td>1.0</td>\n",
       "    </tr>\n",
       "    <tr>\n",
       "      <th>5</th>\n",
       "      <td>2.770680</td>\n",
       "      <td>-0.667671</td>\n",
       "      <td>-2.726522</td>\n",
       "      <td>1.778277</td>\n",
       "      <td>3.033320</td>\n",
       "      <td>1.052492</td>\n",
       "      <td>1.810689</td>\n",
       "      <td>-3.730430</td>\n",
       "      <td>-2.032935</td>\n",
       "      <td>2.371080</td>\n",
       "      <td>0.0</td>\n",
       "    </tr>\n",
       "    <tr>\n",
       "      <th>6</th>\n",
       "      <td>-1.375939</td>\n",
       "      <td>0.889744</td>\n",
       "      <td>-0.487178</td>\n",
       "      <td>0.394568</td>\n",
       "      <td>-1.553368</td>\n",
       "      <td>2.302102</td>\n",
       "      <td>-0.134183</td>\n",
       "      <td>1.340100</td>\n",
       "      <td>0.741324</td>\n",
       "      <td>0.554025</td>\n",
       "      <td>1.0</td>\n",
       "    </tr>\n",
       "    <tr>\n",
       "      <th>7</th>\n",
       "      <td>0.060123</td>\n",
       "      <td>-2.850018</td>\n",
       "      <td>-1.808885</td>\n",
       "      <td>1.649850</td>\n",
       "      <td>0.827631</td>\n",
       "      <td>-0.681723</td>\n",
       "      <td>3.049334</td>\n",
       "      <td>-1.560887</td>\n",
       "      <td>-0.029848</td>\n",
       "      <td>0.037102</td>\n",
       "      <td>0.0</td>\n",
       "    </tr>\n",
       "    <tr>\n",
       "      <th>8</th>\n",
       "      <td>1.735121</td>\n",
       "      <td>4.266722</td>\n",
       "      <td>0.767749</td>\n",
       "      <td>-2.012636</td>\n",
       "      <td>2.538945</td>\n",
       "      <td>-4.960979</td>\n",
       "      <td>2.908603</td>\n",
       "      <td>-6.451668</td>\n",
       "      <td>2.723697</td>\n",
       "      <td>0.785976</td>\n",
       "      <td>0.0</td>\n",
       "    </tr>\n",
       "    <tr>\n",
       "      <th>9</th>\n",
       "      <td>0.436313</td>\n",
       "      <td>1.826231</td>\n",
       "      <td>-0.232626</td>\n",
       "      <td>-0.570040</td>\n",
       "      <td>1.101895</td>\n",
       "      <td>0.658344</td>\n",
       "      <td>-0.079847</td>\n",
       "      <td>-2.158960</td>\n",
       "      <td>0.985347</td>\n",
       "      <td>0.426746</td>\n",
       "      <td>0.0</td>\n",
       "    </tr>\n",
       "  </tbody>\n",
       "</table>\n",
       "</div>"
      ],
      "text/plain": [
       "         0         1         2         3         4         5         6   \\\n",
       "0  1.990620 -2.921959 -5.689956  3.173745 -4.393239  0.538239 -0.962650   \n",
       "1  1.342356  0.942957  3.057782  0.059667 -0.611317 -0.985521  0.323851   \n",
       "2 -1.063987  2.185873 -2.230002  1.095676 -0.240747 -1.776678 -4.165090   \n",
       "3 -4.852159  1.297380  3.466596  4.114327 -4.004815 -0.591707  2.035825   \n",
       "4  0.033975 -0.181000  0.438378 -1.506810 -0.503984  2.442108 -0.408010   \n",
       "5  2.770680 -0.667671 -2.726522  1.778277  3.033320  1.052492  1.810689   \n",
       "6 -1.375939  0.889744 -0.487178  0.394568 -1.553368  2.302102 -0.134183   \n",
       "7  0.060123 -2.850018 -1.808885  1.649850  0.827631 -0.681723  3.049334   \n",
       "8  1.735121  4.266722  0.767749 -2.012636  2.538945 -4.960979  2.908603   \n",
       "9  0.436313  1.826231 -0.232626 -0.570040  1.101895  0.658344 -0.079847   \n",
       "\n",
       "         7         8         9    10  \n",
       "0 -3.024594 -0.837913 -1.944185  1.0  \n",
       "1  0.853719  1.741036  2.069323  1.0  \n",
       "2 -0.122159  0.688403  1.401783  1.0  \n",
       "3  3.118117 -0.996438  1.465570  1.0  \n",
       "4  1.722336  2.563095 -3.228898  1.0  \n",
       "5 -3.730430 -2.032935  2.371080  0.0  \n",
       "6  1.340100  0.741324  0.554025  1.0  \n",
       "7 -1.560887 -0.029848  0.037102  0.0  \n",
       "8 -6.451668  2.723697  0.785976  0.0  \n",
       "9 -2.158960  0.985347  0.426746  0.0  "
      ]
     },
     "execution_count": 7,
     "metadata": {},
     "output_type": "execute_result"
    }
   ],
   "source": [
    "df2.head(n=10)"
   ]
  },
  {
   "cell_type": "code",
   "execution_count": 9,
   "metadata": {},
   "outputs": [
    {
     "name": "stdout",
     "output_type": "stream",
     "text": [
      "Class counts:\n",
      " 10\n",
      "1    1005\n",
      "0    1005\n",
      "Name: count, dtype: int64\n",
      "Fitting model...\n",
      "Model training complete.\n",
      "boundary points started generation...\n",
      "Not enough memory to generate a grid with 15^10 number of points\n"
     ]
    },
    {
     "name": "stderr",
     "output_type": "stream",
     "text": [
      "c:\\Users\\Compuworld\\drexel_research_2024_2025\\files\\common_functions.py:422: FutureWarning: The behavior of DataFrame concatenation with empty or all-NA entries is deprecated. In a future version, this will no longer exclude empty or all-NA columns when determining the result dtypes. To retain the old behavior, exclude the relevant entries before the concat operation.\n",
      "  balanced_dataset = pd.concat([balanced_dataset, upsampled_class], ignore_index=True)\n"
     ]
    },
    {
     "ename": "UnboundLocalError",
     "evalue": "cannot access local variable 'boundary_points' where it is not associated with a value",
     "output_type": "error",
     "traceback": [
      "\u001b[1;31m---------------------------------------------------------------------------\u001b[0m",
      "\u001b[1;31mUnboundLocalError\u001b[0m                         Traceback (most recent call last)",
      "Cell \u001b[1;32mIn[9], line 1\u001b[0m\n\u001b[1;32m----> 1\u001b[0m optimal_point(df2, model\u001b[38;5;241m=\u001b[39mmodel, desired_class\u001b[38;5;241m=\u001b[39m\u001b[38;5;241m0\u001b[39m, original_class\u001b[38;5;241m=\u001b[39m\u001b[38;5;241m1\u001b[39m, resolution\u001b[38;5;241m=\u001b[39m\u001b[38;5;241m15\u001b[39m, chosen_row\u001b[38;5;241m=\u001b[39m\u001b[38;5;241m1\u001b[39m, point_epsilon\u001b[38;5;241m=\u001b[39m\u001b[38;5;241m0.1\u001b[39m, epsilon\u001b[38;5;241m=\u001b[39m\u001b[38;5;241m0.07\u001b[39m)\n",
      "File \u001b[1;32mc:\\Users\\Compuworld\\drexel_research_2024_2025\\files\\grid_optimal_point.py:274\u001b[0m, in \u001b[0;36moptimal_point\u001b[1;34m(dataset, model, desired_class, original_class, chosen_row, resolution, point_epsilon, epsilon, constraints, deltas, plot)\u001b[0m\n\u001b[0;32m    272\u001b[0m undesired_coords \u001b[38;5;241m=\u001b[39m X_train\u001b[38;5;241m.\u001b[39miloc[chosen_row, :]\n\u001b[0;32m    273\u001b[0m \u001b[38;5;66;03m# Fitting the boundary points to the constraints provided by the real world\u001b[39;00m\n\u001b[1;32m--> 274\u001b[0m contours \u001b[38;5;241m=\u001b[39m real_world_constraints(points\u001b[38;5;241m=\u001b[39mboundary_points, undesired_coords\u001b[38;5;241m=\u001b[39mundesired_coords, constraints\u001b[38;5;241m=\u001b[39mconstraints)\n\u001b[0;32m    275\u001b[0m contours \u001b[38;5;241m=\u001b[39m contours\u001b[38;5;241m.\u001b[39mto_numpy()  \u001b[38;5;66;03m# Convert to NumPy for further processing\u001b[39;00m\n\u001b[0;32m    277\u001b[0m \u001b[38;5;66;03m# contours = boundary_points  # (Commented: Alternative to use raw boundary)\u001b[39;00m\n",
      "\u001b[1;31mUnboundLocalError\u001b[0m: cannot access local variable 'boundary_points' where it is not associated with a value"
     ]
    }
   ],
   "source": [
    "optimal_point(df2, model=model, desired_class=0, original_class=1, resolution=15, chosen_row=1, point_epsilon=0.1, epsilon=0.07)"
   ]
  },
  {
   "cell_type": "code",
   "execution_count": 69,
   "metadata": {},
   "outputs": [
    {
     "name": "stdout",
     "output_type": "stream",
     "text": [
      "Class counts:\n",
      " 10\n",
      "1    1005\n",
      "0    1005\n",
      "Name: count, dtype: int64\n",
      "Fitting model...\n",
      "Model training complete.\n",
      "boundary points started generation...\n",
      "Not enough memory to generate a grid with 10^10 number of points\n"
     ]
    },
    {
     "name": "stderr",
     "output_type": "stream",
     "text": [
      "C:\\Users\\Compuworld\\AppData\\Local\\Temp\\ipykernel_26024\\3739720189.py:17: FutureWarning: The behavior of DataFrame concatenation with empty or all-NA entries is deprecated. In a future version, this will no longer exclude empty or all-NA columns when determining the result dtypes. To retain the old behavior, exclude the relevant entries before the concat operation.\n",
      "  balanced_dataset = pd.concat([balanced_dataset, upsampled_class], ignore_index=True)\n"
     ]
    }
   ],
   "source": [
    "optimal_point(df2, model=model, desired_class=0, original_class=1, resolution=10, chosen_row=1, point_epsilon=0.1, epsilon=0.07)"
   ]
  },
  {
   "cell_type": "code",
   "execution_count": 10,
   "metadata": {},
   "outputs": [],
   "source": [
    "X, y = make_classification(n_samples=2000, n_features=50, n_informative=50, n_redundant=0, random_state=42, n_classes=2)\n",
    "model = LogisticRegression()\n",
    "y = y.reshape(-1,1)\n",
    "df3 = pd.DataFrame(data=np.hstack((X,y)))"
   ]
  },
  {
   "cell_type": "code",
   "execution_count": 11,
   "metadata": {},
   "outputs": [
    {
     "data": {
      "text/html": [
       "<div>\n",
       "<style scoped>\n",
       "    .dataframe tbody tr th:only-of-type {\n",
       "        vertical-align: middle;\n",
       "    }\n",
       "\n",
       "    .dataframe tbody tr th {\n",
       "        vertical-align: top;\n",
       "    }\n",
       "\n",
       "    .dataframe thead th {\n",
       "        text-align: right;\n",
       "    }\n",
       "</style>\n",
       "<table border=\"1\" class=\"dataframe\">\n",
       "  <thead>\n",
       "    <tr style=\"text-align: right;\">\n",
       "      <th></th>\n",
       "      <th>0</th>\n",
       "      <th>1</th>\n",
       "      <th>2</th>\n",
       "      <th>3</th>\n",
       "      <th>4</th>\n",
       "      <th>5</th>\n",
       "      <th>6</th>\n",
       "      <th>7</th>\n",
       "      <th>8</th>\n",
       "      <th>9</th>\n",
       "      <th>...</th>\n",
       "      <th>41</th>\n",
       "      <th>42</th>\n",
       "      <th>43</th>\n",
       "      <th>44</th>\n",
       "      <th>45</th>\n",
       "      <th>46</th>\n",
       "      <th>47</th>\n",
       "      <th>48</th>\n",
       "      <th>49</th>\n",
       "      <th>50</th>\n",
       "    </tr>\n",
       "  </thead>\n",
       "  <tbody>\n",
       "    <tr>\n",
       "      <th>0</th>\n",
       "      <td>1.498960</td>\n",
       "      <td>1.740244</td>\n",
       "      <td>2.852685</td>\n",
       "      <td>0.483250</td>\n",
       "      <td>2.629995</td>\n",
       "      <td>2.421617</td>\n",
       "      <td>-0.605894</td>\n",
       "      <td>3.277559</td>\n",
       "      <td>-4.254546</td>\n",
       "      <td>0.657476</td>\n",
       "      <td>...</td>\n",
       "      <td>1.655511</td>\n",
       "      <td>-5.087583</td>\n",
       "      <td>-1.446621</td>\n",
       "      <td>5.061929</td>\n",
       "      <td>-4.813585</td>\n",
       "      <td>-8.186449</td>\n",
       "      <td>3.429404</td>\n",
       "      <td>-10.006712</td>\n",
       "      <td>3.805926</td>\n",
       "      <td>1.0</td>\n",
       "    </tr>\n",
       "    <tr>\n",
       "      <th>1</th>\n",
       "      <td>11.043912</td>\n",
       "      <td>1.305697</td>\n",
       "      <td>-4.162067</td>\n",
       "      <td>7.062152</td>\n",
       "      <td>10.188181</td>\n",
       "      <td>-5.216963</td>\n",
       "      <td>0.869844</td>\n",
       "      <td>6.395281</td>\n",
       "      <td>-14.499055</td>\n",
       "      <td>-2.626266</td>\n",
       "      <td>...</td>\n",
       "      <td>-1.371640</td>\n",
       "      <td>-2.518497</td>\n",
       "      <td>-1.723985</td>\n",
       "      <td>-2.125003</td>\n",
       "      <td>-2.793473</td>\n",
       "      <td>-0.928793</td>\n",
       "      <td>-7.307003</td>\n",
       "      <td>-9.042577</td>\n",
       "      <td>-1.534964</td>\n",
       "      <td>1.0</td>\n",
       "    </tr>\n",
       "    <tr>\n",
       "      <th>2</th>\n",
       "      <td>1.699169</td>\n",
       "      <td>-8.643500</td>\n",
       "      <td>5.242382</td>\n",
       "      <td>4.438892</td>\n",
       "      <td>-0.622756</td>\n",
       "      <td>0.935984</td>\n",
       "      <td>5.435414</td>\n",
       "      <td>3.986439</td>\n",
       "      <td>5.502292</td>\n",
       "      <td>2.903077</td>\n",
       "      <td>...</td>\n",
       "      <td>-2.215406</td>\n",
       "      <td>5.446412</td>\n",
       "      <td>4.758631</td>\n",
       "      <td>1.948837</td>\n",
       "      <td>-2.243126</td>\n",
       "      <td>-10.913266</td>\n",
       "      <td>2.709645</td>\n",
       "      <td>-5.339160</td>\n",
       "      <td>-5.383915</td>\n",
       "      <td>1.0</td>\n",
       "    </tr>\n",
       "    <tr>\n",
       "      <th>3</th>\n",
       "      <td>2.454609</td>\n",
       "      <td>4.730429</td>\n",
       "      <td>-1.116898</td>\n",
       "      <td>-5.399067</td>\n",
       "      <td>-1.189977</td>\n",
       "      <td>-1.699942</td>\n",
       "      <td>3.976442</td>\n",
       "      <td>4.936787</td>\n",
       "      <td>8.205961</td>\n",
       "      <td>-0.676943</td>\n",
       "      <td>...</td>\n",
       "      <td>1.208745</td>\n",
       "      <td>-1.076917</td>\n",
       "      <td>-1.119831</td>\n",
       "      <td>-0.596468</td>\n",
       "      <td>3.882105</td>\n",
       "      <td>4.146733</td>\n",
       "      <td>5.821566</td>\n",
       "      <td>5.414165</td>\n",
       "      <td>1.990073</td>\n",
       "      <td>0.0</td>\n",
       "    </tr>\n",
       "    <tr>\n",
       "      <th>4</th>\n",
       "      <td>0.400635</td>\n",
       "      <td>-2.403447</td>\n",
       "      <td>0.837233</td>\n",
       "      <td>1.377394</td>\n",
       "      <td>4.496939</td>\n",
       "      <td>-3.341007</td>\n",
       "      <td>0.073394</td>\n",
       "      <td>-1.536370</td>\n",
       "      <td>-2.858345</td>\n",
       "      <td>1.481029</td>\n",
       "      <td>...</td>\n",
       "      <td>-11.217268</td>\n",
       "      <td>4.594756</td>\n",
       "      <td>4.380212</td>\n",
       "      <td>3.271706</td>\n",
       "      <td>-4.442203</td>\n",
       "      <td>-5.418086</td>\n",
       "      <td>0.023346</td>\n",
       "      <td>-2.009643</td>\n",
       "      <td>-0.778441</td>\n",
       "      <td>1.0</td>\n",
       "    </tr>\n",
       "    <tr>\n",
       "      <th>5</th>\n",
       "      <td>2.545557</td>\n",
       "      <td>10.026681</td>\n",
       "      <td>2.393387</td>\n",
       "      <td>-2.369646</td>\n",
       "      <td>-0.269603</td>\n",
       "      <td>0.979513</td>\n",
       "      <td>1.661028</td>\n",
       "      <td>0.861730</td>\n",
       "      <td>-1.251917</td>\n",
       "      <td>6.446719</td>\n",
       "      <td>...</td>\n",
       "      <td>-2.476918</td>\n",
       "      <td>-1.510854</td>\n",
       "      <td>-1.485889</td>\n",
       "      <td>2.787948</td>\n",
       "      <td>-1.637217</td>\n",
       "      <td>4.217302</td>\n",
       "      <td>2.820862</td>\n",
       "      <td>3.438934</td>\n",
       "      <td>0.154469</td>\n",
       "      <td>0.0</td>\n",
       "    </tr>\n",
       "    <tr>\n",
       "      <th>6</th>\n",
       "      <td>-1.593692</td>\n",
       "      <td>3.824784</td>\n",
       "      <td>-0.908609</td>\n",
       "      <td>2.942972</td>\n",
       "      <td>3.894036</td>\n",
       "      <td>3.413266</td>\n",
       "      <td>1.553961</td>\n",
       "      <td>-7.739468</td>\n",
       "      <td>2.197464</td>\n",
       "      <td>0.299972</td>\n",
       "      <td>...</td>\n",
       "      <td>-0.561935</td>\n",
       "      <td>4.208008</td>\n",
       "      <td>7.395545</td>\n",
       "      <td>4.576173</td>\n",
       "      <td>0.815791</td>\n",
       "      <td>-3.038333</td>\n",
       "      <td>-1.339261</td>\n",
       "      <td>7.664257</td>\n",
       "      <td>-2.959643</td>\n",
       "      <td>0.0</td>\n",
       "    </tr>\n",
       "    <tr>\n",
       "      <th>7</th>\n",
       "      <td>3.681587</td>\n",
       "      <td>-4.058194</td>\n",
       "      <td>2.212674</td>\n",
       "      <td>-0.258745</td>\n",
       "      <td>-1.462812</td>\n",
       "      <td>-3.909477</td>\n",
       "      <td>3.147509</td>\n",
       "      <td>-4.719408</td>\n",
       "      <td>-6.281705</td>\n",
       "      <td>3.619122</td>\n",
       "      <td>...</td>\n",
       "      <td>-7.608988</td>\n",
       "      <td>0.617678</td>\n",
       "      <td>3.293293</td>\n",
       "      <td>2.675376</td>\n",
       "      <td>-6.577331</td>\n",
       "      <td>-4.715912</td>\n",
       "      <td>-3.124655</td>\n",
       "      <td>-1.824645</td>\n",
       "      <td>-3.132426</td>\n",
       "      <td>1.0</td>\n",
       "    </tr>\n",
       "    <tr>\n",
       "      <th>8</th>\n",
       "      <td>3.159427</td>\n",
       "      <td>-4.605655</td>\n",
       "      <td>3.807224</td>\n",
       "      <td>0.908897</td>\n",
       "      <td>10.764171</td>\n",
       "      <td>-3.639272</td>\n",
       "      <td>-3.447677</td>\n",
       "      <td>4.983319</td>\n",
       "      <td>5.159230</td>\n",
       "      <td>1.414902</td>\n",
       "      <td>...</td>\n",
       "      <td>3.107829</td>\n",
       "      <td>4.186121</td>\n",
       "      <td>0.839391</td>\n",
       "      <td>-1.925860</td>\n",
       "      <td>-2.886895</td>\n",
       "      <td>-3.350357</td>\n",
       "      <td>-6.439152</td>\n",
       "      <td>-1.476345</td>\n",
       "      <td>-2.515509</td>\n",
       "      <td>1.0</td>\n",
       "    </tr>\n",
       "    <tr>\n",
       "      <th>9</th>\n",
       "      <td>1.633173</td>\n",
       "      <td>3.666814</td>\n",
       "      <td>-0.403462</td>\n",
       "      <td>-3.688655</td>\n",
       "      <td>6.947526</td>\n",
       "      <td>-3.817231</td>\n",
       "      <td>-3.978926</td>\n",
       "      <td>0.316689</td>\n",
       "      <td>5.102090</td>\n",
       "      <td>-3.981173</td>\n",
       "      <td>...</td>\n",
       "      <td>-10.370874</td>\n",
       "      <td>3.227933</td>\n",
       "      <td>-9.640087</td>\n",
       "      <td>5.534013</td>\n",
       "      <td>-3.588567</td>\n",
       "      <td>3.703978</td>\n",
       "      <td>3.262374</td>\n",
       "      <td>3.831146</td>\n",
       "      <td>3.089794</td>\n",
       "      <td>0.0</td>\n",
       "    </tr>\n",
       "  </tbody>\n",
       "</table>\n",
       "<p>10 rows × 51 columns</p>\n",
       "</div>"
      ],
      "text/plain": [
       "          0          1         2         3          4         5         6   \\\n",
       "0   1.498960   1.740244  2.852685  0.483250   2.629995  2.421617 -0.605894   \n",
       "1  11.043912   1.305697 -4.162067  7.062152  10.188181 -5.216963  0.869844   \n",
       "2   1.699169  -8.643500  5.242382  4.438892  -0.622756  0.935984  5.435414   \n",
       "3   2.454609   4.730429 -1.116898 -5.399067  -1.189977 -1.699942  3.976442   \n",
       "4   0.400635  -2.403447  0.837233  1.377394   4.496939 -3.341007  0.073394   \n",
       "5   2.545557  10.026681  2.393387 -2.369646  -0.269603  0.979513  1.661028   \n",
       "6  -1.593692   3.824784 -0.908609  2.942972   3.894036  3.413266  1.553961   \n",
       "7   3.681587  -4.058194  2.212674 -0.258745  -1.462812 -3.909477  3.147509   \n",
       "8   3.159427  -4.605655  3.807224  0.908897  10.764171 -3.639272 -3.447677   \n",
       "9   1.633173   3.666814 -0.403462 -3.688655   6.947526 -3.817231 -3.978926   \n",
       "\n",
       "         7          8         9   ...         41        42        43  \\\n",
       "0  3.277559  -4.254546  0.657476  ...   1.655511 -5.087583 -1.446621   \n",
       "1  6.395281 -14.499055 -2.626266  ...  -1.371640 -2.518497 -1.723985   \n",
       "2  3.986439   5.502292  2.903077  ...  -2.215406  5.446412  4.758631   \n",
       "3  4.936787   8.205961 -0.676943  ...   1.208745 -1.076917 -1.119831   \n",
       "4 -1.536370  -2.858345  1.481029  ... -11.217268  4.594756  4.380212   \n",
       "5  0.861730  -1.251917  6.446719  ...  -2.476918 -1.510854 -1.485889   \n",
       "6 -7.739468   2.197464  0.299972  ...  -0.561935  4.208008  7.395545   \n",
       "7 -4.719408  -6.281705  3.619122  ...  -7.608988  0.617678  3.293293   \n",
       "8  4.983319   5.159230  1.414902  ...   3.107829  4.186121  0.839391   \n",
       "9  0.316689   5.102090 -3.981173  ... -10.370874  3.227933 -9.640087   \n",
       "\n",
       "         44        45         46        47         48        49   50  \n",
       "0  5.061929 -4.813585  -8.186449  3.429404 -10.006712  3.805926  1.0  \n",
       "1 -2.125003 -2.793473  -0.928793 -7.307003  -9.042577 -1.534964  1.0  \n",
       "2  1.948837 -2.243126 -10.913266  2.709645  -5.339160 -5.383915  1.0  \n",
       "3 -0.596468  3.882105   4.146733  5.821566   5.414165  1.990073  0.0  \n",
       "4  3.271706 -4.442203  -5.418086  0.023346  -2.009643 -0.778441  1.0  \n",
       "5  2.787948 -1.637217   4.217302  2.820862   3.438934  0.154469  0.0  \n",
       "6  4.576173  0.815791  -3.038333 -1.339261   7.664257 -2.959643  0.0  \n",
       "7  2.675376 -6.577331  -4.715912 -3.124655  -1.824645 -3.132426  1.0  \n",
       "8 -1.925860 -2.886895  -3.350357 -6.439152  -1.476345 -2.515509  1.0  \n",
       "9  5.534013 -3.588567   3.703978  3.262374   3.831146  3.089794  0.0  \n",
       "\n",
       "[10 rows x 51 columns]"
      ]
     },
     "execution_count": 11,
     "metadata": {},
     "output_type": "execute_result"
    }
   ],
   "source": [
    "df3.head(n=10)"
   ]
  },
  {
   "cell_type": "code",
   "execution_count": 12,
   "metadata": {},
   "outputs": [
    {
     "name": "stdout",
     "output_type": "stream",
     "text": [
      "Class counts:\n",
      " 50\n",
      "1    1001\n",
      "0    1001\n",
      "Name: count, dtype: int64\n",
      "Fitting model...\n",
      "Model training complete.\n",
      "boundary points started generation...\n"
     ]
    },
    {
     "name": "stderr",
     "output_type": "stream",
     "text": [
      "c:\\Users\\Compuworld\\drexel_research_2024_2025\\files\\common_functions.py:422: FutureWarning: The behavior of DataFrame concatenation with empty or all-NA entries is deprecated. In a future version, this will no longer exclude empty or all-NA columns when determining the result dtypes. To retain the old behavior, exclude the relevant entries before the concat operation.\n",
      "  balanced_dataset = pd.concat([balanced_dataset, upsampled_class], ignore_index=True)\n"
     ]
    },
    {
     "ename": "ValueError",
     "evalue": "Maximum allowed dimension exceeded",
     "output_type": "error",
     "traceback": [
      "\u001b[1;31m---------------------------------------------------------------------------\u001b[0m",
      "\u001b[1;31mValueError\u001b[0m                                Traceback (most recent call last)",
      "Cell \u001b[1;32mIn[12], line 1\u001b[0m\n\u001b[1;32m----> 1\u001b[0m optimal_point(df3, model\u001b[38;5;241m=\u001b[39mmodel, desired_class\u001b[38;5;241m=\u001b[39m\u001b[38;5;241m0\u001b[39m, original_class\u001b[38;5;241m=\u001b[39m\u001b[38;5;241m1\u001b[39m, resolution\u001b[38;5;241m=\u001b[39m\u001b[38;5;241m15\u001b[39m, chosen_row\u001b[38;5;241m=\u001b[39m\u001b[38;5;241m1\u001b[39m, point_epsilon\u001b[38;5;241m=\u001b[39m\u001b[38;5;241m0.1\u001b[39m, epsilon\u001b[38;5;241m=\u001b[39m\u001b[38;5;241m0.07\u001b[39m)\n",
      "File \u001b[1;32mc:\\Users\\Compuworld\\drexel_research_2024_2025\\files\\grid_optimal_point.py:264\u001b[0m, in \u001b[0;36moptimal_point\u001b[1;34m(dataset, model, desired_class, original_class, chosen_row, resolution, point_epsilon, epsilon, constraints, deltas, plot)\u001b[0m\n\u001b[0;32m    261\u001b[0m \u001b[38;5;28mprint\u001b[39m(\u001b[38;5;124m\"\u001b[39m\u001b[38;5;124mboundary points started generation...\u001b[39m\u001b[38;5;124m\"\u001b[39m)\n\u001b[0;32m    262\u001b[0m \u001b[38;5;28;01mtry\u001b[39;00m: \n\u001b[0;32m    263\u001b[0m     \u001b[38;5;66;03m# Use grid-based method to approximate boundary points\u001b[39;00m\n\u001b[1;32m--> 264\u001b[0m     boundary_points \u001b[38;5;241m=\u001b[39m compute_decision_boundary_points_all_features(model, X_train, resolution\u001b[38;5;241m=\u001b[39mresolution, epsilon\u001b[38;5;241m=\u001b[39mpoint_epsilon)\n\u001b[0;32m    265\u001b[0m     \u001b[38;5;28mprint\u001b[39m(\u001b[38;5;124m\"\u001b[39m\u001b[38;5;124mboundary points finished.\u001b[39m\u001b[38;5;124m\"\u001b[39m)\n\u001b[0;32m    266\u001b[0m \u001b[38;5;28;01mexcept\u001b[39;00m \u001b[38;5;167;01mMemoryError\u001b[39;00m: \n",
      "File \u001b[1;32mc:\\Users\\Compuworld\\drexel_research_2024_2025\\files\\grid_optimal_point.py:127\u001b[0m, in \u001b[0;36mcompute_decision_boundary_points_all_features\u001b[1;34m(model, X, resolution, epsilon)\u001b[0m\n\u001b[0;32m    125\u001b[0m n_features \u001b[38;5;241m=\u001b[39m X\u001b[38;5;241m.\u001b[39mshape[\u001b[38;5;241m1\u001b[39m]  \u001b[38;5;66;03m# Number of features\u001b[39;00m\n\u001b[0;32m    126\u001b[0m \u001b[38;5;66;03m# A grid that contains resolution^f samples from the f dimensional space where f is the number of features\u001b[39;00m\n\u001b[1;32m--> 127\u001b[0m grid \u001b[38;5;241m=\u001b[39m np\u001b[38;5;241m.\u001b[39mzeros((resolution \u001b[38;5;241m*\u001b[39m\u001b[38;5;241m*\u001b[39m n_features, n_features))  \u001b[38;5;66;03m# Initialize grid array\u001b[39;00m\n\u001b[0;32m    129\u001b[0m \u001b[38;5;66;03m# Generates a grid that contains resolution^f samples based on whether the column contains numeric or categorical values \u001b[39;00m\n\u001b[0;32m    130\u001b[0m \u001b[38;5;66;03m# If the column contains numeric types, then the grid generates a column based on subdividing the numeric columns evenly\u001b[39;00m\n\u001b[0;32m    131\u001b[0m \u001b[38;5;28;01mfor\u001b[39;00m i \u001b[38;5;129;01min\u001b[39;00m \u001b[38;5;28mrange\u001b[39m(n_features):\n\u001b[0;32m    132\u001b[0m     \u001b[38;5;66;03m# Checks if the column is not a column consisting of categorical values\u001b[39;00m\n\u001b[0;32m    133\u001b[0m     \u001b[38;5;66;03m# If it is not categorical, then the column must be numeric. \u001b[39;00m\n",
      "\u001b[1;31mValueError\u001b[0m: Maximum allowed dimension exceeded"
     ]
    }
   ],
   "source": [
    "optimal_point(df3, model=model, desired_class=0, original_class=1, resolution=15, chosen_row=1, point_epsilon=0.1, epsilon=0.07)"
   ]
  },
  {
   "cell_type": "code",
   "execution_count": 72,
   "metadata": {},
   "outputs": [
    {
     "name": "stdout",
     "output_type": "stream",
     "text": [
      "Class counts:\n",
      " 50\n",
      "1    1001\n",
      "0    1001\n",
      "Name: count, dtype: int64\n",
      "Fitting model...\n",
      "Model training complete.\n",
      "boundary points started generation...\n"
     ]
    },
    {
     "name": "stderr",
     "output_type": "stream",
     "text": [
      "C:\\Users\\Compuworld\\AppData\\Local\\Temp\\ipykernel_26024\\3739720189.py:17: FutureWarning: The behavior of DataFrame concatenation with empty or all-NA entries is deprecated. In a future version, this will no longer exclude empty or all-NA columns when determining the result dtypes. To retain the old behavior, exclude the relevant entries before the concat operation.\n",
      "  balanced_dataset = pd.concat([balanced_dataset, upsampled_class], ignore_index=True)\n"
     ]
    },
    {
     "ename": "ValueError",
     "evalue": "Maximum allowed dimension exceeded",
     "output_type": "error",
     "traceback": [
      "\u001b[1;31m---------------------------------------------------------------------------\u001b[0m",
      "\u001b[1;31mValueError\u001b[0m                                Traceback (most recent call last)",
      "Cell \u001b[1;32mIn[72], line 1\u001b[0m\n\u001b[1;32m----> 1\u001b[0m optimal_point(df3, model\u001b[38;5;241m=\u001b[39mmodel, desired_class\u001b[38;5;241m=\u001b[39m\u001b[38;5;241m0\u001b[39m, original_class\u001b[38;5;241m=\u001b[39m\u001b[38;5;241m1\u001b[39m, resolution\u001b[38;5;241m=\u001b[39m\u001b[38;5;241m10\u001b[39m, chosen_row\u001b[38;5;241m=\u001b[39m\u001b[38;5;241m1\u001b[39m, point_epsilon\u001b[38;5;241m=\u001b[39m\u001b[38;5;241m0.1\u001b[39m, epsilon\u001b[38;5;241m=\u001b[39m\u001b[38;5;241m0.07\u001b[39m)\n",
      "Cell \u001b[1;32mIn[67], line 112\u001b[0m, in \u001b[0;36moptimal_point\u001b[1;34m(dataset, model, desired_class, original_class, chosen_row, resolution, point_epsilon, epsilon, constraints, deltas)\u001b[0m\n\u001b[0;32m    109\u001b[0m \u001b[38;5;28mprint\u001b[39m(\u001b[38;5;124m\"\u001b[39m\u001b[38;5;124mboundary points started generation...\u001b[39m\u001b[38;5;124m\"\u001b[39m)\n\u001b[0;32m    110\u001b[0m \u001b[38;5;28;01mtry\u001b[39;00m: \n\u001b[0;32m    111\u001b[0m     \u001b[38;5;66;03m# Use grid-based method to approximate boundary points\u001b[39;00m\n\u001b[1;32m--> 112\u001b[0m     boundary_points \u001b[38;5;241m=\u001b[39m compute_decision_boundary_points_all_features(model, X_train, resolution\u001b[38;5;241m=\u001b[39mresolution, epsilon\u001b[38;5;241m=\u001b[39mpoint_epsilon)\n\u001b[0;32m    113\u001b[0m     \u001b[38;5;28mprint\u001b[39m(\u001b[38;5;124m\"\u001b[39m\u001b[38;5;124mboundary points finished.\u001b[39m\u001b[38;5;124m\"\u001b[39m)\n\u001b[0;32m    114\u001b[0m \u001b[38;5;28;01mexcept\u001b[39;00m \u001b[38;5;167;01mMemoryError\u001b[39;00m: \n",
      "Cell \u001b[1;32mIn[11], line 113\u001b[0m, in \u001b[0;36mcompute_decision_boundary_points_all_features\u001b[1;34m(model, X, resolution, epsilon)\u001b[0m\n\u001b[0;32m    111\u001b[0m n_features \u001b[38;5;241m=\u001b[39m X\u001b[38;5;241m.\u001b[39mshape[\u001b[38;5;241m1\u001b[39m]  \u001b[38;5;66;03m# Number of features\u001b[39;00m\n\u001b[0;32m    112\u001b[0m \u001b[38;5;66;03m# A grid that contains resolution^f samples from the f dimensional space where f is the number of features\u001b[39;00m\n\u001b[1;32m--> 113\u001b[0m grid \u001b[38;5;241m=\u001b[39m np\u001b[38;5;241m.\u001b[39mzeros((resolution \u001b[38;5;241m*\u001b[39m\u001b[38;5;241m*\u001b[39m n_features, n_features))  \u001b[38;5;66;03m# Initialize grid array\u001b[39;00m\n\u001b[0;32m    115\u001b[0m \u001b[38;5;66;03m# Generates a grid that contains resolution^f samples based on whether the column contains numeric or categorical values \u001b[39;00m\n\u001b[0;32m    116\u001b[0m \u001b[38;5;66;03m# If the column contains numeric types, then the grid generates a column based on subdividing the numeric columns evenly\u001b[39;00m\n\u001b[0;32m    117\u001b[0m \u001b[38;5;28;01mfor\u001b[39;00m i \u001b[38;5;129;01min\u001b[39;00m \u001b[38;5;28mrange\u001b[39m(n_features):\n\u001b[0;32m    118\u001b[0m     \u001b[38;5;66;03m# Checks if the column is not a column consisting of categorical values\u001b[39;00m\n\u001b[0;32m    119\u001b[0m     \u001b[38;5;66;03m# If it is not categorical, then the column must be numeric. \u001b[39;00m\n",
      "\u001b[1;31mValueError\u001b[0m: Maximum allowed dimension exceeded"
     ]
    }
   ],
   "source": [
    "optimal_point(df3, model=model, desired_class=0, original_class=1, resolution=10, chosen_row=1, point_epsilon=0.1, epsilon=0.07)"
   ]
  },
  {
   "cell_type": "markdown",
   "metadata": {},
   "source": [
    "# Experiments of the Computation Costs for SSBA Approach - CPU (Logistic Regression)\n",
    "\n",
    "$\\textbf{ Logistic Regression with SSBA Method }$ -- 50 features\n",
    "\n",
    "Search: $S = 50,000,000$, $T = $500,000$ $, 2 minutes 52 second runtime, $500,000$ boundary points found\n",
    "\n",
    "Search: $S = 10,000,000$, $T = 100,000$, 33.2 second runtime, $100,000$ boundary points found\n",
    "\n",
    "Search: $S = 1,000,000$, $T = 10,000$, 3.4 second runtime, $10,000$ boundary points found\n",
    "\n",
    "$\\textbf{ Logistic Regression with SSBA Method }$ -- 10 features\n",
    "\n",
    "Search: $S = 25,000,000$, $T = 250,000$, 1 minute 23 second runtime, $250,000$ boundary points found\n",
    "\n",
    "Search: $S = 10,000,000$, $T = 100,000$, 1 minute 1 second runtime, $100,000$ boundary points found\n",
    "\n",
    "Search: $S = 1,000,000$, $T = 10,000$, 6.2 second runtime, $10,000$ boundary points found\n",
    "\n",
    "\n",
    "$\\textbf{ Logistic Regression with SSBA Method }$ -- 2 features\n",
    "\n",
    "Search: $S = 25,000,000$, $T = 250,000$, 1 minute 56 seconds runtime, $250,000$ boundary points found\n",
    "\n",
    "Search: $S = 10,000,000$, $T = 100,000$, ~58.0 seconds runtime, $100,000$ boundary points found\n",
    "\n",
    "Search: $S = 150,000$, $T = 1,500$, 0.9 seconds runtime, $1,500$ boundary points found\n",
    "\n",
    "Search: $S = 50,000$, $T = 500$, 0.3 seconds runtime, $500$ boundary points found"
   ]
  },
  {
   "cell_type": "code",
   "execution_count": 13,
   "metadata": {},
   "outputs": [],
   "source": [
    "from files.binary_search_optimal_point import optimal_point"
   ]
  },
  {
   "cell_type": "code",
   "execution_count": 14,
   "metadata": {},
   "outputs": [
    {
     "name": "stderr",
     "output_type": "stream",
     "text": [
      "c:\\Users\\Compuworld\\drexel_research_2024_2025\\files\\common_functions.py:422: FutureWarning: The behavior of DataFrame concatenation with empty or all-NA entries is deprecated. In a future version, this will no longer exclude empty or all-NA columns when determining the result dtypes. To retain the old behavior, exclude the relevant entries before the concat operation.\n",
      "  balanced_dataset = pd.concat([balanced_dataset, upsampled_class], ignore_index=True)\n"
     ]
    },
    {
     "name": "stdout",
     "output_type": "stream",
     "text": [
      "Class counts:\n",
      " 2\n",
      "1    1000\n",
      "0    1000\n",
      "Name: count, dtype: int64\n",
      "Fitting model...\n",
      "Model training complete.\n",
      "boundary points started generation...\n",
      "boundary points finished.\n",
      "(500, 2)\n",
      "Finding the closest point from the contour line to the point...\n",
      "Finding the closest point from the contour line to the point.\n",
      "[[1.07091374 1.09092245]]\n",
      "[[-1.17201521 -0.05214123]]\n"
     ]
    },
    {
     "data": {
      "text/plain": [
       "[-0.06802850227118462, 1.102905126960038]"
      ]
     },
     "execution_count": 14,
     "metadata": {},
     "output_type": "execute_result"
    }
   ],
   "source": [
    "optimal_point(df1, model=model, desired_class=0, original_class=1, threshold=500, chosen_row=1, point_epsilon=1e-6, epsilon=0.07)"
   ]
  },
  {
   "cell_type": "code",
   "execution_count": 36,
   "metadata": {},
   "outputs": [
    {
     "name": "stderr",
     "output_type": "stream",
     "text": [
      "C:\\Users\\Compuworld\\AppData\\Local\\Temp\\ipykernel_26024\\3739720189.py:17: FutureWarning: The behavior of DataFrame concatenation with empty or all-NA entries is deprecated. In a future version, this will no longer exclude empty or all-NA columns when determining the result dtypes. To retain the old behavior, exclude the relevant entries before the concat operation.\n",
      "  balanced_dataset = pd.concat([balanced_dataset, upsampled_class], ignore_index=True)\n"
     ]
    },
    {
     "name": "stdout",
     "output_type": "stream",
     "text": [
      "Class counts:\n",
      " 2\n",
      "1    1000\n",
      "0    1000\n",
      "Name: count, dtype: int64\n",
      "Fitting model...\n",
      "Model training complete.\n",
      "boundary points started generation...\n",
      "boundary points finished.\n",
      "(1500, 2)\n",
      "(1499, 2)\n",
      "Finding the closest point from the contour line to the point...\n",
      "Finding the closest point from the contour line to the point.\n",
      "[[1.07091363 1.09232891]]\n",
      "[[-1.17214831 -0.04891994]]\n"
     ]
    },
    {
     "data": {
      "text/plain": [
       "[-0.06817092497733879, 1.1063504969422844]"
      ]
     },
     "execution_count": 36,
     "metadata": {},
     "output_type": "execute_result"
    }
   ],
   "source": [
    "optimal_point(df1, model=model, desired_class=0, original_class=1, threshold=1500, chosen_row=1, point_epsilon=1e-6, epsilon=0.07)"
   ]
  },
  {
   "cell_type": "code",
   "execution_count": null,
   "metadata": {},
   "outputs": [
    {
     "name": "stderr",
     "output_type": "stream",
     "text": [
      "C:\\Users\\Compuworld\\AppData\\Local\\Temp\\ipykernel_26024\\3739720189.py:17: FutureWarning: The behavior of DataFrame concatenation with empty or all-NA entries is deprecated. In a future version, this will no longer exclude empty or all-NA columns when determining the result dtypes. To retain the old behavior, exclude the relevant entries before the concat operation.\n",
      "  balanced_dataset = pd.concat([balanced_dataset, upsampled_class], ignore_index=True)\n"
     ]
    },
    {
     "name": "stdout",
     "output_type": "stream",
     "text": [
      "Class counts:\n",
      " 2\n",
      "1    1000\n",
      "0    1000\n",
      "Name: count, dtype: int64\n",
      "Fitting model...\n",
      "Model training complete.\n",
      "boundary points started generation...\n",
      "boundary points finished.\n",
      "(10000, 2)\n",
      "(9930, 2)\n",
      "Finding the closest point from the contour line to the point...\n",
      "Finding the closest point from the contour line to the point.\n",
      "[[1.07091361 1.09265831]]\n",
      "[[-1.17217655 -0.04822329]]\n"
     ]
    },
    {
     "data": {
      "text/plain": [
       "[-0.0682011453870428, 1.1070955780639113]"
      ]
     },
     "execution_count": 37,
     "metadata": {},
     "output_type": "execute_result"
    }
   ],
   "source": [
    "optimal_point(df1, model=model, desired_class=0, original_class=1, threshold=10000,  chosen_row=1, point_epsilon=1e-6, epsilon=1e-3)"
   ]
  },
  {
   "cell_type": "code",
   "execution_count": 30,
   "metadata": {},
   "outputs": [
    {
     "name": "stdout",
     "output_type": "stream",
     "text": [
      "Class counts:\n",
      " 2\n",
      "1    1000\n",
      "0    1000\n",
      "Name: count, dtype: int64\n",
      "Fitting model...\n",
      "Model training complete.\n",
      "boundary points started generation...\n"
     ]
    },
    {
     "name": "stderr",
     "output_type": "stream",
     "text": [
      "C:\\Users\\Compuworld\\AppData\\Local\\Temp\\ipykernel_1072\\3739720189.py:17: FutureWarning: The behavior of DataFrame concatenation with empty or all-NA entries is deprecated. In a future version, this will no longer exclude empty or all-NA columns when determining the result dtypes. To retain the old behavior, exclude the relevant entries before the concat operation.\n",
      "  balanced_dataset = pd.concat([balanced_dataset, upsampled_class], ignore_index=True)\n"
     ]
    },
    {
     "name": "stdout",
     "output_type": "stream",
     "text": [
      "[0.49914333 0.50085667]\n",
      "boundary points finished.\n",
      "(100000, 2)\n",
      "(93892, 2)\n",
      "Finding the closest point from the contour line to the point...\n",
      "Finding the closest point from the contour line to the point.\n",
      "[[1.00185992 1.01336927]]\n",
      "[[-1.16506425 -0.08192634]]\n"
     ]
    },
    {
     "data": {
      "text/plain": [
       "[0.019867501974112578, 1.0767655269234389]"
      ]
     },
     "execution_count": 30,
     "metadata": {},
     "output_type": "execute_result"
    }
   ],
   "source": [
    "optimal_point(df1, model=model, desired_class=0, original_class=1, threshold=100000,  chosen_row=1, point_epsilon=1e-6, epsilon=1e-3)"
   ]
  },
  {
   "cell_type": "code",
   "execution_count": 15,
   "metadata": {},
   "outputs": [
    {
     "name": "stderr",
     "output_type": "stream",
     "text": [
      "c:\\Users\\Compuworld\\drexel_research_2024_2025\\files\\common_functions.py:422: FutureWarning: The behavior of DataFrame concatenation with empty or all-NA entries is deprecated. In a future version, this will no longer exclude empty or all-NA columns when determining the result dtypes. To retain the old behavior, exclude the relevant entries before the concat operation.\n",
      "  balanced_dataset = pd.concat([balanced_dataset, upsampled_class], ignore_index=True)\n"
     ]
    },
    {
     "name": "stdout",
     "output_type": "stream",
     "text": [
      "Class counts:\n",
      " 2\n",
      "1    1000\n",
      "0    1000\n",
      "Name: count, dtype: int64\n",
      "Fitting model...\n",
      "Model training complete.\n",
      "boundary points started generation...\n",
      "boundary points finished.\n",
      "(250000, 2)\n",
      "Finding the closest point from the contour line to the point...\n",
      "Finding the closest point from the contour line to the point.\n",
      "[[1.00185492 1.02061952]]\n",
      "[[-1.17187037 -0.0520206 ]]\n"
     ]
    },
    {
     "data": {
      "text/plain": [
       "[0.013054584144625236, 1.1066939179483033]"
      ]
     },
     "execution_count": 15,
     "metadata": {},
     "output_type": "execute_result"
    }
   ],
   "source": [
    "optimal_point(df1, model=model, desired_class=0, original_class=1, threshold=250000,  chosen_row=1, point_epsilon=1e-4, epsilon=1e-3)"
   ]
  },
  {
   "cell_type": "code",
   "execution_count": 28,
   "metadata": {},
   "outputs": [
    {
     "name": "stderr",
     "output_type": "stream",
     "text": [
      "C:\\Users\\Compuworld\\AppData\\Local\\Temp\\ipykernel_1072\\3739720189.py:17: FutureWarning: The behavior of DataFrame concatenation with empty or all-NA entries is deprecated. In a future version, this will no longer exclude empty or all-NA columns when determining the result dtypes. To retain the old behavior, exclude the relevant entries before the concat operation.\n",
      "  balanced_dataset = pd.concat([balanced_dataset, upsampled_class], ignore_index=True)\n"
     ]
    },
    {
     "name": "stdout",
     "output_type": "stream",
     "text": [
      "Class counts:\n",
      " 2\n",
      "1    1000\n",
      "0    1000\n",
      "Name: count, dtype: int64\n",
      "Fitting model...\n",
      "Model training complete.\n",
      "boundary points started generation...\n",
      "[0.49913905 0.50086095]\n",
      "boundary points finished.\n",
      "(793845, 2)\n",
      "(501549, 2)\n",
      "Finding the closest point from the contour line to the point...\n",
      "Finding the closest point from the contour line to the point.\n",
      "[[1.00185992 1.01336927]]\n",
      "[[-1.16506425 -0.08192634]]\n"
     ]
    },
    {
     "data": {
      "text/plain": [
       "[0.019867501974112578, 1.0767655269234389]"
      ]
     },
     "execution_count": 28,
     "metadata": {},
     "output_type": "execute_result"
    }
   ],
   "source": [
    "optimal_point(df1, model=model, desired_class=0, original_class=1, threshold=1000000,  chosen_row=1, point_epsilon=1e-4, epsilon=1e-3)"
   ]
  },
  {
   "cell_type": "code",
   "execution_count": null,
   "metadata": {},
   "outputs": [
    {
     "name": "stderr",
     "output_type": "stream",
     "text": [
      "C:\\Users\\Compuworld\\AppData\\Local\\Temp\\ipykernel_26024\\3739720189.py:17: FutureWarning: The behavior of DataFrame concatenation with empty or all-NA entries is deprecated. In a future version, this will no longer exclude empty or all-NA columns when determining the result dtypes. To retain the old behavior, exclude the relevant entries before the concat operation.\n",
      "  balanced_dataset = pd.concat([balanced_dataset, upsampled_class], ignore_index=True)\n"
     ]
    },
    {
     "name": "stdout",
     "output_type": "stream",
     "text": [
      "Class counts:\n",
      " 10\n",
      "1    1005\n",
      "0    1005\n",
      "Name: count, dtype: int64\n",
      "Fitting model...\n",
      "Model training complete.\n",
      "boundary points started generation...\n",
      "boundary points finished.\n",
      "(10000, 10)\n",
      "(9866, 10)\n",
      "Finding the closest point from the contour line to the point...\n",
      "Finding the closest point from the contour line to the point.\n",
      "[[1.05163249 1.07644004 1.53825421 1.17039462 1.06679043 1.0428281\n",
      "  1.05923151 1.07388643 1.07460187 1.0728924 ]]\n",
      "[[ 0.05725502 -0.16714804 -0.00328508 -0.01165794  0.33237778  0.03837891\n",
      "   0.09836393 -0.27631715 -0.23351414 -0.37093554]]\n"
     ]
    },
    {
     "data": {
      "text/plain": [
       "[1.402567678533219,\n",
       " 0.7630316648350698,\n",
       " 3.0527290312584814,\n",
       " 0.04602232628535625,\n",
       " -0.25673937539030584,\n",
       " -0.9454981360481078,\n",
       " 0.4280408699922583,\n",
       " 0.5569860161657479,\n",
       " 1.4901011094673016,\n",
       " 1.6713487487852436]"
      ]
     },
     "execution_count": 47,
     "metadata": {},
     "output_type": "execute_result"
    }
   ],
   "source": [
    "optimal_point(df2, model=model, desired_class=0, original_class=1, threshold=10000,  chosen_row=1, point_epsilon=1e-6, epsilon=1e-3)"
   ]
  },
  {
   "cell_type": "code",
   "execution_count": null,
   "metadata": {},
   "outputs": [
    {
     "name": "stderr",
     "output_type": "stream",
     "text": [
      "c:\\Users\\Compuworld\\drexel_research_2024_2025\\files\\common_functions.py:422: FutureWarning: The behavior of DataFrame concatenation with empty or all-NA entries is deprecated. In a future version, this will no longer exclude empty or all-NA columns when determining the result dtypes. To retain the old behavior, exclude the relevant entries before the concat operation.\n",
      "  balanced_dataset = pd.concat([balanced_dataset, upsampled_class], ignore_index=True)\n"
     ]
    },
    {
     "name": "stdout",
     "output_type": "stream",
     "text": [
      "Class counts:\n",
      " 10\n",
      "1    1005\n",
      "0    1005\n",
      "Name: count, dtype: int64\n",
      "Fitting model...\n",
      "Model training complete.\n",
      "boundary points started generation...\n"
     ]
    }
   ],
   "source": [
    "optimal_point(df2, model=model, desired_class=0, original_class=1, threshold=100000,  chosen_row=1, point_epsilon=1e-6, epsilon=0.07)"
   ]
  },
  {
   "cell_type": "code",
   "execution_count": 50,
   "metadata": {},
   "outputs": [
    {
     "name": "stderr",
     "output_type": "stream",
     "text": [
      "C:\\Users\\Compuworld\\AppData\\Local\\Temp\\ipykernel_26024\\3739720189.py:17: FutureWarning: The behavior of DataFrame concatenation with empty or all-NA entries is deprecated. In a future version, this will no longer exclude empty or all-NA columns when determining the result dtypes. To retain the old behavior, exclude the relevant entries before the concat operation.\n",
      "  balanced_dataset = pd.concat([balanced_dataset, upsampled_class], ignore_index=True)\n"
     ]
    },
    {
     "name": "stdout",
     "output_type": "stream",
     "text": [
      "Class counts:\n",
      " 10\n",
      "1    1005\n",
      "0    1005\n",
      "Name: count, dtype: int64\n",
      "Fitting model...\n",
      "Model training complete.\n",
      "boundary points started generation...\n",
      "boundary points finished.\n",
      "(250000, 10)\n",
      "(181933, 10)\n",
      "Finding the closest point from the contour line to the point...\n",
      "Finding the closest point from the contour line to the point.\n",
      "[[1.02523961 1.01675174 1.01588534 1.01738127 1.00742649 1.01569931\n",
      "  0.99913071 1.02847068 1.01999051 1.01452852]]\n",
      "[[-0.06727465 -0.15059117 -0.17261279 -0.13783286  0.39145958 -0.17821456\n",
      "   0.09192239 -0.05568127 -0.10209594 -0.22403083]]\n"
     ]
    },
    {
     "data": {
      "text/plain": [
       "[1.273383801324438,\n",
       " 0.7898426814459193,\n",
       " 2.8824275221929785,\n",
       " -0.08056185287402501,\n",
       " -0.21695006033194686,\n",
       " -1.1665331455504682,\n",
       " 0.415693170680881,\n",
       " 0.7964526984506285,\n",
       " 1.6368989471968765,\n",
       " 1.8420370036125322]"
      ]
     },
     "execution_count": 50,
     "metadata": {},
     "output_type": "execute_result"
    }
   ],
   "source": [
    "optimal_point(df2, model=model, desired_class=0, original_class=1, threshold=250000,  chosen_row=1, point_epsilon=1e-3, epsilon=0.01)"
   ]
  },
  {
   "cell_type": "code",
   "execution_count": 54,
   "metadata": {},
   "outputs": [
    {
     "name": "stderr",
     "output_type": "stream",
     "text": [
      "C:\\Users\\Compuworld\\AppData\\Local\\Temp\\ipykernel_26024\\3739720189.py:17: FutureWarning: The behavior of DataFrame concatenation with empty or all-NA entries is deprecated. In a future version, this will no longer exclude empty or all-NA columns when determining the result dtypes. To retain the old behavior, exclude the relevant entries before the concat operation.\n",
      "  balanced_dataset = pd.concat([balanced_dataset, upsampled_class], ignore_index=True)\n"
     ]
    },
    {
     "name": "stdout",
     "output_type": "stream",
     "text": [
      "Class counts:\n",
      " 50\n",
      "1    1001\n",
      "0    1001\n",
      "Name: count, dtype: int64\n",
      "Fitting model...\n",
      "Model training complete.\n",
      "boundary points started generation...\n",
      "boundary points finished.\n",
      "(10000, 50)\n",
      "(9859, 50)\n",
      "Finding the closest point from the contour line to the point...\n",
      "Finding the closest point from the contour line to the point.\n",
      "[[1.00121975 1.00085448 1.00051922 1.00128893 1.00133343 1.01037121\n",
      "  1.00123322 1.00127281 1.00178975 1.00256707 0.99994755 1.00149282\n",
      "  1.00019547 1.00143664 1.00080719 0.99419391 0.99825643 1.00125389\n",
      "  1.0007409  1.00146426 1.00078981 1.00111834 1.00060389 1.00202889\n",
      "  1.00034837 1.00430099 1.00144294 1.00126067 1.00124352 1.00083785\n",
      "  1.00117119 1.00197254 0.99969272 1.00061753 1.00068402 1.00140935\n",
      "  1.00173205 1.0006034  1.00184937 1.00223651 1.00118711 1.00556827\n",
      "  1.00080768 1.00071868 0.99718239 1.11767977 1.00259458 1.00072438\n",
      "  1.00075062 0.99984477]]\n",
      "[[-4.55624159  6.87757279  2.08101321 -3.46555598 -3.00313904 -0.10781652\n",
      "  -4.29312328 -3.67017985 -1.26849211 -0.6397721   0.95011838 -2.03216393\n",
      "   1.24319839 -2.29352203  5.19066172  0.14607417  0.36385291 -3.94367283\n",
      "   3.86242439 -2.15713121  4.76137185 -8.45952219  2.52607824 -0.97389045\n",
      "   1.53515669 -0.30424218 -2.2608895  -3.84110325 -4.1116017   6.17243731\n",
      "  -5.84844255 -1.03026627  0.76471204  2.6162311   3.16688384 -2.44634834\n",
      "  -1.36838438  2.52293487 -1.17951571 -0.81053353 -5.35066192 -0.22012022\n",
      "   5.20385241  3.55724137  0.26120585 -0.00957904 -0.62874967  3.6308705\n",
      "   4.01300994  0.86549333]]\n"
     ]
    },
    {
     "data": {
      "text/plain": [
       "[6.482112566720399,\n",
       " 8.189146673494657,\n",
       " -2.079973148595502,\n",
       " 3.592128730790184,\n",
       " 7.181037592103027,\n",
       " -5.325898052112336,\n",
       " -3.4285736348034574,\n",
       " 2.7204293453651642,\n",
       " -15.76981772070797,\n",
       " -3.267680182765882,\n",
       " 2.3349987552049285,\n",
       " -0.2178751405440591,\n",
       " -1.2339383624207563,\n",
       " -2.9963470331577207,\n",
       " 5.690385006896312,\n",
       " 0.24780023030534787,\n",
       " 1.5462177368408683,\n",
       " -1.5322050938339133,\n",
       " 1.3798693050971096,\n",
       " -3.5180753196561,\n",
       " 0.6054213793664482,\n",
       " 0.5630011948780975,\n",
       " 0.6655928483355797,\n",
       " -0.3323332282212772,\n",
       " -0.3129007819539875,\n",
       " 1.4185291631866803,\n",
       " 1.1678928288046042,\n",
       " -2.064679396962676,\n",
       " 3.2976326990937856,\n",
       " -0.3500920045402305,\n",
       " -2.5539847044963615,\n",
       " 2.5140003041828005,\n",
       " -2.899886530006484,\n",
       " 3.102082354179882,\n",
       " 2.880572099782989,\n",
       " 0.21553999375596256,\n",
       " 4.212068128892092,\n",
       " -1.911618179867077,\n",
       " 3.697560350049188,\n",
       " -0.06392802746019499,\n",
       " 1.1361378975471466,\n",
       " -1.592985437361519,\n",
       " 2.689557985245472,\n",
       " 1.8358128470176052,\n",
       " -1.864533262898449,\n",
       " -2.8041797349941002,\n",
       " -1.559174033960624,\n",
       " -3.673502592695023,\n",
       " -5.026555271822677,\n",
       " -0.6696046760403305]"
      ]
     },
     "execution_count": 54,
     "metadata": {},
     "output_type": "execute_result"
    }
   ],
   "source": [
    "optimal_point(df3, model=model, desired_class=0, original_class=1, threshold=10000,  chosen_row=1, point_epsilon=1e-3, epsilon=0.001)"
   ]
  },
  {
   "cell_type": "code",
   "execution_count": 31,
   "metadata": {},
   "outputs": [
    {
     "name": "stderr",
     "output_type": "stream",
     "text": [
      "C:\\Users\\Compuworld\\AppData\\Local\\Temp\\ipykernel_1072\\3739720189.py:17: FutureWarning: The behavior of DataFrame concatenation with empty or all-NA entries is deprecated. In a future version, this will no longer exclude empty or all-NA columns when determining the result dtypes. To retain the old behavior, exclude the relevant entries before the concat operation.\n",
      "  balanced_dataset = pd.concat([balanced_dataset, upsampled_class], ignore_index=True)\n"
     ]
    },
    {
     "name": "stdout",
     "output_type": "stream",
     "text": [
      "Class counts:\n",
      " 50\n",
      "1    1001\n",
      "0    1001\n",
      "Name: count, dtype: int64\n",
      "Fitting model...\n",
      "Model training complete.\n",
      "boundary points started generation...\n",
      "[0.49940121 0.50059879]\n",
      "boundary points finished.\n",
      "(100000, 50)\n",
      "(86747, 50)\n",
      "Finding the closest point from the contour line to the point...\n",
      "Finding the closest point from the contour line to the point.\n",
      "[[1.00135084 1.00049196 0.99313969 1.00235241 1.00189257 1.0005754\n",
      "  1.00126427 1.00121521 1.00088009 1.00142323 1.0015267  1.00117483\n",
      "  1.00053331 1.00124124 1.0000099  1.00060338 1.00045256 1.00239249\n",
      "  1.0007523  1.00171018 1.00026822 1.00130929 1.00276044 0.99354549\n",
      "  1.00063392 0.98901913 1.00137441 0.99966791 1.00123223 1.00085398\n",
      "  1.00189717 1.00144365 1.00050976 1.0019362  0.99833451 1.001199\n",
      "  1.00133368 1.00069011 1.00687293 0.99978251 1.00124401 1.00166998\n",
      "  1.00066897 0.99609629 1.00065861 1.00491045 1.00075109 1.00066734\n",
      "  1.00073423 1.00420266]]\n",
      "[[-2.85413101  1.96930043  0.1263486  -0.74115899 -1.12248625  2.35649649\n",
      "  -3.78877122 -4.65237521  8.34691941 -2.3661675  -1.90149623 -5.7266852\n",
      "   2.14387277 -4.15043996  1.01001121  2.52281619  1.82750812 -0.7198546\n",
      "   4.04024042 -1.410492    1.36689876 -3.2374059  -0.56960627  0.13328107\n",
      "   2.73340472  0.08254986 -2.67454403  0.75045149 -4.31130448  6.85443318\n",
      "  -1.11672621 -2.2572629   2.04086763 -1.07021655  0.37454004 -5.03113227\n",
      "  -3.00083893  3.22912642 -0.17144317  0.82118666 -4.10336621 -1.49507622\n",
      "   3.02287713  0.20313107  2.93108802 -0.25698094  4.02053504  3.00809619\n",
      "   3.76541895 -0.3135528 ]]\n"
     ]
    },
    {
     "data": {
      "text/plain": [
       "[8.185925129068703,\n",
       " 3.2759664024513944,\n",
       " -4.036585044307226,\n",
       " 6.31924905265672,\n",
       " 9.063570471560746,\n",
       " -2.859110938240741,\n",
       " -2.923717255550797,\n",
       " 1.737251846034681,\n",
       " -6.144789878291654,\n",
       " -4.995800827922947,\n",
       " -0.5194690541702454,\n",
       " -3.9160906188182976,\n",
       " -0.3323636474777443,\n",
       " -4.855121684481647,\n",
       " 1.5055546441493286,\n",
       " 2.6269125781455114,\n",
       " 3.0113344057316334,\n",
       " 1.6948358237087677,\n",
       " 1.5578631410890496,\n",
       " -2.7706897190669806,\n",
       " -2.79244566129628,\n",
       " 5.790339409394733,\n",
       " -2.433189494731324,\n",
       " 0.7759539385204439,\n",
       " 0.8865452178532469,\n",
       " 1.8057232733235409,\n",
       " 0.7538247058724248,\n",
       " 2.531468485057286,\n",
       " 3.097730223080217,\n",
       " 0.33258584708537686,\n",
       " 2.182462623843038,\n",
       " 1.2857772075359915,\n",
       " -1.6224556045418237,\n",
       " -0.5880530633418115,\n",
       " 0.08543830680335163,\n",
       " -2.3718285065365254,\n",
       " 2.5779815180886927,\n",
       " -1.2047205205011413,\n",
       " 4.706635936464857,\n",
       " 1.5694263292053314,\n",
       " 2.3846808390865233,\n",
       " -2.869212493333311,\n",
       " 0.5064018657762661,\n",
       " -1.52164693666324,\n",
       " 0.8080153142752629,\n",
       " -3.051716274783868,\n",
       " 3.094761804996686,\n",
       " -4.296899626199098,\n",
       " -5.27439383780177,\n",
       " -1.849834214257719]"
      ]
     },
     "execution_count": 31,
     "metadata": {},
     "output_type": "execute_result"
    }
   ],
   "source": [
    "optimal_point(df3, model=model, desired_class=0, original_class=1, threshold=100000,  chosen_row=1, point_epsilon=1e-3, epsilon=0.001)"
   ]
  },
  {
   "cell_type": "code",
   "execution_count": 56,
   "metadata": {},
   "outputs": [
    {
     "name": "stderr",
     "output_type": "stream",
     "text": [
      "C:\\Users\\Compuworld\\AppData\\Local\\Temp\\ipykernel_26024\\3739720189.py:17: FutureWarning: The behavior of DataFrame concatenation with empty or all-NA entries is deprecated. In a future version, this will no longer exclude empty or all-NA columns when determining the result dtypes. To retain the old behavior, exclude the relevant entries before the concat operation.\n",
      "  balanced_dataset = pd.concat([balanced_dataset, upsampled_class], ignore_index=True)\n"
     ]
    },
    {
     "name": "stdout",
     "output_type": "stream",
     "text": [
      "Class counts:\n",
      " 50\n",
      "1    1001\n",
      "0    1001\n",
      "Name: count, dtype: int64\n",
      "Fitting model...\n",
      "Model training complete.\n",
      "boundary points started generation...\n",
      "boundary points finished.\n",
      "(500000, 50)\n",
      "(273136, 50)\n",
      "Finding the closest point from the contour line to the point...\n",
      "Finding the closest point from the contour line to the point.\n",
      "[[1.00127878 1.00033207 0.99999672 1.00148981 1.00130684 1.00075432\n",
      "  1.00053906 1.0012363  1.00088689 1.00170626 1.0015659  1.00139175\n",
      "  0.99948826 1.00163702 1.0004766  1.00301182 1.00125997 1.00141754\n",
      "  1.00709846 1.00179619 1.00068838 1.00119373 1.00292292 1.00155986\n",
      "  1.00015391 1.00046207 1.00161523 1.00043274 1.00128009 1.00074093\n",
      "  1.00149371 1.00148849 1.00001089 1.00150078 1.00075272 1.00016971\n",
      "  1.00181881 0.99967782 0.99963903 1.00037185 1.00127704 1.00034128\n",
      "  1.00165859 1.00080356 1.00027774 1.00596587 1.00225544 1.00075416\n",
      "  1.00058089 0.99922006]]\n",
      "[[-3.59163268  1.49765554  0.99672529 -2.04463438 -3.26332555  4.07345798\n",
      "   2.17063613 -4.23715875  8.84863859 -1.41831721 -1.76985313 -2.55619528\n",
      "   0.66115297 -1.57238613  1.9115131  -0.49855869 -3.85139159 -2.39838536\n",
      "  -0.16513979 -1.25824548  3.21126802 -5.1678988  -0.52156243 -1.78895455\n",
      "   1.18208247  1.85982531 -1.6280449   1.76361496 -3.57486691  3.86281874\n",
      "  -2.02851528 -2.05016678  1.01102211 -1.99989947  4.0469622   1.20460434\n",
      "  -1.22350862  0.7560851   0.73450354  1.59257283 -3.61425073  1.51860267\n",
      "  -1.52090629  5.09457911  1.3849196  -0.20257615 -0.79833242  4.07073268\n",
      "   2.38740752  0.56137979]]\n"
     ]
    },
    {
     "data": {
      "text/plain": [
       "[7.447686029059094,\n",
       " 2.8038500301183182,\n",
       " -3.1653448332262566,\n",
       " 5.014471049257585,\n",
       " 6.920590918077879,\n",
       " -1.1404326645793414,\n",
       " 3.0416502212904244,\n",
       " 2.152883505090787,\n",
       " -5.642568989626538,\n",
       " -4.04700297161579,\n",
       " -0.3876943488908635,\n",
       " -0.7424304187836641,\n",
       " -1.8165651256364383,\n",
       " -2.274490199331856,\n",
       " 2.407957564233491,\n",
       " -0.39748608078399084,\n",
       " -2.6732450183587804,\n",
       " 0.014627501753083916,\n",
       " -2.651728801592241,\n",
       " -2.6182910355918896,\n",
       " -0.9462324459758036,\n",
       " 3.8579161273250984,\n",
       " -2.3850977798266015,\n",
       " -1.148211931154926,\n",
       " -0.666327882594161,\n",
       " 3.5847645625248274,\n",
       " 1.8013700966447626,\n",
       " 3.545644353812869,\n",
       " 3.83490418235954,\n",
       " -2.6620201000587276,\n",
       " 1.2697621735509528,\n",
       " 1.493080377081787,\n",
       " -2.653330468688581,\n",
       " -1.5186652325678938,\n",
       " 3.7615304674979075,\n",
       " 3.870144862919391,\n",
       " 4.357088673255783,\n",
       " -3.680233872052204,\n",
       " 5.6134958247972,\n",
       " 2.3415832974306845,\n",
       " 2.8742854020275885,\n",
       " 0.14748140278071165,\n",
       " -4.041926322342572,\n",
       " 3.3746878396309468,\n",
       " -0.7396988902812227,\n",
       " -2.99725813318259,\n",
       " -1.7289260251798777,\n",
       " -3.233200587113412,\n",
       " -6.653783127132642,\n",
       " -0.9740217108497249]"
      ]
     },
     "execution_count": 56,
     "metadata": {},
     "output_type": "execute_result"
    }
   ],
   "source": [
    "optimal_point(df3, model=model, desired_class=0, original_class=1, threshold=500000,  chosen_row=1, point_epsilon=1e-3, epsilon=0.001)"
   ]
  }
 ],
 "metadata": {
  "kernelspec": {
   "display_name": "gpu_env",
   "language": "python",
   "name": "python3"
  },
  "language_info": {
   "codemirror_mode": {
    "name": "ipython",
    "version": 3
   },
   "file_extension": ".py",
   "mimetype": "text/x-python",
   "name": "python",
   "nbconvert_exporter": "python",
   "pygments_lexer": "ipython3",
   "version": "3.12.11"
  }
 },
 "nbformat": 4,
 "nbformat_minor": 2
}
