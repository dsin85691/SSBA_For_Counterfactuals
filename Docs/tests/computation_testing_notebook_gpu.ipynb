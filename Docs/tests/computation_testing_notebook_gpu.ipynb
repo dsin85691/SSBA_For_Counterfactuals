{
 "cells": [
  {
   "cell_type": "markdown",
   "metadata": {},
   "source": [
    "# Computation Notebook \n",
    "\n",
    "This notebook is meant to show and compare the computational costs with the grid-based approach (searching all possible gridpoints) versus the gridless approach (binary search) to find decision boundary points. \n",
    "\n",
    "We show the times that are associated with each of these."
   ]
  },
  {
   "cell_type": "code",
   "execution_count": 1,
   "metadata": {},
   "outputs": [],
   "source": [
    "%load_ext cuml.accel\n",
    "from sklearn.datasets import make_classification\n",
    "from sklearn.linear_model import LogisticRegression\n",
    "#import matplotlib.pyplot as plt\n",
    "import numpy as np \n",
    "import pandas as pd\n",
    "import warnings\n",
    "import random \n",
    "from sklearn.utils import resample\n",
    "\n",
    "random.seed(0)\n",
    "warnings.filterwarnings('ignore', category=UserWarning)\n",
    "\n",
    "import os\n",
    "import sys\n",
    "nb_dir = os.path.split(os.getcwd())[0]\n",
    "if nb_dir not in sys.path:\n",
    "    sys.path.append(nb_dir)"
   ]
  },
  {
   "cell_type": "code",
   "execution_count": 2,
   "metadata": {},
   "outputs": [
    {
     "name": "stdout",
     "output_type": "stream",
     "text": [
      "The cuml.accel extension is already loaded. To reload it, use:\n",
      "  %reload_ext cuml.accel\n"
     ]
    }
   ],
   "source": [
    "%load_ext cuml.accel\n",
    "from sklearn.datasets import make_classification\n",
    "from sklearn.linear_model import LogisticRegression\n",
    "#import matplotlib.pyplot as plt\n",
    "import numpy as np \n",
    "import pandas as pd\n",
    "import warnings\n",
    "import random \n",
    "from sklearn.utils import resample\n",
    "\n",
    "random.seed(0)\n",
    "warnings.filterwarnings('ignore', category=UserWarning)\n",
    "\n",
    "import os\n",
    "import sys\n",
    "nb_dir = os.path.split(os.getcwd())[0]\n",
    "if nb_dir not in sys.path:\n",
    "    sys.path.append(nb_dir)"
   ]
  },
  {
   "cell_type": "markdown",
   "metadata": {},
   "source": [
    "# Datasets with a varying number of features ($2$, $10$, $50$) and a model (Logistic Regression) \n",
    "\n",
    "We construct a set of pandas dataframes (df1, df2, df3) and a model logistic regression alongside the dataset."
   ]
  },
  {
   "cell_type": "code",
   "execution_count": 3,
   "metadata": {},
   "outputs": [],
   "source": [
    "X, y = make_classification(n_samples=2000, n_features=2, n_informative=2, n_redundant=0, random_state=42, n_classes=2)\n",
    "model = LogisticRegression()\n",
    "y = y.reshape(-1,1)\n",
    "df1 = pd.DataFrame(data=np.hstack((X,y)))"
   ]
  },
  {
   "cell_type": "code",
   "execution_count": 4,
   "metadata": {},
   "outputs": [],
   "source": [
    "X, y = make_classification(n_samples=2000, n_features=10, n_informative=10, n_redundant=0, random_state=42, n_classes=2)\n",
    "y = y.reshape(-1,1)\n",
    "df2 = pd.DataFrame(data=np.hstack((X,y)))"
   ]
  },
  {
   "cell_type": "code",
   "execution_count": 5,
   "metadata": {},
   "outputs": [],
   "source": [
    "X, y = make_classification(n_samples=2000, n_features=50, n_informative=50, n_redundant=0, random_state=42, n_classes=2)\n",
    "y = y.reshape(-1,1)\n",
    "df3 = pd.DataFrame(data=np.hstack((X,y)))"
   ]
  },
  {
   "cell_type": "markdown",
   "metadata": {},
   "source": [
    "# Experiments of the Computation Costs for Grid-based Approach (Logistic Regression with Numba)\n",
    "\n",
    "$\\textbf{ Logistic Regression with Grid-based Method }$ -- 50 features\n",
    "\n",
    "Resolution: $R = 15$ ($15^{50}$ points), Memory Error (Maximum allowed dimension exceeded), 0 boundary points found\n",
    "\n",
    "Resolution: $R = 10$ ($10^{50}$ points), Memory Error (Maximum allowed dimension exceeded), 0 boundary points found\n",
    "\n",
    "$\\textbf{ Logistic Regression with Grid-based Method }$ -- 10 features\n",
    "\n",
    "Resolution: $R = 15$ ($15^{15}$ points), 42 Terabyte Memory Error, 0 boundary points found\n",
    "\n",
    "Resolution: $R = 10$ ($10^{10}$ points), 745 Gigabytes Memory Error, 0 boundary points found\n",
    "\n",
    "\n",
    "$\\textbf{ Logistic Regression with Grid-based Method }$ -- 2 features\n",
    "\n",
    "Resolution: $R = 150$ ($150^2 = 22,500$ points searched), 28.1 seconds runtime, 454 boundary points found\n",
    "\n",
    "Resolution: $R = 100$ ($100^2 = 10,000$ points searched) 5.5 seconds runtime, 104 boundary points found"
   ]
  },
  {
   "cell_type": "code",
   "execution_count": 6,
   "metadata": {},
   "outputs": [],
   "source": [
    "from files.grid_optimal_point import optimal_point"
   ]
  },
  {
   "cell_type": "code",
   "execution_count": 7,
   "metadata": {},
   "outputs": [],
   "source": [
    "X, y = make_classification(n_samples=2000, n_features=2, n_informative=2, n_redundant=0, random_state=42, n_classes=2)\n",
    "model = LogisticRegression()\n",
    "y = y.reshape(-1,1)\n",
    "df1 = pd.DataFrame(data=np.hstack((X,y)))"
   ]
  },
  {
   "cell_type": "code",
   "execution_count": 8,
   "metadata": {},
   "outputs": [
    {
     "data": {
      "text/html": [
       "<div>\n",
       "<style scoped>\n",
       "    .dataframe tbody tr th:only-of-type {\n",
       "        vertical-align: middle;\n",
       "    }\n",
       "\n",
       "    .dataframe tbody tr th {\n",
       "        vertical-align: top;\n",
       "    }\n",
       "\n",
       "    .dataframe thead th {\n",
       "        text-align: right;\n",
       "    }\n",
       "</style>\n",
       "<table border=\"1\" class=\"dataframe\">\n",
       "  <thead>\n",
       "    <tr style=\"text-align: right;\">\n",
       "      <th></th>\n",
       "      <th>0</th>\n",
       "      <th>1</th>\n",
       "      <th>2</th>\n",
       "    </tr>\n",
       "  </thead>\n",
       "  <tbody>\n",
       "    <tr>\n",
       "      <th>0</th>\n",
       "      <td>0.800062</td>\n",
       "      <td>-0.957489</td>\n",
       "      <td>1.0</td>\n",
       "    </tr>\n",
       "    <tr>\n",
       "      <th>1</th>\n",
       "      <td>1.187099</td>\n",
       "      <td>1.159787</td>\n",
       "      <td>1.0</td>\n",
       "    </tr>\n",
       "    <tr>\n",
       "      <th>2</th>\n",
       "      <td>0.154512</td>\n",
       "      <td>1.217520</td>\n",
       "      <td>0.0</td>\n",
       "    </tr>\n",
       "    <tr>\n",
       "      <th>3</th>\n",
       "      <td>0.179014</td>\n",
       "      <td>-0.852832</td>\n",
       "      <td>1.0</td>\n",
       "    </tr>\n",
       "    <tr>\n",
       "      <th>4</th>\n",
       "      <td>-0.735827</td>\n",
       "      <td>-0.245366</td>\n",
       "      <td>0.0</td>\n",
       "    </tr>\n",
       "    <tr>\n",
       "      <th>5</th>\n",
       "      <td>0.039487</td>\n",
       "      <td>1.320957</td>\n",
       "      <td>1.0</td>\n",
       "    </tr>\n",
       "    <tr>\n",
       "      <th>6</th>\n",
       "      <td>-1.482199</td>\n",
       "      <td>0.419738</td>\n",
       "      <td>0.0</td>\n",
       "    </tr>\n",
       "    <tr>\n",
       "      <th>7</th>\n",
       "      <td>-0.622829</td>\n",
       "      <td>-0.803223</td>\n",
       "      <td>0.0</td>\n",
       "    </tr>\n",
       "    <tr>\n",
       "      <th>8</th>\n",
       "      <td>0.965721</td>\n",
       "      <td>-1.068587</td>\n",
       "      <td>1.0</td>\n",
       "    </tr>\n",
       "    <tr>\n",
       "      <th>9</th>\n",
       "      <td>0.798459</td>\n",
       "      <td>-1.022348</td>\n",
       "      <td>1.0</td>\n",
       "    </tr>\n",
       "  </tbody>\n",
       "</table>\n",
       "</div>"
      ],
      "text/plain": [
       "          0         1    2\n",
       "0  0.800062 -0.957489  1.0\n",
       "1  1.187099  1.159787  1.0\n",
       "2  0.154512  1.217520  0.0\n",
       "3  0.179014 -0.852832  1.0\n",
       "4 -0.735827 -0.245366  0.0\n",
       "5  0.039487  1.320957  1.0\n",
       "6 -1.482199  0.419738  0.0\n",
       "7 -0.622829 -0.803223  0.0\n",
       "8  0.965721 -1.068587  1.0\n",
       "9  0.798459 -1.022348  1.0"
      ]
     },
     "execution_count": 8,
     "metadata": {},
     "output_type": "execute_result"
    }
   ],
   "source": [
    "df1.head(n=10)"
   ]
  },
  {
   "cell_type": "code",
   "execution_count": 9,
   "metadata": {},
   "outputs": [
    {
     "name": "stderr",
     "output_type": "stream",
     "text": [
      "/mnt/c/Users/Compuworld/drexel_research_2024_2025/Docs/files/common_functions.py:425: FutureWarning: The behavior of DataFrame concatenation with empty or all-NA entries is deprecated. In a future version, this will no longer exclude empty or all-NA columns when determining the result dtypes. To retain the old behavior, exclude the relevant entries before the concat operation.\n",
      "  balanced_dataset = pd.concat([balanced_dataset, upsampled_class], ignore_index=True)\n"
     ]
    },
    {
     "name": "stdout",
     "output_type": "stream",
     "text": [
      "Class counts:\n",
      " 2\n",
      "1    1000\n",
      "0    1000\n",
      "Name: count, dtype: int64\n",
      "Fitting model...\n",
      "Model training complete.\n",
      "boundary points started generation...\n",
      "boundary points finished.\n",
      "Number of boundary points\n",
      "(311, 2)\n",
      "Finding the closest point from the contour line to the point...\n",
      "Finding the closest point from the contour line to the point.\n",
      "[[1.07092306 0.87624128]]\n",
      "[[-1.16018181  0.00452233]]\n"
     ]
    },
    {
     "data": {
      "text/plain": [
       "[np.float64(-0.05536678064834133), np.float64(1.163749815503608)]"
      ]
     },
     "execution_count": 9,
     "metadata": {},
     "output_type": "execute_result"
    }
   ],
   "source": [
    "optimal_point(df1, model=model, desired_class=0, original_class=1, resolution=150, chosen_row=1, point_epsilon=0.1, epsilon=0.07, plot=False)"
   ]
  },
  {
   "cell_type": "code",
   "execution_count": 10,
   "metadata": {},
   "outputs": [
    {
     "name": "stderr",
     "output_type": "stream",
     "text": [
      "/mnt/c/Users/Compuworld/drexel_research_2024_2025/Docs/files/common_functions.py:425: FutureWarning: The behavior of DataFrame concatenation with empty or all-NA entries is deprecated. In a future version, this will no longer exclude empty or all-NA columns when determining the result dtypes. To retain the old behavior, exclude the relevant entries before the concat operation.\n",
      "  balanced_dataset = pd.concat([balanced_dataset, upsampled_class], ignore_index=True)\n"
     ]
    },
    {
     "name": "stdout",
     "output_type": "stream",
     "text": [
      "Class counts:\n",
      " 2\n",
      "1    1000\n",
      "0    1000\n",
      "Name: count, dtype: int64\n",
      "Fitting model...\n",
      "Model training complete.\n",
      "boundary points started generation...\n",
      "boundary points finished.\n",
      "Number of boundary points\n",
      "(104, 2)\n",
      "Finding the closest point from the contour line to the point...\n",
      "Finding the closest point from the contour line to the point.\n",
      "[[1.07092411 1.09801295]]\n",
      "[[-1.15887253 -0.03919662]]\n"
     ]
    },
    {
     "data": {
      "text/plain": [
       "[np.float64(-0.05396585561956102), np.float64(1.116748769377007)]"
      ]
     },
     "execution_count": 10,
     "metadata": {},
     "output_type": "execute_result"
    }
   ],
   "source": [
    "optimal_point(df1, model=model, desired_class=0, original_class=1, resolution=100, chosen_row=1, point_epsilon=0.1, epsilon=0.07)"
   ]
  },
  {
   "cell_type": "code",
   "execution_count": 11,
   "metadata": {},
   "outputs": [
    {
     "data": {
      "text/html": [
       "<div>\n",
       "<style scoped>\n",
       "    .dataframe tbody tr th:only-of-type {\n",
       "        vertical-align: middle;\n",
       "    }\n",
       "\n",
       "    .dataframe tbody tr th {\n",
       "        vertical-align: top;\n",
       "    }\n",
       "\n",
       "    .dataframe thead th {\n",
       "        text-align: right;\n",
       "    }\n",
       "</style>\n",
       "<table border=\"1\" class=\"dataframe\">\n",
       "  <thead>\n",
       "    <tr style=\"text-align: right;\">\n",
       "      <th></th>\n",
       "      <th>0</th>\n",
       "      <th>1</th>\n",
       "      <th>2</th>\n",
       "      <th>3</th>\n",
       "      <th>4</th>\n",
       "      <th>5</th>\n",
       "      <th>6</th>\n",
       "      <th>7</th>\n",
       "      <th>8</th>\n",
       "      <th>9</th>\n",
       "      <th>10</th>\n",
       "    </tr>\n",
       "  </thead>\n",
       "  <tbody>\n",
       "    <tr>\n",
       "      <th>0</th>\n",
       "      <td>1.990620</td>\n",
       "      <td>-2.921959</td>\n",
       "      <td>-5.689956</td>\n",
       "      <td>3.173745</td>\n",
       "      <td>-4.393239</td>\n",
       "      <td>0.538239</td>\n",
       "      <td>-0.962650</td>\n",
       "      <td>-3.024594</td>\n",
       "      <td>-0.837913</td>\n",
       "      <td>-1.944185</td>\n",
       "      <td>1.0</td>\n",
       "    </tr>\n",
       "    <tr>\n",
       "      <th>1</th>\n",
       "      <td>1.342356</td>\n",
       "      <td>0.942957</td>\n",
       "      <td>3.057782</td>\n",
       "      <td>0.059667</td>\n",
       "      <td>-0.611317</td>\n",
       "      <td>-0.985521</td>\n",
       "      <td>0.323851</td>\n",
       "      <td>0.853719</td>\n",
       "      <td>1.741036</td>\n",
       "      <td>2.069323</td>\n",
       "      <td>1.0</td>\n",
       "    </tr>\n",
       "    <tr>\n",
       "      <th>2</th>\n",
       "      <td>-1.063987</td>\n",
       "      <td>2.185873</td>\n",
       "      <td>-2.230002</td>\n",
       "      <td>1.095676</td>\n",
       "      <td>-0.240747</td>\n",
       "      <td>-1.776678</td>\n",
       "      <td>-4.165090</td>\n",
       "      <td>-0.122159</td>\n",
       "      <td>0.688403</td>\n",
       "      <td>1.401783</td>\n",
       "      <td>1.0</td>\n",
       "    </tr>\n",
       "    <tr>\n",
       "      <th>3</th>\n",
       "      <td>-4.852159</td>\n",
       "      <td>1.297380</td>\n",
       "      <td>3.466596</td>\n",
       "      <td>4.114327</td>\n",
       "      <td>-4.004815</td>\n",
       "      <td>-0.591707</td>\n",
       "      <td>2.035825</td>\n",
       "      <td>3.118117</td>\n",
       "      <td>-0.996438</td>\n",
       "      <td>1.465570</td>\n",
       "      <td>1.0</td>\n",
       "    </tr>\n",
       "    <tr>\n",
       "      <th>4</th>\n",
       "      <td>0.033975</td>\n",
       "      <td>-0.181000</td>\n",
       "      <td>0.438378</td>\n",
       "      <td>-1.506810</td>\n",
       "      <td>-0.503984</td>\n",
       "      <td>2.442108</td>\n",
       "      <td>-0.408010</td>\n",
       "      <td>1.722336</td>\n",
       "      <td>2.563095</td>\n",
       "      <td>-3.228898</td>\n",
       "      <td>1.0</td>\n",
       "    </tr>\n",
       "    <tr>\n",
       "      <th>5</th>\n",
       "      <td>2.770680</td>\n",
       "      <td>-0.667671</td>\n",
       "      <td>-2.726522</td>\n",
       "      <td>1.778277</td>\n",
       "      <td>3.033320</td>\n",
       "      <td>1.052492</td>\n",
       "      <td>1.810689</td>\n",
       "      <td>-3.730430</td>\n",
       "      <td>-2.032935</td>\n",
       "      <td>2.371080</td>\n",
       "      <td>0.0</td>\n",
       "    </tr>\n",
       "    <tr>\n",
       "      <th>6</th>\n",
       "      <td>-1.375939</td>\n",
       "      <td>0.889744</td>\n",
       "      <td>-0.487178</td>\n",
       "      <td>0.394568</td>\n",
       "      <td>-1.553368</td>\n",
       "      <td>2.302102</td>\n",
       "      <td>-0.134183</td>\n",
       "      <td>1.340100</td>\n",
       "      <td>0.741324</td>\n",
       "      <td>0.554025</td>\n",
       "      <td>1.0</td>\n",
       "    </tr>\n",
       "    <tr>\n",
       "      <th>7</th>\n",
       "      <td>0.060123</td>\n",
       "      <td>-2.850018</td>\n",
       "      <td>-1.808885</td>\n",
       "      <td>1.649850</td>\n",
       "      <td>0.827631</td>\n",
       "      <td>-0.681723</td>\n",
       "      <td>3.049334</td>\n",
       "      <td>-1.560887</td>\n",
       "      <td>-0.029848</td>\n",
       "      <td>0.037102</td>\n",
       "      <td>0.0</td>\n",
       "    </tr>\n",
       "    <tr>\n",
       "      <th>8</th>\n",
       "      <td>1.735121</td>\n",
       "      <td>4.266722</td>\n",
       "      <td>0.767749</td>\n",
       "      <td>-2.012636</td>\n",
       "      <td>2.538945</td>\n",
       "      <td>-4.960979</td>\n",
       "      <td>2.908603</td>\n",
       "      <td>-6.451668</td>\n",
       "      <td>2.723697</td>\n",
       "      <td>0.785976</td>\n",
       "      <td>0.0</td>\n",
       "    </tr>\n",
       "    <tr>\n",
       "      <th>9</th>\n",
       "      <td>0.436313</td>\n",
       "      <td>1.826231</td>\n",
       "      <td>-0.232626</td>\n",
       "      <td>-0.570040</td>\n",
       "      <td>1.101895</td>\n",
       "      <td>0.658344</td>\n",
       "      <td>-0.079847</td>\n",
       "      <td>-2.158960</td>\n",
       "      <td>0.985347</td>\n",
       "      <td>0.426746</td>\n",
       "      <td>0.0</td>\n",
       "    </tr>\n",
       "  </tbody>\n",
       "</table>\n",
       "</div>"
      ],
      "text/plain": [
       "         0         1         2         3         4         5         6   \\\n",
       "0  1.990620 -2.921959 -5.689956  3.173745 -4.393239  0.538239 -0.962650   \n",
       "1  1.342356  0.942957  3.057782  0.059667 -0.611317 -0.985521  0.323851   \n",
       "2 -1.063987  2.185873 -2.230002  1.095676 -0.240747 -1.776678 -4.165090   \n",
       "3 -4.852159  1.297380  3.466596  4.114327 -4.004815 -0.591707  2.035825   \n",
       "4  0.033975 -0.181000  0.438378 -1.506810 -0.503984  2.442108 -0.408010   \n",
       "5  2.770680 -0.667671 -2.726522  1.778277  3.033320  1.052492  1.810689   \n",
       "6 -1.375939  0.889744 -0.487178  0.394568 -1.553368  2.302102 -0.134183   \n",
       "7  0.060123 -2.850018 -1.808885  1.649850  0.827631 -0.681723  3.049334   \n",
       "8  1.735121  4.266722  0.767749 -2.012636  2.538945 -4.960979  2.908603   \n",
       "9  0.436313  1.826231 -0.232626 -0.570040  1.101895  0.658344 -0.079847   \n",
       "\n",
       "         7         8         9    10  \n",
       "0 -3.024594 -0.837913 -1.944185  1.0  \n",
       "1  0.853719  1.741036  2.069323  1.0  \n",
       "2 -0.122159  0.688403  1.401783  1.0  \n",
       "3  3.118117 -0.996438  1.465570  1.0  \n",
       "4  1.722336  2.563095 -3.228898  1.0  \n",
       "5 -3.730430 -2.032935  2.371080  0.0  \n",
       "6  1.340100  0.741324  0.554025  1.0  \n",
       "7 -1.560887 -0.029848  0.037102  0.0  \n",
       "8 -6.451668  2.723697  0.785976  0.0  \n",
       "9 -2.158960  0.985347  0.426746  0.0  "
      ]
     },
     "execution_count": 11,
     "metadata": {},
     "output_type": "execute_result"
    }
   ],
   "source": [
    "df2.head(n=10)"
   ]
  },
  {
   "cell_type": "code",
   "execution_count": 12,
   "metadata": {},
   "outputs": [
    {
     "name": "stdout",
     "output_type": "stream",
     "text": [
      "Class counts:\n",
      " 10\n",
      "1    1005\n",
      "0    1005\n",
      "Name: count, dtype: int64\n",
      "Fitting model...\n",
      "Model training complete.\n",
      "boundary points started generation...\n",
      "Not enough memory to generate a grid with 15^10 number of points\n"
     ]
    },
    {
     "name": "stderr",
     "output_type": "stream",
     "text": [
      "/mnt/c/Users/Compuworld/drexel_research_2024_2025/Docs/files/common_functions.py:425: FutureWarning: The behavior of DataFrame concatenation with empty or all-NA entries is deprecated. In a future version, this will no longer exclude empty or all-NA columns when determining the result dtypes. To retain the old behavior, exclude the relevant entries before the concat operation.\n",
      "  balanced_dataset = pd.concat([balanced_dataset, upsampled_class], ignore_index=True)\n"
     ]
    }
   ],
   "source": [
    "optimal_point(df2, model=model, desired_class=0, original_class=1, resolution=15, chosen_row=1, point_epsilon=0.1, epsilon=0.07)"
   ]
  },
  {
   "cell_type": "code",
   "execution_count": 13,
   "metadata": {},
   "outputs": [
    {
     "name": "stdout",
     "output_type": "stream",
     "text": [
      "Class counts:\n",
      " 10\n",
      "1    1005\n",
      "0    1005\n",
      "Name: count, dtype: int64\n",
      "Fitting model...\n",
      "Model training complete.\n",
      "boundary points started generation...\n",
      "Not enough memory to generate a grid with 10^10 number of points\n"
     ]
    },
    {
     "name": "stderr",
     "output_type": "stream",
     "text": [
      "/mnt/c/Users/Compuworld/drexel_research_2024_2025/Docs/files/common_functions.py:425: FutureWarning: The behavior of DataFrame concatenation with empty or all-NA entries is deprecated. In a future version, this will no longer exclude empty or all-NA columns when determining the result dtypes. To retain the old behavior, exclude the relevant entries before the concat operation.\n",
      "  balanced_dataset = pd.concat([balanced_dataset, upsampled_class], ignore_index=True)\n"
     ]
    }
   ],
   "source": [
    "optimal_point(df2, model=model, desired_class=0, original_class=1, resolution=10, chosen_row=1, point_epsilon=0.1, epsilon=0.07)"
   ]
  },
  {
   "cell_type": "code",
   "execution_count": 14,
   "metadata": {},
   "outputs": [
    {
     "name": "stderr",
     "output_type": "stream",
     "text": [
      "/mnt/c/Users/Compuworld/drexel_research_2024_2025/Docs/files/common_functions.py:425: FutureWarning: The behavior of DataFrame concatenation with empty or all-NA entries is deprecated. In a future version, this will no longer exclude empty or all-NA columns when determining the result dtypes. To retain the old behavior, exclude the relevant entries before the concat operation.\n",
      "  balanced_dataset = pd.concat([balanced_dataset, upsampled_class], ignore_index=True)\n"
     ]
    },
    {
     "name": "stdout",
     "output_type": "stream",
     "text": [
      "Class counts:\n",
      " 50\n",
      "1    1001\n",
      "0    1001\n",
      "Name: count, dtype: int64\n",
      "Fitting model...\n",
      "Model training complete.\n",
      "boundary points started generation...\n"
     ]
    },
    {
     "ename": "ValueError",
     "evalue": "Maximum allowed dimension exceeded",
     "output_type": "error",
     "traceback": [
      "\u001b[31m---------------------------------------------------------------------------\u001b[39m",
      "\u001b[31mValueError\u001b[39m                                Traceback (most recent call last)",
      "\u001b[36mCell\u001b[39m\u001b[36m \u001b[39m\u001b[32mIn[14]\u001b[39m\u001b[32m, line 1\u001b[39m\n\u001b[32m----> \u001b[39m\u001b[32m1\u001b[39m \u001b[43moptimal_point\u001b[49m\u001b[43m(\u001b[49m\u001b[43mdf3\u001b[49m\u001b[43m,\u001b[49m\u001b[43m \u001b[49m\u001b[43mmodel\u001b[49m\u001b[43m=\u001b[49m\u001b[43mmodel\u001b[49m\u001b[43m,\u001b[49m\u001b[43m \u001b[49m\u001b[43mdesired_class\u001b[49m\u001b[43m=\u001b[49m\u001b[32;43m0\u001b[39;49m\u001b[43m,\u001b[49m\u001b[43m \u001b[49m\u001b[43moriginal_class\u001b[49m\u001b[43m=\u001b[49m\u001b[32;43m1\u001b[39;49m\u001b[43m,\u001b[49m\u001b[43m \u001b[49m\u001b[43mresolution\u001b[49m\u001b[43m=\u001b[49m\u001b[32;43m15\u001b[39;49m\u001b[43m,\u001b[49m\u001b[43m \u001b[49m\u001b[43mchosen_row\u001b[49m\u001b[43m=\u001b[49m\u001b[32;43m1\u001b[39;49m\u001b[43m,\u001b[49m\u001b[43m \u001b[49m\u001b[43mpoint_epsilon\u001b[49m\u001b[43m=\u001b[49m\u001b[32;43m0.1\u001b[39;49m\u001b[43m,\u001b[49m\u001b[43m \u001b[49m\u001b[43mepsilon\u001b[49m\u001b[43m=\u001b[49m\u001b[32;43m0.07\u001b[39;49m\u001b[43m)\u001b[49m\n",
      "\u001b[36mFile \u001b[39m\u001b[32m/mnt/c/Users/Compuworld/drexel_research_2024_2025/Docs/files/grid_optimal_point.py:270\u001b[39m, in \u001b[36moptimal_point\u001b[39m\u001b[34m(dataset, model, desired_class, original_class, chosen_row, resolution, point_epsilon, epsilon, constraints, deltas, plot)\u001b[39m\n\u001b[32m    267\u001b[39m \u001b[38;5;28mprint\u001b[39m(\u001b[33m\"\u001b[39m\u001b[33mboundary points started generation...\u001b[39m\u001b[33m\"\u001b[39m)\n\u001b[32m    268\u001b[39m \u001b[38;5;28;01mtry\u001b[39;00m: \n\u001b[32m    269\u001b[39m     \u001b[38;5;66;03m# Use grid-based method to approximate boundary points\u001b[39;00m\n\u001b[32m--> \u001b[39m\u001b[32m270\u001b[39m     boundary_points = \u001b[43mcompute_decision_boundary_points_all_features\u001b[49m\u001b[43m(\u001b[49m\u001b[43mmodel\u001b[49m\u001b[43m,\u001b[49m\u001b[43m \u001b[49m\u001b[43mX_train\u001b[49m\u001b[43m,\u001b[49m\u001b[43m \u001b[49m\u001b[43mresolution\u001b[49m\u001b[43m=\u001b[49m\u001b[43mresolution\u001b[49m\u001b[43m,\u001b[49m\u001b[43m \u001b[49m\u001b[43mepsilon\u001b[49m\u001b[43m=\u001b[49m\u001b[43mpoint_epsilon\u001b[49m\u001b[43m)\u001b[49m\n\u001b[32m    271\u001b[39m     \u001b[38;5;28mprint\u001b[39m(\u001b[33m\"\u001b[39m\u001b[33mboundary points finished.\u001b[39m\u001b[33m\"\u001b[39m)\n\u001b[32m    272\u001b[39m \u001b[38;5;28;01mexcept\u001b[39;00m \u001b[38;5;167;01mMemoryError\u001b[39;00m: \n",
      "\u001b[36mFile \u001b[39m\u001b[32m/mnt/c/Users/Compuworld/drexel_research_2024_2025/Docs/files/grid_optimal_point.py:130\u001b[39m, in \u001b[36mcompute_decision_boundary_points_all_features\u001b[39m\u001b[34m(model, X, resolution, epsilon)\u001b[39m\n\u001b[32m    128\u001b[39m n_features = X.shape[\u001b[32m1\u001b[39m]  \u001b[38;5;66;03m# Number of features\u001b[39;00m\n\u001b[32m    129\u001b[39m \u001b[38;5;66;03m# A grid that contains resolution^f samples from the f dimensional space where f is the number of features\u001b[39;00m\n\u001b[32m--> \u001b[39m\u001b[32m130\u001b[39m grid = \u001b[43mnp\u001b[49m\u001b[43m.\u001b[49m\u001b[43mzeros\u001b[49m\u001b[43m(\u001b[49m\u001b[43m(\u001b[49m\u001b[43mresolution\u001b[49m\u001b[43m \u001b[49m\u001b[43m*\u001b[49m\u001b[43m*\u001b[49m\u001b[43m \u001b[49m\u001b[43mn_features\u001b[49m\u001b[43m,\u001b[49m\u001b[43m \u001b[49m\u001b[43mn_features\u001b[49m\u001b[43m)\u001b[49m\u001b[43m)\u001b[49m  \u001b[38;5;66;03m# Initialize grid array\u001b[39;00m\n\u001b[32m    132\u001b[39m \u001b[38;5;66;03m# Generates a grid that contains resolution^f samples based on whether the column contains numeric or categorical values \u001b[39;00m\n\u001b[32m    133\u001b[39m \u001b[38;5;66;03m# If the column contains numeric types, then the grid generates a column based on subdividing the numeric columns evenly\u001b[39;00m\n\u001b[32m    134\u001b[39m \u001b[38;5;28;01mfor\u001b[39;00m i \u001b[38;5;129;01min\u001b[39;00m \u001b[38;5;28mrange\u001b[39m(n_features):\n\u001b[32m    135\u001b[39m     \u001b[38;5;66;03m# Checks if the column is not a column consisting of categorical values\u001b[39;00m\n\u001b[32m    136\u001b[39m     \u001b[38;5;66;03m# If it is not categorical, then the column must be numeric. \u001b[39;00m\n",
      "\u001b[31mValueError\u001b[39m: Maximum allowed dimension exceeded"
     ]
    }
   ],
   "source": [
    "optimal_point(df3, model=model, desired_class=0, original_class=1, resolution=15, chosen_row=1, point_epsilon=0.1, epsilon=0.07)"
   ]
  },
  {
   "cell_type": "code",
   "execution_count": 15,
   "metadata": {},
   "outputs": [
    {
     "name": "stdout",
     "output_type": "stream",
     "text": [
      "Class counts:\n",
      " 50\n",
      "1    1001\n",
      "0    1001\n",
      "Name: count, dtype: int64\n",
      "Fitting model...\n",
      "Model training complete.\n",
      "boundary points started generation...\n"
     ]
    },
    {
     "name": "stderr",
     "output_type": "stream",
     "text": [
      "/mnt/c/Users/Compuworld/drexel_research_2024_2025/Docs/files/common_functions.py:425: FutureWarning: The behavior of DataFrame concatenation with empty or all-NA entries is deprecated. In a future version, this will no longer exclude empty or all-NA columns when determining the result dtypes. To retain the old behavior, exclude the relevant entries before the concat operation.\n",
      "  balanced_dataset = pd.concat([balanced_dataset, upsampled_class], ignore_index=True)\n"
     ]
    },
    {
     "ename": "ValueError",
     "evalue": "Maximum allowed dimension exceeded",
     "output_type": "error",
     "traceback": [
      "\u001b[31m---------------------------------------------------------------------------\u001b[39m",
      "\u001b[31mValueError\u001b[39m                                Traceback (most recent call last)",
      "\u001b[36mCell\u001b[39m\u001b[36m \u001b[39m\u001b[32mIn[15]\u001b[39m\u001b[32m, line 1\u001b[39m\n\u001b[32m----> \u001b[39m\u001b[32m1\u001b[39m \u001b[43moptimal_point\u001b[49m\u001b[43m(\u001b[49m\u001b[43mdf3\u001b[49m\u001b[43m,\u001b[49m\u001b[43m \u001b[49m\u001b[43mmodel\u001b[49m\u001b[43m=\u001b[49m\u001b[43mmodel\u001b[49m\u001b[43m,\u001b[49m\u001b[43m \u001b[49m\u001b[43mdesired_class\u001b[49m\u001b[43m=\u001b[49m\u001b[32;43m0\u001b[39;49m\u001b[43m,\u001b[49m\u001b[43m \u001b[49m\u001b[43moriginal_class\u001b[49m\u001b[43m=\u001b[49m\u001b[32;43m1\u001b[39;49m\u001b[43m,\u001b[49m\u001b[43m \u001b[49m\u001b[43mresolution\u001b[49m\u001b[43m=\u001b[49m\u001b[32;43m10\u001b[39;49m\u001b[43m,\u001b[49m\u001b[43m \u001b[49m\u001b[43mchosen_row\u001b[49m\u001b[43m=\u001b[49m\u001b[32;43m1\u001b[39;49m\u001b[43m,\u001b[49m\u001b[43m \u001b[49m\u001b[43mpoint_epsilon\u001b[49m\u001b[43m=\u001b[49m\u001b[32;43m0.1\u001b[39;49m\u001b[43m,\u001b[49m\u001b[43m \u001b[49m\u001b[43mepsilon\u001b[49m\u001b[43m=\u001b[49m\u001b[32;43m0.07\u001b[39;49m\u001b[43m)\u001b[49m\n",
      "\u001b[36mFile \u001b[39m\u001b[32m/mnt/c/Users/Compuworld/drexel_research_2024_2025/Docs/files/grid_optimal_point.py:270\u001b[39m, in \u001b[36moptimal_point\u001b[39m\u001b[34m(dataset, model, desired_class, original_class, chosen_row, resolution, point_epsilon, epsilon, constraints, deltas, plot)\u001b[39m\n\u001b[32m    267\u001b[39m \u001b[38;5;28mprint\u001b[39m(\u001b[33m\"\u001b[39m\u001b[33mboundary points started generation...\u001b[39m\u001b[33m\"\u001b[39m)\n\u001b[32m    268\u001b[39m \u001b[38;5;28;01mtry\u001b[39;00m: \n\u001b[32m    269\u001b[39m     \u001b[38;5;66;03m# Use grid-based method to approximate boundary points\u001b[39;00m\n\u001b[32m--> \u001b[39m\u001b[32m270\u001b[39m     boundary_points = \u001b[43mcompute_decision_boundary_points_all_features\u001b[49m\u001b[43m(\u001b[49m\u001b[43mmodel\u001b[49m\u001b[43m,\u001b[49m\u001b[43m \u001b[49m\u001b[43mX_train\u001b[49m\u001b[43m,\u001b[49m\u001b[43m \u001b[49m\u001b[43mresolution\u001b[49m\u001b[43m=\u001b[49m\u001b[43mresolution\u001b[49m\u001b[43m,\u001b[49m\u001b[43m \u001b[49m\u001b[43mepsilon\u001b[49m\u001b[43m=\u001b[49m\u001b[43mpoint_epsilon\u001b[49m\u001b[43m)\u001b[49m\n\u001b[32m    271\u001b[39m     \u001b[38;5;28mprint\u001b[39m(\u001b[33m\"\u001b[39m\u001b[33mboundary points finished.\u001b[39m\u001b[33m\"\u001b[39m)\n\u001b[32m    272\u001b[39m \u001b[38;5;28;01mexcept\u001b[39;00m \u001b[38;5;167;01mMemoryError\u001b[39;00m: \n",
      "\u001b[36mFile \u001b[39m\u001b[32m/mnt/c/Users/Compuworld/drexel_research_2024_2025/Docs/files/grid_optimal_point.py:130\u001b[39m, in \u001b[36mcompute_decision_boundary_points_all_features\u001b[39m\u001b[34m(model, X, resolution, epsilon)\u001b[39m\n\u001b[32m    128\u001b[39m n_features = X.shape[\u001b[32m1\u001b[39m]  \u001b[38;5;66;03m# Number of features\u001b[39;00m\n\u001b[32m    129\u001b[39m \u001b[38;5;66;03m# A grid that contains resolution^f samples from the f dimensional space where f is the number of features\u001b[39;00m\n\u001b[32m--> \u001b[39m\u001b[32m130\u001b[39m grid = \u001b[43mnp\u001b[49m\u001b[43m.\u001b[49m\u001b[43mzeros\u001b[49m\u001b[43m(\u001b[49m\u001b[43m(\u001b[49m\u001b[43mresolution\u001b[49m\u001b[43m \u001b[49m\u001b[43m*\u001b[49m\u001b[43m*\u001b[49m\u001b[43m \u001b[49m\u001b[43mn_features\u001b[49m\u001b[43m,\u001b[49m\u001b[43m \u001b[49m\u001b[43mn_features\u001b[49m\u001b[43m)\u001b[49m\u001b[43m)\u001b[49m  \u001b[38;5;66;03m# Initialize grid array\u001b[39;00m\n\u001b[32m    132\u001b[39m \u001b[38;5;66;03m# Generates a grid that contains resolution^f samples based on whether the column contains numeric or categorical values \u001b[39;00m\n\u001b[32m    133\u001b[39m \u001b[38;5;66;03m# If the column contains numeric types, then the grid generates a column based on subdividing the numeric columns evenly\u001b[39;00m\n\u001b[32m    134\u001b[39m \u001b[38;5;28;01mfor\u001b[39;00m i \u001b[38;5;129;01min\u001b[39;00m \u001b[38;5;28mrange\u001b[39m(n_features):\n\u001b[32m    135\u001b[39m     \u001b[38;5;66;03m# Checks if the column is not a column consisting of categorical values\u001b[39;00m\n\u001b[32m    136\u001b[39m     \u001b[38;5;66;03m# If it is not categorical, then the column must be numeric. \u001b[39;00m\n",
      "\u001b[31mValueError\u001b[39m: Maximum allowed dimension exceeded"
     ]
    }
   ],
   "source": [
    "optimal_point(df3, model=model, desired_class=0, original_class=1, resolution=10, chosen_row=1, point_epsilon=0.1, epsilon=0.07)"
   ]
  },
  {
   "cell_type": "markdown",
   "metadata": {},
   "source": [
    "# Experiments of the Computation Costs for SSBA method Using GPU (Logistic Regression)\n",
    "\n",
    "\n",
    "$\\textbf{ Logistic Regression with SSBA Method }$ -- 50 features\n",
    "\n",
    "$T = 1,000,000$, 6.2 seconds runtime, $689,574$ boundary points found\n",
    "\n",
    "$T = 250,000$ $, 2.2 seconds runtime, $500,000$ boundary points found\n",
    "\n",
    "$T = 100,000$, 0.9 seconds runtime, $100,000$ boundary points found\n",
    "\n",
    "$T = 10,000$, 0.1 seconds runtime, $10,000$ boundary points found\n",
    "\n",
    "$\\textbf{ Logistic Regression with SSBA Method }$ -- 10 features\n",
    "\n",
    "$T = 1,000,000$, ~2.2 seconds runtime, $711,436$ boundary points found\n",
    "\n",
    "$T = 250,000$, ~0.9 seconds runtime, $250,000$ boundary points found\n",
    "\n",
    "$T = 100,000$, ~0.4 seconds runtime, $100,000$ boundary points found\n",
    "\n",
    "$T = 10,000$, ~0.1 seconds runtime, $10,000$ boundary points found\n",
    "\n",
    "\n",
    "$\\textbf{ Logistic Regression with SSBA Method }$ -- 2 features\n",
    "\n",
    "$T = 1,000,000$, ~2.4 seconds runtime, $793,845$ boundary points found\n",
    "\n",
    "$T = 250,000$, ~0.7 seconds runtime, $250,000$ boundary points found\n",
    "\n",
    "$T = 100,000$, ~0.3 seconds runtime, $100,000$ boundary points found\n",
    "\n",
    "$T = 10,000$, ~0.0 seconds runtime, $10,000$ boundary points found\n",
    "\n",
    "$T = 1,500$, ~0.0 seconds runtime, $1,500$ boundary points found\n",
    "\n",
    "$T = 500$, ~0.0 seconds runtime, $500$ boundary points found"
   ]
  },
  {
   "cell_type": "code",
   "execution_count": 16,
   "metadata": {},
   "outputs": [],
   "source": [
    "from files.binary_search_optimal_point import optimal_point"
   ]
  },
  {
   "cell_type": "code",
   "execution_count": 17,
   "metadata": {},
   "outputs": [
    {
     "name": "stdout",
     "output_type": "stream",
     "text": [
      "Class counts:\n",
      " 2\n",
      "1    1000\n",
      "0    1000\n",
      "Name: count, dtype: int64\n",
      "Fitting model...\n",
      "Model training complete.\n",
      "boundary points started generation...\n",
      "boundary points finished.\n",
      "(500, 2)\n",
      "Finding the closest point from the contour line to the point...\n",
      "Found the closest point from the contour line to the point.\n",
      "[[1.01086188 1.04264849]]\n",
      "[[-1.17285622 -0.03193558]]\n"
     ]
    },
    {
     "name": "stderr",
     "output_type": "stream",
     "text": [
      "/mnt/c/Users/Compuworld/drexel_research_2024_2025/Docs/files/common_functions.py:425: FutureWarning: The behavior of DataFrame concatenation with empty or all-NA entries is deprecated. In a future version, this will no longer exclude empty or all-NA columns when determining the result dtypes. To retain the old behavior, exclude the relevant entries before the concat operation.\n",
      "  balanced_dataset = pd.concat([balanced_dataset, upsampled_class], ignore_index=True)\n"
     ]
    },
    {
     "data": {
      "text/plain": [
       "[np.float64(0.0015030385232364107), np.float64(1.1264895731106561)]"
      ]
     },
     "execution_count": 17,
     "metadata": {},
     "output_type": "execute_result"
    }
   ],
   "source": [
    "optimal_point(df1, model=model, desired_class=0, original_class=1, threshold=500, chosen_row=1, point_epsilon=1e-3, epsilon=0.01)"
   ]
  },
  {
   "cell_type": "code",
   "execution_count": 18,
   "metadata": {},
   "outputs": [
    {
     "name": "stdout",
     "output_type": "stream",
     "text": [
      "Class counts:\n",
      " 2\n",
      "1    1000\n",
      "0    1000\n",
      "Name: count, dtype: int64\n",
      "Fitting model...\n",
      "Model training complete.\n",
      "boundary points started generation...\n",
      "boundary points finished.\n",
      "(1500, 2)\n",
      "Finding the closest point from the contour line to the point...\n",
      "Found the closest point from the contour line to the point.\n",
      "[[1.01086307 1.03152629]]\n",
      "[[-1.17123926 -0.04791937]]\n"
     ]
    },
    {
     "name": "stderr",
     "output_type": "stream",
     "text": [
      "/mnt/c/Users/Compuworld/drexel_research_2024_2025/Docs/files/common_functions.py:425: FutureWarning: The behavior of DataFrame concatenation with empty or all-NA entries is deprecated. In a future version, this will no longer exclude empty or all-NA columns when determining the result dtypes. To retain the old behavior, exclude the relevant entries before the concat operation.\n",
      "  balanced_dataset = pd.concat([balanced_dataset, upsampled_class], ignore_index=True)\n"
     ]
    },
    {
     "data": {
      "text/plain": [
       "[np.float64(0.0031361662356048647), np.float64(1.1103570686441802)]"
      ]
     },
     "execution_count": 18,
     "metadata": {},
     "output_type": "execute_result"
    }
   ],
   "source": [
    "optimal_point(df1, model=model, desired_class=0, original_class=1, threshold=1500, chosen_row=1, point_epsilon=1e-3, epsilon=0.01)"
   ]
  },
  {
   "cell_type": "code",
   "execution_count": 19,
   "metadata": {},
   "outputs": [
    {
     "name": "stdout",
     "output_type": "stream",
     "text": [
      "Class counts:\n",
      " 2\n",
      "1    1000\n",
      "0    1000\n",
      "Name: count, dtype: int64\n",
      "Fitting model...\n",
      "Model training complete.\n",
      "boundary points started generation...\n",
      "boundary points finished.\n",
      "(10000, 2)\n",
      "Finding the closest point from the contour line to the point...\n",
      "Found the closest point from the contour line to the point.\n",
      "[[1.01086398 1.03174952]]\n",
      "[[-1.17001351 -0.04743782]]\n"
     ]
    },
    {
     "name": "stderr",
     "output_type": "stream",
     "text": [
      "/mnt/c/Users/Compuworld/drexel_research_2024_2025/Docs/files/common_functions.py:425: FutureWarning: The behavior of DataFrame concatenation with empty or all-NA entries is deprecated. In a future version, this will no longer exclude empty or all-NA columns when determining the result dtypes. To retain the old behavior, exclude the relevant entries before the concat operation.\n",
      "  balanced_dataset = pd.concat([balanced_dataset, upsampled_class], ignore_index=True)\n"
     ]
    },
    {
     "data": {
      "text/plain": [
       "[np.float64(0.0043741678361628455), np.float64(1.1108432174395366)]"
      ]
     },
     "execution_count": 19,
     "metadata": {},
     "output_type": "execute_result"
    }
   ],
   "source": [
    "optimal_point(df1, model=model, desired_class=0, original_class=1, threshold=10000,  chosen_row=1, point_epsilon=1e-3, epsilon=0.01)"
   ]
  },
  {
   "cell_type": "code",
   "execution_count": 20,
   "metadata": {},
   "outputs": [
    {
     "name": "stderr",
     "output_type": "stream",
     "text": [
      "/mnt/c/Users/Compuworld/drexel_research_2024_2025/Docs/files/common_functions.py:425: FutureWarning: The behavior of DataFrame concatenation with empty or all-NA entries is deprecated. In a future version, this will no longer exclude empty or all-NA columns when determining the result dtypes. To retain the old behavior, exclude the relevant entries before the concat operation.\n",
      "  balanced_dataset = pd.concat([balanced_dataset, upsampled_class], ignore_index=True)\n"
     ]
    },
    {
     "name": "stdout",
     "output_type": "stream",
     "text": [
      "Class counts:\n",
      " 2\n",
      "1    1000\n",
      "0    1000\n",
      "Name: count, dtype: int64\n",
      "Fitting model...\n",
      "Model training complete.\n",
      "boundary points started generation...\n",
      "boundary points finished.\n",
      "(100000, 2)\n",
      "Finding the closest point from the contour line to the point...\n",
      "Found the closest point from the contour line to the point.\n",
      "[[1.01086502 1.02418796]]\n",
      "[[-1.16860428 -0.0721871 ]]\n"
     ]
    },
    {
     "data": {
      "text/plain": [
       "[np.float64(0.0057974944660421635), np.float64(1.0858539989768687)]"
      ]
     },
     "execution_count": 20,
     "metadata": {},
     "output_type": "execute_result"
    }
   ],
   "source": [
    "optimal_point(df1, model=model, desired_class=0, original_class=1, threshold=100000,  chosen_row=1, point_epsilon=1e-3, epsilon=0.01)"
   ]
  },
  {
   "cell_type": "code",
   "execution_count": 21,
   "metadata": {},
   "outputs": [
    {
     "name": "stderr",
     "output_type": "stream",
     "text": [
      "/mnt/c/Users/Compuworld/drexel_research_2024_2025/Docs/files/common_functions.py:425: FutureWarning: The behavior of DataFrame concatenation with empty or all-NA entries is deprecated. In a future version, this will no longer exclude empty or all-NA columns when determining the result dtypes. To retain the old behavior, exclude the relevant entries before the concat operation.\n",
      "  balanced_dataset = pd.concat([balanced_dataset, upsampled_class], ignore_index=True)\n"
     ]
    },
    {
     "name": "stdout",
     "output_type": "stream",
     "text": [
      "Class counts:\n",
      " 2\n",
      "1    1000\n",
      "0    1000\n",
      "Name: count, dtype: int64\n",
      "Fitting model...\n",
      "Model training complete.\n",
      "boundary points started generation...\n",
      "boundary points finished.\n",
      "(250000, 2)\n",
      "Finding the closest point from the contour line to the point...\n",
      "Found the closest point from the contour line to the point.\n",
      "[[1.01086398 1.03174952]]\n",
      "[[-1.17001351 -0.04743782]]\n"
     ]
    },
    {
     "data": {
      "text/plain": [
       "[np.float64(0.0043741678361628455), np.float64(1.1108432174395366)]"
      ]
     },
     "execution_count": 21,
     "metadata": {},
     "output_type": "execute_result"
    }
   ],
   "source": [
    "optimal_point(df1, model=model, desired_class=0, original_class=1, threshold=250000,  chosen_row=1, point_epsilon=1e-3, epsilon=0.01)"
   ]
  },
  {
   "cell_type": "code",
   "execution_count": 22,
   "metadata": {},
   "outputs": [
    {
     "name": "stderr",
     "output_type": "stream",
     "text": [
      "/mnt/c/Users/Compuworld/drexel_research_2024_2025/Docs/files/common_functions.py:425: FutureWarning: The behavior of DataFrame concatenation with empty or all-NA entries is deprecated. In a future version, this will no longer exclude empty or all-NA columns when determining the result dtypes. To retain the old behavior, exclude the relevant entries before the concat operation.\n",
      "  balanced_dataset = pd.concat([balanced_dataset, upsampled_class], ignore_index=True)\n"
     ]
    },
    {
     "name": "stdout",
     "output_type": "stream",
     "text": [
      "Class counts:\n",
      " 2\n",
      "1    1000\n",
      "0    1000\n",
      "Name: count, dtype: int64\n",
      "Fitting model...\n",
      "Model training complete.\n",
      "boundary points started generation...\n",
      "boundary points finished.\n",
      "(793845, 2)\n",
      "Finding the closest point from the contour line to the point...\n",
      "Found the closest point from the contour line to the point.\n",
      "[[1.00185492 1.02077407]]\n",
      "[[-1.17187423 -0.05162185]]\n"
     ]
    },
    {
     "data": {
      "text/plain": [
       "[np.float64(0.013050724564066973), np.float64(1.1070929121254551)]"
      ]
     },
     "execution_count": 22,
     "metadata": {},
     "output_type": "execute_result"
    }
   ],
   "source": [
    "optimal_point(df1, model=model, desired_class=0, original_class=1, threshold=1000000,  chosen_row=1, point_epsilon=1e-4, epsilon=1e-3)"
   ]
  },
  {
   "cell_type": "code",
   "execution_count": 19,
   "metadata": {},
   "outputs": [
    {
     "name": "stdout",
     "output_type": "stream",
     "text": [
      "Class counts:\n",
      " 10\n",
      "1    1005\n",
      "0    1005\n",
      "Name: count, dtype: int64\n",
      "Fitting model...\n",
      "Model training complete.\n",
      "boundary points started generation...\n",
      "boundary points finished.\n",
      "(10000, 10)\n",
      "Finding the closest point from the contour line to the point...\n",
      "Found the closest point from the contour line to the point.\n",
      "[[1.02729977 1.01526476 0.99263632 1.01480599 1.00672334 1.00033393\n",
      "  1.00202299 1.01605727 1.01787145 1.01256596]]\n",
      "[[-0.05938227 -0.19284177  0.05716738 -0.21115423  0.307241    0.10348921\n",
      "   0.12561382 -0.16774169 -0.12931178 -0.39461488]]\n"
     ]
    },
    {
     "name": "stderr",
     "output_type": "stream",
     "text": [
      "/mnt/c/Users/Compuworld/drexel_research_2024_2025/Docs/files/common_functions.py:426: FutureWarning: The behavior of DataFrame concatenation with empty or all-NA entries is deprecated. In a future version, this will no longer exclude empty or all-NA columns when determining the result dtypes. To retain the old behavior, exclude the relevant entries before the concat operation.\n",
      "  balanced_dataset = pd.concat([balanced_dataset, upsampled_class], ignore_index=True)\n"
     ]
    },
    {
     "data": {
      "text/plain": [
       "[np.float64(1.2813530480728388),\n",
       " np.float64(0.7471710632588614),\n",
       " np.float64(3.1145287451993857),\n",
       " np.float64(-0.1546138606265391),\n",
       " np.float64(-0.30201012178874953),\n",
       " np.float64(-0.8819969784732707),\n",
       " np.float64(0.44971862490110337),\n",
       " np.float64(0.6832840907073147),\n",
       " np.float64(1.609413070545779),\n",
       " np.float64(1.669749072295262)]"
      ]
     },
     "execution_count": 19,
     "metadata": {},
     "output_type": "execute_result"
    }
   ],
   "source": [
    "optimal_point(df2, model=model, desired_class=0, original_class=1, threshold=10000, chosen_row=1, point_epsilon=1e-3, epsilon=0.01)"
   ]
  },
  {
   "cell_type": "code",
   "execution_count": 20,
   "metadata": {},
   "outputs": [
    {
     "name": "stderr",
     "output_type": "stream",
     "text": [
      "/mnt/c/Users/Compuworld/drexel_research_2024_2025/Docs/files/common_functions.py:426: FutureWarning: The behavior of DataFrame concatenation with empty or all-NA entries is deprecated. In a future version, this will no longer exclude empty or all-NA columns when determining the result dtypes. To retain the old behavior, exclude the relevant entries before the concat operation.\n",
      "  balanced_dataset = pd.concat([balanced_dataset, upsampled_class], ignore_index=True)\n"
     ]
    },
    {
     "name": "stdout",
     "output_type": "stream",
     "text": [
      "Class counts:\n",
      " 10\n",
      "1    1005\n",
      "0    1005\n",
      "Name: count, dtype: int64\n",
      "Fitting model...\n",
      "Model training complete.\n",
      "boundary points started generation...\n",
      "boundary points finished.\n",
      "(100000, 10)\n",
      "Finding the closest point from the contour line to the point...\n",
      "Found the closest point from the contour line to the point.\n",
      "[[1.10535072 1.01383935 1.03012942 1.01441507 1.00617286 1.08904428\n",
      "  0.86467458 1.01584238 1.02079412 1.01311026]]\n",
      "[[-0.01159247 -0.2640651  -0.05117532 -0.2297617   0.26290475 -0.01377765\n",
      "   0.00594992 -0.17387486 -0.09456945 -0.32573135]]\n"
     ]
    },
    {
     "data": {
      "text/plain": [
       "[np.float64(1.3295426862024735),\n",
       " np.float64(0.6752369177547147),\n",
       " np.float64(3.0050651230283156),\n",
       " np.float64(-0.17340701830114585),\n",
       " np.float64(-0.346789182220165),\n",
       " np.float64(-1.0005252128751565),\n",
       " np.float64(0.32899543559661043),\n",
       " np.float64(0.677089806279022),\n",
       " np.float64(1.6444999034668655),\n",
       " np.float64(1.7393208956966077)]"
      ]
     },
     "execution_count": 20,
     "metadata": {},
     "output_type": "execute_result"
    }
   ],
   "source": [
    "optimal_point(df2, model=model, desired_class=0, original_class=1, threshold=100000, chosen_row=1, point_epsilon=1e-3, epsilon=0.01)"
   ]
  },
  {
   "cell_type": "code",
   "execution_count": 21,
   "metadata": {},
   "outputs": [
    {
     "name": "stderr",
     "output_type": "stream",
     "text": [
      "/mnt/c/Users/Compuworld/drexel_research_2024_2025/Docs/files/common_functions.py:426: FutureWarning: The behavior of DataFrame concatenation with empty or all-NA entries is deprecated. In a future version, this will no longer exclude empty or all-NA columns when determining the result dtypes. To retain the old behavior, exclude the relevant entries before the concat operation.\n",
      "  balanced_dataset = pd.concat([balanced_dataset, upsampled_class], ignore_index=True)\n"
     ]
    },
    {
     "name": "stdout",
     "output_type": "stream",
     "text": [
      "Class counts:\n",
      " 10\n",
      "1    1005\n",
      "0    1005\n",
      "Name: count, dtype: int64\n",
      "Fitting model...\n",
      "Model training complete.\n",
      "boundary points started generation...\n",
      "boundary points finished.\n",
      "(250000, 10)\n",
      "Finding the closest point from the contour line to the point...\n",
      "Found the closest point from the contour line to the point.\n",
      "[[1.07355226 1.01650651 1.02523848 1.01436357 1.00647331 1.01670969\n",
      "  1.00077519 1.01357508 1.00104457 1.01736361]]\n",
      "[[-0.01689243 -0.15622906 -0.06727959 -0.2324618   0.28538742 -0.15152854\n",
      "   0.1084874  -0.28351106  0.11178079 -0.13816092]]\n"
     ]
    },
    {
     "data": {
      "text/plain": [
       "[np.float64(1.324221527350697),\n",
       " np.float64(0.78414865084697),\n",
       " np.float64(2.9888047006260083),\n",
       " np.float64(-0.176134061267755),\n",
       " np.float64(-0.3240819876296826),\n",
       " np.float64(-1.1395812828187764),\n",
       " np.float64(0.4324221925646943),\n",
       " np.float64(0.5663595093001842),\n",
       " np.float64(1.852933387365994),\n",
       " np.float64(1.928762777949529)]"
      ]
     },
     "execution_count": 21,
     "metadata": {},
     "output_type": "execute_result"
    }
   ],
   "source": [
    "optimal_point(df2, model=model, desired_class=0, original_class=1, threshold=250000, chosen_row=1, point_epsilon=1e-3, epsilon=0.01)"
   ]
  },
  {
   "cell_type": "code",
   "execution_count": 22,
   "metadata": {},
   "outputs": [
    {
     "name": "stderr",
     "output_type": "stream",
     "text": [
      "/mnt/c/Users/Compuworld/drexel_research_2024_2025/Docs/files/common_functions.py:426: FutureWarning: The behavior of DataFrame concatenation with empty or all-NA entries is deprecated. In a future version, this will no longer exclude empty or all-NA columns when determining the result dtypes. To retain the old behavior, exclude the relevant entries before the concat operation.\n",
      "  balanced_dataset = pd.concat([balanced_dataset, upsampled_class], ignore_index=True)\n"
     ]
    },
    {
     "name": "stdout",
     "output_type": "stream",
     "text": [
      "Class counts:\n",
      " 10\n",
      "1    1005\n",
      "0    1005\n",
      "Name: count, dtype: int64\n",
      "Fitting model...\n",
      "Model training complete.\n",
      "boundary points started generation...\n",
      "boundary points finished.\n",
      "(711436, 10)\n",
      "Finding the closest point from the contour line to the point...\n",
      "Found the closest point from the contour line to the point.\n",
      "[[1.07355226 1.01650651 1.02523848 1.01436357 1.00647331 1.01670969\n",
      "  1.00077519 1.01357508 1.00104457 1.01736361]]\n",
      "[[-0.01689243 -0.15622906 -0.06727959 -0.2324618   0.28538742 -0.15152854\n",
      "   0.1084874  -0.28351106  0.11178079 -0.13816092]]\n"
     ]
    },
    {
     "data": {
      "text/plain": [
       "[np.float64(1.324221527350697),\n",
       " np.float64(0.78414865084697),\n",
       " np.float64(2.9888047006260083),\n",
       " np.float64(-0.176134061267755),\n",
       " np.float64(-0.3240819876296826),\n",
       " np.float64(-1.1395812828187764),\n",
       " np.float64(0.4324221925646943),\n",
       " np.float64(0.5663595093001842),\n",
       " np.float64(1.852933387365994),\n",
       " np.float64(1.928762777949529)]"
      ]
     },
     "execution_count": 22,
     "metadata": {},
     "output_type": "execute_result"
    }
   ],
   "source": [
    "optimal_point(df2, model=model, desired_class=0, original_class=1, threshold=1000000, chosen_row=1, point_epsilon=1e-3, epsilon=0.01)"
   ]
  },
  {
   "cell_type": "code",
   "execution_count": 23,
   "metadata": {},
   "outputs": [
    {
     "name": "stdout",
     "output_type": "stream",
     "text": [
      "Class counts:\n",
      " 50\n",
      "1    1001\n",
      "0    1001\n",
      "Name: count, dtype: int64\n",
      "Fitting model...\n",
      "Model training complete.\n",
      "boundary points started generation...\n",
      "boundary points finished.\n",
      "(10000, 50)\n",
      "Finding the closest point from the contour line to the point...\n",
      "Found the closest point from the contour line to the point.\n",
      "[[1.01037082 1.00958436 1.00972634 1.00541612 1.01076848 1.00983784\n",
      "  1.01035458 1.0108802  1.00988798 1.01042748 1.01250418 1.00784728\n",
      "  1.01061702 1.01037793 1.00808982 1.00911111 1.01035653 1.01041808\n",
      "  1.01054178 1.01040066 1.00967898 1.01052102 1.00951753 1.00880109\n",
      "  1.00944602 1.00538008 1.0104699  1.03230827 1.01028178 1.00979553\n",
      "  1.01040033 1.01037245 1.00969037 1.01245074 1.00976025 1.00937991\n",
      "  1.01016229 1.00985392 1.00965079 1.00934566 1.01042756 1.01108555\n",
      "  1.00959395 1.00967192 1.01142143 1.01422801 1.02279576 1.00966673\n",
      "  1.00973968 1.00817211]]\n",
      "[[-2.72472197  2.42896813  3.68966393  0.21933713 -1.3152751   6.22740142\n",
      "  -2.84943149 -1.14847099  9.01513052 -2.36368712 -0.4043249   0.4681728\n",
      "  -1.63790777 -2.67345     0.52774495  1.13524284 -2.83387095 -2.41681858\n",
      "  -1.86523375 -2.52181268  3.14521801 -1.93950574  2.09240093  0.8414307\n",
      "   1.82217598  0.21761847 -2.15039048 -0.04627468 -3.58539497  4.93857227\n",
      "  -2.52394183 -2.71274637  3.26095087 -0.41312013  4.21169651  1.62780593\n",
      "  -6.22431454  6.91310661  2.89126846  1.54254233 -2.36324563 -0.93140719\n",
      "   2.48636877  3.07754565 -0.7115539  -0.23988287 -0.07993239  3.02960555\n",
      "   3.87876921  0.55154893]]\n"
     ]
    },
    {
     "name": "stderr",
     "output_type": "stream",
     "text": [
      "/mnt/c/Users/Compuworld/drexel_research_2024_2025/Docs/files/common_functions.py:426: FutureWarning: The behavior of DataFrame concatenation with empty or all-NA entries is deprecated. In a future version, this will no longer exclude empty or all-NA columns when determining the result dtypes. To retain the old behavior, exclude the relevant entries before the concat operation.\n",
      "  balanced_dataset = pd.concat([balanced_dataset, upsampled_class], ignore_index=True)\n"
     ]
    },
    {
     "data": {
      "text/plain": [
       "[np.float64(8.290932063472475),\n",
       " np.float64(3.7579453881885767),\n",
       " np.float64(-0.4365160069280698),\n",
       " np.float64(7.282676644214999),\n",
       " np.float64(8.858742484321501),\n",
       " np.float64(1.0717022435734762),\n",
       " np.float64(-2.009092158696899),\n",
       " np.float64(5.234314070895903),\n",
       " np.float64(-5.394783390585642),\n",
       " np.float64(-5.014600160081644),\n",
       " np.float64(0.9755495491115459),\n",
       " np.float64(2.289169121756455),\n",
       " np.float64(-4.132677224516502),\n",
       " np.float64(-3.4007249257855237),\n",
       " np.float64(1.027547734075198),\n",
       " np.float64(1.2481603351921242),\n",
       " np.float64(-1.6802207877493687),\n",
       " np.float64(-0.025584521380677572),\n",
       " np.float64(-4.370313399776749),\n",
       " np.float64(-3.905826720162301),\n",
       " np.float64(-0.9840505388632614),\n",
       " np.float64(7.072072707891234),\n",
       " np.float64(0.2503045575525511),\n",
       " np.float64(1.4923693463691319),\n",
       " np.float64(-0.009203988159701249),\n",
       " np.float64(1.9428691642679004),\n",
       " np.float64(1.2591398024063025),\n",
       " np.float64(1.7334964740258014),\n",
       " np.float64(3.7920880404170543),\n",
       " np.float64(-1.5407527230796623),\n",
       " np.float64(0.7511158111753216),\n",
       " np.float64(0.8054146085877734),\n",
       " np.float64(-0.37181289787913574),\n",
       " np.float64(0.06597185712674453),\n",
       " np.float64(3.964325773622684),\n",
       " np.float64(4.308410704160038),\n",
       " np.float64(-0.7047452228138118),\n",
       " np.float64(2.545152437179933),\n",
       " np.float64(7.7984289115543355),\n",
       " np.float64(2.305376680626878),\n",
       " np.float64(4.105263151569973),\n",
       " np.float64(-2.313371874075039),\n",
       " np.float64(-0.008274609363671637),\n",
       " np.float64(1.383326392754796),\n",
       " np.float64(-2.8446839949281446),\n",
       " np.float64(-3.0367693664693483),\n",
       " np.float64(-1.0105475239164052),\n",
       " np.float64(-4.248111305011227),\n",
       " np.float64(-5.1260303134271865),\n",
       " np.float64(-0.9789074120291777)]"
      ]
     },
     "execution_count": 23,
     "metadata": {},
     "output_type": "execute_result"
    }
   ],
   "source": [
    "optimal_point(df3, model=model, desired_class=0, original_class=1, threshold=10000, chosen_row=1, point_epsilon=1e-3, epsilon=0.01)"
   ]
  },
  {
   "cell_type": "code",
   "execution_count": 24,
   "metadata": {},
   "outputs": [
    {
     "name": "stderr",
     "output_type": "stream",
     "text": [
      "/mnt/c/Users/Compuworld/drexel_research_2024_2025/Docs/files/common_functions.py:426: FutureWarning: The behavior of DataFrame concatenation with empty or all-NA entries is deprecated. In a future version, this will no longer exclude empty or all-NA columns when determining the result dtypes. To retain the old behavior, exclude the relevant entries before the concat operation.\n",
      "  balanced_dataset = pd.concat([balanced_dataset, upsampled_class], ignore_index=True)\n"
     ]
    },
    {
     "name": "stdout",
     "output_type": "stream",
     "text": [
      "Class counts:\n",
      " 50\n",
      "1    1001\n",
      "0    1001\n",
      "Name: count, dtype: int64\n",
      "Fitting model...\n",
      "Model training complete.\n",
      "boundary points started generation...\n",
      "boundary points finished.\n",
      "(100000, 50)\n",
      "Finding the closest point from the contour line to the point...\n",
      "Found the closest point from the contour line to the point.\n",
      "[[1.01024303 1.01336232 1.00957532 1.01043767 1.01033117 1.00984082\n",
      "  0.96124046 1.01027334 1.00978937 1.00376643 1.0056014  1.01092432\n",
      "  1.00974171 1.0107787  1.0093797  1.01087059 1.00953054 1.0107828\n",
      "  1.00873957 1.00945339 1.00977284 1.01064132 1.00936313 1.01264721\n",
      "  1.00726442 1.01087759 1.00642941 1.00965034 1.01020549 1.009447\n",
      "  1.01015697 1.01017106 1.00701244 1.01056156 1.01186838 1.00889362\n",
      "  1.01027234 1.0097269  1.01025938 1.01052338 1.01224907 1.01074029\n",
      "  1.00970063 1.0095788  1.20147884 1.01041222 1.03407954 1.00980219\n",
      "  1.0095747  1.00929185]]\n",
      "[[-4.15679094e+00 -3.01388083e-01  2.37728590e+00 -2.30868013e+00\n",
      "  -3.05075113e+00  6.34385469e+00  1.97138931e-02 -3.69608860e+00\n",
      "   4.79404120e+00  1.61025857e-01  2.28618431e-01 -1.09370031e+00\n",
      "   3.90926419e+00 -1.29802650e+00  1.62724190e+00 -1.16112758e+00\n",
      "   2.15038925e+00 -1.29123989e+00  8.00312389e-01  1.84676486e+00\n",
      "   4.44514903e+00 -1.57588748e+00  1.58487285e+00 -3.82533740e-01\n",
      "   3.68209088e-01 -1.15188097e+00  2.81866402e-01  2.88749761e+00\n",
      "  -4.91598312e+00  1.82538708e+00 -6.43526583e+00 -5.90532480e+00\n",
      "   3.37068570e-01 -1.79954720e+00 -5.41574584e-01  9.11883198e-01\n",
      "  -3.70963152e+00  3.69723769e+00 -3.89492261e+00 -1.93076795e+00\n",
      "  -4.50073602e-01 -1.36532406e+00  3.37276614e+00  2.39691391e+00\n",
      "  -6.27473439e-03 -2.45113628e+00 -4.29443143e-02  5.10493896e+00\n",
      "   2.37378070e+00  1.42525517e+00]]\n"
     ]
    },
    {
     "data": {
      "text/plain": [
       "[np.float64(6.844542524433441),\n",
       " np.float64(1.000281835880676),\n",
       " np.float64(-1.7620176726724863),\n",
       " np.float64(4.729374186221488),\n",
       " np.float64(7.105912132135625),\n",
       " np.float64(1.189320048599245),\n",
       " np.float64(0.888793790198757),\n",
       " np.float64(2.661220887922471),\n",
       " np.float64(-9.65808350583552),\n",
       " np.float64(-2.464633390384614),\n",
       " np.float64(1.6148292152206312),\n",
       " np.float64(0.7116742022952347),\n",
       " np.float64(1.4699673299072669),\n",
       " np.float64(-2.0115475952262396),\n",
       " np.float64(2.138038363225559),\n",
       " np.float64(-1.0711755506445897),\n",
       " np.float64(3.353882835175872),\n",
       " np.float64(1.1112495965991207),\n",
       " np.float64(-1.678109996931357),\n",
       " np.float64(0.5064375360008537),\n",
       " np.float64(0.3288796998407051),\n",
       " np.float64(7.439327028884444),\n",
       " np.float64(-0.26229865039209854),\n",
       " np.float64(0.2561614122208343),\n",
       " np.float64(-1.4777083634800954),\n",
       " np.float64(0.5596692305916615),\n",
       " np.float64(3.7157232940125478),\n",
       " np.float64(4.6966291534995355),\n",
       " np.float64(2.448194080940368),\n",
       " np.float64(-4.68506941181309),\n",
       " np.float64(-3.1993211856530657),\n",
       " np.float64(-2.4190894075297127),\n",
       " np.float64(-3.324931345965655),\n",
       " np.float64(-1.3343175932990485),\n",
       " np.float64(-0.8364801374321591),\n",
       " np.float64(3.585329227751725),\n",
       " np.float64(1.8350845091230505),\n",
       " np.float64(-0.7028750371808616),\n",
       " np.float64(0.9443753277237881),\n",
       " np.float64(-1.202667882476076),\n",
       " np.float64(6.03756507473296),\n",
       " np.float64(-2.751627568059899),\n",
       " np.float64(0.886986632972004),\n",
       " np.float64(0.6958884222406487),\n",
       " np.float64(-2.132542095152558),\n",
       " np.float64(-5.270131496804094),\n",
       " np.float64(-0.9732008546163294),\n",
       " np.float64(-2.1520246993737944),\n",
       " np.float64(-6.646068538660558),\n",
       " np.float64(-0.096465225749097)]"
      ]
     },
     "execution_count": 24,
     "metadata": {},
     "output_type": "execute_result"
    }
   ],
   "source": [
    "optimal_point(df3, model=model, desired_class=0, original_class=1, threshold=100000, chosen_row=1, point_epsilon=1e-3, epsilon=0.01)"
   ]
  },
  {
   "cell_type": "code",
   "execution_count": 27,
   "metadata": {},
   "outputs": [
    {
     "name": "stderr",
     "output_type": "stream",
     "text": [
      "/mnt/c/Users/Compuworld/drexel_research_2024_2025/Docs/files/common_functions.py:426: FutureWarning: The behavior of DataFrame concatenation with empty or all-NA entries is deprecated. In a future version, this will no longer exclude empty or all-NA columns when determining the result dtypes. To retain the old behavior, exclude the relevant entries before the concat operation.\n",
      "  balanced_dataset = pd.concat([balanced_dataset, upsampled_class], ignore_index=True)\n"
     ]
    },
    {
     "name": "stdout",
     "output_type": "stream",
     "text": [
      "Class counts:\n",
      " 50\n",
      "1    1001\n",
      "0    1001\n",
      "Name: count, dtype: int64\n",
      "Fitting model...\n",
      "Model training complete.\n",
      "boundary points started generation...\n",
      "boundary points finished.\n",
      "(250000, 50)\n",
      "Finding the closest point from the contour line to the point...\n",
      "Found the closest point from the contour line to the point.\n",
      "[[1.01016285 1.00978172 1.00959691 1.01018086 1.01023564 1.00970167\n",
      "  1.00906782 1.01079172 1.0098747  1.00959531 1.01026077 1.01026997\n",
      "  1.00938092 1.00640707 1.00970065 1.00934682 1.00924954 1.01022833\n",
      "  1.00923392 1.00870558 1.00926939 1.01027767 1.15156955 1.01034185\n",
      "  1.00956214 1.00951857 1.0105032  1.00839421 1.00109924 1.00927276\n",
      "  1.01043169 1.02007724 1.01443231 1.00955004 1.01370924 1.0106066\n",
      "  1.01030338 1.00960733 1.01055797 1.01057371 1.01030576 1.00951209\n",
      "  1.00939173 1.01136188 1.00956361 1.00975567 1.00894374 1.00980913\n",
      "  1.00971697 1.01461338]]\n",
      "[[-6.20292604  4.62606574  2.50464325 -5.58541919 -4.28726181  3.38449357\n",
      "   1.08248051 -1.27669899  8.05934393  2.49472903 -3.87418386 -3.74216758\n",
      "   1.63045777  0.28010763  3.37296763  1.54528202  1.34484215 -4.42450338\n",
      "   1.31739391  0.77927473  1.381413   -3.63842301 -0.0081343  -2.95554715\n",
      "   2.30568612  2.09691082 -2.00814757  0.62797583  0.11247352  1.38781009\n",
      "  -2.34063951 -0.10122584 -0.22887225  2.24365444 -0.27329277 -1.66600993\n",
      "  -3.33011044  2.57115423 -1.81113882 -1.76148216 -3.30426124  2.06906149\n",
      "   1.65943562 -0.74262264  2.31342766  4.13277093  0.95520371  5.29056605\n",
      "   3.56758615 -0.21992853]]\n"
     ]
    },
    {
     "data": {
      "text/plain": [
       "[np.float64(4.777946158422404),\n",
       " np.float64(5.977013774993333),\n",
       " np.float64(-1.633386771326594),\n",
       " np.float64(1.4198679926680526),\n",
       " np.float64(5.857036441354809),\n",
       " np.float64(-1.799634539635242),\n",
       " np.float64(1.9621402508788526),\n",
       " np.float64(5.104803874827192),\n",
       " np.float64(-6.3601278325124575),\n",
       " np.float64(-0.10759901397252092),\n",
       " np.float64(-2.529005757912265),\n",
       " np.float64(-1.9632770808852495),\n",
       " np.float64(-0.8316267908049884),\n",
       " np.float64(-0.417627743908126),\n",
       " np.float64(3.901221032034706),\n",
       " np.float64(1.6622996740134295),\n",
       " np.float64(2.540280549692748),\n",
       " np.float64(-2.053345972880043),\n",
       " np.float64(-1.1558581530754275),\n",
       " np.float64(-0.5717267472380506),\n",
       " np.float64(-2.765493192349362),\n",
       " np.float64(5.3561665033104955),\n",
       " np.float64(-1.871378076128801),\n",
       " np.float64(-2.3425798262012845),\n",
       " np.float64(0.4791411442680009),\n",
       " np.float64(3.840950295447394),\n",
       " np.float64(1.4028051117464444),\n",
       " np.float64(2.4145134094968776),\n",
       " np.float64(7.526944396048299),\n",
       " np.float64(-5.127021997464764),\n",
       " np.float64(0.936251120418039),\n",
       " np.float64(3.4430406364563657),\n",
       " np.float64(-3.896538998565138),\n",
       " np.float64(2.749317076194236),\n",
       " np.float64(-0.5655173417679049),\n",
       " np.float64(0.9816554508972808),\n",
       " np.float64(2.2184007773620364),\n",
       " np.float64(-1.8402192137367845),\n",
       " np.float64(3.048996650739707),\n",
       " np.float64(-1.0316892874743182),\n",
       " np.float64(3.1548375062181524),\n",
       " np.float64(0.7171030705224724),\n",
       " np.float64(-0.8434768881620074),\n",
       " np.float64(-2.475045268533095),\n",
       " np.float64(0.2105492350272904),\n",
       " np.float64(1.3796154429498984),\n",
       " np.float64(0.03495378137059879),\n",
       " np.float64(-1.9645413391119027),\n",
       " np.float64(-5.4403251735956335),\n",
       " np.float64(-1.7581060854732984)]"
      ]
     },
     "execution_count": 27,
     "metadata": {},
     "output_type": "execute_result"
    }
   ],
   "source": [
    "optimal_point(df3, model=model, desired_class=0, original_class=1, threshold=250000, chosen_row=1, point_epsilon=1e-3, epsilon=0.01)"
   ]
  },
  {
   "cell_type": "code",
   "execution_count": 26,
   "metadata": {},
   "outputs": [
    {
     "name": "stderr",
     "output_type": "stream",
     "text": [
      "/mnt/c/Users/Compuworld/drexel_research_2024_2025/Docs/files/common_functions.py:426: FutureWarning: The behavior of DataFrame concatenation with empty or all-NA entries is deprecated. In a future version, this will no longer exclude empty or all-NA columns when determining the result dtypes. To retain the old behavior, exclude the relevant entries before the concat operation.\n",
      "  balanced_dataset = pd.concat([balanced_dataset, upsampled_class], ignore_index=True)\n"
     ]
    },
    {
     "name": "stdout",
     "output_type": "stream",
     "text": [
      "Class counts:\n",
      " 50\n",
      "1    1001\n",
      "0    1001\n",
      "Name: count, dtype: int64\n",
      "Fitting model...\n",
      "Model training complete.\n",
      "boundary points started generation...\n",
      "boundary points finished.\n",
      "(689574, 50)\n",
      "Finding the closest point from the contour line to the point...\n",
      "Found the closest point from the contour line to the point.\n",
      "[[1.01028144 1.0093257  1.00898715 1.01049448 1.01030976 1.00975198\n",
      "  1.00953466 1.01023855 1.00988581 1.010713   1.0105713  1.01039549\n",
      "  1.00847385 1.01064309 1.00947162 1.012031   1.01026245 1.01042152\n",
      "  1.01615662 1.01080378 1.00968541 1.01019558 1.01194125 1.01056519\n",
      "  1.00914584 1.00945694 1.01062109 1.00942733 1.01028276 1.00973846\n",
      "  1.01049841 1.01049315 1.00900146 1.01050555 1.00975036 1.0091618\n",
      "  1.01082661 1.00866522 1.00862605 1.00936586 1.01027968 1.009335\n",
      "  1.01066487 1.00980168 1.00927085 1.01501322 1.01126741 1.00975182\n",
      "  1.0095769  1.0082031 ]]\n",
      "[[-3.5897048   1.49685165  0.99619028 -2.04353689 -3.2615739   4.07127148\n",
      "   2.169471   -4.23488437  8.84388891 -1.4175559  -1.76890313 -2.55482319\n",
      "   0.66079808 -1.57154212  1.91048706 -0.49829108 -3.84932429 -2.39709798\n",
      "  -0.16505115 -1.25757009  3.20954432 -5.16512484 -0.52128247 -1.7879943\n",
      "   1.18144796  1.85882702 -1.62717102  1.7626683  -3.57294803  3.8607453\n",
      "  -2.02742644 -2.04906632  1.01047942 -1.99882599  4.04478992  1.20395774\n",
      "  -1.22285188  0.75567926  0.73410928  1.59171799 -3.61231072  1.51778753\n",
      "  -1.52008991  5.0918445   1.38417622 -0.20246741 -0.7979039   4.06854764\n",
      "   2.38612603  0.56107846]]\n"
     ]
    },
    {
     "data": {
      "text/plain": [
       "[np.float64(7.417299486882551),\n",
       " np.float64(2.816508002888985),\n",
       " np.float64(-3.1569236570316432),\n",
       " np.float64(4.99716880573836),\n",
       " np.float64(6.892981152568453),\n",
       " np.float64(-1.1059889100135818),\n",
       " np.float64(3.0600001700919863),\n",
       " np.float64(2.117037191843826),\n",
       " np.float64(-5.567737409802822),\n",
       " np.float64(-4.059007911928413),\n",
       " np.float64(-0.4026725307685768),\n",
       " np.float64(-0.7640593736475993),\n",
       " np.float64(-1.810982169563153),\n",
       " np.float64(-2.287798232907855),\n",
       " np.float64(2.4241158864001062),\n",
       " np.float64(-0.4017118413774091),\n",
       " np.float64(-2.7058285658347376),\n",
       " np.float64(-0.005666718631546441),\n",
       " np.float64(-2.65313458959901),\n",
       " np.float64(-2.628942111898315),\n",
       " np.float64(-0.9190809758835359),\n",
       " np.float64(3.814197741986005),\n",
       " np.float64(-2.3895181021104617),\n",
       " np.float64(-1.1633516702011095),\n",
       " np.float64(-0.6563389821927528),\n",
       " np.float64(3.600485716572961),\n",
       " np.float64(1.7875913089733722),\n",
       " np.float64(3.56055177408217),\n",
       " np.float64(3.8046594427466522),\n",
       " np.float64(-2.629357903351338),\n",
       " np.float64(1.2525962631823009),\n",
       " np.float64(1.47573134130668),\n",
       " np.float64(-2.6447883721010665),\n",
       " np.float64(-1.5355891143965472),\n",
       " np.float64(3.795750124363),\n",
       " np.float64(3.8803242500772357),\n",
       " np.float64(4.346731396345608),\n",
       " np.float64(-3.673847994744832),\n",
       " np.float64(5.619699168560775),\n",
       " np.float64(2.3550440672719137),\n",
       " np.float64(2.8437075594591508),\n",
       " np.float64(0.16031654337428214),\n",
       " np.float64(-4.054798946656777),\n",
       " np.float64(3.4177680970071975),\n",
       " np.float64(-0.7279944222177364),\n",
       " np.float64(-2.9989805420017666),\n",
       " np.float64(-1.7356872239101766),\n",
       " np.float64(-3.198779882787015),\n",
       " np.float64(-6.633599755844197),\n",
       " np.float64(-0.969282620177032)]"
      ]
     },
     "execution_count": 26,
     "metadata": {},
     "output_type": "execute_result"
    }
   ],
   "source": [
    "optimal_point(df3, model=model, desired_class=0, original_class=1, threshold=1000000, chosen_row=1, point_epsilon=1e-3, epsilon=0.01)"
   ]
  }
 ],
 "metadata": {
  "kernelspec": {
   "display_name": "gpu_env",
   "language": "python",
   "name": "python3"
  },
  "language_info": {
   "codemirror_mode": {
    "name": "ipython",
    "version": 3
   },
   "file_extension": ".py",
   "mimetype": "text/x-python",
   "name": "python",
   "nbconvert_exporter": "python",
   "pygments_lexer": "ipython3",
   "version": "3.12.11"
  }
 },
 "nbformat": 4,
 "nbformat_minor": 2
}
