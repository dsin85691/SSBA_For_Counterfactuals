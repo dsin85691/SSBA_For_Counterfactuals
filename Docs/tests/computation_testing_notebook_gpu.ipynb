{
 "cells": [
  {
   "cell_type": "markdown",
   "metadata": {},
   "source": [
    "# Computation Notebook \n",
    "\n",
    "This notebook is meant to show and compare the computational costs with the grid-based approach (searching all possible gridpoints) versus the gridless approach (binary search) to find decision boundary points. \n",
    "\n",
    "We show the times that are associated with each of these."
   ]
  },
  {
   "cell_type": "code",
   "execution_count": 1,
   "metadata": {},
   "outputs": [],
   "source": [
    "%load_ext cuml.accel\n",
    "from sklearn.datasets import make_classification\n",
    "from sklearn.linear_model import LogisticRegression\n",
    "#import matplotlib.pyplot as plt\n",
    "import numpy as np\n",
    "import pandas as pd\n",
    "import warnings\n",
    "import random\n",
    "from sklearn.utils import resample\n",
    "\n",
    "random.seed(0)\n",
    "warnings.filterwarnings('ignore', category=UserWarning)\n",
    "\n",
    "import os\n",
    "import sys\n",
    "nb_dir = os.path.split(os.getcwd())[0]\n",
    "if nb_dir not in sys.path:\n",
    "    sys.path.append(nb_dir)"
   ]
  },
  {
   "cell_type": "markdown",
   "metadata": {},
   "source": [
    "# Datasets with a varying number of features ($2$, $10$, $50$) and a model (Logistic Regression) \n",
    "\n",
    "We construct a set of pandas dataframes (df1, df2, df3) and a model logistic regression alongside the dataset."
   ]
  },
  {
   "cell_type": "code",
   "execution_count": 2,
   "metadata": {},
   "outputs": [],
   "source": [
    "X, y = make_classification(n_samples=2000, n_features=2, n_informative=2, n_redundant=0, random_state=42, n_classes=2)\n",
    "model = LogisticRegression()\n",
    "y = y.reshape(-1,1)\n",
    "df1 = pd.DataFrame(data=np.hstack((X,y)))"
   ]
  },
  {
   "cell_type": "code",
   "execution_count": 3,
   "metadata": {},
   "outputs": [],
   "source": [
    "X, y = make_classification(n_samples=2000, n_features=10, n_informative=10, n_redundant=0, random_state=42, n_classes=2)\n",
    "y = y.reshape(-1,1)\n",
    "df2 = pd.DataFrame(data=np.hstack((X,y)))"
   ]
  },
  {
   "cell_type": "code",
   "execution_count": 4,
   "metadata": {},
   "outputs": [],
   "source": [
    "X, y = make_classification(n_samples=2000, n_features=50, n_informative=50, n_redundant=0, random_state=42, n_classes=2)\n",
    "y = y.reshape(-1,1)\n",
    "df3 = pd.DataFrame(data=np.hstack((X,y)))"
   ]
  },
  {
   "cell_type": "markdown",
   "metadata": {},
   "source": [
    "# Experiments of the Computation Costs for Grid-based Approach (Logistic Regression with Numba)\n",
    "\n",
    "$\\textbf{ Logistic Regression with Grid-based Method }$ -- 50 features\n",
    "\n",
    "Resolution: $R = 15$ ($15^{50}$ points), Memory Error (Maximum allowed dimension exceeded), 0 boundary points found\n",
    "\n",
    "Resolution: $R = 10$ ($10^{50}$ points), Memory Error (Maximum allowed dimension exceeded), 0 boundary points found\n",
    "\n",
    "$\\textbf{ Logistic Regression with Grid-based Method }$ -- 10 features\n",
    "\n",
    "Resolution: $R = 15$ ($15^{15}$ points), 42 Terabyte Memory Error, 0 boundary points found\n",
    "\n",
    "Resolution: $R = 10$ ($10^{10}$ points), 745 Gigabytes Memory Error, 0 boundary points found\n",
    "\n",
    "\n",
    "$\\textbf{ Logistic Regression with Grid-based Method }$ -- 2 features\n",
    "\n",
    "Resolution: $R = 150$ ($150^2 = 22,500$ points searched), 28.1 seconds runtime, 454 boundary points found\n",
    "\n",
    "Resolution: $R = 100$ ($100^2 = 10,000$ points searched) 5.5 seconds runtime, 104 boundary points found"
   ]
  },
  {
   "cell_type": "code",
   "execution_count": 6,
   "metadata": {},
   "outputs": [],
   "source": [
    "from files.grid_optimal_point import optimal_point"
   ]
  },
  {
   "cell_type": "code",
   "execution_count": 12,
   "metadata": {},
   "outputs": [],
   "source": [
    "X, y = make_classification(n_samples=2000, n_features=2, n_informative=2, n_redundant=0, random_state=42, n_classes=2)\n",
    "model = LogisticRegression()\n",
    "y = y.reshape(-1,1)\n",
    "df1 = pd.DataFrame(data=np.hstack((X,y)))"
   ]
  },
  {
   "cell_type": "code",
   "execution_count": 13,
   "metadata": {},
   "outputs": [
    {
     "data": {
      "text/html": [
       "<div>\n",
       "<style scoped>\n",
       "    .dataframe tbody tr th:only-of-type {\n",
       "        vertical-align: middle;\n",
       "    }\n",
       "\n",
       "    .dataframe tbody tr th {\n",
       "        vertical-align: top;\n",
       "    }\n",
       "\n",
       "    .dataframe thead th {\n",
       "        text-align: right;\n",
       "    }\n",
       "</style>\n",
       "<table border=\"1\" class=\"dataframe\">\n",
       "  <thead>\n",
       "    <tr style=\"text-align: right;\">\n",
       "      <th></th>\n",
       "      <th>0</th>\n",
       "      <th>1</th>\n",
       "      <th>2</th>\n",
       "    </tr>\n",
       "  </thead>\n",
       "  <tbody>\n",
       "    <tr>\n",
       "      <th>0</th>\n",
       "      <td>0.800062</td>\n",
       "      <td>-0.957489</td>\n",
       "      <td>1.0</td>\n",
       "    </tr>\n",
       "    <tr>\n",
       "      <th>1</th>\n",
       "      <td>1.187099</td>\n",
       "      <td>1.159787</td>\n",
       "      <td>1.0</td>\n",
       "    </tr>\n",
       "    <tr>\n",
       "      <th>2</th>\n",
       "      <td>0.154512</td>\n",
       "      <td>1.217520</td>\n",
       "      <td>0.0</td>\n",
       "    </tr>\n",
       "    <tr>\n",
       "      <th>3</th>\n",
       "      <td>0.179014</td>\n",
       "      <td>-0.852832</td>\n",
       "      <td>1.0</td>\n",
       "    </tr>\n",
       "    <tr>\n",
       "      <th>4</th>\n",
       "      <td>-0.735827</td>\n",
       "      <td>-0.245366</td>\n",
       "      <td>0.0</td>\n",
       "    </tr>\n",
       "    <tr>\n",
       "      <th>5</th>\n",
       "      <td>0.039487</td>\n",
       "      <td>1.320957</td>\n",
       "      <td>1.0</td>\n",
       "    </tr>\n",
       "    <tr>\n",
       "      <th>6</th>\n",
       "      <td>-1.482199</td>\n",
       "      <td>0.419738</td>\n",
       "      <td>0.0</td>\n",
       "    </tr>\n",
       "    <tr>\n",
       "      <th>7</th>\n",
       "      <td>-0.622829</td>\n",
       "      <td>-0.803223</td>\n",
       "      <td>0.0</td>\n",
       "    </tr>\n",
       "    <tr>\n",
       "      <th>8</th>\n",
       "      <td>0.965721</td>\n",
       "      <td>-1.068587</td>\n",
       "      <td>1.0</td>\n",
       "    </tr>\n",
       "    <tr>\n",
       "      <th>9</th>\n",
       "      <td>0.798459</td>\n",
       "      <td>-1.022348</td>\n",
       "      <td>1.0</td>\n",
       "    </tr>\n",
       "  </tbody>\n",
       "</table>\n",
       "</div>"
      ],
      "text/plain": [
       "          0         1    2\n",
       "0  0.800062 -0.957489  1.0\n",
       "1  1.187099  1.159787  1.0\n",
       "2  0.154512  1.217520  0.0\n",
       "3  0.179014 -0.852832  1.0\n",
       "4 -0.735827 -0.245366  0.0\n",
       "5  0.039487  1.320957  1.0\n",
       "6 -1.482199  0.419738  0.0\n",
       "7 -0.622829 -0.803223  0.0\n",
       "8  0.965721 -1.068587  1.0\n",
       "9  0.798459 -1.022348  1.0"
      ]
     },
     "execution_count": 13,
     "metadata": {},
     "output_type": "execute_result"
    }
   ],
   "source": [
    "df1.head(n=10)"
   ]
  },
  {
   "cell_type": "code",
   "execution_count": 9,
   "metadata": {},
   "outputs": [
    {
     "name": "stderr",
     "output_type": "stream",
     "text": [
      "/mnt/c/Users/Compuworld/drexel_research_2024_2025/Docs/files/common_functions.py:425: FutureWarning: The behavior of DataFrame concatenation with empty or all-NA entries is deprecated. In a future version, this will no longer exclude empty or all-NA columns when determining the result dtypes. To retain the old behavior, exclude the relevant entries before the concat operation.\n",
      "  balanced_dataset = pd.concat([balanced_dataset, upsampled_class], ignore_index=True)\n"
     ]
    },
    {
     "name": "stdout",
     "output_type": "stream",
     "text": [
      "Class counts:\n",
      " 2\n",
      "1    1000\n",
      "0    1000\n",
      "Name: count, dtype: int64\n",
      "Fitting model...\n",
      "Model training complete.\n",
      "boundary points started generation...\n",
      "boundary points finished.\n",
      "Number of boundary points\n",
      "(311, 2)\n",
      "Finding the closest point from the contour line to the point...\n",
      "Finding the closest point from the contour line to the point.\n",
      "[[1.07092306 0.87624128]]\n",
      "[[-1.16018181  0.00452233]]\n"
     ]
    },
    {
     "data": {
      "text/plain": [
       "[np.float64(-0.05536678064834133), np.float64(1.163749815503608)]"
      ]
     },
     "execution_count": 9,
     "metadata": {},
     "output_type": "execute_result"
    }
   ],
   "source": [
    "optimal_point(df1, model=model, desired_class=0, original_class=1, resolution=150, chosen_row=1, point_epsilon=0.1, epsilon=0.07, plot=False)"
   ]
  },
  {
   "cell_type": "code",
   "execution_count": 10,
   "metadata": {},
   "outputs": [
    {
     "name": "stderr",
     "output_type": "stream",
     "text": [
      "/mnt/c/Users/Compuworld/drexel_research_2024_2025/Docs/files/common_functions.py:425: FutureWarning: The behavior of DataFrame concatenation with empty or all-NA entries is deprecated. In a future version, this will no longer exclude empty or all-NA columns when determining the result dtypes. To retain the old behavior, exclude the relevant entries before the concat operation.\n",
      "  balanced_dataset = pd.concat([balanced_dataset, upsampled_class], ignore_index=True)\n"
     ]
    },
    {
     "name": "stdout",
     "output_type": "stream",
     "text": [
      "Class counts:\n",
      " 2\n",
      "1    1000\n",
      "0    1000\n",
      "Name: count, dtype: int64\n",
      "Fitting model...\n",
      "Model training complete.\n",
      "boundary points started generation...\n",
      "boundary points finished.\n",
      "Number of boundary points\n",
      "(104, 2)\n",
      "Finding the closest point from the contour line to the point...\n",
      "Finding the closest point from the contour line to the point.\n",
      "[[1.07092411 1.09801295]]\n",
      "[[-1.15887253 -0.03919662]]\n"
     ]
    },
    {
     "data": {
      "text/plain": [
       "[np.float64(-0.05396585561956102), np.float64(1.116748769377007)]"
      ]
     },
     "execution_count": 10,
     "metadata": {},
     "output_type": "execute_result"
    }
   ],
   "source": [
    "optimal_point(df1, model=model, desired_class=0, original_class=1, resolution=100, chosen_row=1, point_epsilon=0.1, epsilon=0.07)"
   ]
  },
  {
   "cell_type": "code",
   "execution_count": 11,
   "metadata": {},
   "outputs": [
    {
     "data": {
      "text/html": [
       "<div>\n",
       "<style scoped>\n",
       "    .dataframe tbody tr th:only-of-type {\n",
       "        vertical-align: middle;\n",
       "    }\n",
       "\n",
       "    .dataframe tbody tr th {\n",
       "        vertical-align: top;\n",
       "    }\n",
       "\n",
       "    .dataframe thead th {\n",
       "        text-align: right;\n",
       "    }\n",
       "</style>\n",
       "<table border=\"1\" class=\"dataframe\">\n",
       "  <thead>\n",
       "    <tr style=\"text-align: right;\">\n",
       "      <th></th>\n",
       "      <th>0</th>\n",
       "      <th>1</th>\n",
       "      <th>2</th>\n",
       "      <th>3</th>\n",
       "      <th>4</th>\n",
       "      <th>5</th>\n",
       "      <th>6</th>\n",
       "      <th>7</th>\n",
       "      <th>8</th>\n",
       "      <th>9</th>\n",
       "      <th>10</th>\n",
       "    </tr>\n",
       "  </thead>\n",
       "  <tbody>\n",
       "    <tr>\n",
       "      <th>0</th>\n",
       "      <td>1.990620</td>\n",
       "      <td>-2.921959</td>\n",
       "      <td>-5.689956</td>\n",
       "      <td>3.173745</td>\n",
       "      <td>-4.393239</td>\n",
       "      <td>0.538239</td>\n",
       "      <td>-0.962650</td>\n",
       "      <td>-3.024594</td>\n",
       "      <td>-0.837913</td>\n",
       "      <td>-1.944185</td>\n",
       "      <td>1.0</td>\n",
       "    </tr>\n",
       "    <tr>\n",
       "      <th>1</th>\n",
       "      <td>1.342356</td>\n",
       "      <td>0.942957</td>\n",
       "      <td>3.057782</td>\n",
       "      <td>0.059667</td>\n",
       "      <td>-0.611317</td>\n",
       "      <td>-0.985521</td>\n",
       "      <td>0.323851</td>\n",
       "      <td>0.853719</td>\n",
       "      <td>1.741036</td>\n",
       "      <td>2.069323</td>\n",
       "      <td>1.0</td>\n",
       "    </tr>\n",
       "    <tr>\n",
       "      <th>2</th>\n",
       "      <td>-1.063987</td>\n",
       "      <td>2.185873</td>\n",
       "      <td>-2.230002</td>\n",
       "      <td>1.095676</td>\n",
       "      <td>-0.240747</td>\n",
       "      <td>-1.776678</td>\n",
       "      <td>-4.165090</td>\n",
       "      <td>-0.122159</td>\n",
       "      <td>0.688403</td>\n",
       "      <td>1.401783</td>\n",
       "      <td>1.0</td>\n",
       "    </tr>\n",
       "    <tr>\n",
       "      <th>3</th>\n",
       "      <td>-4.852159</td>\n",
       "      <td>1.297380</td>\n",
       "      <td>3.466596</td>\n",
       "      <td>4.114327</td>\n",
       "      <td>-4.004815</td>\n",
       "      <td>-0.591707</td>\n",
       "      <td>2.035825</td>\n",
       "      <td>3.118117</td>\n",
       "      <td>-0.996438</td>\n",
       "      <td>1.465570</td>\n",
       "      <td>1.0</td>\n",
       "    </tr>\n",
       "    <tr>\n",
       "      <th>4</th>\n",
       "      <td>0.033975</td>\n",
       "      <td>-0.181000</td>\n",
       "      <td>0.438378</td>\n",
       "      <td>-1.506810</td>\n",
       "      <td>-0.503984</td>\n",
       "      <td>2.442108</td>\n",
       "      <td>-0.408010</td>\n",
       "      <td>1.722336</td>\n",
       "      <td>2.563095</td>\n",
       "      <td>-3.228898</td>\n",
       "      <td>1.0</td>\n",
       "    </tr>\n",
       "    <tr>\n",
       "      <th>5</th>\n",
       "      <td>2.770680</td>\n",
       "      <td>-0.667671</td>\n",
       "      <td>-2.726522</td>\n",
       "      <td>1.778277</td>\n",
       "      <td>3.033320</td>\n",
       "      <td>1.052492</td>\n",
       "      <td>1.810689</td>\n",
       "      <td>-3.730430</td>\n",
       "      <td>-2.032935</td>\n",
       "      <td>2.371080</td>\n",
       "      <td>0.0</td>\n",
       "    </tr>\n",
       "    <tr>\n",
       "      <th>6</th>\n",
       "      <td>-1.375939</td>\n",
       "      <td>0.889744</td>\n",
       "      <td>-0.487178</td>\n",
       "      <td>0.394568</td>\n",
       "      <td>-1.553368</td>\n",
       "      <td>2.302102</td>\n",
       "      <td>-0.134183</td>\n",
       "      <td>1.340100</td>\n",
       "      <td>0.741324</td>\n",
       "      <td>0.554025</td>\n",
       "      <td>1.0</td>\n",
       "    </tr>\n",
       "    <tr>\n",
       "      <th>7</th>\n",
       "      <td>0.060123</td>\n",
       "      <td>-2.850018</td>\n",
       "      <td>-1.808885</td>\n",
       "      <td>1.649850</td>\n",
       "      <td>0.827631</td>\n",
       "      <td>-0.681723</td>\n",
       "      <td>3.049334</td>\n",
       "      <td>-1.560887</td>\n",
       "      <td>-0.029848</td>\n",
       "      <td>0.037102</td>\n",
       "      <td>0.0</td>\n",
       "    </tr>\n",
       "    <tr>\n",
       "      <th>8</th>\n",
       "      <td>1.735121</td>\n",
       "      <td>4.266722</td>\n",
       "      <td>0.767749</td>\n",
       "      <td>-2.012636</td>\n",
       "      <td>2.538945</td>\n",
       "      <td>-4.960979</td>\n",
       "      <td>2.908603</td>\n",
       "      <td>-6.451668</td>\n",
       "      <td>2.723697</td>\n",
       "      <td>0.785976</td>\n",
       "      <td>0.0</td>\n",
       "    </tr>\n",
       "    <tr>\n",
       "      <th>9</th>\n",
       "      <td>0.436313</td>\n",
       "      <td>1.826231</td>\n",
       "      <td>-0.232626</td>\n",
       "      <td>-0.570040</td>\n",
       "      <td>1.101895</td>\n",
       "      <td>0.658344</td>\n",
       "      <td>-0.079847</td>\n",
       "      <td>-2.158960</td>\n",
       "      <td>0.985347</td>\n",
       "      <td>0.426746</td>\n",
       "      <td>0.0</td>\n",
       "    </tr>\n",
       "  </tbody>\n",
       "</table>\n",
       "</div>"
      ],
      "text/plain": [
       "         0         1         2         3         4         5         6   \\\n",
       "0  1.990620 -2.921959 -5.689956  3.173745 -4.393239  0.538239 -0.962650   \n",
       "1  1.342356  0.942957  3.057782  0.059667 -0.611317 -0.985521  0.323851   \n",
       "2 -1.063987  2.185873 -2.230002  1.095676 -0.240747 -1.776678 -4.165090   \n",
       "3 -4.852159  1.297380  3.466596  4.114327 -4.004815 -0.591707  2.035825   \n",
       "4  0.033975 -0.181000  0.438378 -1.506810 -0.503984  2.442108 -0.408010   \n",
       "5  2.770680 -0.667671 -2.726522  1.778277  3.033320  1.052492  1.810689   \n",
       "6 -1.375939  0.889744 -0.487178  0.394568 -1.553368  2.302102 -0.134183   \n",
       "7  0.060123 -2.850018 -1.808885  1.649850  0.827631 -0.681723  3.049334   \n",
       "8  1.735121  4.266722  0.767749 -2.012636  2.538945 -4.960979  2.908603   \n",
       "9  0.436313  1.826231 -0.232626 -0.570040  1.101895  0.658344 -0.079847   \n",
       "\n",
       "         7         8         9    10  \n",
       "0 -3.024594 -0.837913 -1.944185  1.0  \n",
       "1  0.853719  1.741036  2.069323  1.0  \n",
       "2 -0.122159  0.688403  1.401783  1.0  \n",
       "3  3.118117 -0.996438  1.465570  1.0  \n",
       "4  1.722336  2.563095 -3.228898  1.0  \n",
       "5 -3.730430 -2.032935  2.371080  0.0  \n",
       "6  1.340100  0.741324  0.554025  1.0  \n",
       "7 -1.560887 -0.029848  0.037102  0.0  \n",
       "8 -6.451668  2.723697  0.785976  0.0  \n",
       "9 -2.158960  0.985347  0.426746  0.0  "
      ]
     },
     "execution_count": 11,
     "metadata": {},
     "output_type": "execute_result"
    }
   ],
   "source": [
    "df2.head(n=10)"
   ]
  },
  {
   "cell_type": "code",
   "execution_count": 12,
   "metadata": {},
   "outputs": [
    {
     "name": "stdout",
     "output_type": "stream",
     "text": [
      "Class counts:\n",
      " 10\n",
      "1    1005\n",
      "0    1005\n",
      "Name: count, dtype: int64\n",
      "Fitting model...\n",
      "Model training complete.\n",
      "boundary points started generation...\n",
      "Not enough memory to generate a grid with 15^10 number of points\n"
     ]
    },
    {
     "name": "stderr",
     "output_type": "stream",
     "text": [
      "/mnt/c/Users/Compuworld/drexel_research_2024_2025/Docs/files/common_functions.py:425: FutureWarning: The behavior of DataFrame concatenation with empty or all-NA entries is deprecated. In a future version, this will no longer exclude empty or all-NA columns when determining the result dtypes. To retain the old behavior, exclude the relevant entries before the concat operation.\n",
      "  balanced_dataset = pd.concat([balanced_dataset, upsampled_class], ignore_index=True)\n"
     ]
    }
   ],
   "source": [
    "optimal_point(df2, model=model, desired_class=0, original_class=1, resolution=15, chosen_row=1, point_epsilon=0.1, epsilon=0.07)"
   ]
  },
  {
   "cell_type": "code",
   "execution_count": 13,
   "metadata": {},
   "outputs": [
    {
     "name": "stdout",
     "output_type": "stream",
     "text": [
      "Class counts:\n",
      " 10\n",
      "1    1005\n",
      "0    1005\n",
      "Name: count, dtype: int64\n",
      "Fitting model...\n",
      "Model training complete.\n",
      "boundary points started generation...\n",
      "Not enough memory to generate a grid with 10^10 number of points\n"
     ]
    },
    {
     "name": "stderr",
     "output_type": "stream",
     "text": [
      "/mnt/c/Users/Compuworld/drexel_research_2024_2025/Docs/files/common_functions.py:425: FutureWarning: The behavior of DataFrame concatenation with empty or all-NA entries is deprecated. In a future version, this will no longer exclude empty or all-NA columns when determining the result dtypes. To retain the old behavior, exclude the relevant entries before the concat operation.\n",
      "  balanced_dataset = pd.concat([balanced_dataset, upsampled_class], ignore_index=True)\n"
     ]
    }
   ],
   "source": [
    "optimal_point(df2, model=model, desired_class=0, original_class=1, resolution=10, chosen_row=1, point_epsilon=0.1, epsilon=0.07)"
   ]
  },
  {
   "cell_type": "code",
   "execution_count": 14,
   "metadata": {},
   "outputs": [
    {
     "name": "stderr",
     "output_type": "stream",
     "text": [
      "/mnt/c/Users/Compuworld/drexel_research_2024_2025/Docs/files/common_functions.py:425: FutureWarning: The behavior of DataFrame concatenation with empty or all-NA entries is deprecated. In a future version, this will no longer exclude empty or all-NA columns when determining the result dtypes. To retain the old behavior, exclude the relevant entries before the concat operation.\n",
      "  balanced_dataset = pd.concat([balanced_dataset, upsampled_class], ignore_index=True)\n"
     ]
    },
    {
     "name": "stdout",
     "output_type": "stream",
     "text": [
      "Class counts:\n",
      " 50\n",
      "1    1001\n",
      "0    1001\n",
      "Name: count, dtype: int64\n",
      "Fitting model...\n",
      "Model training complete.\n",
      "boundary points started generation...\n"
     ]
    },
    {
     "ename": "ValueError",
     "evalue": "Maximum allowed dimension exceeded",
     "output_type": "error",
     "traceback": [
      "\u001b[31m---------------------------------------------------------------------------\u001b[39m",
      "\u001b[31mValueError\u001b[39m                                Traceback (most recent call last)",
      "\u001b[36mCell\u001b[39m\u001b[36m \u001b[39m\u001b[32mIn[14]\u001b[39m\u001b[32m, line 1\u001b[39m\n\u001b[32m----> \u001b[39m\u001b[32m1\u001b[39m \u001b[43moptimal_point\u001b[49m\u001b[43m(\u001b[49m\u001b[43mdf3\u001b[49m\u001b[43m,\u001b[49m\u001b[43m \u001b[49m\u001b[43mmodel\u001b[49m\u001b[43m=\u001b[49m\u001b[43mmodel\u001b[49m\u001b[43m,\u001b[49m\u001b[43m \u001b[49m\u001b[43mdesired_class\u001b[49m\u001b[43m=\u001b[49m\u001b[32;43m0\u001b[39;49m\u001b[43m,\u001b[49m\u001b[43m \u001b[49m\u001b[43moriginal_class\u001b[49m\u001b[43m=\u001b[49m\u001b[32;43m1\u001b[39;49m\u001b[43m,\u001b[49m\u001b[43m \u001b[49m\u001b[43mresolution\u001b[49m\u001b[43m=\u001b[49m\u001b[32;43m15\u001b[39;49m\u001b[43m,\u001b[49m\u001b[43m \u001b[49m\u001b[43mchosen_row\u001b[49m\u001b[43m=\u001b[49m\u001b[32;43m1\u001b[39;49m\u001b[43m,\u001b[49m\u001b[43m \u001b[49m\u001b[43mpoint_epsilon\u001b[49m\u001b[43m=\u001b[49m\u001b[32;43m0.1\u001b[39;49m\u001b[43m,\u001b[49m\u001b[43m \u001b[49m\u001b[43mepsilon\u001b[49m\u001b[43m=\u001b[49m\u001b[32;43m0.07\u001b[39;49m\u001b[43m)\u001b[49m\n",
      "\u001b[36mFile \u001b[39m\u001b[32m/mnt/c/Users/Compuworld/drexel_research_2024_2025/Docs/files/grid_optimal_point.py:270\u001b[39m, in \u001b[36moptimal_point\u001b[39m\u001b[34m(dataset, model, desired_class, original_class, chosen_row, resolution, point_epsilon, epsilon, constraints, deltas, plot)\u001b[39m\n\u001b[32m    267\u001b[39m \u001b[38;5;28mprint\u001b[39m(\u001b[33m\"\u001b[39m\u001b[33mboundary points started generation...\u001b[39m\u001b[33m\"\u001b[39m)\n\u001b[32m    268\u001b[39m \u001b[38;5;28;01mtry\u001b[39;00m: \n\u001b[32m    269\u001b[39m     \u001b[38;5;66;03m# Use grid-based method to approximate boundary points\u001b[39;00m\n\u001b[32m--> \u001b[39m\u001b[32m270\u001b[39m     boundary_points = \u001b[43mcompute_decision_boundary_points_all_features\u001b[49m\u001b[43m(\u001b[49m\u001b[43mmodel\u001b[49m\u001b[43m,\u001b[49m\u001b[43m \u001b[49m\u001b[43mX_train\u001b[49m\u001b[43m,\u001b[49m\u001b[43m \u001b[49m\u001b[43mresolution\u001b[49m\u001b[43m=\u001b[49m\u001b[43mresolution\u001b[49m\u001b[43m,\u001b[49m\u001b[43m \u001b[49m\u001b[43mepsilon\u001b[49m\u001b[43m=\u001b[49m\u001b[43mpoint_epsilon\u001b[49m\u001b[43m)\u001b[49m\n\u001b[32m    271\u001b[39m     \u001b[38;5;28mprint\u001b[39m(\u001b[33m\"\u001b[39m\u001b[33mboundary points finished.\u001b[39m\u001b[33m\"\u001b[39m)\n\u001b[32m    272\u001b[39m \u001b[38;5;28;01mexcept\u001b[39;00m \u001b[38;5;167;01mMemoryError\u001b[39;00m: \n",
      "\u001b[36mFile \u001b[39m\u001b[32m/mnt/c/Users/Compuworld/drexel_research_2024_2025/Docs/files/grid_optimal_point.py:130\u001b[39m, in \u001b[36mcompute_decision_boundary_points_all_features\u001b[39m\u001b[34m(model, X, resolution, epsilon)\u001b[39m\n\u001b[32m    128\u001b[39m n_features = X.shape[\u001b[32m1\u001b[39m]  \u001b[38;5;66;03m# Number of features\u001b[39;00m\n\u001b[32m    129\u001b[39m \u001b[38;5;66;03m# A grid that contains resolution^f samples from the f dimensional space where f is the number of features\u001b[39;00m\n\u001b[32m--> \u001b[39m\u001b[32m130\u001b[39m grid = \u001b[43mnp\u001b[49m\u001b[43m.\u001b[49m\u001b[43mzeros\u001b[49m\u001b[43m(\u001b[49m\u001b[43m(\u001b[49m\u001b[43mresolution\u001b[49m\u001b[43m \u001b[49m\u001b[43m*\u001b[49m\u001b[43m*\u001b[49m\u001b[43m \u001b[49m\u001b[43mn_features\u001b[49m\u001b[43m,\u001b[49m\u001b[43m \u001b[49m\u001b[43mn_features\u001b[49m\u001b[43m)\u001b[49m\u001b[43m)\u001b[49m  \u001b[38;5;66;03m# Initialize grid array\u001b[39;00m\n\u001b[32m    132\u001b[39m \u001b[38;5;66;03m# Generates a grid that contains resolution^f samples based on whether the column contains numeric or categorical values \u001b[39;00m\n\u001b[32m    133\u001b[39m \u001b[38;5;66;03m# If the column contains numeric types, then the grid generates a column based on subdividing the numeric columns evenly\u001b[39;00m\n\u001b[32m    134\u001b[39m \u001b[38;5;28;01mfor\u001b[39;00m i \u001b[38;5;129;01min\u001b[39;00m \u001b[38;5;28mrange\u001b[39m(n_features):\n\u001b[32m    135\u001b[39m     \u001b[38;5;66;03m# Checks if the column is not a column consisting of categorical values\u001b[39;00m\n\u001b[32m    136\u001b[39m     \u001b[38;5;66;03m# If it is not categorical, then the column must be numeric. \u001b[39;00m\n",
      "\u001b[31mValueError\u001b[39m: Maximum allowed dimension exceeded"
     ]
    }
   ],
   "source": [
    "optimal_point(df3, model=model, desired_class=0, original_class=1, resolution=15, chosen_row=1, point_epsilon=0.1, epsilon=0.07)"
   ]
  },
  {
   "cell_type": "code",
   "execution_count": 15,
   "metadata": {},
   "outputs": [
    {
     "name": "stdout",
     "output_type": "stream",
     "text": [
      "Class counts:\n",
      " 50\n",
      "1    1001\n",
      "0    1001\n",
      "Name: count, dtype: int64\n",
      "Fitting model...\n",
      "Model training complete.\n",
      "boundary points started generation...\n"
     ]
    },
    {
     "name": "stderr",
     "output_type": "stream",
     "text": [
      "/mnt/c/Users/Compuworld/drexel_research_2024_2025/Docs/files/common_functions.py:425: FutureWarning: The behavior of DataFrame concatenation with empty or all-NA entries is deprecated. In a future version, this will no longer exclude empty or all-NA columns when determining the result dtypes. To retain the old behavior, exclude the relevant entries before the concat operation.\n",
      "  balanced_dataset = pd.concat([balanced_dataset, upsampled_class], ignore_index=True)\n"
     ]
    },
    {
     "ename": "ValueError",
     "evalue": "Maximum allowed dimension exceeded",
     "output_type": "error",
     "traceback": [
      "\u001b[31m---------------------------------------------------------------------------\u001b[39m",
      "\u001b[31mValueError\u001b[39m                                Traceback (most recent call last)",
      "\u001b[36mCell\u001b[39m\u001b[36m \u001b[39m\u001b[32mIn[15]\u001b[39m\u001b[32m, line 1\u001b[39m\n\u001b[32m----> \u001b[39m\u001b[32m1\u001b[39m \u001b[43moptimal_point\u001b[49m\u001b[43m(\u001b[49m\u001b[43mdf3\u001b[49m\u001b[43m,\u001b[49m\u001b[43m \u001b[49m\u001b[43mmodel\u001b[49m\u001b[43m=\u001b[49m\u001b[43mmodel\u001b[49m\u001b[43m,\u001b[49m\u001b[43m \u001b[49m\u001b[43mdesired_class\u001b[49m\u001b[43m=\u001b[49m\u001b[32;43m0\u001b[39;49m\u001b[43m,\u001b[49m\u001b[43m \u001b[49m\u001b[43moriginal_class\u001b[49m\u001b[43m=\u001b[49m\u001b[32;43m1\u001b[39;49m\u001b[43m,\u001b[49m\u001b[43m \u001b[49m\u001b[43mresolution\u001b[49m\u001b[43m=\u001b[49m\u001b[32;43m10\u001b[39;49m\u001b[43m,\u001b[49m\u001b[43m \u001b[49m\u001b[43mchosen_row\u001b[49m\u001b[43m=\u001b[49m\u001b[32;43m1\u001b[39;49m\u001b[43m,\u001b[49m\u001b[43m \u001b[49m\u001b[43mpoint_epsilon\u001b[49m\u001b[43m=\u001b[49m\u001b[32;43m0.1\u001b[39;49m\u001b[43m,\u001b[49m\u001b[43m \u001b[49m\u001b[43mepsilon\u001b[49m\u001b[43m=\u001b[49m\u001b[32;43m0.07\u001b[39;49m\u001b[43m)\u001b[49m\n",
      "\u001b[36mFile \u001b[39m\u001b[32m/mnt/c/Users/Compuworld/drexel_research_2024_2025/Docs/files/grid_optimal_point.py:270\u001b[39m, in \u001b[36moptimal_point\u001b[39m\u001b[34m(dataset, model, desired_class, original_class, chosen_row, resolution, point_epsilon, epsilon, constraints, deltas, plot)\u001b[39m\n\u001b[32m    267\u001b[39m \u001b[38;5;28mprint\u001b[39m(\u001b[33m\"\u001b[39m\u001b[33mboundary points started generation...\u001b[39m\u001b[33m\"\u001b[39m)\n\u001b[32m    268\u001b[39m \u001b[38;5;28;01mtry\u001b[39;00m: \n\u001b[32m    269\u001b[39m     \u001b[38;5;66;03m# Use grid-based method to approximate boundary points\u001b[39;00m\n\u001b[32m--> \u001b[39m\u001b[32m270\u001b[39m     boundary_points = \u001b[43mcompute_decision_boundary_points_all_features\u001b[49m\u001b[43m(\u001b[49m\u001b[43mmodel\u001b[49m\u001b[43m,\u001b[49m\u001b[43m \u001b[49m\u001b[43mX_train\u001b[49m\u001b[43m,\u001b[49m\u001b[43m \u001b[49m\u001b[43mresolution\u001b[49m\u001b[43m=\u001b[49m\u001b[43mresolution\u001b[49m\u001b[43m,\u001b[49m\u001b[43m \u001b[49m\u001b[43mepsilon\u001b[49m\u001b[43m=\u001b[49m\u001b[43mpoint_epsilon\u001b[49m\u001b[43m)\u001b[49m\n\u001b[32m    271\u001b[39m     \u001b[38;5;28mprint\u001b[39m(\u001b[33m\"\u001b[39m\u001b[33mboundary points finished.\u001b[39m\u001b[33m\"\u001b[39m)\n\u001b[32m    272\u001b[39m \u001b[38;5;28;01mexcept\u001b[39;00m \u001b[38;5;167;01mMemoryError\u001b[39;00m: \n",
      "\u001b[36mFile \u001b[39m\u001b[32m/mnt/c/Users/Compuworld/drexel_research_2024_2025/Docs/files/grid_optimal_point.py:130\u001b[39m, in \u001b[36mcompute_decision_boundary_points_all_features\u001b[39m\u001b[34m(model, X, resolution, epsilon)\u001b[39m\n\u001b[32m    128\u001b[39m n_features = X.shape[\u001b[32m1\u001b[39m]  \u001b[38;5;66;03m# Number of features\u001b[39;00m\n\u001b[32m    129\u001b[39m \u001b[38;5;66;03m# A grid that contains resolution^f samples from the f dimensional space where f is the number of features\u001b[39;00m\n\u001b[32m--> \u001b[39m\u001b[32m130\u001b[39m grid = \u001b[43mnp\u001b[49m\u001b[43m.\u001b[49m\u001b[43mzeros\u001b[49m\u001b[43m(\u001b[49m\u001b[43m(\u001b[49m\u001b[43mresolution\u001b[49m\u001b[43m \u001b[49m\u001b[43m*\u001b[49m\u001b[43m*\u001b[49m\u001b[43m \u001b[49m\u001b[43mn_features\u001b[49m\u001b[43m,\u001b[49m\u001b[43m \u001b[49m\u001b[43mn_features\u001b[49m\u001b[43m)\u001b[49m\u001b[43m)\u001b[49m  \u001b[38;5;66;03m# Initialize grid array\u001b[39;00m\n\u001b[32m    132\u001b[39m \u001b[38;5;66;03m# Generates a grid that contains resolution^f samples based on whether the column contains numeric or categorical values \u001b[39;00m\n\u001b[32m    133\u001b[39m \u001b[38;5;66;03m# If the column contains numeric types, then the grid generates a column based on subdividing the numeric columns evenly\u001b[39;00m\n\u001b[32m    134\u001b[39m \u001b[38;5;28;01mfor\u001b[39;00m i \u001b[38;5;129;01min\u001b[39;00m \u001b[38;5;28mrange\u001b[39m(n_features):\n\u001b[32m    135\u001b[39m     \u001b[38;5;66;03m# Checks if the column is not a column consisting of categorical values\u001b[39;00m\n\u001b[32m    136\u001b[39m     \u001b[38;5;66;03m# If it is not categorical, then the column must be numeric. \u001b[39;00m\n",
      "\u001b[31mValueError\u001b[39m: Maximum allowed dimension exceeded"
     ]
    }
   ],
   "source": [
    "optimal_point(df3, model=model, desired_class=0, original_class=1, resolution=10, chosen_row=1, point_epsilon=0.1, epsilon=0.07)"
   ]
  },
  {
   "cell_type": "markdown",
   "metadata": {},
   "source": [
    "# Experiments of the Computation Costs for SSBA method Using GPU (Logistic Regression)\n",
    "\n",
    "\n",
    "$\\textbf{ Logistic Regression with SSBA Method }$ -- 50 features\n",
    "\n",
    "$T = 1,000,000$, 6.2 seconds runtime, $689,574$ boundary points found\n",
    "\n",
    "$T = 250,000$ $, 2.2 seconds runtime, $500,000$ boundary points found\n",
    "\n",
    "$T = 100,000$, 0.9 seconds runtime, $100,000$ boundary points found\n",
    "\n",
    "$T = 10,000$, 0.1 seconds runtime, $10,000$ boundary points found\n",
    "\n",
    "$\\textbf{ Logistic Regression with SSBA Method }$ -- 10 features\n",
    "\n",
    "$T = 1,000,000$, ~2.2 seconds runtime, $711,436$ boundary points found\n",
    "\n",
    "$T = 250,000$, ~0.9 seconds runtime, $250,000$ boundary points found\n",
    "\n",
    "$T = 100,000$, ~0.4 seconds runtime, $100,000$ boundary points found\n",
    "\n",
    "$T = 10,000$, ~0.1 seconds runtime, $10,000$ boundary points found\n",
    "\n",
    "\n",
    "$\\textbf{ Logistic Regression with SSBA Method }$ -- 2 features\n",
    "\n",
    "$T = 1,000,000$, ~2.4 seconds runtime, $793,845$ boundary points found\n",
    "\n",
    "$T = 250,000$, ~0.7 seconds runtime, $250,000$ boundary points found\n",
    "\n",
    "$T = 100,000$, ~0.3 seconds runtime, $100,000$ boundary points found\n",
    "\n",
    "$T = 10,000$, ~0.0 seconds runtime, $10,000$ boundary points found\n",
    "\n",
    "$T = 1,500$, ~0.0 seconds runtime, $1,500$ boundary points found\n",
    "\n",
    "$T = 500$, ~0.0 seconds runtime, $500$ boundary points found"
   ]
  },
  {
   "cell_type": "code",
   "execution_count": 5,
   "metadata": {},
   "outputs": [],
   "source": [
    "from files.binary_search_optimal_point import optimal_point"
   ]
  },
  {
   "cell_type": "code",
   "execution_count": 6,
   "metadata": {},
   "outputs": [
    {
     "name": "stderr",
     "output_type": "stream",
     "text": [
      "/mnt/c/Users/Compuworld/drexel_research_2024_2025/Docs/files/common_functions.py:425: FutureWarning: The behavior of DataFrame concatenation with empty or all-NA entries is deprecated. In a future version, this will no longer exclude empty or all-NA columns when determining the result dtypes. To retain the old behavior, exclude the relevant entries before the concat operation.\n",
      "  balanced_dataset = pd.concat([balanced_dataset, upsampled_class], ignore_index=True)\n"
     ]
    },
    {
     "name": "stdout",
     "output_type": "stream",
     "text": [
      "Class counts:\n",
      " 2\n",
      "1    1000\n",
      "0    1000\n",
      "Name: count, dtype: int64\n",
      "Fitting model...\n",
      "Model training complete.\n",
      "boundary points started generation...\n",
      "boundary points finished.\n",
      "(500, 2)\n",
      "Finding the closest point from the contour line to the point...\n",
      "Found the closest point from the contour line to the point.\n",
      "[[1.01086175 1.29040267]]\n",
      "[[-1.17303308 -0.00460196]]\n"
     ]
    },
    {
     "data": {
      "text/plain": [
       "[np.float64(0.0013244129875529254), np.float64(1.1538487763889977)]"
      ]
     },
     "execution_count": 6,
     "metadata": {},
     "output_type": "execute_result"
    }
   ],
   "source": [
    "optimal_point(df1, model=model, desired_class=0, original_class=1, threshold=500, chosen_row=1, point_epsilon=1e-3, epsilon=0.01)"
   ]
  },
  {
   "cell_type": "code",
   "execution_count": 7,
   "metadata": {},
   "outputs": [
    {
     "name": "stdout",
     "output_type": "stream",
     "text": [
      "Class counts:\n",
      " 2\n",
      "1    1000\n",
      "0    1000\n",
      "Name: count, dtype: int64\n",
      "Fitting model...\n",
      "Model training complete.\n",
      "boundary points started generation...\n",
      "boundary points finished.\n",
      "(1500, 2)\n",
      "Finding the closest point from the contour line to the point...\n",
      "Found the closest point from the contour line to the point.\n",
      "[[1.01086306 1.05139047]]\n",
      "[[-1.17125033 -0.02540175]]\n"
     ]
    },
    {
     "name": "stderr",
     "output_type": "stream",
     "text": [
      "/mnt/c/Users/Compuworld/drexel_research_2024_2025/Docs/files/common_functions.py:425: FutureWarning: The behavior of DataFrame concatenation with empty or all-NA entries is deprecated. In a future version, this will no longer exclude empty or all-NA columns when determining the result dtypes. To retain the old behavior, exclude the relevant entries before the concat operation.\n",
      "  balanced_dataset = pd.concat([balanced_dataset, upsampled_class], ignore_index=True)\n"
     ]
    },
    {
     "data": {
      "text/plain": [
       "[np.float64(0.0031249892087643616), np.float64(1.133079999182291)]"
      ]
     },
     "execution_count": 7,
     "metadata": {},
     "output_type": "execute_result"
    }
   ],
   "source": [
    "optimal_point(df1, model=model, desired_class=0, original_class=1, threshold=1500, chosen_row=1, point_epsilon=1e-3, epsilon=0.01)"
   ]
  },
  {
   "cell_type": "code",
   "execution_count": 8,
   "metadata": {},
   "outputs": [
    {
     "name": "stdout",
     "output_type": "stream",
     "text": [
      "Class counts:\n",
      " 2\n",
      "1    1000\n",
      "0    1000\n",
      "Name: count, dtype: int64\n",
      "Fitting model...\n",
      "Model training complete.\n",
      "boundary points started generation...\n",
      "boundary points finished.\n",
      "(10000, 2)\n",
      "Finding the closest point from the contour line to the point...\n",
      "Found the closest point from the contour line to the point.\n",
      "[[1.01086375 1.03047306]]\n",
      "[[-1.17031399 -0.05033313]]\n"
     ]
    },
    {
     "name": "stderr",
     "output_type": "stream",
     "text": [
      "/mnt/c/Users/Compuworld/drexel_research_2024_2025/Docs/files/common_functions.py:425: FutureWarning: The behavior of DataFrame concatenation with empty or all-NA entries is deprecated. In a future version, this will no longer exclude empty or all-NA columns when determining the result dtypes. To retain the old behavior, exclude the relevant entries before the concat operation.\n",
      "  balanced_dataset = pd.concat([balanced_dataset, upsampled_class], ignore_index=True)\n"
     ]
    },
    {
     "data": {
      "text/plain": [
       "[np.float64(0.004070682320600039), np.float64(1.107920231997797)]"
      ]
     },
     "execution_count": 8,
     "metadata": {},
     "output_type": "execute_result"
    }
   ],
   "source": [
    "optimal_point(df1, model=model, desired_class=0, original_class=1, threshold=10000,  chosen_row=1, point_epsilon=1e-3, epsilon=0.01)"
   ]
  },
  {
   "cell_type": "code",
   "execution_count": 9,
   "metadata": {},
   "outputs": [
    {
     "name": "stderr",
     "output_type": "stream",
     "text": [
      "/mnt/c/Users/Compuworld/drexel_research_2024_2025/Docs/files/common_functions.py:425: FutureWarning: The behavior of DataFrame concatenation with empty or all-NA entries is deprecated. In a future version, this will no longer exclude empty or all-NA columns when determining the result dtypes. To retain the old behavior, exclude the relevant entries before the concat operation.\n",
      "  balanced_dataset = pd.concat([balanced_dataset, upsampled_class], ignore_index=True)\n"
     ]
    },
    {
     "name": "stdout",
     "output_type": "stream",
     "text": [
      "Class counts:\n",
      " 2\n",
      "1    1000\n",
      "0    1000\n",
      "Name: count, dtype: int64\n",
      "Fitting model...\n",
      "Model training complete.\n",
      "boundary points started generation...\n",
      "boundary points finished.\n",
      "(100000, 2)\n",
      "Finding the closest point from the contour line to the point...\n",
      "Found the closest point from the contour line to the point.\n",
      "[[1.01086502 1.02418796]]\n",
      "[[-1.16860428 -0.0721871 ]]\n"
     ]
    },
    {
     "data": {
      "text/plain": [
       "[np.float64(0.0057974944660421635), np.float64(1.0858539989768687)]"
      ]
     },
     "execution_count": 9,
     "metadata": {},
     "output_type": "execute_result"
    }
   ],
   "source": [
    "optimal_point(df1, model=model, desired_class=0, original_class=1, threshold=100000,  chosen_row=1, point_epsilon=1e-3, epsilon=0.01)"
   ]
  },
  {
   "cell_type": "code",
   "execution_count": 10,
   "metadata": {},
   "outputs": [
    {
     "name": "stderr",
     "output_type": "stream",
     "text": [
      "/mnt/c/Users/Compuworld/drexel_research_2024_2025/Docs/files/common_functions.py:425: FutureWarning: The behavior of DataFrame concatenation with empty or all-NA entries is deprecated. In a future version, this will no longer exclude empty or all-NA columns when determining the result dtypes. To retain the old behavior, exclude the relevant entries before the concat operation.\n",
      "  balanced_dataset = pd.concat([balanced_dataset, upsampled_class], ignore_index=True)\n"
     ]
    },
    {
     "name": "stdout",
     "output_type": "stream",
     "text": [
      "Class counts:\n",
      " 2\n",
      "1    1000\n",
      "0    1000\n",
      "Name: count, dtype: int64\n",
      "Fitting model...\n",
      "Model training complete.\n",
      "boundary points started generation...\n",
      "boundary points finished.\n",
      "(250000, 2)\n",
      "Finding the closest point from the contour line to the point...\n",
      "Found the closest point from the contour line to the point.\n",
      "[[1.01086532 1.02348078]]\n",
      "[[-1.16819494 -0.07592147]]\n"
     ]
    },
    {
     "data": {
      "text/plain": [
       "[np.float64(0.006210923993172024), np.float64(1.0820830003103634)]"
      ]
     },
     "execution_count": 10,
     "metadata": {},
     "output_type": "execute_result"
    }
   ],
   "source": [
    "optimal_point(df1, model=model, desired_class=0, original_class=1, threshold=250000,  chosen_row=1, point_epsilon=1e-3, epsilon=0.01)"
   ]
  },
  {
   "cell_type": "code",
   "execution_count": 11,
   "metadata": {},
   "outputs": [
    {
     "name": "stderr",
     "output_type": "stream",
     "text": [
      "/mnt/c/Users/Compuworld/drexel_research_2024_2025/Docs/files/common_functions.py:425: FutureWarning: The behavior of DataFrame concatenation with empty or all-NA entries is deprecated. In a future version, this will no longer exclude empty or all-NA columns when determining the result dtypes. To retain the old behavior, exclude the relevant entries before the concat operation.\n",
      "  balanced_dataset = pd.concat([balanced_dataset, upsampled_class], ignore_index=True)\n"
     ]
    },
    {
     "name": "stdout",
     "output_type": "stream",
     "text": [
      "Class counts:\n",
      " 2\n",
      "1    1000\n",
      "0    1000\n",
      "Name: count, dtype: int64\n",
      "Fitting model...\n",
      "Model training complete.\n",
      "boundary points started generation...\n",
      "boundary points finished.\n",
      "(793845, 2)\n",
      "Finding the closest point from the contour line to the point...\n",
      "Found the closest point from the contour line to the point.\n",
      "[[1.00185492 1.02077407]]\n",
      "[[-1.17187423 -0.05162185]]\n"
     ]
    },
    {
     "data": {
      "text/plain": [
       "[np.float64(0.013050724564066973), np.float64(1.1070929121254551)]"
      ]
     },
     "execution_count": 11,
     "metadata": {},
     "output_type": "execute_result"
    }
   ],
   "source": [
    "optimal_point(df1, model=model, desired_class=0, original_class=1, threshold=1000000,  chosen_row=1, point_epsilon=1e-4, epsilon=1e-3)"
   ]
  },
  {
   "cell_type": "code",
   "execution_count": 12,
   "metadata": {},
   "outputs": [
    {
     "name": "stdout",
     "output_type": "stream",
     "text": [
      "Class counts:\n",
      " 10\n",
      "1    1005\n",
      "0    1005\n",
      "Name: count, dtype: int64\n",
      "Fitting model...\n",
      "Model training complete.\n",
      "boundary points started generation...\n",
      "boundary points finished.\n",
      "(10000, 10)\n",
      "Finding the closest point from the contour line to the point...\n",
      "Found the closest point from the contour line to the point.\n",
      "[[0.99470607 1.033535   1.10989421 1.0201636  1.00780469 1.03375915\n",
      "  0.99961999 1.01589289 1.02518904 1.01279034]]\n",
      "[[ 0.06503928 -0.04391481 -0.0111107  -0.10037421  0.45907168 -0.04350994\n",
      "   0.09630241 -0.17239293 -0.06749531 -0.36296287]]\n"
     ]
    },
    {
     "name": "stderr",
     "output_type": "stream",
     "text": [
      "/mnt/c/Users/Compuworld/drexel_research_2024_2025/Docs/files/common_functions.py:425: FutureWarning: The behavior of DataFrame concatenation with empty or all-NA entries is deprecated. In a future version, this will no longer exclude empty or all-NA columns when determining the result dtypes. To retain the old behavior, exclude the relevant entries before the concat operation.\n",
      "  balanced_dataset = pd.concat([balanced_dataset, upsampled_class], ignore_index=True)\n"
     ]
    },
    {
     "data": {
      "text/plain": [
       "[np.float64(1.4070513982093271),\n",
       " np.float64(0.8975690188872971),\n",
       " np.float64(3.0454506275665807),\n",
       " np.float64(-0.04273139885169344),\n",
       " np.float64(-0.1486622212380574),\n",
       " np.float64(-1.030499538511193),\n",
       " np.float64(0.42011650458039723),\n",
       " np.float64(0.6785865048013077),\n",
       " np.float64(1.6718403815887657),\n",
       " np.float64(1.7017173802025423)]"
      ]
     },
     "execution_count": 12,
     "metadata": {},
     "output_type": "execute_result"
    }
   ],
   "source": [
    "optimal_point(df2, model=model, desired_class=0, original_class=1, threshold=10000, chosen_row=1, point_epsilon=1e-3, epsilon=0.01)"
   ]
  },
  {
   "cell_type": "code",
   "execution_count": 13,
   "metadata": {},
   "outputs": [
    {
     "name": "stderr",
     "output_type": "stream",
     "text": [
      "/mnt/c/Users/Compuworld/drexel_research_2024_2025/Docs/files/common_functions.py:425: FutureWarning: The behavior of DataFrame concatenation with empty or all-NA entries is deprecated. In a future version, this will no longer exclude empty or all-NA columns when determining the result dtypes. To retain the old behavior, exclude the relevant entries before the concat operation.\n",
      "  balanced_dataset = pd.concat([balanced_dataset, upsampled_class], ignore_index=True)\n"
     ]
    },
    {
     "name": "stdout",
     "output_type": "stream",
     "text": [
      "Class counts:\n",
      " 10\n",
      "1    1005\n",
      "0    1005\n",
      "Name: count, dtype: int64\n",
      "Fitting model...\n",
      "Model training complete.\n",
      "boundary points started generation...\n",
      "boundary points finished.\n",
      "(100000, 10)\n",
      "Finding the closest point from the contour line to the point...\n",
      "Found the closest point from the contour line to the point.\n",
      "[[1.02519385 1.01673163 1.01586783 1.01735927 1.00743408 1.01568235\n",
      "  0.99916253 1.02841503 1.01996066 1.01451506]]\n",
      "[[-0.06747428 -0.15103802 -0.17312499 -0.13824186  0.39262118 -0.17874338\n",
      "   0.09219515 -0.0558465  -0.1023989  -0.22469561]]\n"
     ]
    },
    {
     "data": {
      "text/plain": [
       "[np.float64(1.2731822227734253),\n",
       " np.float64(0.7893913749124312),\n",
       " np.float64(2.8819102135422106),\n",
       " np.float64(-0.08097492046032218),\n",
       " np.float64(-0.21577685078871262),\n",
       " np.float64(-1.1670672434352611),\n",
       " np.float64(0.41596863326078215),\n",
       " np.float64(0.7962858755078444),\n",
       " np.float64(1.6365929921777833),\n",
       " np.float64(1.8413655893612024)]"
      ]
     },
     "execution_count": 13,
     "metadata": {},
     "output_type": "execute_result"
    }
   ],
   "source": [
    "optimal_point(df2, model=model, desired_class=0, original_class=1, threshold=100000, chosen_row=1, point_epsilon=1e-3, epsilon=0.01)"
   ]
  },
  {
   "cell_type": "code",
   "execution_count": 14,
   "metadata": {},
   "outputs": [
    {
     "name": "stderr",
     "output_type": "stream",
     "text": [
      "/mnt/c/Users/Compuworld/drexel_research_2024_2025/Docs/files/common_functions.py:425: FutureWarning: The behavior of DataFrame concatenation with empty or all-NA entries is deprecated. In a future version, this will no longer exclude empty or all-NA columns when determining the result dtypes. To retain the old behavior, exclude the relevant entries before the concat operation.\n",
      "  balanced_dataset = pd.concat([balanced_dataset, upsampled_class], ignore_index=True)\n"
     ]
    },
    {
     "name": "stdout",
     "output_type": "stream",
     "text": [
      "Class counts:\n",
      " 10\n",
      "1    1005\n",
      "0    1005\n",
      "Name: count, dtype: int64\n",
      "Fitting model...\n",
      "Model training complete.\n",
      "boundary points started generation...\n",
      "boundary points finished.\n",
      "(250000, 10)\n",
      "Finding the closest point from the contour line to the point...\n",
      "Found the closest point from the contour line to the point.\n",
      "[[1.07355226 1.01650651 1.02523848 1.01436357 1.00647331 1.01670969\n",
      "  1.00077519 1.01357508 1.00104457 1.01736361]]\n",
      "[[-0.01689243 -0.15622906 -0.06727959 -0.2324618   0.28538742 -0.15152854\n",
      "   0.1084874  -0.28351106  0.11178079 -0.13816092]]\n"
     ]
    },
    {
     "data": {
      "text/plain": [
       "[np.float64(1.324221527350697),\n",
       " np.float64(0.78414865084697),\n",
       " np.float64(2.9888047006260083),\n",
       " np.float64(-0.176134061267755),\n",
       " np.float64(-0.3240819876296826),\n",
       " np.float64(-1.1395812828187764),\n",
       " np.float64(0.4324221925646943),\n",
       " np.float64(0.5663595093001842),\n",
       " np.float64(1.852933387365994),\n",
       " np.float64(1.928762777949529)]"
      ]
     },
     "execution_count": 14,
     "metadata": {},
     "output_type": "execute_result"
    }
   ],
   "source": [
    "optimal_point(df2, model=model, desired_class=0, original_class=1, threshold=250000, chosen_row=1, point_epsilon=1e-3, epsilon=0.01)"
   ]
  },
  {
   "cell_type": "code",
   "execution_count": 15,
   "metadata": {},
   "outputs": [
    {
     "name": "stderr",
     "output_type": "stream",
     "text": [
      "/mnt/c/Users/Compuworld/drexel_research_2024_2025/Docs/files/common_functions.py:425: FutureWarning: The behavior of DataFrame concatenation with empty or all-NA entries is deprecated. In a future version, this will no longer exclude empty or all-NA columns when determining the result dtypes. To retain the old behavior, exclude the relevant entries before the concat operation.\n",
      "  balanced_dataset = pd.concat([balanced_dataset, upsampled_class], ignore_index=True)\n"
     ]
    },
    {
     "name": "stdout",
     "output_type": "stream",
     "text": [
      "Class counts:\n",
      " 10\n",
      "1    1005\n",
      "0    1005\n",
      "Name: count, dtype: int64\n",
      "Fitting model...\n",
      "Model training complete.\n",
      "boundary points started generation...\n",
      "boundary points finished.\n",
      "(711436, 10)\n",
      "Finding the closest point from the contour line to the point...\n",
      "Found the closest point from the contour line to the point.\n",
      "[[1.07355226 1.01650651 1.02523848 1.01436357 1.00647331 1.01670969\n",
      "  1.00077519 1.01357508 1.00104457 1.01736361]]\n",
      "[[-0.01689243 -0.15622906 -0.06727959 -0.2324618   0.28538742 -0.15152854\n",
      "   0.1084874  -0.28351106  0.11178079 -0.13816092]]\n"
     ]
    },
    {
     "data": {
      "text/plain": [
       "[np.float64(1.324221527350697),\n",
       " np.float64(0.78414865084697),\n",
       " np.float64(2.9888047006260083),\n",
       " np.float64(-0.176134061267755),\n",
       " np.float64(-0.3240819876296826),\n",
       " np.float64(-1.1395812828187764),\n",
       " np.float64(0.4324221925646943),\n",
       " np.float64(0.5663595093001842),\n",
       " np.float64(1.852933387365994),\n",
       " np.float64(1.928762777949529)]"
      ]
     },
     "execution_count": 15,
     "metadata": {},
     "output_type": "execute_result"
    }
   ],
   "source": [
    "optimal_point(df2, model=model, desired_class=0, original_class=1, threshold=1000000, chosen_row=1, point_epsilon=1e-3, epsilon=0.01)"
   ]
  },
  {
   "cell_type": "code",
   "execution_count": 16,
   "metadata": {},
   "outputs": [
    {
     "name": "stderr",
     "output_type": "stream",
     "text": [
      "/mnt/c/Users/Compuworld/drexel_research_2024_2025/Docs/files/common_functions.py:425: FutureWarning: The behavior of DataFrame concatenation with empty or all-NA entries is deprecated. In a future version, this will no longer exclude empty or all-NA columns when determining the result dtypes. To retain the old behavior, exclude the relevant entries before the concat operation.\n",
      "  balanced_dataset = pd.concat([balanced_dataset, upsampled_class], ignore_index=True)\n"
     ]
    },
    {
     "name": "stdout",
     "output_type": "stream",
     "text": [
      "Class counts:\n",
      " 50\n",
      "1    1001\n",
      "0    1001\n",
      "Name: count, dtype: int64\n",
      "Fitting model...\n",
      "Model training complete.\n",
      "boundary points started generation...\n",
      "boundary points finished.\n",
      "(10000, 50)\n",
      "Finding the closest point from the contour line to the point...\n",
      "Found the closest point from the contour line to the point.\n",
      "[[1.0101367  1.00775898 1.00978458 1.0101575  1.01021673 1.00967862\n",
      "  1.0167958  1.01071452 1.00990974 1.01057373 1.01275108 1.00804708\n",
      "  1.00950289 1.01056287 1.01032898 1.00939993 1.0109198  1.00786105\n",
      "  1.00946217 1.00954339 1.00969167 1.01106528 1.00937778 1.0094003\n",
      "  1.01034962 1.0105574  1.01044271 1.00927561 1.00905248 1.00747706\n",
      "  1.01028832 1.01030606 1.0086744  1.00923112 1.00915979 1.01113488\n",
      "  1.01594436 1.00930712 1.01041383 1.00687538 1.0102529  1.01080211\n",
      "  1.00949876 1.00818014 1.00967135 1.01054451 1.00940115 1.00979428\n",
      "  1.00984521 1.00977534]]\n",
      "[[-7.38954958  0.44968685  4.687599   -6.41357931 -4.66116211  3.14170746\n",
      "  -0.14962124 -1.41454567 11.18927904 -1.76140616 -0.36812877  0.51617423\n",
      "   2.03074271 -1.79536939 -3.07112626  1.68212665 -1.09906119  0.47119462\n",
      "   1.87689958  2.21093627  3.27467753 -0.9491038   1.62223264  1.68317612\n",
      "  -2.8898489  -1.8129881  -2.28241024  1.39326811  1.06494485  0.39932617\n",
      "  -3.50410236 -3.3010299   0.76091753  1.31259189  1.20108217 -0.89096569\n",
      "  -0.17090906  1.45667581 -2.44164381  0.32223974 -3.99466989 -1.26017426\n",
      "   2.01402022  0.55398835  3.07215425 -1.85588367  1.68556787  4.90853971\n",
      "   6.52409164  4.49465515]]\n"
     ]
    },
    {
     "data": {
      "text/plain": [
       "[np.float64(3.5794564082697153),\n",
       " np.float64(1.7588731222704843),\n",
       " np.float64(0.5713983486276648),\n",
       " np.float64(0.5834262941503638),\n",
       " np.float64(5.479397152866933),\n",
       " np.float64(-2.04484849680525),\n",
       " np.float64(0.71770974949442),\n",
       " np.float64(4.965578810839221),\n",
       " np.float64(-3.1988934040984365),\n",
       " np.float64(-4.406296531460539),\n",
       " np.float64(1.012107388342394),\n",
       " np.float64(2.33765036522611),\n",
       " np.float64(-0.42733912374515404),\n",
       " np.float64(-2.5138636894310435),\n",
       " np.float64(-2.607314421826483),\n",
       " np.float64(1.8005126918045185),\n",
       " np.float64(0.07193650699249132),\n",
       " np.float64(2.8913113698386503),\n",
       " np.float64(-0.5907576552113132),\n",
       " np.float64(0.8742505760167751),\n",
       " np.float64(-0.853296432849215),\n",
       " np.float64(8.07237812237249),\n",
       " np.float64(-0.22456527324489262),\n",
       " np.float64(2.3425316153710245),\n",
       " np.float64(-4.768350012746907),\n",
       " np.float64(-0.1080486542770347),\n",
       " np.float64(1.1257998698722327),\n",
       " np.float64(3.1874577279091056),\n",
       " np.float64(8.488932487126348),\n",
       " np.float64(-6.1253889572868445),\n",
       " np.float64(-0.23884621058211764),\n",
       " np.float64(0.2112483052752845),\n",
       " np.float64(-2.8968455606994628),\n",
       " np.float64(1.808944219108519),\n",
       " np.float64(0.9236058956935169),\n",
       " np.float64(1.7644496095825348),\n",
       " np.float64(5.409188528841643),\n",
       " np.float64(-2.9658421222234495),\n",
       " np.float64(2.4121867570619444),\n",
       " np.float64(1.0728735315013391),\n",
       " np.float64(2.4575248155799096),\n",
       " np.float64(-2.6454263341822633),\n",
       " np.float64(-0.48534654272744726),\n",
       " np.float64(-1.16546498546327),\n",
       " np.float64(0.9768629816718524),\n",
       " np.float64(-4.668926494101053),\n",
       " np.float64(0.7726211273056356),\n",
       " np.float64(-2.350387932325736),\n",
       " np.float64(-2.4542547621052906),\n",
       " np.float64(3.003628267078034)]"
      ]
     },
     "execution_count": 16,
     "metadata": {},
     "output_type": "execute_result"
    }
   ],
   "source": [
    "optimal_point(df3, model=model, desired_class=0, original_class=1, threshold=10000, chosen_row=1, point_epsilon=1e-3, epsilon=0.01)"
   ]
  },
  {
   "cell_type": "code",
   "execution_count": 17,
   "metadata": {},
   "outputs": [
    {
     "name": "stderr",
     "output_type": "stream",
     "text": [
      "/mnt/c/Users/Compuworld/drexel_research_2024_2025/Docs/files/common_functions.py:425: FutureWarning: The behavior of DataFrame concatenation with empty or all-NA entries is deprecated. In a future version, this will no longer exclude empty or all-NA columns when determining the result dtypes. To retain the old behavior, exclude the relevant entries before the concat operation.\n",
      "  balanced_dataset = pd.concat([balanced_dataset, upsampled_class], ignore_index=True)\n"
     ]
    },
    {
     "name": "stdout",
     "output_type": "stream",
     "text": [
      "Class counts:\n",
      " 50\n",
      "1    1001\n",
      "0    1001\n",
      "Name: count, dtype: int64\n",
      "Fitting model...\n",
      "Model training complete.\n",
      "boundary points started generation...\n",
      "boundary points finished.\n",
      "(100000, 50)\n",
      "Finding the closest point from the contour line to the point...\n",
      "Found the closest point from the contour line to the point.\n",
      "[[1.01035315 1.00948861 1.00208776 1.01136132 1.01089844 1.0095726\n",
      "  1.01026601 1.01021662 1.0098793  1.01042601 1.01053017 1.01017598\n",
      "  1.00953023 1.01024283 1.00900338 1.00960077 1.00944895 1.01140166\n",
      "  1.00975067 1.01071486 1.0092634  1.01031133 1.01177203 1.00249625\n",
      "  1.00963151 0.99793986 1.01037688 1.00865913 1.01023376 1.00985302\n",
      "  1.01090308 1.01044658 1.00950653 1.01094236 1.00731693 1.01020031\n",
      "  1.01033588 1.00968806 1.01591153 1.00877449 1.01024561 1.01067439\n",
      "  1.00966679 1.00506393 1.00965636 1.01393617 1.00974945 1.00966515\n",
      "  1.00973248 1.01322373]]\n",
      "[[-2.86094596  1.97400263  0.12665029 -0.74292869 -1.12516647  2.36212321\n",
      "  -3.79781785 -4.66348392  8.36684976 -2.37181731 -1.90603653 -5.74035909\n",
      "   2.1489918  -4.16035017  1.01242287  2.52884004  1.83187175 -0.72157343\n",
      "   4.0498875  -1.4138599   1.37016257 -3.24513601 -0.57096634  0.13359931\n",
      "   2.73993141  0.08274696 -2.68093017  0.75224338 -4.32159879  6.87079985\n",
      "  -1.11939268 -2.26265268  2.04574071 -1.07277196  0.37543435 -5.04314535\n",
      "  -3.00800418  3.23683677 -0.17185253  0.82314744 -4.11316402 -1.49864609\n",
      "   3.030095    0.2036161   2.93808672 -0.25759455  4.03013507  3.01527877\n",
      "   3.77440982 -0.31430149]]\n"
     ]
    },
    {
     "data": {
      "text/plain": [
       "[np.float64(8.15334584982074),\n",
       " np.float64(3.2984303267098576),\n",
       " np.float64(-4.0351521493402815),\n",
       " np.float64(6.31078221418076),\n",
       " np.float64(9.050752071888581),\n",
       " np.float64(-2.832228477757305),\n",
       " np.float64(-2.966962299179409),\n",
       " np.float64(1.6841516765591384),\n",
       " np.float64(-6.049546951108416),\n",
       " np.float64(-5.022811650336448),\n",
       " np.float64(-0.5411772223589679),\n",
       " np.float64(-3.9814504123506875),\n",
       " np.float64(-0.30790756915761186),\n",
       " np.float64(-4.902493956494906),\n",
       " np.float64(1.5170715213694024),\n",
       " np.float64(2.655693016713875),\n",
       " np.float64(3.0321802494011596),\n",
       " np.float64(1.686612102778613),\n",
       " np.float64(1.6039598572429266),\n",
       " np.float64(-2.786794731598521),\n",
       " np.float64(-2.7768561184472835),\n",
       " np.float64(5.753386340543472),\n",
       " np.float64(-2.4396986402663523),\n",
       " np.float64(0.7774659415016133),\n",
       " np.float64(0.9177288139441941),\n",
       " np.float64(1.8066563807028817),\n",
       " np.float64(0.7232948059470377),\n",
       " np.float64(2.540023365888375),\n",
       " np.float64(3.0485222252595827),\n",
       " np.float64(0.4107970791391642),\n",
       " np.float64(2.169709955521653),\n",
       " np.float64(1.2600091635829584),\n",
       " np.float64(-1.599174982300831),\n",
       " np.float64(-0.6002749809895331),\n",
       " np.float64(0.08970343542002596),\n",
       " np.float64(-2.429250909947462),\n",
       " np.float64(2.543728062945372),\n",
       " np.float64(-1.1678799339186017),\n",
       " np.float64(4.7046704524579965),\n",
       " np.float64(1.5787884126136542),\n",
       " np.float64(2.3378457550353744),\n",
       " np.float64(-2.886282749111639),\n",
       " np.float64(0.540888812549531),\n",
       " np.float64(-1.5193378483820423),\n",
       " np.float64(0.8414547981222196),\n",
       " np.float64(-3.054657871039647),\n",
       " np.float64(3.1406336506654893),\n",
       " np.float64(-4.262581353958662),\n",
       " np.float64(-5.2314332815342315),\n",
       " np.float64(-1.8534213827654171)]"
      ]
     },
     "execution_count": 17,
     "metadata": {},
     "output_type": "execute_result"
    }
   ],
   "source": [
    "optimal_point(df3, model=model, desired_class=0, original_class=1, threshold=100000, chosen_row=1, point_epsilon=1e-3, epsilon=0.01)"
   ]
  },
  {
   "cell_type": "code",
   "execution_count": 27,
   "metadata": {},
   "outputs": [
    {
     "name": "stderr",
     "output_type": "stream",
     "text": [
      "/mnt/c/Users/Compuworld/drexel_research_2024_2025/Docs/files/common_functions.py:426: FutureWarning: The behavior of DataFrame concatenation with empty or all-NA entries is deprecated. In a future version, this will no longer exclude empty or all-NA columns when determining the result dtypes. To retain the old behavior, exclude the relevant entries before the concat operation.\n",
      "  balanced_dataset = pd.concat([balanced_dataset, upsampled_class], ignore_index=True)\n"
     ]
    },
    {
     "name": "stdout",
     "output_type": "stream",
     "text": [
      "Class counts:\n",
      " 50\n",
      "1    1001\n",
      "0    1001\n",
      "Name: count, dtype: int64\n",
      "Fitting model...\n",
      "Model training complete.\n",
      "boundary points started generation...\n",
      "boundary points finished.\n",
      "(250000, 50)\n",
      "Finding the closest point from the contour line to the point...\n",
      "Found the closest point from the contour line to the point.\n",
      "[[1.01016285 1.00978172 1.00959691 1.01018086 1.01023564 1.00970167\n",
      "  1.00906782 1.01079172 1.0098747  1.00959531 1.01026077 1.01026997\n",
      "  1.00938092 1.00640707 1.00970065 1.00934682 1.00924954 1.01022833\n",
      "  1.00923392 1.00870558 1.00926939 1.01027767 1.15156955 1.01034185\n",
      "  1.00956214 1.00951857 1.0105032  1.00839421 1.00109924 1.00927276\n",
      "  1.01043169 1.02007724 1.01443231 1.00955004 1.01370924 1.0106066\n",
      "  1.01030338 1.00960733 1.01055797 1.01057371 1.01030576 1.00951209\n",
      "  1.00939173 1.01136188 1.00956361 1.00975567 1.00894374 1.00980913\n",
      "  1.00971697 1.01461338]]\n",
      "[[-6.20292604  4.62606574  2.50464325 -5.58541919 -4.28726181  3.38449357\n",
      "   1.08248051 -1.27669899  8.05934393  2.49472903 -3.87418386 -3.74216758\n",
      "   1.63045777  0.28010763  3.37296763  1.54528202  1.34484215 -4.42450338\n",
      "   1.31739391  0.77927473  1.381413   -3.63842301 -0.0081343  -2.95554715\n",
      "   2.30568612  2.09691082 -2.00814757  0.62797583  0.11247352  1.38781009\n",
      "  -2.34063951 -0.10122584 -0.22887225  2.24365444 -0.27329277 -1.66600993\n",
      "  -3.33011044  2.57115423 -1.81113882 -1.76148216 -3.30426124  2.06906149\n",
      "   1.65943562 -0.74262264  2.31342766  4.13277093  0.95520371  5.29056605\n",
      "   3.56758615 -0.21992853]]\n"
     ]
    },
    {
     "data": {
      "text/plain": [
       "[np.float64(4.777946158422404),\n",
       " np.float64(5.977013774993333),\n",
       " np.float64(-1.633386771326594),\n",
       " np.float64(1.4198679926680526),\n",
       " np.float64(5.857036441354809),\n",
       " np.float64(-1.799634539635242),\n",
       " np.float64(1.9621402508788526),\n",
       " np.float64(5.104803874827192),\n",
       " np.float64(-6.3601278325124575),\n",
       " np.float64(-0.10759901397252092),\n",
       " np.float64(-2.529005757912265),\n",
       " np.float64(-1.9632770808852495),\n",
       " np.float64(-0.8316267908049884),\n",
       " np.float64(-0.417627743908126),\n",
       " np.float64(3.901221032034706),\n",
       " np.float64(1.6622996740134295),\n",
       " np.float64(2.540280549692748),\n",
       " np.float64(-2.053345972880043),\n",
       " np.float64(-1.1558581530754275),\n",
       " np.float64(-0.5717267472380506),\n",
       " np.float64(-2.765493192349362),\n",
       " np.float64(5.3561665033104955),\n",
       " np.float64(-1.871378076128801),\n",
       " np.float64(-2.3425798262012845),\n",
       " np.float64(0.4791411442680009),\n",
       " np.float64(3.840950295447394),\n",
       " np.float64(1.4028051117464444),\n",
       " np.float64(2.4145134094968776),\n",
       " np.float64(7.526944396048299),\n",
       " np.float64(-5.127021997464764),\n",
       " np.float64(0.936251120418039),\n",
       " np.float64(3.4430406364563657),\n",
       " np.float64(-3.896538998565138),\n",
       " np.float64(2.749317076194236),\n",
       " np.float64(-0.5655173417679049),\n",
       " np.float64(0.9816554508972808),\n",
       " np.float64(2.2184007773620364),\n",
       " np.float64(-1.8402192137367845),\n",
       " np.float64(3.048996650739707),\n",
       " np.float64(-1.0316892874743182),\n",
       " np.float64(3.1548375062181524),\n",
       " np.float64(0.7171030705224724),\n",
       " np.float64(-0.8434768881620074),\n",
       " np.float64(-2.475045268533095),\n",
       " np.float64(0.2105492350272904),\n",
       " np.float64(1.3796154429498984),\n",
       " np.float64(0.03495378137059879),\n",
       " np.float64(-1.9645413391119027),\n",
       " np.float64(-5.4403251735956335),\n",
       " np.float64(-1.7581060854732984)]"
      ]
     },
     "execution_count": 27,
     "metadata": {},
     "output_type": "execute_result"
    }
   ],
   "source": [
    "optimal_point(df3, model=model, desired_class=0, original_class=1, threshold=250000, chosen_row=1, point_epsilon=1e-3, epsilon=0.01)"
   ]
  },
  {
   "cell_type": "code",
   "execution_count": 18,
   "metadata": {},
   "outputs": [
    {
     "name": "stderr",
     "output_type": "stream",
     "text": [
      "/mnt/c/Users/Compuworld/drexel_research_2024_2025/Docs/files/common_functions.py:425: FutureWarning: The behavior of DataFrame concatenation with empty or all-NA entries is deprecated. In a future version, this will no longer exclude empty or all-NA columns when determining the result dtypes. To retain the old behavior, exclude the relevant entries before the concat operation.\n",
      "  balanced_dataset = pd.concat([balanced_dataset, upsampled_class], ignore_index=True)\n"
     ]
    },
    {
     "name": "stdout",
     "output_type": "stream",
     "text": [
      "Class counts:\n",
      " 50\n",
      "1    1001\n",
      "0    1001\n",
      "Name: count, dtype: int64\n",
      "Fitting model...\n",
      "Model training complete.\n",
      "boundary points started generation...\n",
      "boundary points finished.\n",
      "(689574, 50)\n",
      "Finding the closest point from the contour line to the point...\n",
      "Found the closest point from the contour line to the point.\n",
      "[[1.01028144 1.0093257  1.00898715 1.01049448 1.01030976 1.00975198\n",
      "  1.00953466 1.01023855 1.00988581 1.010713   1.0105713  1.01039549\n",
      "  1.00847385 1.01064309 1.00947162 1.012031   1.01026245 1.01042152\n",
      "  1.01615662 1.01080378 1.00968541 1.01019558 1.01194125 1.01056519\n",
      "  1.00914584 1.00945694 1.01062109 1.00942733 1.01028276 1.00973846\n",
      "  1.01049841 1.01049315 1.00900146 1.01050555 1.00975036 1.0091618\n",
      "  1.01082661 1.00866522 1.00862605 1.00936586 1.01027968 1.009335\n",
      "  1.01066487 1.00980168 1.00927085 1.01501322 1.01126741 1.00975182\n",
      "  1.0095769  1.0082031 ]]\n",
      "[[-3.5897048   1.49685165  0.99619028 -2.04353689 -3.2615739   4.07127148\n",
      "   2.169471   -4.23488437  8.84388891 -1.4175559  -1.76890313 -2.55482319\n",
      "   0.66079808 -1.57154212  1.91048706 -0.49829108 -3.84932429 -2.39709798\n",
      "  -0.16505115 -1.25757009  3.20954432 -5.16512484 -0.52128247 -1.7879943\n",
      "   1.18144796  1.85882702 -1.62717102  1.7626683  -3.57294803  3.8607453\n",
      "  -2.02742644 -2.04906632  1.01047942 -1.99882599  4.04478992  1.20395774\n",
      "  -1.22285188  0.75567926  0.73410928  1.59171799 -3.61231072  1.51778753\n",
      "  -1.52008991  5.0918445   1.38417622 -0.20246741 -0.7979039   4.06854764\n",
      "   2.38612603  0.56107846]]\n"
     ]
    },
    {
     "data": {
      "text/plain": [
       "[np.float64(7.417299486882551),\n",
       " np.float64(2.816508002888985),\n",
       " np.float64(-3.1569236570316432),\n",
       " np.float64(4.99716880573836),\n",
       " np.float64(6.892981152568453),\n",
       " np.float64(-1.1059889100135818),\n",
       " np.float64(3.0600001700919863),\n",
       " np.float64(2.117037191843826),\n",
       " np.float64(-5.567737409802822),\n",
       " np.float64(-4.059007911928413),\n",
       " np.float64(-0.4026725307685768),\n",
       " np.float64(-0.7640593736475993),\n",
       " np.float64(-1.810982169563153),\n",
       " np.float64(-2.287798232907855),\n",
       " np.float64(2.4241158864001062),\n",
       " np.float64(-0.4017118413774091),\n",
       " np.float64(-2.7058285658347376),\n",
       " np.float64(-0.005666718631546441),\n",
       " np.float64(-2.65313458959901),\n",
       " np.float64(-2.628942111898315),\n",
       " np.float64(-0.9190809758835359),\n",
       " np.float64(3.814197741986005),\n",
       " np.float64(-2.3895181021104617),\n",
       " np.float64(-1.1633516702011095),\n",
       " np.float64(-0.6563389821927528),\n",
       " np.float64(3.600485716572961),\n",
       " np.float64(1.7875913089733722),\n",
       " np.float64(3.56055177408217),\n",
       " np.float64(3.8046594427466522),\n",
       " np.float64(-2.629357903351338),\n",
       " np.float64(1.2525962631823009),\n",
       " np.float64(1.47573134130668),\n",
       " np.float64(-2.6447883721010665),\n",
       " np.float64(-1.5355891143965472),\n",
       " np.float64(3.795750124363),\n",
       " np.float64(3.8803242500772357),\n",
       " np.float64(4.346731396345608),\n",
       " np.float64(-3.673847994744832),\n",
       " np.float64(5.619699168560775),\n",
       " np.float64(2.3550440672719137),\n",
       " np.float64(2.8437075594591508),\n",
       " np.float64(0.16031654337428214),\n",
       " np.float64(-4.054798946656777),\n",
       " np.float64(3.4177680970071975),\n",
       " np.float64(-0.7279944222177364),\n",
       " np.float64(-2.9989805420017666),\n",
       " np.float64(-1.7356872239101766),\n",
       " np.float64(-3.198779882787015),\n",
       " np.float64(-6.633599755844197),\n",
       " np.float64(-0.969282620177032)]"
      ]
     },
     "execution_count": 18,
     "metadata": {},
     "output_type": "execute_result"
    }
   ],
   "source": [
    "optimal_point(df3, model=model, desired_class=0, original_class=1, threshold=1000000, chosen_row=1, point_epsilon=1e-3, epsilon=0.01)"
   ]
  }
 ],
 "metadata": {
  "kernelspec": {
   "display_name": "gpu_env",
   "language": "python",
   "name": "python3"
  },
  "language_info": {
   "codemirror_mode": {
    "name": "ipython",
    "version": 3
   },
   "file_extension": ".py",
   "mimetype": "text/x-python",
   "name": "python",
   "nbconvert_exporter": "python",
   "pygments_lexer": "ipython3",
   "version": "3.12.11"
  }
 },
 "nbformat": 4,
 "nbformat_minor": 2
}
