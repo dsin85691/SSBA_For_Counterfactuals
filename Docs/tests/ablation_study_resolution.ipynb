{
 "cells": [
  {
   "cell_type": "markdown",
   "id": "d7649d6c",
   "metadata": {},
   "source": [
    "# Observing the Effect of Changing the Resolution Size for the Grid-based Method\n",
    "\n",
    "As we can see below, if ```resolution``` parameter is too low, the number of boundary points drops off, and below a particular resolution, no boundary points will be found. Increasing the resolution size decreases the overall sparsity and the distance between two points in $R^f$ space which means that it will increase the likelihood of finding two points that are close together in space.\n",
    "\n",
    "Here we use a logistic regression classifier since we can easily identify the decision boundary points based on the probabilities for each class."
   ]
  },
  {
   "cell_type": "code",
   "execution_count": null,
   "id": "4da421b2",
   "metadata": {},
   "outputs": [],
   "source": [
    "from sklearn.datasets import make_classification\n",
    "from sklearn.linear_model import LogisticRegression\n",
    "\n",
    "import numpy as np\n",
    "import pandas as pd\n",
    "import warnings\n",
    "import random\n",
    "\n",
    "random.seed(0)\n",
    "warnings.filterwarnings('ignore', category=UserWarning)\n",
    "\n",
    "import os\n",
    "import sys\n",
    "nb_dir = os.path.split(os.getcwd())[0]\n",
    "if nb_dir not in sys.path:\n",
    "    sys.path.append(nb_dir)"
   ]
  },
  {
   "cell_type": "code",
   "execution_count": 3,
   "id": "3bfe1786",
   "metadata": {},
   "outputs": [],
   "source": [
    "X, y = make_classification(n_samples=2000, n_features=2, n_informative=2, n_redundant=0, random_state=42, n_classes=2)\n",
    "model = LogisticRegression()\n",
    "y = y.reshape(-1,1)\n",
    "df1 = pd.DataFrame(data=np.hstack((X,y)))"
   ]
  },
  {
   "cell_type": "code",
   "execution_count": 4,
   "id": "1ddfa57a",
   "metadata": {},
   "outputs": [
    {
     "name": "stdout",
     "output_type": "stream",
     "text": [
      "          0         1    2\n",
      "0  0.800062 -0.957489  1.0\n",
      "1  1.187099  1.159787  1.0\n",
      "2  0.154512  1.217520  0.0\n",
      "3  0.179014 -0.852832  1.0\n",
      "4 -0.735827 -0.245366  0.0\n",
      "5  0.039487  1.320957  1.0\n",
      "6 -1.482199  0.419738  0.0\n",
      "7 -0.622829 -0.803223  0.0\n",
      "8  0.965721 -1.068587  1.0\n",
      "9  0.798459 -1.022348  1.0\n"
     ]
    }
   ],
   "source": [
    "print(df1.head(n=10))"
   ]
  },
  {
   "cell_type": "code",
   "execution_count": 5,
   "id": "38e7c46e",
   "metadata": {},
   "outputs": [],
   "source": [
    "from files.grid_optimal_point import optimal_point"
   ]
  },
  {
   "cell_type": "markdown",
   "id": "7bd5aeed",
   "metadata": {},
   "source": [
    "# Ablation Study: Effect of Resolution on the Number of Grid Points\n",
    "\n",
    "$R = 10$, $0$ boundary points found, $0.6$ second runtime  \\\n",
    "$R = 50$, $0$ boundary points found,  $0.2$ second runtime \\\n",
    "$R = 100$, $104$ boundary points found, $1.0$ second runtime  \\\n",
    "$R = 150$, $311$ boundary points found,  $15.1$ second runtime \\\n",
    "$R = 200$, $824$ boundary points found, $43.4$ second runtime \\\n",
    "$R = 250$, $1612$ boundary points found, $108.7$ second runtime"
   ]
  },
  {
   "cell_type": "code",
   "execution_count": 5,
   "id": "78925836",
   "metadata": {},
   "outputs": [
    {
     "name": "stderr",
     "output_type": "stream",
     "text": [
      "/mnt/c/Users/Compuworld/drexel_research_2024_2025/Docs/files/common_functions.py:425: FutureWarning: The behavior of DataFrame concatenation with empty or all-NA entries is deprecated. In a future version, this will no longer exclude empty or all-NA columns when determining the result dtypes. To retain the old behavior, exclude the relevant entries before the concat operation.\n",
      "  balanced_dataset = pd.concat([balanced_dataset, upsampled_class], ignore_index=True)\n"
     ]
    },
    {
     "name": "stdout",
     "output_type": "stream",
     "text": [
      "Class counts:\n",
      " 2\n",
      "1    1000\n",
      "0    1000\n",
      "Name: count, dtype: int64\n",
      "Fitting model...\n",
      "Model training complete.\n",
      "boundary points started generation...\n"
     ]
    },
    {
     "ename": "Exception",
     "evalue": "No Boundary Points Found. The DataFrame is empty. Please try to change the parameters.",
     "output_type": "error",
     "traceback": [
      "\u001b[0;31m---------------------------------------------------------------------------\u001b[0m",
      "\u001b[0;31mException\u001b[0m                                 Traceback (most recent call last)",
      "Cell \u001b[0;32mIn[5], line 1\u001b[0m\n\u001b[0;32m----> 1\u001b[0m \u001b[43moptimal_point\u001b[49m\u001b[43m(\u001b[49m\u001b[43mdf1\u001b[49m\u001b[43m,\u001b[49m\u001b[43m \u001b[49m\u001b[43mmodel\u001b[49m\u001b[38;5;241;43m=\u001b[39;49m\u001b[43mmodel\u001b[49m\u001b[43m,\u001b[49m\u001b[43m \u001b[49m\u001b[43mdesired_class\u001b[49m\u001b[38;5;241;43m=\u001b[39;49m\u001b[38;5;241;43m0\u001b[39;49m\u001b[43m,\u001b[49m\u001b[43m \u001b[49m\u001b[43moriginal_class\u001b[49m\u001b[38;5;241;43m=\u001b[39;49m\u001b[38;5;241;43m1\u001b[39;49m\u001b[43m,\u001b[49m\u001b[43m \u001b[49m\u001b[43mresolution\u001b[49m\u001b[38;5;241;43m=\u001b[39;49m\u001b[38;5;241;43m10\u001b[39;49m\u001b[43m,\u001b[49m\u001b[43m \u001b[49m\u001b[43mchosen_row\u001b[49m\u001b[38;5;241;43m=\u001b[39;49m\u001b[38;5;241;43m1\u001b[39;49m\u001b[43m,\u001b[49m\u001b[43m \u001b[49m\u001b[43mpoint_epsilon\u001b[49m\u001b[38;5;241;43m=\u001b[39;49m\u001b[38;5;241;43m0.1\u001b[39;49m\u001b[43m,\u001b[49m\u001b[43m \u001b[49m\u001b[43mepsilon\u001b[49m\u001b[38;5;241;43m=\u001b[39;49m\u001b[38;5;241;43m0.01\u001b[39;49m\u001b[43m,\u001b[49m\u001b[43m \u001b[49m\u001b[43mplot\u001b[49m\u001b[38;5;241;43m=\u001b[39;49m\u001b[38;5;28;43;01mFalse\u001b[39;49;00m\u001b[43m)\u001b[49m\n",
      "File \u001b[0;32m/mnt/c/Users/Compuworld/drexel_research_2024_2025/Docs/files/grid_optimal_point.py:270\u001b[0m, in \u001b[0;36moptimal_point\u001b[0;34m(dataset, model, desired_class, original_class, chosen_row, resolution, point_epsilon, epsilon, constraints, deltas, plot)\u001b[0m\n\u001b[1;32m    267\u001b[0m \u001b[38;5;28mprint\u001b[39m(\u001b[38;5;124m\"\u001b[39m\u001b[38;5;124mboundary points started generation...\u001b[39m\u001b[38;5;124m\"\u001b[39m)\n\u001b[1;32m    268\u001b[0m \u001b[38;5;28;01mtry\u001b[39;00m: \n\u001b[1;32m    269\u001b[0m     \u001b[38;5;66;03m# Use grid-based method to approximate boundary points\u001b[39;00m\n\u001b[0;32m--> 270\u001b[0m     boundary_points \u001b[38;5;241m=\u001b[39m \u001b[43mcompute_decision_boundary_points_all_features\u001b[49m\u001b[43m(\u001b[49m\u001b[43mmodel\u001b[49m\u001b[43m,\u001b[49m\u001b[43m \u001b[49m\u001b[43mX_train\u001b[49m\u001b[43m,\u001b[49m\u001b[43m \u001b[49m\u001b[43mresolution\u001b[49m\u001b[38;5;241;43m=\u001b[39;49m\u001b[43mresolution\u001b[49m\u001b[43m,\u001b[49m\u001b[43m \u001b[49m\u001b[43mepsilon\u001b[49m\u001b[38;5;241;43m=\u001b[39;49m\u001b[43mpoint_epsilon\u001b[49m\u001b[43m)\u001b[49m\n\u001b[1;32m    271\u001b[0m     \u001b[38;5;28mprint\u001b[39m(\u001b[38;5;124m\"\u001b[39m\u001b[38;5;124mboundary points finished.\u001b[39m\u001b[38;5;124m\"\u001b[39m)\n\u001b[1;32m    272\u001b[0m \u001b[38;5;28;01mexcept\u001b[39;00m \u001b[38;5;167;01mMemoryError\u001b[39;00m: \n",
      "File \u001b[0;32m/mnt/c/Users/Compuworld/drexel_research_2024_2025/Docs/files/grid_optimal_point.py:155\u001b[0m, in \u001b[0;36mcompute_decision_boundary_points_all_features\u001b[0;34m(model, X, resolution, epsilon)\u001b[0m\n\u001b[1;32m    152\u001b[0m boundary_points \u001b[38;5;241m=\u001b[39m prediction(Z, grid, epsilon)\n\u001b[1;32m    154\u001b[0m \u001b[38;5;28;01mif\u001b[39;00m \u001b[38;5;28mlen\u001b[39m(boundary_points) \u001b[38;5;241m==\u001b[39m \u001b[38;5;241m0\u001b[39m: \n\u001b[0;32m--> 155\u001b[0m      \u001b[38;5;28;01mraise\u001b[39;00m \u001b[38;5;167;01mException\u001b[39;00m(\u001b[38;5;124m\"\u001b[39m\u001b[38;5;124mNo Boundary Points Found. The DataFrame is empty. Please try to change the parameters.\u001b[39m\u001b[38;5;124m\"\u001b[39m)\n\u001b[1;32m    157\u001b[0m \u001b[38;5;28;01mreturn\u001b[39;00m pd\u001b[38;5;241m.\u001b[39mDataFrame(np\u001b[38;5;241m.\u001b[39munique(boundary_points,axis\u001b[38;5;241m=\u001b[39m\u001b[38;5;241m0\u001b[39m), columns\u001b[38;5;241m=\u001b[39mX\u001b[38;5;241m.\u001b[39mcolumns)\n",
      "\u001b[0;31mException\u001b[0m: No Boundary Points Found. The DataFrame is empty. Please try to change the parameters."
     ]
    }
   ],
   "source": [
    "optimal_point(df1, model=model, desired_class=0, original_class=1, resolution=10, chosen_row=1, point_epsilon=0.1, epsilon=0.01, plot=False)"
   ]
  },
  {
   "cell_type": "code",
   "execution_count": 6,
   "id": "6debb325",
   "metadata": {},
   "outputs": [
    {
     "name": "stderr",
     "output_type": "stream",
     "text": [
      "/mnt/c/Users/Compuworld/drexel_research_2024_2025/Docs/files/common_functions.py:425: FutureWarning: The behavior of DataFrame concatenation with empty or all-NA entries is deprecated. In a future version, this will no longer exclude empty or all-NA columns when determining the result dtypes. To retain the old behavior, exclude the relevant entries before the concat operation.\n",
      "  balanced_dataset = pd.concat([balanced_dataset, upsampled_class], ignore_index=True)\n"
     ]
    },
    {
     "name": "stdout",
     "output_type": "stream",
     "text": [
      "Class counts:\n",
      " 2\n",
      "1    1000\n",
      "0    1000\n",
      "Name: count, dtype: int64\n",
      "Fitting model...\n",
      "Model training complete.\n",
      "boundary points started generation...\n"
     ]
    },
    {
     "ename": "Exception",
     "evalue": "No Boundary Points Found. The DataFrame is empty. Please try to change the parameters.",
     "output_type": "error",
     "traceback": [
      "\u001b[0;31m---------------------------------------------------------------------------\u001b[0m",
      "\u001b[0;31mException\u001b[0m                                 Traceback (most recent call last)",
      "Cell \u001b[0;32mIn[6], line 1\u001b[0m\n\u001b[0;32m----> 1\u001b[0m \u001b[43moptimal_point\u001b[49m\u001b[43m(\u001b[49m\u001b[43mdf1\u001b[49m\u001b[43m,\u001b[49m\u001b[43m \u001b[49m\u001b[43mmodel\u001b[49m\u001b[38;5;241;43m=\u001b[39;49m\u001b[43mmodel\u001b[49m\u001b[43m,\u001b[49m\u001b[43m \u001b[49m\u001b[43mdesired_class\u001b[49m\u001b[38;5;241;43m=\u001b[39;49m\u001b[38;5;241;43m0\u001b[39;49m\u001b[43m,\u001b[49m\u001b[43m \u001b[49m\u001b[43moriginal_class\u001b[49m\u001b[38;5;241;43m=\u001b[39;49m\u001b[38;5;241;43m1\u001b[39;49m\u001b[43m,\u001b[49m\u001b[43m \u001b[49m\u001b[43mresolution\u001b[49m\u001b[38;5;241;43m=\u001b[39;49m\u001b[38;5;241;43m50\u001b[39;49m\u001b[43m,\u001b[49m\u001b[43m \u001b[49m\u001b[43mchosen_row\u001b[49m\u001b[38;5;241;43m=\u001b[39;49m\u001b[38;5;241;43m1\u001b[39;49m\u001b[43m,\u001b[49m\u001b[43m \u001b[49m\u001b[43mpoint_epsilon\u001b[49m\u001b[38;5;241;43m=\u001b[39;49m\u001b[38;5;241;43m0.1\u001b[39;49m\u001b[43m,\u001b[49m\u001b[43m \u001b[49m\u001b[43mepsilon\u001b[49m\u001b[38;5;241;43m=\u001b[39;49m\u001b[38;5;241;43m0.01\u001b[39;49m\u001b[43m,\u001b[49m\u001b[43m \u001b[49m\u001b[43mplot\u001b[49m\u001b[38;5;241;43m=\u001b[39;49m\u001b[38;5;28;43;01mFalse\u001b[39;49;00m\u001b[43m)\u001b[49m\n",
      "File \u001b[0;32m/mnt/c/Users/Compuworld/drexel_research_2024_2025/Docs/files/grid_optimal_point.py:270\u001b[0m, in \u001b[0;36moptimal_point\u001b[0;34m(dataset, model, desired_class, original_class, chosen_row, resolution, point_epsilon, epsilon, constraints, deltas, plot)\u001b[0m\n\u001b[1;32m    267\u001b[0m \u001b[38;5;28mprint\u001b[39m(\u001b[38;5;124m\"\u001b[39m\u001b[38;5;124mboundary points started generation...\u001b[39m\u001b[38;5;124m\"\u001b[39m)\n\u001b[1;32m    268\u001b[0m \u001b[38;5;28;01mtry\u001b[39;00m: \n\u001b[1;32m    269\u001b[0m     \u001b[38;5;66;03m# Use grid-based method to approximate boundary points\u001b[39;00m\n\u001b[0;32m--> 270\u001b[0m     boundary_points \u001b[38;5;241m=\u001b[39m \u001b[43mcompute_decision_boundary_points_all_features\u001b[49m\u001b[43m(\u001b[49m\u001b[43mmodel\u001b[49m\u001b[43m,\u001b[49m\u001b[43m \u001b[49m\u001b[43mX_train\u001b[49m\u001b[43m,\u001b[49m\u001b[43m \u001b[49m\u001b[43mresolution\u001b[49m\u001b[38;5;241;43m=\u001b[39;49m\u001b[43mresolution\u001b[49m\u001b[43m,\u001b[49m\u001b[43m \u001b[49m\u001b[43mepsilon\u001b[49m\u001b[38;5;241;43m=\u001b[39;49m\u001b[43mpoint_epsilon\u001b[49m\u001b[43m)\u001b[49m\n\u001b[1;32m    271\u001b[0m     \u001b[38;5;28mprint\u001b[39m(\u001b[38;5;124m\"\u001b[39m\u001b[38;5;124mboundary points finished.\u001b[39m\u001b[38;5;124m\"\u001b[39m)\n\u001b[1;32m    272\u001b[0m \u001b[38;5;28;01mexcept\u001b[39;00m \u001b[38;5;167;01mMemoryError\u001b[39;00m: \n",
      "File \u001b[0;32m/mnt/c/Users/Compuworld/drexel_research_2024_2025/Docs/files/grid_optimal_point.py:155\u001b[0m, in \u001b[0;36mcompute_decision_boundary_points_all_features\u001b[0;34m(model, X, resolution, epsilon)\u001b[0m\n\u001b[1;32m    152\u001b[0m boundary_points \u001b[38;5;241m=\u001b[39m prediction(Z, grid, epsilon)\n\u001b[1;32m    154\u001b[0m \u001b[38;5;28;01mif\u001b[39;00m \u001b[38;5;28mlen\u001b[39m(boundary_points) \u001b[38;5;241m==\u001b[39m \u001b[38;5;241m0\u001b[39m: \n\u001b[0;32m--> 155\u001b[0m      \u001b[38;5;28;01mraise\u001b[39;00m \u001b[38;5;167;01mException\u001b[39;00m(\u001b[38;5;124m\"\u001b[39m\u001b[38;5;124mNo Boundary Points Found. The DataFrame is empty. Please try to change the parameters.\u001b[39m\u001b[38;5;124m\"\u001b[39m)\n\u001b[1;32m    157\u001b[0m \u001b[38;5;28;01mreturn\u001b[39;00m pd\u001b[38;5;241m.\u001b[39mDataFrame(np\u001b[38;5;241m.\u001b[39munique(boundary_points,axis\u001b[38;5;241m=\u001b[39m\u001b[38;5;241m0\u001b[39m), columns\u001b[38;5;241m=\u001b[39mX\u001b[38;5;241m.\u001b[39mcolumns)\n",
      "\u001b[0;31mException\u001b[0m: No Boundary Points Found. The DataFrame is empty. Please try to change the parameters."
     ]
    }
   ],
   "source": [
    "optimal_point(df1, model=model, desired_class=0, original_class=1, resolution=50, chosen_row=1, point_epsilon=0.1, epsilon=0.01, plot=False)"
   ]
  },
  {
   "cell_type": "code",
   "execution_count": 7,
   "id": "b82a3880",
   "metadata": {},
   "outputs": [
    {
     "name": "stderr",
     "output_type": "stream",
     "text": [
      "/mnt/c/Users/Compuworld/drexel_research_2024_2025/Docs/files/common_functions.py:425: FutureWarning: The behavior of DataFrame concatenation with empty or all-NA entries is deprecated. In a future version, this will no longer exclude empty or all-NA columns when determining the result dtypes. To retain the old behavior, exclude the relevant entries before the concat operation.\n",
      "  balanced_dataset = pd.concat([balanced_dataset, upsampled_class], ignore_index=True)\n"
     ]
    },
    {
     "name": "stdout",
     "output_type": "stream",
     "text": [
      "Class counts:\n",
      " 2\n",
      "1    1000\n",
      "0    1000\n",
      "Name: count, dtype: int64\n",
      "Fitting model...\n",
      "Model training complete.\n",
      "boundary points started generation...\n",
      "boundary points finished.\n",
      "Number of boundary points\n",
      "(104, 2)\n",
      "Finding the closest point from the contour line to the point...\n",
      "Finding the closest point from the contour line to the point.\n",
      "[[1.01087229 1.03644213]]\n",
      "[[-1.15887253 -0.03919662]]\n"
     ]
    },
    {
     "data": {
      "text/plain": [
       "[0.01562654829664578, 1.1191621371582787]"
      ]
     },
     "execution_count": 7,
     "metadata": {},
     "output_type": "execute_result"
    }
   ],
   "source": [
    "optimal_point(df1, model=model, desired_class=0, original_class=1, resolution=100, chosen_row=1, point_epsilon=0.1, epsilon=0.01, plot=False)"
   ]
  },
  {
   "cell_type": "code",
   "execution_count": 8,
   "id": "eb1858e0",
   "metadata": {},
   "outputs": [
    {
     "name": "stderr",
     "output_type": "stream",
     "text": [
      "/mnt/c/Users/Compuworld/drexel_research_2024_2025/Docs/files/common_functions.py:425: FutureWarning: The behavior of DataFrame concatenation with empty or all-NA entries is deprecated. In a future version, this will no longer exclude empty or all-NA columns when determining the result dtypes. To retain the old behavior, exclude the relevant entries before the concat operation.\n",
      "  balanced_dataset = pd.concat([balanced_dataset, upsampled_class], ignore_index=True)\n"
     ]
    },
    {
     "name": "stdout",
     "output_type": "stream",
     "text": [
      "Class counts:\n",
      " 2\n",
      "1    1000\n",
      "0    1000\n",
      "Name: count, dtype: int64\n",
      "Fitting model...\n",
      "Model training complete.\n",
      "boundary points started generation...\n",
      "boundary points finished.\n",
      "Number of boundary points\n",
      "(311, 2)\n",
      "Finding the closest point from the contour line to the point...\n",
      "Finding the closest point from the contour line to the point.\n",
      "[[1.0108713  0.82710625]]\n",
      "[[-1.16018181  0.00452233]]\n"
     ]
    },
    {
     "data": {
      "text/plain": [
       "[0.01430417981153509, 1.1635276106048833]"
      ]
     },
     "execution_count": 8,
     "metadata": {},
     "output_type": "execute_result"
    }
   ],
   "source": [
    "optimal_point(df1, model=model, desired_class=0, original_class=1, resolution=150, chosen_row=1, point_epsilon=0.1, epsilon=0.01, plot=False)"
   ]
  },
  {
   "cell_type": "code",
   "execution_count": 9,
   "id": "5b52b4e1",
   "metadata": {},
   "outputs": [
    {
     "name": "stderr",
     "output_type": "stream",
     "text": [
      "/mnt/c/Users/Compuworld/drexel_research_2024_2025/Docs/files/common_functions.py:425: FutureWarning: The behavior of DataFrame concatenation with empty or all-NA entries is deprecated. In a future version, this will no longer exclude empty or all-NA columns when determining the result dtypes. To retain the old behavior, exclude the relevant entries before the concat operation.\n",
      "  balanced_dataset = pd.concat([balanced_dataset, upsampled_class], ignore_index=True)\n"
     ]
    },
    {
     "name": "stdout",
     "output_type": "stream",
     "text": [
      "Class counts:\n",
      " 2\n",
      "1    1000\n",
      "0    1000\n",
      "Name: count, dtype: int64\n",
      "Fitting model...\n",
      "Model training complete.\n",
      "boundary points started generation...\n",
      "boundary points finished.\n",
      "Number of boundary points\n",
      "(824, 2)\n",
      "Finding the closest point from the contour line to the point...\n",
      "Finding the closest point from the contour line to the point.\n",
      "[[1.01088942 1.06309174]]\n",
      "[[-1.13657042 -0.02002368]]\n"
     ]
    },
    {
     "data": {
      "text/plain": [
       "[0.03815166640198053, 1.1385001569298325]"
      ]
     },
     "execution_count": 9,
     "metadata": {},
     "output_type": "execute_result"
    }
   ],
   "source": [
    "optimal_point(df1, model=model, desired_class=0, original_class=1, resolution=200, chosen_row=1, point_epsilon=0.1, epsilon=0.01, plot=False)"
   ]
  },
  {
   "cell_type": "code",
   "execution_count": 10,
   "id": "5d3d230f",
   "metadata": {},
   "outputs": [
    {
     "name": "stderr",
     "output_type": "stream",
     "text": [
      "/mnt/c/Users/Compuworld/drexel_research_2024_2025/Docs/files/common_functions.py:425: FutureWarning: The behavior of DataFrame concatenation with empty or all-NA entries is deprecated. In a future version, this will no longer exclude empty or all-NA columns when determining the result dtypes. To retain the old behavior, exclude the relevant entries before the concat operation.\n",
      "  balanced_dataset = pd.concat([balanced_dataset, upsampled_class], ignore_index=True)\n"
     ]
    },
    {
     "name": "stdout",
     "output_type": "stream",
     "text": [
      "Class counts:\n",
      " 2\n",
      "1    1000\n",
      "0    1000\n",
      "Name: count, dtype: int64\n",
      "Fitting model...\n",
      "Model training complete.\n",
      "boundary points started generation...\n",
      "boundary points finished.\n",
      "Number of boundary points\n",
      "(1612, 2)\n",
      "Finding the closest point from the contour line to the point...\n",
      "Finding the closest point from the contour line to the point.\n",
      "[[1.01088532 0.7027732 ]]\n",
      "[[-1.14183222  0.00228747]]\n"
     ]
    },
    {
     "data": {
      "text/plain": [
       "[0.03283725358485956, 1.1613947366266304]"
      ]
     },
     "execution_count": 10,
     "metadata": {},
     "output_type": "execute_result"
    }
   ],
   "source": [
    "optimal_point(df1, model=model, desired_class=0, original_class=1, resolution=250, chosen_row=1, point_epsilon=0.1, epsilon=0.01, plot=False)"
   ]
  }
 ],
 "metadata": {
  "kernelspec": {
   "display_name": "alibi_env",
   "language": "python",
   "name": "python3"
  },
  "language_info": {
   "codemirror_mode": {
    "name": "ipython",
    "version": 3
   },
   "file_extension": ".py",
   "mimetype": "text/x-python",
   "name": "python",
   "nbconvert_exporter": "python",
   "pygments_lexer": "ipython3",
   "version": "3.10.18"
  }
 },
 "nbformat": 4,
 "nbformat_minor": 5
}
