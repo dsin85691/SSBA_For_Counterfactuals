{
 "cells": [
  {
   "cell_type": "markdown",
   "id": "f0b26986",
   "metadata": {},
   "source": [
    "# DiCE ML Comparison with Optimal Point Method \n",
    "\n",
    "We compare the DiCE Model-agnostic methods with the optimal point method in this notebook. \n",
    "\n",
    "1. First, we import DiCE ML model-agnostic methods \n",
    "2. Second, we import the packaged files needed to run the \"Optimal Point\" Methodology \n",
    "3. Third, we run the experiments and compare the results at the end using different models such as SVM and random forest classifier.\n",
    "4. Finally, we compare the runtimes of DiCE and the Optimal Point methodology"
   ]
  },
  {
   "cell_type": "markdown",
   "id": "9beef340",
   "metadata": {},
   "source": [
    "# Step 1: Importing DiCE ML and helper functions \n",
    "\n",
    "Below we import DiCE ML and their relevant helper functions. We import the sci-kit learn library and some of their necessary methods to make sure that we can run the experiments. "
   ]
  },
  {
   "cell_type": "code",
   "execution_count": 13,
   "id": "31c0d4d7",
   "metadata": {},
   "outputs": [],
   "source": [
    "# import DiCE\n",
    "import dice_ml\n",
    "from dice_ml.utils import helpers  # helper functions\n",
    "\n",
    "from sklearn.compose import ColumnTransformer\n",
    "from sklearn.model_selection import train_test_split\n",
    "from sklearn.pipeline import Pipeline\n",
    "from sklearn.preprocessing import StandardScaler, OneHotEncoder\n",
    "from sklearn.ensemble import RandomForestClassifier\n",
    "from sklearn.datasets import make_classification\n",
    "from sklearn.linear_model import LogisticRegression\n",
    "\n",
    "import pandas as pd\n",
    "from sklearn import svm\n",
    "import matplotlib.pyplot as plt\n",
    "import numpy as np\n",
    "from scipy.spatial import KDTree\n",
    "import json \n",
    "import datetime  \n",
    "\n",
    "import warnings\n",
    "import random\n",
    "warnings.filterwarnings(\"ignore\", category=UserWarning, module=\"sklearn\")\n",
    "\n",
    "import os\n",
    "import sys\n",
    "nb_dir = os.path.split(os.getcwd())[0]\n",
    "if nb_dir not in sys.path:\n",
    "    sys.path.append(nb_dir)"
   ]
  },
  {
   "cell_type": "markdown",
   "id": "7874df33",
   "metadata": {},
   "source": [
    "# Step 2: Import the necessary functionality to make Optimal Point methodology work \n",
    "\n",
    "We import many of the methods needed for the ```optimal_point()``` function to work as intended below. We import additional methods from ```binary_search_optimal_point().```"
   ]
  },
  {
   "cell_type": "code",
   "execution_count": 3,
   "id": "28a8f5f4",
   "metadata": {},
   "outputs": [],
   "source": [
    "from files.common_functions import euclidean_distance, closest_border_point, closest_point, move_from_A_to_B_with_x1_displacement\n",
    "from files.common_functions import get_multi_dim_border_points, det_constraints, real_world_constraints, constraint_bounds\n",
    "from files.common_functions import balance_dataset, check_class_balance, convert_columns\n",
    "from files.binary_search_optimal_point import find_decision_boundary, alpha_binary_search"
   ]
  },
  {
   "cell_type": "code",
   "execution_count": 4,
   "id": "54229082",
   "metadata": {},
   "outputs": [],
   "source": [
    "df=pd.read_csv('../toy_dataset.csv')\n",
    "# SVM classifier with polynomial decision boundary\n",
    "svm_classifier = svm.SVC(kernel='poly',C=10, degree=2, probability=True, random_state=1)"
   ]
  },
  {
   "cell_type": "code",
   "execution_count": 15,
   "id": "77647d76",
   "metadata": {},
   "outputs": [
    {
     "data": {
      "image/png": "[encoded data removed]",
      "text/plain": [
       "<Figure size 640x480 with 1 Axes>"
      ]
     },
     "metadata": {},
     "output_type": "display_data"
    }
   ],
   "source": [
    "def visualize_dataset():\n",
    "    X1=df['x1']\n",
    "    X2=df['x2']\n",
    "    X_train=np.array(list(zip(X1,X2)))\n",
    "    y_train=df['y'].values\n",
    "    # svm_classifier = svm.SVC(kernel='linear', C=10)\n",
    "    #svm_classifier = svm.SVC(kernel='poly', C=10)\n",
    "    svm_classifier = svm.SVC(kernel='poly',C=10, degree=2)\n",
    "    # svm_classifier = svm.SVC(kernel='rbf', gamma=0.1, C=100)\n",
    "    svm_classifier.fit(X_train, y_train)\n",
    "    color_ls = []\n",
    "    for k in y_train:\n",
    "        if k == 1:\n",
    "            color_ls.append('b')\n",
    "        else:\n",
    "            color_ls.append('r')\n",
    "    color_ls\n",
    "    label = []\n",
    "    for k in y_train:\n",
    "        if k == 1:\n",
    "            label.append('H')\n",
    "        else:\n",
    "            label.append('NH')\n",
    "    label\n",
    "    def plot_decision_boundary(clf, X, y):\n",
    "        x1_min, x1_max = X[:, 0].min() - 1, X[:, 0].max() + 1\n",
    "        x2_min, x2_max = X[:, 1].min() - 1, X[:, 1].max() + 1\n",
    "        xx1, xx2 = np.meshgrid(np.arange(x1_min, x1_max),np.arange(x2_min, x2_max))\n",
    "        Z = clf.decision_function(np.array([xx1.ravel(), xx2.ravel()]).T).reshape(xx1.shape)\n",
    "        m = np.nonzero(Z < -19)\n",
    "        Q = clf.predict(np.array([xx1.ravel(), xx2.ravel()]).T).reshape(xx1.shape)\n",
    "        plt.contourf(xx1, xx2, Z, colors='k', levels=[-1, 0, 1], alpha=0.4,linestyles=['--', '-', '--'])\n",
    "        plt.xlim(xx1.min(), xx1.max())\n",
    "        plt.ylim(xx2.min(), xx2.max())\n",
    "        \n",
    "    plot_decision_boundary(svm_classifier, X_train, y_train)\n",
    "\n",
    "    for k, (i,j) in enumerate(X_train):\n",
    "        plt.scatter(i, j, c = color_ls[k])\n",
    "        plt.text(i+0.02, j+0.02, label[k])\n",
    "\n",
    "visualize_dataset()"
   ]
  },
  {
   "cell_type": "code",
   "execution_count": 10,
   "id": "2cf44886",
   "metadata": {},
   "outputs": [],
   "source": [
    "def optimal_point(dataset, model, desired_class, original_class, chosen_row=-1, threshold=10000, point_epsilon=0.1, epsilon=0.01, constraints=[], deltas=[], plot=False): \n",
    "    \"\"\"\n",
    "    Finds the closest point to the decision boundary from an undesired point,\n",
    "    optionally constrained by real-world conditions.\n",
    "    This essentially finds the counterfactual explanation for a given point by minimizing the distance to the given boundary.\n",
    "    This method is important because it addresses a key problem with the original optimal_point() function where we generated an R^n dimensional grid that we would then have to iterate over. \n",
    "    The problem with iterating over such a grid is eventually that we will hit a memory error for high-dimensional features such as 20, 30 or 40 features. This will cause the function to crash. \n",
    "    Additionally, due to the exponential increase of the number of features to search, the grid will become infeasible to search (curse of dimensionality). \n",
    "\n",
    "    Parameters\n",
    "    ----------\n",
    "    dataset : pd.DataFrame\n",
    "        Full dataset containing features and a final column with class labels.\n",
    "    \n",
    "    model : sklearn-like classifier\n",
    "        A binary classification model with a `.fit()` and `.predict()` method.\n",
    "    \n",
    "    desired_class : int or label\n",
    "        The target class we want the corrected point to belong to.\n",
    "    \n",
    "    original_class : int or label\n",
    "        The actual class label of the undesired point.\n",
    "    \n",
    "    chosen_row :  int \n",
    "        The selected row of the dataset to find the counterfactual explanation for\n",
    "    \n",
    "    threshold : int, optional\n",
    "        Max number of decision boundary points to sample. Default is 10000.\n",
    "    \n",
    "    point_epsilon : float, optional\n",
    "        Precision used to estimate decision boundary points. Default is 0.1.\n",
    "    \n",
    "    epsilon : float, optional\n",
    "        Step size used when displacing a point toward the decision boundary. Default is 0.01.\n",
    "    \n",
    "    constraints : list, optional\n",
    "        A list of real-world constraints on the features (e.g., ranges, logic constraints). Default is [].\n",
    "    \n",
    "    deltas : list, optional\n",
    "        Tolerances or maximum displacements for each feature. Default is [].\n",
    "\n",
    "    Returns\n",
    "    -------\n",
    "    np.ndarray\n",
    "        A corrected point that satisfies the class change and real-world constraints.\n",
    "\n",
    "    Raises\n",
    "    ------\n",
    "    Exception\n",
    "        If the number of constraints exceeds the number of features.\n",
    "\n",
    "    Notes\n",
    "    -----\n",
    "    - This function trains the model on the provided dataset, generates boundary points using\n",
    "      `find_decision_boundary`, applies constraints, and finds the closest optimal point.\n",
    "    - Assumes binary classification and relies on external functions like `real_world_constraints`,\n",
    "      `closest_point`, `move_from_A_to_B_with_x1_displacement`, etc., which must be defined elsewhere.\n",
    "    - Includes plotting for visualization (e.g., boundary contours, points), which requires matplotlib.\n",
    "    - The function blends boundary approximation with counterfactual generation, useful for explainable AI.\n",
    "    - Print statements are for progress tracking; plotting is partially commented out but can be enabled.\n",
    "    - Usage: Call with a dataset and model to generate counterfactuals, e.g., for model interpretation or optimization.\n",
    "\n",
    "    Examples\n",
    "    --------\n",
    "    >>> import pandas as pd\n",
    "    >>> from sklearn.linear_model import LogisticRegression\n",
    "    >>> dataset = pd.DataFrame({'feat1': [0, 1, 2], 'feat2': [0, 1, 0], 'label': [0, 1, 0]})\n",
    "    >>> model = LogisticRegression()\n",
    "    >>> undesired_coords = [2, 0]  # Example point from class 0\n",
    "    >>> optimal = optimal_point(dataset, model, desired_class=1, original_class=0, undesired_coords=undesired_coords)\n",
    "    >>> print(optimal)  # e.g., array([[1.5, 0.5]])\n",
    "    \"\"\"\n",
    "\n",
    "    # Convert categorical columns if needed (before balancing)\n",
    "    inv_col_map = convert_columns(dataset)\n",
    "\n",
    "    # Extract features and labels before balancing\n",
    "    X_orig = dataset.iloc[:, :-1]\n",
    "    \n",
    "    # Save the original row's feature values\n",
    "    undesired_coords = X_orig.iloc[chosen_row, :].copy()\n",
    "\n",
    "    # Balance the dataset\n",
    "    dataset = balance_dataset(df=dataset, target=dataset.columns[-1])\n",
    "    \n",
    "    if not check_class_balance(dataset, target=dataset.columns[-1]):\n",
    "        raise RuntimeError(\"Failed to balance classes for binary classification\")\n",
    "    \n",
    "    sampled_dataset = dataset.sample(n=min(dataset.shape[0], 10000))\n",
    "\n",
    "    # Extract new training features/labels after balancing\n",
    "    X_train = sampled_dataset.iloc[:, :-1]\n",
    "    y_train = sampled_dataset.iloc[:, -1]\n",
    "    # Train the model\n",
    "    print(\"Fitting model...\")\n",
    "    model.fit(X_train, y_train)\n",
    "    print(\"Model training complete.\")\n",
    "\n",
    "    # -------------------------------\n",
    "    # STEP 2: Find decision boundary\n",
    "    # -------------------------------\n",
    "    print(\"boundary points started generation...\")\n",
    "\n",
    "    # This step uses binary interpolation to get points close to the decision boundary\n",
    "    boundary_points = find_decision_boundary(model, X_train, y_train,\n",
    "                                             threshold=threshold, epsilon=point_epsilon)\n",
    "    print(\"boundary points finished.\")\n",
    "    print(boundary_points.shape)\n",
    "\n",
    "    # -------------------------------\n",
    "    # STEP 3: Apply real-world constraints (optional)\n",
    "    # -------------------------------\n",
    "    # Reduce boundary points based on external rules (e.g., cost limits, physics constraints)\n",
    "    contours = real_world_constraints(points=boundary_points,\n",
    "                                      undesired_coords=undesired_coords,\n",
    "                                      constraints=constraints)\n",
    "    contours = np.unique(contours.to_numpy(), axis=0)  # Remove duplicates from constrained points\n",
    "    undesired_datapt = np.reshape(undesired_coords, (1, -1))  # Reshape undesired point to 2D array\n",
    "\n",
    "    # -------------------------------\n",
    "    # STEP 4: Find closest point on constrained boundary\n",
    "    # -------------------------------\n",
    "    print(\"Finding the closest point from the contour line to the point...\")\n",
    "    optimal_datapt = closest_point(undesired_datapt, contour=contours)\n",
    "    print(\"Finding the closest point from the contour line to the point.\")  # Note: Duplicate print, possibly a typo\n",
    "    if plot:\n",
    "        plt.plot(contours[:,0], contours[:,1], lw=0.5, color='red')  # Commented: Plot contours for visualization\n",
    "\n",
    "    # -------------------------------\n",
    "    # STEP 5: Post-process based on class flip requirement\n",
    "    # -------------------------------\n",
    "\n",
    "    # If we want to *flip* the class of the point...\n",
    "    if desired_class != original_class: \n",
    "         # Move in the direction of the boundary, slightly overshooting\n",
    "        D = optimal_datapt - undesired_datapt  # Compute direction vector\n",
    "        deltas = D * (1+epsilon)  # Scale by (1 + epsilon) to overshoot\n",
    "        optimal_datapt = move_from_A_to_B_with_x1_displacement(undesired_datapt, optimal_datapt, deltas=deltas)\n",
    "    else:\n",
    "        # If we want to *stay within* the same class (more constrained)\n",
    "        closest_boundedpt = None\n",
    "        deltas, len_constr = det_constraints(datapt=undesired_datapt[0], deltas=deltas)  # Determine constraints\n",
    "\n",
    "        if len_constr > X_train.shape[1]:\n",
    "            raise Exception(\"There cannot be more constraints than features\")\n",
    "\n",
    "        elif len_constr == X_train.shape[1]:\n",
    "            # All n dimensions are constrained, so generate an exact grid of boundary candidates\n",
    "            bounded_contour_pts = get_multi_dim_border_points(center=undesired_datapt[0],\n",
    "                                                              extents=deltas,\n",
    "                                                              step=0.05)\n",
    "            np_bounded_contour = np.array(bounded_contour_pts)  # Convert to NumPy array\n",
    "            x_values, y_values = np_bounded_contour[:, 0], np_bounded_contour[:, 1]  # Extract x/y for plotting\n",
    "            #plt.scatter(x_values, y_values, marker='o')  # Plot bounded points\n",
    "            closest_boundedpt = closest_border_point(bounded_contour_pts, contour=contours)  # Find closest on border\n",
    "\n",
    "        else:\n",
    "            # Partially constrained - less than n dimensions are constrained\n",
    "            bounded_contour_pts = constraint_bounds(contours, undesired_datapt, deltas)  # Apply partial bounds\n",
    "            closest_boundedpt = closest_point(point=undesired_datapt, contour=bounded_contour_pts)  # Find closest\n",
    "        \n",
    "        D = closest_boundedpt - undesired_datapt  # Compute direction\n",
    "        optimal_datapt = move_from_A_to_B_with_x1_displacement(undesired_datapt, closest_boundedpt, deltas=D)  # Move point\n",
    "    \n",
    "    # Plot original and optimal points with connecting line\n",
    "    if plot:\n",
    "        plt.scatter(undesired_datapt[0][0], undesired_datapt[0][1], c = 'r')  # Plot undesired point\n",
    "        plt.text(undesired_datapt[0][0]+0.002, undesired_datapt[0][1]+0.002, 'NH')  # Label 'NH' (e.g., Non-Healthy)\n",
    "        plt.scatter(optimal_datapt[0][0], optimal_datapt[0][1], c = 'g')  # Plot optimal point (changed to green for distinction)\n",
    "        plt.text(optimal_datapt[0][0]+0.002, optimal_datapt[0][1]+0.002, 'NH')  # Label 'H' (e.g., Healthy; adjusted from duplicate 'NH')\n",
    "        plt.plot([undesired_datapt[0][0], optimal_datapt[0][0]], [undesired_datapt[0][1],optimal_datapt[0][1]], linestyle='--')  # Dashed line between points\n",
    "    \n",
    "    categorical_features = [col for col in inv_col_map.keys()]\n",
    "    final_optimal_datapt = [] \n",
    "\n",
    "    for col in X_train.columns:\n",
    "        if col in categorical_features: \n",
    "            idx = optimal_datapt[0,X_train.columns.get_loc(col)].astype(int)\n",
    "            final_optimal_datapt.append(inv_col_map[col][idx])\n",
    "        else: \n",
    "            final_optimal_datapt.append(optimal_datapt[0,X_train.columns.get_loc(col)])\n",
    "\n",
    "    query_instance = undesired_coords\n",
    "    return dataset, model, query_instance, final_optimal_datapt, euclidean_distance(undesired_datapt, optimal_datapt)"
   ]
  },
  {
   "cell_type": "code",
   "execution_count": 11,
   "id": "021abd3e",
   "metadata": {},
   "outputs": [],
   "source": [
    "def run_dice_cfs(df, model, query_instance, method, continuous_features, target, chosen_row, plot=False, total_CFs=1):\n",
    "    start = datetime.datetime.now()\n",
    "    x_train = df.iloc[:, :-1]\n",
    "    backend = 'sklearn'\n",
    "\n",
    "    d = dice_ml.Data(dataframe=df, continuous_features=continuous_features, outcome_name=target)\n",
    "    m = dice_ml.Model(model=model, backend=backend)\n",
    "    exp_dice = dice_ml.Dice(d, m, method=method)\n",
    "    \n",
    "    sampled_dataset = df.sample(n=min(df.shape[0], 10000))\n",
    "\n",
    "    # Extract new training features/labels after balancing\n",
    "    X_train = sampled_dataset.iloc[:, :-1]\n",
    "    y_train = sampled_dataset.iloc[:, -1]\n",
    "    # Train the model\n",
    "    print(\"Fitting model...\")\n",
    "    model.fit(X_train, y_train)\n",
    "    print(\"Model training complete.\")\n",
    "\n",
    "    print(\"QUERY INSTANCE\")\n",
    "    query_instance = x_train.iloc[[chosen_row]] \n",
    "\n",
    "    dice_cfs = exp_dice.generate_counterfactuals(pd.DataFrame(data=query_instance, columns=x_train.columns), total_CFs=total_CFs, desired_class=\"opposite\")\n",
    "    cfs_list = json.loads(dice_cfs.to_json())['cfs_list']\n",
    "\n",
    "    query_instance = np.array(query_instance)\n",
    "    dist_cfs = []\n",
    "    for point in cfs_list[0]: \n",
    "        point_vec = [float(point[i]) for i in range(len(point[:-1]))]\n",
    "        dist_cfs.append(euclidean_distance(np.array(point_vec), query_instance))\n",
    "\n",
    "    # average_distance_cfs /= len(cfs_list[0])\n",
    "    # print(\"AVERAGE EUCLIDEAN DISTANCE AMONG 100 CFS\", average_distance_cfs)\n",
    "\n",
    "    if plot:\n",
    "        for point in cfs_list[0][:5]: \n",
    "            print(point)\n",
    "            x,y = point[0], point[1] \n",
    "            print(\"EUCLIDEAN DISTANCE:\", euclidean_distance(np.array((x,y)), query_instance))\n",
    "            print(query_instance)\n",
    "            plt.scatter(x,y, c = 'yellow')  # Plot optimal point (changed to green for distinction)\n",
    "            plt.text(x+0.002, y+0.002, 'H')  # Label 'H' (e.g., Healthy; adjusted from duplicate 'NH')\n",
    "            plt.plot([x,query_instance[0][0]], [y, query_instance[0][1]], linestyle='--')  # Dashed line between points\n",
    "    end = datetime.datetime.now()\n",
    "    diff = end - start\n",
    "    print(f\"Elapsed time: {diff}\")\n",
    "\n",
    "    return dist_cfs, diff.total_seconds()"
   ]
  },
  {
   "cell_type": "markdown",
   "id": "20d4aab4",
   "metadata": {},
   "source": [
    "# Step 3: Toy Dataset Experiments\n",
    "\n",
    "We run a few experiments using the toy dataset, and we compare the results visually using both the optimal point method and the dice model-agnostic methods. "
   ]
  },
  {
   "cell_type": "code",
   "execution_count": null,
   "id": "3cd3433f",
   "metadata": {},
   "outputs": [
    {
     "name": "stderr",
     "output_type": "stream",
     "text": [
      "c:\\Users\\Compuworld\\drexel_research_2024_2025\\files\\common_functions.py:424: FutureWarning: The behavior of DataFrame concatenation with empty or all-NA entries is deprecated. In a future version, this will no longer exclude empty or all-NA columns when determining the result dtypes. To retain the old behavior, exclude the relevant entries before the concat operation.\n",
      "  balanced_dataset[target] = balanced_dataset[target].astype('int32')\n"
     ]
    },
    {
     "name": "stdout",
     "output_type": "stream",
     "text": [
      "Class counts:\n",
      " y\n",
      "-1    10\n",
      " 1    10\n",
      "Name: count, dtype: int64\n",
      "Fitting model...\n",
      "Model training complete.\n",
      "boundary points started generation...\n",
      "boundary points finished.\n",
      "(100, 2)\n",
      "Finding the closest point from the contour line to the point...\n",
      "Finding the closest point from the contour line to the point.\n",
      "[[1.07321905 1.07023609]]\n",
      "[[-0.33339643 -4.53316927]]\n",
      "Fitting model...\n",
      "Model training complete.\n",
      "QUERY INSTANCE\n"
     ]
    },
    {
     "name": "stderr",
     "output_type": "stream",
     "text": [
      "100%|██████████| 1/1 [00:00<00:00, 82.86it/s]"
     ]
    },
    {
     "name": "stdout",
     "output_type": "stream",
     "text": [
      "[4.0, 15.0, 1.0]\n",
      "EUCLIDEAN DISTANCE: 7.0\n",
      "[[11. 15.]]\n",
      "Elapsed time: 0:00:00.019150\n"
     ]
    },
    {
     "name": "stderr",
     "output_type": "stream",
     "text": [
      "\n"
     ]
    },
    {
     "data": {
      "text/plain": [
       "([7.0], 0.01915)"
      ]
     },
     "execution_count": 21,
     "metadata": {},
     "output_type": "execute_result"
    },
    {
     "data": {
      "image/png": "[encoded data removed]",
      "text/plain": [
       "<Figure size 640x480 with 1 Axes>"
      ]
     },
     "metadata": {},
     "output_type": "display_data"
    }
   ],
   "source": [
    "x_train = df.iloc[:,:-1]\n",
    "continuous_features=['x1', 'x2']\n",
    "target='y'\n",
    "query_instance=x_train.iloc[4:5,:]\n",
    "chosen_row=4\n",
    "visualize_dataset()\n",
    "df, model, query_instance, opt_point, _ = optimal_point(df, svm_classifier, desired_class=1, original_class=-1, threshold=100, chosen_row=chosen_row, point_epsilon=1e-6, epsilon=0.07, constraints=[], plot=True)\n",
    "run_dice_cfs(df=df, model=model,query_instance=query_instance,method='kdtree', continuous_features=continuous_features, target=target, chosen_row=chosen_row, plot=True)"
   ]
  },
  {
   "cell_type": "code",
   "execution_count": 22,
   "id": "75cc3146",
   "metadata": {},
   "outputs": [
    {
     "name": "stderr",
     "output_type": "stream",
     "text": [
      "c:\\Users\\Compuworld\\drexel_research_2024_2025\\files\\common_functions.py:424: FutureWarning: The behavior of DataFrame concatenation with empty or all-NA entries is deprecated. In a future version, this will no longer exclude empty or all-NA columns when determining the result dtypes. To retain the old behavior, exclude the relevant entries before the concat operation.\n",
      "  balanced_dataset[target] = balanced_dataset[target].astype('int32')\n"
     ]
    },
    {
     "name": "stdout",
     "output_type": "stream",
     "text": [
      "Class counts:\n",
      " y\n",
      "-1    10\n",
      " 1    10\n",
      "Name: count, dtype: int64\n",
      "Fitting model...\n",
      "Model training complete.\n",
      "boundary points started generation...\n",
      "boundary points finished.\n",
      "(100, 2)\n",
      "Finding the closest point from the contour line to the point...\n",
      "Finding the closest point from the contour line to the point.\n",
      "[[1.07438206 1.07023586]]\n",
      "[[-0.24517727 -4.53764772]]\n",
      "Fitting model...\n",
      "Model training complete.\n",
      "QUERY INSTANCE\n"
     ]
    },
    {
     "name": "stderr",
     "output_type": "stream",
     "text": [
      "100%|██████████| 1/1 [00:00<00:00, 26.38it/s]"
     ]
    },
    {
     "name": "stdout",
     "output_type": "stream",
     "text": [
      "[12.2, 11.6, -1.0]\n",
      "EUCLIDEAN DISTANCE: 3.605551275463989\n",
      "[[11. 15.]]\n",
      "Elapsed time: 0:00:00.047576\n"
     ]
    },
    {
     "name": "stderr",
     "output_type": "stream",
     "text": [
      "\n"
     ]
    },
    {
     "data": {
      "text/plain": [
       "([3.605551275463989], 0.047576)"
      ]
     },
     "execution_count": 22,
     "metadata": {},
     "output_type": "execute_result"
    },
    {
     "data": {
      "image/png": "[encoded data removed]",
      "text/plain": [
       "<Figure size 640x480 with 1 Axes>"
      ]
     },
     "metadata": {},
     "output_type": "display_data"
    }
   ],
   "source": [
    "x_train = df.iloc[:,:-1]\n",
    "continuous_features=['x1', 'x2']\n",
    "target='y'\n",
    "query_instance=x_train.iloc[4:5,:]\n",
    "chosen_row=4\n",
    "visualize_dataset()\n",
    "df, model, query_instance, opt_point,_ = optimal_point(df, svm_classifier, desired_class=1, original_class=-1, threshold=100, chosen_row=chosen_row, point_epsilon=1e-6, epsilon=0.07, constraints=[], plot=True)\n",
    "run_dice_cfs(df=df, model=model,query_instance=query_instance,method='random', continuous_features=continuous_features, target=target, chosen_row=chosen_row, plot=True)"
   ]
  },
  {
   "cell_type": "code",
   "execution_count": 23,
   "id": "f5476555",
   "metadata": {},
   "outputs": [
    {
     "name": "stderr",
     "output_type": "stream",
     "text": [
      "c:\\Users\\Compuworld\\drexel_research_2024_2025\\files\\common_functions.py:424: FutureWarning: The behavior of DataFrame concatenation with empty or all-NA entries is deprecated. In a future version, this will no longer exclude empty or all-NA columns when determining the result dtypes. To retain the old behavior, exclude the relevant entries before the concat operation.\n",
      "  balanced_dataset[target] = balanced_dataset[target].astype('int32')\n"
     ]
    },
    {
     "name": "stdout",
     "output_type": "stream",
     "text": [
      "Class counts:\n",
      " y\n",
      "-1    10\n",
      " 1    10\n",
      "Name: count, dtype: int64\n",
      "Fitting model...\n",
      "Model training complete.\n",
      "boundary points started generation...\n",
      "boundary points finished.\n",
      "(100, 2)\n",
      "Finding the closest point from the contour line to the point...\n",
      "Finding the closest point from the contour line to the point.\n",
      "[[0.         1.07023542]]\n",
      "[[ 0.         -4.54614162]]\n",
      "Fitting model...\n",
      "Model training complete.\n",
      "QUERY INSTANCE\n"
     ]
    },
    {
     "name": "stderr",
     "output_type": "stream",
     "text": [
      "100%|██████████| 1/1 [00:00<00:00, 62.50it/s]"
     ]
    },
    {
     "name": "stdout",
     "output_type": "stream",
     "text": [
      "[4.0, 15.0, 1.0]\n",
      "EUCLIDEAN DISTANCE: 7.0\n",
      "[[11. 15.]]\n",
      "Elapsed time: 0:00:00.031098\n"
     ]
    },
    {
     "name": "stderr",
     "output_type": "stream",
     "text": [
      "\n"
     ]
    },
    {
     "data": {
      "text/plain": [
       "([7.0], 0.031098)"
      ]
     },
     "execution_count": 23,
     "metadata": {},
     "output_type": "execute_result"
    },
    {
     "data": {
      "image/png": "[encoded data removed]",
      "text/plain": [
       "<Figure size 640x480 with 1 Axes>"
      ]
     },
     "metadata": {},
     "output_type": "display_data"
    }
   ],
   "source": [
    "x_train = df.iloc[:,:-1]\n",
    "continuous_features=['x1', 'x2']\n",
    "target='y'\n",
    "query_instance=x_train.iloc[4:5,:]\n",
    "chosen_row=4\n",
    "visualize_dataset()\n",
    "df, model, query_instance, opt_point,_ = optimal_point(df, svm_classifier, desired_class=1, original_class=-1, threshold=100, chosen_row=chosen_row, point_epsilon=1e-6, epsilon=0.07, constraints=[], plot=True)\n",
    "run_dice_cfs(df=df, model=model,query_instance=query_instance,method='genetic', continuous_features=continuous_features, target=target, chosen_row=chosen_row, plot=True)"
   ]
  },
  {
   "cell_type": "code",
   "execution_count": 25,
   "id": "217feb07",
   "metadata": {},
   "outputs": [
    {
     "name": "stderr",
     "output_type": "stream",
     "text": [
      "c:\\Users\\Compuworld\\drexel_research_2024_2025\\files\\common_functions.py:424: FutureWarning: The behavior of DataFrame concatenation with empty or all-NA entries is deprecated. In a future version, this will no longer exclude empty or all-NA columns when determining the result dtypes. To retain the old behavior, exclude the relevant entries before the concat operation.\n",
      "  balanced_dataset[target] = balanced_dataset[target].astype('int32')\n"
     ]
    },
    {
     "name": "stdout",
     "output_type": "stream",
     "text": [
      "Class counts:\n",
      " y\n",
      "-1    10\n",
      " 1    10\n",
      "Name: count, dtype: int64\n",
      "Fitting model...\n",
      "Model training complete.\n",
      "boundary points started generation...\n",
      "boundary points finished.\n",
      "(100, 2)\n",
      "Finding the closest point from the contour line to the point...\n",
      "Finding the closest point from the contour line to the point.\n",
      "[[1.06786094 1.07031697]]\n",
      "[[ 0.49921989 -3.37675524]]\n",
      "Fitting model...\n",
      "Model training complete.\n",
      "QUERY INSTANCE\n"
     ]
    },
    {
     "name": "stderr",
     "output_type": "stream",
     "text": [
      "100%|██████████| 1/1 [00:00<00:00, 83.33it/s]"
     ]
    },
    {
     "name": "stdout",
     "output_type": "stream",
     "text": [
      "[13.0, 10.0, 1.0]\n",
      "EUCLIDEAN DISTANCE: 4.0\n",
      "[[13. 14.]]\n",
      "Elapsed time: 0:00:00.020000\n"
     ]
    },
    {
     "name": "stderr",
     "output_type": "stream",
     "text": [
      "\n"
     ]
    },
    {
     "data": {
      "text/plain": [
       "([4.0], 0.02)"
      ]
     },
     "execution_count": 25,
     "metadata": {},
     "output_type": "execute_result"
    },
    {
     "data": {
      "image/png": "[encoded data removed]",
      "text/plain": [
       "<Figure size 640x480 with 1 Axes>"
      ]
     },
     "metadata": {},
     "output_type": "display_data"
    }
   ],
   "source": [
    "x_train = df.iloc[:,:-1]\n",
    "continuous_features=['x1', 'x2']\n",
    "target='y'\n",
    "query_instance=x_train.iloc[5:6,:]\n",
    "chosen_row=5\n",
    "visualize_dataset()\n",
    "df, model, query_instance, opt_point,_= optimal_point(df, svm_classifier, desired_class=1, original_class=-1, threshold=100, chosen_row=chosen_row, point_epsilon=1e-6, epsilon=0.07, constraints=[], plot=True)\n",
    "run_dice_cfs(df=df, model=model,query_instance=query_instance,method='kdtree', continuous_features=continuous_features, target=target, chosen_row=chosen_row, plot=True)"
   ]
  },
  {
   "cell_type": "code",
   "execution_count": 26,
   "id": "cbdf823b",
   "metadata": {},
   "outputs": [
    {
     "name": "stderr",
     "output_type": "stream",
     "text": [
      "c:\\Users\\Compuworld\\drexel_research_2024_2025\\files\\common_functions.py:424: FutureWarning: The behavior of DataFrame concatenation with empty or all-NA entries is deprecated. In a future version, this will no longer exclude empty or all-NA columns when determining the result dtypes. To retain the old behavior, exclude the relevant entries before the concat operation.\n",
      "  balanced_dataset[target] = balanced_dataset[target].astype('int32')\n"
     ]
    },
    {
     "name": "stdout",
     "output_type": "stream",
     "text": [
      "Class counts:\n",
      " y\n",
      "-1    10\n",
      " 1    10\n",
      "Name: count, dtype: int64\n",
      "Fitting model...\n",
      "Model training complete.\n",
      "boundary points started generation...\n",
      "boundary points finished.\n",
      "(100, 2)\n",
      "Finding the closest point from the contour line to the point...\n",
      "Finding the closest point from the contour line to the point.\n",
      "[[1.06809249 1.07031778]]\n",
      "[[ 0.55994081 -3.36813021]]\n",
      "Fitting model...\n",
      "Model training complete.\n",
      "QUERY INSTANCE\n"
     ]
    },
    {
     "name": "stderr",
     "output_type": "stream",
     "text": [
      "100%|██████████| 1/1 [00:00<00:00, 29.35it/s]"
     ]
    },
    {
     "name": "stdout",
     "output_type": "stream",
     "text": [
      "[6.9, 7.1, 1.0]\n",
      "EUCLIDEAN DISTANCE: 9.2097774131626\n",
      "[[13. 14.]]\n",
      "Elapsed time: 0:00:00.041076\n"
     ]
    },
    {
     "name": "stderr",
     "output_type": "stream",
     "text": [
      "\n"
     ]
    },
    {
     "data": {
      "text/plain": [
       "([9.2097774131626], 0.041076)"
      ]
     },
     "execution_count": 26,
     "metadata": {},
     "output_type": "execute_result"
    },
    {
     "data": {
      "image/png": "[encoded data removed]",
      "text/plain": [
       "<Figure size 640x480 with 1 Axes>"
      ]
     },
     "metadata": {},
     "output_type": "display_data"
    }
   ],
   "source": [
    "x_train = df.iloc[:,:-1]\n",
    "continuous_features=['x1', 'x2']\n",
    "target='y'\n",
    "query_instance=x_train.iloc[5:6,:]\n",
    "chosen_row=5\n",
    "visualize_dataset()\n",
    "df, model, query_instance, opt_point, _ = optimal_point(df, svm_classifier, desired_class=1, original_class=-1, threshold=100, chosen_row=chosen_row, point_epsilon=1e-6, epsilon=0.07, constraints=[], plot=True)\n",
    "run_dice_cfs(df=df, model=model,query_instance=query_instance,method='random', continuous_features=continuous_features, target=target, chosen_row=chosen_row, plot=True)"
   ]
  },
  {
   "cell_type": "code",
   "execution_count": null,
   "id": "884e2ef2",
   "metadata": {},
   "outputs": [
    {
     "name": "stderr",
     "output_type": "stream",
     "text": [
      "c:\\Users\\Compuworld\\drexel_research_2024_2025\\files\\common_functions.py:424: FutureWarning: The behavior of DataFrame concatenation with empty or all-NA entries is deprecated. In a future version, this will no longer exclude empty or all-NA columns when determining the result dtypes. To retain the old behavior, exclude the relevant entries before the concat operation.\n",
      "  balanced_dataset[target] = balanced_dataset[target].astype('int32')\n"
     ]
    },
    {
     "name": "stdout",
     "output_type": "stream",
     "text": [
      "Class counts:\n",
      " y\n",
      "-1    10\n",
      " 1    10\n",
      "Name: count, dtype: int64\n",
      "Fitting model...\n",
      "Model training complete.\n",
      "boundary points started generation...\n",
      "boundary points finished.\n",
      "(100, 2)\n",
      "Finding the closest point from the contour line to the point...\n",
      "Finding the closest point from the contour line to the point.\n",
      "[[1.06786094 1.07031697]]\n",
      "[[ 0.49921989 -3.37675524]]\n",
      "Fitting model...\n",
      "Model training complete.\n",
      "QUERY INSTANCE\n"
     ]
    },
    {
     "name": "stderr",
     "output_type": "stream",
     "text": [
      "100%|██████████| 1/1 [00:00<00:00, 60.08it/s]"
     ]
    },
    {
     "name": "stdout",
     "output_type": "stream",
     "text": [
      "[13.0, 10.0, 1.0]\n",
      "EUCLIDEAN DISTANCE: 4.0\n",
      "[[13. 14.]]\n",
      "Elapsed time: 0:00:00.025644\n"
     ]
    },
    {
     "name": "stderr",
     "output_type": "stream",
     "text": [
      "\n"
     ]
    },
    {
     "data": {
      "text/plain": [
       "([4.0], 0.025644)"
      ]
     },
     "execution_count": 27,
     "metadata": {},
     "output_type": "execute_result"
    },
    {
     "data": {
      "image/png": "[encoded data removed]",
      "text/plain": [
       "<Figure size 640x480 with 1 Axes>"
      ]
     },
     "metadata": {},
     "output_type": "display_data"
    }
   ],
   "source": [
    "x_train = df.iloc[:,:-1]\n",
    "continuous_features=['x1', 'x2']\n",
    "target='y'\n",
    "query_instance=x_train.iloc[5:6,:]\n",
    "chosen_row=5\n",
    "visualize_dataset()\n",
    "df, model, query_instance, opt_point, _ = optimal_point(df, svm_classifier, desired_class=1, original_class=-1, threshold=100, chosen_row=chosen_row, point_epsilon=1e-6, epsilon=0.07, constraints=[], plot=True)\n",
    "run_dice_cfs(df=df, model=model,query_instance=query_instance,method='genetic', continuous_features=continuous_features, target=target, chosen_row=chosen_row, plot=True)"
   ]
  },
  {
   "cell_type": "code",
   "execution_count": null,
   "id": "52bca57d",
   "metadata": {},
   "outputs": [],
   "source": [
    "inv_map = { \n",
    "    1: -1, \n",
    "    -1: 1\n",
    "}\n",
    "x_train = df.iloc[:,:-1]\n",
    "y_train  = df.iloc[:,-1]\n",
    "continuous_features=['x1', 'x2']\n",
    "target='y'\n",
    "dice_dists, optimal_dists = [], [] \n",
    "for i in range(df.shape[0]):\n",
    "    chosen_row=i\n",
    "    query_instance=x_train.iloc[chosen_row:chosen_row+1,:]\n",
    "    label = y_train.iloc[chosen_row:chosen_row+1]\n",
    "    df, model, query_instance, opt_point, dist = optimal_point(df, svm_classifier, desired_class=inv_map[label.item()], original_class=label.item(), threshold=1000, chosen_row=chosen_row, point_epsilon=1e-6, epsilon=0.07, constraints=[], plot=False)\n",
    "    optimal_dists.append(dist)\n",
    "    dist_cfs = run_dice_cfs(df=df, model=model,query_instance=query_instance,method='kdtree', continuous_features=continuous_features, target=target, chosen_row=chosen_row, plot=False)\n",
    "    dice_dists.extend(dist_cfs)"
   ]
  },
  {
   "cell_type": "code",
   "execution_count": null,
   "id": "f458e94d",
   "metadata": {},
   "outputs": [],
   "source": [
    "print(np.mean(optimal_dists), np.mean(dice_dists))"
   ]
  },
  {
   "cell_type": "code",
   "execution_count": null,
   "id": "65e136c1",
   "metadata": {},
   "outputs": [],
   "source": [
    "inv_map = { \n",
    "    1: -1, \n",
    "    -1: 1\n",
    "}\n",
    "x_train = df.iloc[:,:-1]\n",
    "y_train  = df.iloc[:,-1]\n",
    "continuous_features=['x1', 'x2']\n",
    "target='y'\n",
    "dice_dists, optimal_dists = [], [] \n",
    "for i in range(df.shape[0]):\n",
    "    chosen_row=i\n",
    "    query_instance=x_train.iloc[chosen_row:chosen_row+1,:]\n",
    "    label = y_train.iloc[chosen_row:chosen_row+1]\n",
    "    df, model, query_instance, opt_point, dist = optimal_point(df, svm_classifier, desired_class=inv_map[label.item()], original_class=label.item(), threshold=1000, chosen_row=chosen_row, point_epsilon=1e-6, epsilon=0.07, constraints=[], plot=False)\n",
    "    optimal_dists.append(dist)\n",
    "    dist_cfs = run_dice_cfs(df=df, model=model,query_instance=query_instance,method='random', continuous_features=continuous_features, target=target, chosen_row=chosen_row, plot=False)\n",
    "    dice_dists.extend(dist_cfs)"
   ]
  },
  {
   "cell_type": "code",
   "execution_count": null,
   "id": "59d4e603",
   "metadata": {},
   "outputs": [],
   "source": [
    "print(np.mean(optimal_dists), np.mean(dice_dists))"
   ]
  },
  {
   "cell_type": "code",
   "execution_count": null,
   "id": "82fed399",
   "metadata": {},
   "outputs": [],
   "source": [
    "inv_map = { \n",
    "    1: -1, \n",
    "    -1: 1\n",
    "}\n",
    "x_train = df.iloc[:,:-1]\n",
    "y_train  = df.iloc[:,-1]\n",
    "continuous_features=['x1', 'x2']\n",
    "target='y'\n",
    "dice_dists, optimal_dists = [], [] \n",
    "for i in range(df.shape[0]):\n",
    "    chosen_row=i\n",
    "    query_instance=x_train.iloc[chosen_row:chosen_row+1,:]\n",
    "    label = y_train.iloc[chosen_row:chosen_row+1]\n",
    "    df, model, query_instance, opt_point, dist = optimal_point(df, svm_classifier, desired_class=inv_map[label.item()], original_class=label.item(), threshold=100, chosen_row=chosen_row, point_epsilon=1e-6, epsilon=0.07, constraints=[], plot=False)\n",
    "    optimal_dists.append(dist)\n",
    "    dist_cfs = run_dice_cfs(df=df, model=model,query_instance=query_instance,method='genetic', continuous_features=continuous_features, target=target, chosen_row=chosen_row, plot=False)\n",
    "    dice_dists.extend(dist_cfs)"
   ]
  },
  {
   "cell_type": "code",
   "execution_count": null,
   "id": "bfbf6ff0",
   "metadata": {},
   "outputs": [],
   "source": [
    "print(np.mean(optimal_dists), np.mean(dice_dists))"
   ]
  },
  {
   "cell_type": "markdown",
   "id": "56dda666",
   "metadata": {},
   "source": [
    "# Step 3: Adult Income Dataset Experiments\n",
    "\n",
    "We run a few experiments using the adult income dataset comparing DiCE model-agnostic methodologies and the Optimal Point method.\n",
    "\n",
    "We follow the following steps: \n",
    "\n",
    "1. Import the dataset using the helpers function from DiCE \n",
    "2. Initialize the classifier which is a Random Forest Classifier in this case\n",
    "3. Iterate for 50 or 100 randomly selected points using the Optimal point method \n",
    "4. After each iteration of generation with the optimal point method, we apply the run_dice_cfs method that enables us to generate counterfactuals using DiCE's specific model-agnostic approach"
   ]
  },
  {
   "cell_type": "code",
   "execution_count": 5,
   "id": "2adda3f3",
   "metadata": {},
   "outputs": [
    {
     "name": "stderr",
     "output_type": "stream",
     "text": [
      "c:\\Users\\Compuworld\\anaconda3\\Lib\\site-packages\\dice_ml\\utils\\helpers.py:79: FutureWarning: Downcasting behavior in `replace` is deprecated and will be removed in a future version. To retain the old behavior, explicitly call `result.infer_objects(copy=False)`. To opt-in to the future behavior, set `pd.set_option('future.no_silent_downcasting', True)`\n",
      "  adult_data = adult_data.replace({'income': {'<=50K': 0, '>50K': 1}})\n"
     ]
    }
   ],
   "source": [
    "dataset = helpers.load_adult_income_dataset()"
   ]
  },
  {
   "cell_type": "code",
   "execution_count": 6,
   "id": "7c5b3ff1",
   "metadata": {},
   "outputs": [
    {
     "data": {
      "text/html": [
       "<div>\n",
       "<style scoped>\n",
       "    .dataframe tbody tr th:only-of-type {\n",
       "        vertical-align: middle;\n",
       "    }\n",
       "\n",
       "    .dataframe tbody tr th {\n",
       "        vertical-align: top;\n",
       "    }\n",
       "\n",
       "    .dataframe thead th {\n",
       "        text-align: right;\n",
       "    }\n",
       "</style>\n",
       "<table border=\"1\" class=\"dataframe\">\n",
       "  <thead>\n",
       "    <tr style=\"text-align: right;\">\n",
       "      <th></th>\n",
       "      <th>age</th>\n",
       "      <th>workclass</th>\n",
       "      <th>education</th>\n",
       "      <th>marital_status</th>\n",
       "      <th>occupation</th>\n",
       "      <th>race</th>\n",
       "      <th>gender</th>\n",
       "      <th>hours_per_week</th>\n",
       "      <th>income</th>\n",
       "    </tr>\n",
       "  </thead>\n",
       "  <tbody>\n",
       "    <tr>\n",
       "      <th>0</th>\n",
       "      <td>28</td>\n",
       "      <td>Private</td>\n",
       "      <td>Bachelors</td>\n",
       "      <td>Single</td>\n",
       "      <td>White-Collar</td>\n",
       "      <td>White</td>\n",
       "      <td>Female</td>\n",
       "      <td>60</td>\n",
       "      <td>0</td>\n",
       "    </tr>\n",
       "    <tr>\n",
       "      <th>1</th>\n",
       "      <td>30</td>\n",
       "      <td>Self-Employed</td>\n",
       "      <td>Assoc</td>\n",
       "      <td>Married</td>\n",
       "      <td>Professional</td>\n",
       "      <td>White</td>\n",
       "      <td>Male</td>\n",
       "      <td>65</td>\n",
       "      <td>1</td>\n",
       "    </tr>\n",
       "    <tr>\n",
       "      <th>2</th>\n",
       "      <td>32</td>\n",
       "      <td>Private</td>\n",
       "      <td>Some-college</td>\n",
       "      <td>Married</td>\n",
       "      <td>White-Collar</td>\n",
       "      <td>White</td>\n",
       "      <td>Male</td>\n",
       "      <td>50</td>\n",
       "      <td>0</td>\n",
       "    </tr>\n",
       "    <tr>\n",
       "      <th>3</th>\n",
       "      <td>20</td>\n",
       "      <td>Private</td>\n",
       "      <td>Some-college</td>\n",
       "      <td>Single</td>\n",
       "      <td>Service</td>\n",
       "      <td>White</td>\n",
       "      <td>Female</td>\n",
       "      <td>35</td>\n",
       "      <td>0</td>\n",
       "    </tr>\n",
       "    <tr>\n",
       "      <th>4</th>\n",
       "      <td>41</td>\n",
       "      <td>Self-Employed</td>\n",
       "      <td>Some-college</td>\n",
       "      <td>Married</td>\n",
       "      <td>White-Collar</td>\n",
       "      <td>White</td>\n",
       "      <td>Male</td>\n",
       "      <td>50</td>\n",
       "      <td>0</td>\n",
       "    </tr>\n",
       "  </tbody>\n",
       "</table>\n",
       "</div>"
      ],
      "text/plain": [
       "   age      workclass     education marital_status    occupation   race  \\\n",
       "0   28        Private     Bachelors         Single  White-Collar  White   \n",
       "1   30  Self-Employed         Assoc        Married  Professional  White   \n",
       "2   32        Private  Some-college        Married  White-Collar  White   \n",
       "3   20        Private  Some-college         Single       Service  White   \n",
       "4   41  Self-Employed  Some-college        Married  White-Collar  White   \n",
       "\n",
       "   gender  hours_per_week  income  \n",
       "0  Female              60       0  \n",
       "1    Male              65       1  \n",
       "2    Male              50       0  \n",
       "3  Female              35       0  \n",
       "4    Male              50       0  "
      ]
     },
     "execution_count": 6,
     "metadata": {},
     "output_type": "execute_result"
    }
   ],
   "source": [
    "dataset.head()"
   ]
  },
  {
   "cell_type": "code",
   "execution_count": 8,
   "id": "d801216b",
   "metadata": {},
   "outputs": [],
   "source": [
    "# Append classifier to preprocessing pipeline.\n",
    "# Now we have a full prediction pipeline.\n",
    "clf = RandomForestClassifier()"
   ]
  },
  {
   "cell_type": "code",
   "execution_count": 12,
   "id": "66fdf419",
   "metadata": {},
   "outputs": [
    {
     "name": "stderr",
     "output_type": "stream",
     "text": [
      "c:\\Users\\Compuworld\\drexel_research_2024_2025\\files\\common_functions.py:422: FutureWarning: The behavior of DataFrame concatenation with empty or all-NA entries is deprecated. In a future version, this will no longer exclude empty or all-NA columns when determining the result dtypes. To retain the old behavior, exclude the relevant entries before the concat operation.\n",
      "  balanced_dataset = pd.concat([balanced_dataset, upsampled_class], ignore_index=True)\n"
     ]
    },
    {
     "name": "stdout",
     "output_type": "stream",
     "text": [
      "Class counts:\n",
      " income\n",
      "0    19820\n",
      "1    19820\n",
      "Name: count, dtype: int64\n",
      "Fitting model...\n",
      "Model training complete.\n",
      "boundary points started generation...\n"
     ]
    },
    {
     "ename": "KeyboardInterrupt",
     "evalue": "",
     "output_type": "error",
     "traceback": [
      "\u001b[1;31m---------------------------------------------------------------------------\u001b[0m",
      "\u001b[1;31mKeyboardInterrupt\u001b[0m                         Traceback (most recent call last)",
      "Cell \u001b[1;32mIn[12], line 18\u001b[0m\n\u001b[0;32m     16\u001b[0m query_instance\u001b[38;5;241m=\u001b[39mx_train\u001b[38;5;241m.\u001b[39miloc[chosen_row:chosen_row\u001b[38;5;241m+\u001b[39m\u001b[38;5;241m1\u001b[39m,:]\n\u001b[0;32m     17\u001b[0m label \u001b[38;5;241m=\u001b[39m y_train\u001b[38;5;241m.\u001b[39miloc[chosen_row:chosen_row\u001b[38;5;241m+\u001b[39m\u001b[38;5;241m1\u001b[39m]\n\u001b[1;32m---> 18\u001b[0m df, model, query_instance, opt_point, dist \u001b[38;5;241m=\u001b[39m optimal_point(dataset, clf, desired_class\u001b[38;5;241m=\u001b[39minv_map[label\u001b[38;5;241m.\u001b[39mitem()], original_class\u001b[38;5;241m=\u001b[39mlabel\u001b[38;5;241m.\u001b[39mitem(), threshold\u001b[38;5;241m=\u001b[39m\u001b[38;5;241m10000\u001b[39m, chosen_row\u001b[38;5;241m=\u001b[39mchosen_row, point_epsilon\u001b[38;5;241m=\u001b[39m\u001b[38;5;241m1e-3\u001b[39m, epsilon\u001b[38;5;241m=\u001b[39m\u001b[38;5;241m0.01\u001b[39m, constraints\u001b[38;5;241m=\u001b[39m[])\n\u001b[0;32m     19\u001b[0m optimal_dists\u001b[38;5;241m.\u001b[39mappend(dist)\n\u001b[0;32m     20\u001b[0m dist_cfs \u001b[38;5;241m=\u001b[39m run_dice_cfs(df\u001b[38;5;241m=\u001b[39mdf, model\u001b[38;5;241m=\u001b[39mmodel,query_instance\u001b[38;5;241m=\u001b[39mquery_instance,method\u001b[38;5;241m=\u001b[39m\u001b[38;5;124m'\u001b[39m\u001b[38;5;124mkdtree\u001b[39m\u001b[38;5;124m'\u001b[39m, continuous_features\u001b[38;5;241m=\u001b[39mcontinuous_features, target\u001b[38;5;241m=\u001b[39mtarget, chosen_row\u001b[38;5;241m=\u001b[39mchosen_row)\n",
      "Cell \u001b[1;32mIn[10], line 105\u001b[0m, in \u001b[0;36moptimal_point\u001b[1;34m(dataset, model, desired_class, original_class, chosen_row, threshold, point_epsilon, epsilon, constraints, deltas, plot)\u001b[0m\n\u001b[0;32m    102\u001b[0m \u001b[38;5;28mprint\u001b[39m(\u001b[38;5;124m\"\u001b[39m\u001b[38;5;124mboundary points started generation...\u001b[39m\u001b[38;5;124m\"\u001b[39m)\n\u001b[0;32m    104\u001b[0m \u001b[38;5;66;03m# This step uses binary interpolation to get points close to the decision boundary\u001b[39;00m\n\u001b[1;32m--> 105\u001b[0m boundary_points \u001b[38;5;241m=\u001b[39m find_decision_boundary(model, X_train, y_train,\n\u001b[0;32m    106\u001b[0m                                          threshold\u001b[38;5;241m=\u001b[39mthreshold, epsilon\u001b[38;5;241m=\u001b[39mpoint_epsilon)\n\u001b[0;32m    107\u001b[0m \u001b[38;5;28mprint\u001b[39m(\u001b[38;5;124m\"\u001b[39m\u001b[38;5;124mboundary points finished.\u001b[39m\u001b[38;5;124m\"\u001b[39m)\n\u001b[0;32m    108\u001b[0m \u001b[38;5;28mprint\u001b[39m(boundary_points\u001b[38;5;241m.\u001b[39mshape)\n",
      "File \u001b[1;32mc:\\Users\\Compuworld\\drexel_research_2024_2025\\files\\binary_search_optimal_point.py:191\u001b[0m, in \u001b[0;36mfind_decision_boundary\u001b[1;34m(model, X, y, epsilon, threshold)\u001b[0m\n\u001b[0;32m    189\u001b[0m point \u001b[38;5;241m=\u001b[39m correct_a[a_indices[idx]]\n\u001b[0;32m    190\u001b[0m match_point \u001b[38;5;241m=\u001b[39m correct_b[b_indices[idx]]\n\u001b[1;32m--> 191\u001b[0m alpha \u001b[38;5;241m=\u001b[39m alpha_binary_search(model, point, match_point, label_a, epsilon\u001b[38;5;241m=\u001b[39mepsilon)\n\u001b[0;32m    192\u001b[0m boundary \u001b[38;5;241m=\u001b[39m (\u001b[38;5;241m1\u001b[39m \u001b[38;5;241m-\u001b[39m alpha) \u001b[38;5;241m*\u001b[39m point \u001b[38;5;241m+\u001b[39m alpha \u001b[38;5;241m*\u001b[39m match_point\n\u001b[0;32m    193\u001b[0m boundary_points\u001b[38;5;241m.\u001b[39mappend(boundary)\n",
      "File \u001b[1;32mc:\\Users\\Compuworld\\drexel_research_2024_2025\\files\\binary_search_optimal_point.py:74\u001b[0m, in \u001b[0;36malpha_binary_search\u001b[1;34m(model, point, opp_point, point_target, epsilon, max_iter)\u001b[0m\n\u001b[0;32m     72\u001b[0m mid \u001b[38;5;241m=\u001b[39m (start \u001b[38;5;241m+\u001b[39m end) \u001b[38;5;241m/\u001b[39m \u001b[38;5;241m2\u001b[39m \n\u001b[0;32m     73\u001b[0m mid_point \u001b[38;5;241m=\u001b[39m (\u001b[38;5;241m1\u001b[39m \u001b[38;5;241m-\u001b[39m mid) \u001b[38;5;241m*\u001b[39m point \u001b[38;5;241m+\u001b[39m mid \u001b[38;5;241m*\u001b[39m opp_point \n\u001b[1;32m---> 74\u001b[0m pred \u001b[38;5;241m=\u001b[39m model\u001b[38;5;241m.\u001b[39mpredict([mid_point])[\u001b[38;5;241m0\u001b[39m]\n\u001b[0;32m     76\u001b[0m \u001b[38;5;28;01mif\u001b[39;00m pred \u001b[38;5;241m==\u001b[39m point_target: \n\u001b[0;32m     77\u001b[0m     start \u001b[38;5;241m=\u001b[39m mid \n",
      "File \u001b[1;32mc:\\Users\\Compuworld\\anaconda3\\Lib\\site-packages\\sklearn\\ensemble\\_forest.py:823\u001b[0m, in \u001b[0;36mForestClassifier.predict\u001b[1;34m(self, X)\u001b[0m\n\u001b[0;32m    802\u001b[0m \u001b[38;5;28;01mdef\u001b[39;00m \u001b[38;5;21mpredict\u001b[39m(\u001b[38;5;28mself\u001b[39m, X):\n\u001b[0;32m    803\u001b[0m \u001b[38;5;250m    \u001b[39m\u001b[38;5;124;03m\"\"\"\u001b[39;00m\n\u001b[0;32m    804\u001b[0m \u001b[38;5;124;03m    Predict class for X.\u001b[39;00m\n\u001b[0;32m    805\u001b[0m \n\u001b[1;32m   (...)\u001b[0m\n\u001b[0;32m    821\u001b[0m \u001b[38;5;124;03m        The predicted classes.\u001b[39;00m\n\u001b[0;32m    822\u001b[0m \u001b[38;5;124;03m    \"\"\"\u001b[39;00m\n\u001b[1;32m--> 823\u001b[0m     proba \u001b[38;5;241m=\u001b[39m \u001b[38;5;28mself\u001b[39m\u001b[38;5;241m.\u001b[39mpredict_proba(X)\n\u001b[0;32m    825\u001b[0m     \u001b[38;5;28;01mif\u001b[39;00m \u001b[38;5;28mself\u001b[39m\u001b[38;5;241m.\u001b[39mn_outputs_ \u001b[38;5;241m==\u001b[39m \u001b[38;5;241m1\u001b[39m:\n\u001b[0;32m    826\u001b[0m         \u001b[38;5;28;01mreturn\u001b[39;00m \u001b[38;5;28mself\u001b[39m\u001b[38;5;241m.\u001b[39mclasses_\u001b[38;5;241m.\u001b[39mtake(np\u001b[38;5;241m.\u001b[39margmax(proba, axis\u001b[38;5;241m=\u001b[39m\u001b[38;5;241m1\u001b[39m), axis\u001b[38;5;241m=\u001b[39m\u001b[38;5;241m0\u001b[39m)\n",
      "File \u001b[1;32mc:\\Users\\Compuworld\\anaconda3\\Lib\\site-packages\\sklearn\\ensemble\\_forest.py:876\u001b[0m, in \u001b[0;36mForestClassifier.predict_proba\u001b[1;34m(self, X)\u001b[0m\n\u001b[0;32m    871\u001b[0m all_proba \u001b[38;5;241m=\u001b[39m [\n\u001b[0;32m    872\u001b[0m     np\u001b[38;5;241m.\u001b[39mzeros((X\u001b[38;5;241m.\u001b[39mshape[\u001b[38;5;241m0\u001b[39m], j), dtype\u001b[38;5;241m=\u001b[39mnp\u001b[38;5;241m.\u001b[39mfloat64)\n\u001b[0;32m    873\u001b[0m     \u001b[38;5;28;01mfor\u001b[39;00m j \u001b[38;5;129;01min\u001b[39;00m np\u001b[38;5;241m.\u001b[39matleast_1d(\u001b[38;5;28mself\u001b[39m\u001b[38;5;241m.\u001b[39mn_classes_)\n\u001b[0;32m    874\u001b[0m ]\n\u001b[0;32m    875\u001b[0m lock \u001b[38;5;241m=\u001b[39m threading\u001b[38;5;241m.\u001b[39mLock()\n\u001b[1;32m--> 876\u001b[0m Parallel(n_jobs\u001b[38;5;241m=\u001b[39mn_jobs, verbose\u001b[38;5;241m=\u001b[39m\u001b[38;5;28mself\u001b[39m\u001b[38;5;241m.\u001b[39mverbose, require\u001b[38;5;241m=\u001b[39m\u001b[38;5;124m\"\u001b[39m\u001b[38;5;124msharedmem\u001b[39m\u001b[38;5;124m\"\u001b[39m)(\n\u001b[0;32m    877\u001b[0m     delayed(_accumulate_prediction)(e\u001b[38;5;241m.\u001b[39mpredict_proba, X, all_proba, lock)\n\u001b[0;32m    878\u001b[0m     \u001b[38;5;28;01mfor\u001b[39;00m e \u001b[38;5;129;01min\u001b[39;00m \u001b[38;5;28mself\u001b[39m\u001b[38;5;241m.\u001b[39mestimators_\n\u001b[0;32m    879\u001b[0m )\n\u001b[0;32m    881\u001b[0m \u001b[38;5;28;01mfor\u001b[39;00m proba \u001b[38;5;129;01min\u001b[39;00m all_proba:\n\u001b[0;32m    882\u001b[0m     proba \u001b[38;5;241m/\u001b[39m\u001b[38;5;241m=\u001b[39m \u001b[38;5;28mlen\u001b[39m(\u001b[38;5;28mself\u001b[39m\u001b[38;5;241m.\u001b[39mestimators_)\n",
      "File \u001b[1;32mc:\\Users\\Compuworld\\anaconda3\\Lib\\site-packages\\sklearn\\utils\\parallel.py:65\u001b[0m, in \u001b[0;36mParallel.__call__\u001b[1;34m(self, iterable)\u001b[0m\n\u001b[0;32m     60\u001b[0m config \u001b[38;5;241m=\u001b[39m get_config()\n\u001b[0;32m     61\u001b[0m iterable_with_config \u001b[38;5;241m=\u001b[39m (\n\u001b[0;32m     62\u001b[0m     (_with_config(delayed_func, config), args, kwargs)\n\u001b[0;32m     63\u001b[0m     \u001b[38;5;28;01mfor\u001b[39;00m delayed_func, args, kwargs \u001b[38;5;129;01min\u001b[39;00m iterable\n\u001b[0;32m     64\u001b[0m )\n\u001b[1;32m---> 65\u001b[0m \u001b[38;5;28;01mreturn\u001b[39;00m \u001b[38;5;28msuper\u001b[39m()\u001b[38;5;241m.\u001b[39m\u001b[38;5;21m__call__\u001b[39m(iterable_with_config)\n",
      "File \u001b[1;32mc:\\Users\\Compuworld\\anaconda3\\Lib\\site-packages\\joblib\\parallel.py:1088\u001b[0m, in \u001b[0;36mParallel.__call__\u001b[1;34m(self, iterable)\u001b[0m\n\u001b[0;32m   1085\u001b[0m \u001b[38;5;28;01mif\u001b[39;00m \u001b[38;5;28mself\u001b[39m\u001b[38;5;241m.\u001b[39mdispatch_one_batch(iterator):\n\u001b[0;32m   1086\u001b[0m     \u001b[38;5;28mself\u001b[39m\u001b[38;5;241m.\u001b[39m_iterating \u001b[38;5;241m=\u001b[39m \u001b[38;5;28mself\u001b[39m\u001b[38;5;241m.\u001b[39m_original_iterator \u001b[38;5;129;01mis\u001b[39;00m \u001b[38;5;129;01mnot\u001b[39;00m \u001b[38;5;28;01mNone\u001b[39;00m\n\u001b[1;32m-> 1088\u001b[0m \u001b[38;5;28;01mwhile\u001b[39;00m \u001b[38;5;28mself\u001b[39m\u001b[38;5;241m.\u001b[39mdispatch_one_batch(iterator):\n\u001b[0;32m   1089\u001b[0m     \u001b[38;5;28;01mpass\u001b[39;00m\n\u001b[0;32m   1091\u001b[0m \u001b[38;5;28;01mif\u001b[39;00m pre_dispatch \u001b[38;5;241m==\u001b[39m \u001b[38;5;124m\"\u001b[39m\u001b[38;5;124mall\u001b[39m\u001b[38;5;124m\"\u001b[39m \u001b[38;5;129;01mor\u001b[39;00m n_jobs \u001b[38;5;241m==\u001b[39m \u001b[38;5;241m1\u001b[39m:\n\u001b[0;32m   1092\u001b[0m     \u001b[38;5;66;03m# The iterable was consumed all at once by the above for loop.\u001b[39;00m\n\u001b[0;32m   1093\u001b[0m     \u001b[38;5;66;03m# No need to wait for async callbacks to trigger to\u001b[39;00m\n\u001b[0;32m   1094\u001b[0m     \u001b[38;5;66;03m# consumption.\u001b[39;00m\n",
      "File \u001b[1;32mc:\\Users\\Compuworld\\anaconda3\\Lib\\site-packages\\joblib\\parallel.py:901\u001b[0m, in \u001b[0;36mParallel.dispatch_one_batch\u001b[1;34m(self, iterator)\u001b[0m\n\u001b[0;32m    899\u001b[0m     \u001b[38;5;28;01mreturn\u001b[39;00m \u001b[38;5;28;01mFalse\u001b[39;00m\n\u001b[0;32m    900\u001b[0m \u001b[38;5;28;01melse\u001b[39;00m:\n\u001b[1;32m--> 901\u001b[0m     \u001b[38;5;28mself\u001b[39m\u001b[38;5;241m.\u001b[39m_dispatch(tasks)\n\u001b[0;32m    902\u001b[0m     \u001b[38;5;28;01mreturn\u001b[39;00m \u001b[38;5;28;01mTrue\u001b[39;00m\n",
      "File \u001b[1;32mc:\\Users\\Compuworld\\anaconda3\\Lib\\site-packages\\joblib\\parallel.py:819\u001b[0m, in \u001b[0;36mParallel._dispatch\u001b[1;34m(self, batch)\u001b[0m\n\u001b[0;32m    817\u001b[0m \u001b[38;5;28;01mwith\u001b[39;00m \u001b[38;5;28mself\u001b[39m\u001b[38;5;241m.\u001b[39m_lock:\n\u001b[0;32m    818\u001b[0m     job_idx \u001b[38;5;241m=\u001b[39m \u001b[38;5;28mlen\u001b[39m(\u001b[38;5;28mself\u001b[39m\u001b[38;5;241m.\u001b[39m_jobs)\n\u001b[1;32m--> 819\u001b[0m     job \u001b[38;5;241m=\u001b[39m \u001b[38;5;28mself\u001b[39m\u001b[38;5;241m.\u001b[39m_backend\u001b[38;5;241m.\u001b[39mapply_async(batch, callback\u001b[38;5;241m=\u001b[39mcb)\n\u001b[0;32m    820\u001b[0m     \u001b[38;5;66;03m# A job can complete so quickly than its callback is\u001b[39;00m\n\u001b[0;32m    821\u001b[0m     \u001b[38;5;66;03m# called before we get here, causing self._jobs to\u001b[39;00m\n\u001b[0;32m    822\u001b[0m     \u001b[38;5;66;03m# grow. To ensure correct results ordering, .insert is\u001b[39;00m\n\u001b[0;32m    823\u001b[0m     \u001b[38;5;66;03m# used (rather than .append) in the following line\u001b[39;00m\n\u001b[0;32m    824\u001b[0m     \u001b[38;5;28mself\u001b[39m\u001b[38;5;241m.\u001b[39m_jobs\u001b[38;5;241m.\u001b[39minsert(job_idx, job)\n",
      "File \u001b[1;32mc:\\Users\\Compuworld\\anaconda3\\Lib\\site-packages\\joblib\\_parallel_backends.py:208\u001b[0m, in \u001b[0;36mSequentialBackend.apply_async\u001b[1;34m(self, func, callback)\u001b[0m\n\u001b[0;32m    206\u001b[0m \u001b[38;5;28;01mdef\u001b[39;00m \u001b[38;5;21mapply_async\u001b[39m(\u001b[38;5;28mself\u001b[39m, func, callback\u001b[38;5;241m=\u001b[39m\u001b[38;5;28;01mNone\u001b[39;00m):\n\u001b[0;32m    207\u001b[0m \u001b[38;5;250m    \u001b[39m\u001b[38;5;124;03m\"\"\"Schedule a func to be run\"\"\"\u001b[39;00m\n\u001b[1;32m--> 208\u001b[0m     result \u001b[38;5;241m=\u001b[39m ImmediateResult(func)\n\u001b[0;32m    209\u001b[0m     \u001b[38;5;28;01mif\u001b[39;00m callback:\n\u001b[0;32m    210\u001b[0m         callback(result)\n",
      "File \u001b[1;32mc:\\Users\\Compuworld\\anaconda3\\Lib\\site-packages\\joblib\\_parallel_backends.py:597\u001b[0m, in \u001b[0;36mImmediateResult.__init__\u001b[1;34m(self, batch)\u001b[0m\n\u001b[0;32m    594\u001b[0m \u001b[38;5;28;01mdef\u001b[39;00m \u001b[38;5;21m__init__\u001b[39m(\u001b[38;5;28mself\u001b[39m, batch):\n\u001b[0;32m    595\u001b[0m     \u001b[38;5;66;03m# Don't delay the application, to avoid keeping the input\u001b[39;00m\n\u001b[0;32m    596\u001b[0m     \u001b[38;5;66;03m# arguments in memory\u001b[39;00m\n\u001b[1;32m--> 597\u001b[0m     \u001b[38;5;28mself\u001b[39m\u001b[38;5;241m.\u001b[39mresults \u001b[38;5;241m=\u001b[39m batch()\n",
      "File \u001b[1;32mc:\\Users\\Compuworld\\anaconda3\\Lib\\site-packages\\joblib\\parallel.py:288\u001b[0m, in \u001b[0;36mBatchedCalls.__call__\u001b[1;34m(self)\u001b[0m\n\u001b[0;32m    284\u001b[0m \u001b[38;5;28;01mdef\u001b[39;00m \u001b[38;5;21m__call__\u001b[39m(\u001b[38;5;28mself\u001b[39m):\n\u001b[0;32m    285\u001b[0m     \u001b[38;5;66;03m# Set the default nested backend to self._backend but do not set the\u001b[39;00m\n\u001b[0;32m    286\u001b[0m     \u001b[38;5;66;03m# change the default number of processes to -1\u001b[39;00m\n\u001b[0;32m    287\u001b[0m     \u001b[38;5;28;01mwith\u001b[39;00m parallel_backend(\u001b[38;5;28mself\u001b[39m\u001b[38;5;241m.\u001b[39m_backend, n_jobs\u001b[38;5;241m=\u001b[39m\u001b[38;5;28mself\u001b[39m\u001b[38;5;241m.\u001b[39m_n_jobs):\n\u001b[1;32m--> 288\u001b[0m         \u001b[38;5;28;01mreturn\u001b[39;00m [func(\u001b[38;5;241m*\u001b[39margs, \u001b[38;5;241m*\u001b[39m\u001b[38;5;241m*\u001b[39mkwargs)\n\u001b[0;32m    289\u001b[0m                 \u001b[38;5;28;01mfor\u001b[39;00m func, args, kwargs \u001b[38;5;129;01min\u001b[39;00m \u001b[38;5;28mself\u001b[39m\u001b[38;5;241m.\u001b[39mitems]\n",
      "File \u001b[1;32mc:\\Users\\Compuworld\\anaconda3\\Lib\\site-packages\\joblib\\parallel.py:288\u001b[0m, in \u001b[0;36m<listcomp>\u001b[1;34m(.0)\u001b[0m\n\u001b[0;32m    284\u001b[0m \u001b[38;5;28;01mdef\u001b[39;00m \u001b[38;5;21m__call__\u001b[39m(\u001b[38;5;28mself\u001b[39m):\n\u001b[0;32m    285\u001b[0m     \u001b[38;5;66;03m# Set the default nested backend to self._backend but do not set the\u001b[39;00m\n\u001b[0;32m    286\u001b[0m     \u001b[38;5;66;03m# change the default number of processes to -1\u001b[39;00m\n\u001b[0;32m    287\u001b[0m     \u001b[38;5;28;01mwith\u001b[39;00m parallel_backend(\u001b[38;5;28mself\u001b[39m\u001b[38;5;241m.\u001b[39m_backend, n_jobs\u001b[38;5;241m=\u001b[39m\u001b[38;5;28mself\u001b[39m\u001b[38;5;241m.\u001b[39m_n_jobs):\n\u001b[1;32m--> 288\u001b[0m         \u001b[38;5;28;01mreturn\u001b[39;00m [func(\u001b[38;5;241m*\u001b[39margs, \u001b[38;5;241m*\u001b[39m\u001b[38;5;241m*\u001b[39mkwargs)\n\u001b[0;32m    289\u001b[0m                 \u001b[38;5;28;01mfor\u001b[39;00m func, args, kwargs \u001b[38;5;129;01min\u001b[39;00m \u001b[38;5;28mself\u001b[39m\u001b[38;5;241m.\u001b[39mitems]\n",
      "File \u001b[1;32mc:\\Users\\Compuworld\\anaconda3\\Lib\\site-packages\\sklearn\\utils\\parallel.py:127\u001b[0m, in \u001b[0;36m_FuncWrapper.__call__\u001b[1;34m(self, *args, **kwargs)\u001b[0m\n\u001b[0;32m    125\u001b[0m     config \u001b[38;5;241m=\u001b[39m {}\n\u001b[0;32m    126\u001b[0m \u001b[38;5;28;01mwith\u001b[39;00m config_context(\u001b[38;5;241m*\u001b[39m\u001b[38;5;241m*\u001b[39mconfig):\n\u001b[1;32m--> 127\u001b[0m     \u001b[38;5;28;01mreturn\u001b[39;00m \u001b[38;5;28mself\u001b[39m\u001b[38;5;241m.\u001b[39mfunction(\u001b[38;5;241m*\u001b[39margs, \u001b[38;5;241m*\u001b[39m\u001b[38;5;241m*\u001b[39mkwargs)\n",
      "File \u001b[1;32mc:\\Users\\Compuworld\\anaconda3\\Lib\\site-packages\\sklearn\\ensemble\\_forest.py:647\u001b[0m, in \u001b[0;36m_accumulate_prediction\u001b[1;34m(predict, X, out, lock)\u001b[0m\n\u001b[0;32m    640\u001b[0m \u001b[38;5;28;01mdef\u001b[39;00m \u001b[38;5;21m_accumulate_prediction\u001b[39m(predict, X, out, lock):\n\u001b[0;32m    641\u001b[0m \u001b[38;5;250m    \u001b[39m\u001b[38;5;124;03m\"\"\"\u001b[39;00m\n\u001b[0;32m    642\u001b[0m \u001b[38;5;124;03m    This is a utility function for joblib's Parallel.\u001b[39;00m\n\u001b[0;32m    643\u001b[0m \n\u001b[0;32m    644\u001b[0m \u001b[38;5;124;03m    It can't go locally in ForestClassifier or ForestRegressor, because joblib\u001b[39;00m\n\u001b[0;32m    645\u001b[0m \u001b[38;5;124;03m    complains that it cannot pickle it when placed there.\u001b[39;00m\n\u001b[0;32m    646\u001b[0m \u001b[38;5;124;03m    \"\"\"\u001b[39;00m\n\u001b[1;32m--> 647\u001b[0m     prediction \u001b[38;5;241m=\u001b[39m predict(X, check_input\u001b[38;5;241m=\u001b[39m\u001b[38;5;28;01mFalse\u001b[39;00m)\n\u001b[0;32m    648\u001b[0m     \u001b[38;5;28;01mwith\u001b[39;00m lock:\n\u001b[0;32m    649\u001b[0m         \u001b[38;5;28;01mif\u001b[39;00m \u001b[38;5;28mlen\u001b[39m(out) \u001b[38;5;241m==\u001b[39m \u001b[38;5;241m1\u001b[39m:\n",
      "File \u001b[1;32mc:\\Users\\Compuworld\\anaconda3\\Lib\\site-packages\\sklearn\\tree\\_classes.py:993\u001b[0m, in \u001b[0;36mDecisionTreeClassifier.predict_proba\u001b[1;34m(self, X, check_input)\u001b[0m\n\u001b[0;32m    991\u001b[0m check_is_fitted(\u001b[38;5;28mself\u001b[39m)\n\u001b[0;32m    992\u001b[0m X \u001b[38;5;241m=\u001b[39m \u001b[38;5;28mself\u001b[39m\u001b[38;5;241m.\u001b[39m_validate_X_predict(X, check_input)\n\u001b[1;32m--> 993\u001b[0m proba \u001b[38;5;241m=\u001b[39m \u001b[38;5;28mself\u001b[39m\u001b[38;5;241m.\u001b[39mtree_\u001b[38;5;241m.\u001b[39mpredict(X)\n\u001b[0;32m    995\u001b[0m \u001b[38;5;28;01mif\u001b[39;00m \u001b[38;5;28mself\u001b[39m\u001b[38;5;241m.\u001b[39mn_outputs_ \u001b[38;5;241m==\u001b[39m \u001b[38;5;241m1\u001b[39m:\n\u001b[0;32m    996\u001b[0m     proba \u001b[38;5;241m=\u001b[39m proba[:, : \u001b[38;5;28mself\u001b[39m\u001b[38;5;241m.\u001b[39mn_classes_]\n",
      "\u001b[1;31mKeyboardInterrupt\u001b[0m: "
     ]
    }
   ],
   "source": [
    "x_train = dataset.iloc[:,:-1]\n",
    "y_train = dataset.iloc[:,-1]\n",
    "continuous_features=[\"age\", \"hours_per_week\"]\n",
    "target='income'\n",
    "query_instance=x_train.iloc[4:5,:]\n",
    "inv_map = { \n",
    "    0: 1, \n",
    "    1: 0\n",
    "}\n",
    "dice_dists, optimal_dists = [], [] \n",
    "sub_dataset = dataset[dataset['income'] == 0]\n",
    "random_integers = random.sample(range(0, sub_dataset.shape[0]-1), 50)\n",
    "for i in random_integers:\n",
    "    real_idx = sub_dataset.index[i]\n",
    "    chosen_row=real_idx\n",
    "    query_instance=x_train.iloc[chosen_row:chosen_row+1,:]\n",
    "    label = y_train.iloc[chosen_row:chosen_row+1]\n",
    "    df, model, query_instance, opt_point, dist = optimal_point(dataset, clf, desired_class=inv_map[label.item()], original_class=label.item(), threshold=10000, chosen_row=chosen_row, point_epsilon=1e-3, epsilon=0.01, constraints=[])\n",
    "    optimal_dists.append(dist)\n",
    "    dist_cfs = run_dice_cfs(df=df, model=model,query_instance=query_instance,method='kdtree', continuous_features=continuous_features, target=target, chosen_row=chosen_row)\n",
    "    dice_dists.extend(dist_cfs)"
   ]
  },
  {
   "cell_type": "code",
   "execution_count": null,
   "id": "e4996a89",
   "metadata": {},
   "outputs": [],
   "source": [
    "print(np.mean(optimal_dists), np.mean(dice_dists))"
   ]
  },
  {
   "cell_type": "code",
   "execution_count": null,
   "id": "1e73a70d",
   "metadata": {},
   "outputs": [],
   "source": [
    "x_train = dataset.iloc[:,:-1]\n",
    "y_train = dataset.iloc[:,-1]\n",
    "continuous_features=[\"age\", \"hours_per_week\"]\n",
    "target='income'\n",
    "query_instance=x_train.iloc[4:5,:]\n",
    "inv_map = { \n",
    "    0: 1, \n",
    "    1: 0\n",
    "}\n",
    "dice_dists, optimal_dists = [], [] \n",
    "sub_dataset = dataset[dataset['income'] == 0]\n",
    "random_integers = random.sample(range(0, sub_dataset.shape[0]-1), 50)\n",
    "for i in random_integers:\n",
    "    real_idx = sub_dataset.index[i]\n",
    "    chosen_row=real_idx\n",
    "    query_instance=x_train.iloc[chosen_row:chosen_row+1,:]\n",
    "    label = y_train.iloc[chosen_row:chosen_row+1]\n",
    "    df, model, query_instance, opt_point, dist = optimal_point(dataset, clf, desired_class=inv_map[label.item()], original_class=label.item(), threshold=10000, chosen_row=chosen_row, point_epsilon=1e-3, epsilon=0.01, constraints=[])\n",
    "    optimal_dists.append(dist)\n",
    "    dist_cfs = run_dice_cfs(df=df, model=model,query_instance=query_instance,method='random', continuous_features=continuous_features, target=target, chosen_row=chosen_row)\n",
    "    dice_dists.extend(dist_cfs)"
   ]
  },
  {
   "cell_type": "code",
   "execution_count": null,
   "id": "d8fe2342",
   "metadata": {},
   "outputs": [],
   "source": [
    "print(np.mean(optimal_dists), np.mean(dice_dists))"
   ]
  },
  {
   "cell_type": "code",
   "execution_count": null,
   "id": "ad741871",
   "metadata": {},
   "outputs": [],
   "source": [
    "x_train = dataset.iloc[:,:-1]\n",
    "y_train = dataset.iloc[:,-1]\n",
    "continuous_features=[\"age\", \"hours_per_week\"]\n",
    "target='income'\n",
    "query_instance=x_train.iloc[4:5,:]\n",
    "inv_map = { \n",
    "    0: 1, \n",
    "    1: 0\n",
    "}\n",
    "dice_dists, optimal_dists = [], [] \n",
    "sub_dataset = dataset[dataset['income'] == 0]\n",
    "random_integers = random.sample(range(0, sub_dataset.shape[0]-1), 50)\n",
    "for i in random_integers:\n",
    "    real_idx = sub_dataset.index[i]\n",
    "    chosen_row=real_idx\n",
    "    query_instance=x_train.iloc[chosen_row:chosen_row+1,:]\n",
    "    label = y_train.iloc[chosen_row:chosen_row+1]\n",
    "    df, model, query_instance, opt_point, dist = optimal_point(dataset, clf, desired_class=inv_map[label.item()], original_class=label.item(), threshold=10000, chosen_row=chosen_row, point_epsilon=1e-3, epsilon=0.01, constraints=[])\n",
    "    optimal_dists.append(dist)\n",
    "    dist_cfs = run_dice_cfs(df=df, model=model,query_instance=query_instance,method='genetic', continuous_features=continuous_features, target=target, chosen_row=chosen_row)\n",
    "    dice_dists.extend(dist_cfs)"
   ]
  },
  {
   "cell_type": "code",
   "execution_count": null,
   "id": "a7cde62d",
   "metadata": {},
   "outputs": [],
   "source": [
    "print(np.mean(optimal_dists), np.mean(dice_dists))"
   ]
  },
  {
   "cell_type": "code",
   "execution_count": null,
   "id": "779cbe59",
   "metadata": {},
   "outputs": [],
   "source": [
    "x_train.shape"
   ]
  },
  {
   "cell_type": "code",
   "execution_count": null,
   "id": "09bf0e27",
   "metadata": {},
   "outputs": [],
   "source": [
    "x_train = dataset.iloc[:,:-1]\n",
    "y_train = dataset.iloc[:,-1]\n",
    "continuous_features=[\"age\", \"hours_per_week\"]\n",
    "target='income'\n",
    "inv_map = { \n",
    "    0: 1, \n",
    "    1: 0\n",
    "}\n",
    "dice_dists, optimal_dists = [], [] \n",
    "random_integers = random.sample(range(1, 26047), 50)\n",
    "\n",
    "for i in random_integers:\n",
    "    chosen_row=i\n",
    "    query_instance=x_train.iloc[chosen_row:chosen_row+1,:]\n",
    "    label = y_train.iloc[chosen_row:chosen_row+1]\n",
    "    df, model, query_instance, opt_point, dist = optimal_point(dataset, clf, desired_class=inv_map[label.item()], original_class=label.item(), threshold=5000, chosen_row=chosen_row, point_epsilon=1e-3, epsilon=0.01, constraints=[])\n",
    "    optimal_dists.append(dist)\n",
    "    dist_cfs = run_dice_cfs(df=df, model=model,query_instance=query_instance,method='kdtree', continuous_features=continuous_features, target=target, chosen_row=chosen_row)\n",
    "    dice_dists.extend(dist_cfs)"
   ]
  },
  {
   "cell_type": "code",
   "execution_count": null,
   "id": "cc5cdd60",
   "metadata": {},
   "outputs": [],
   "source": [
    "print(np.mean(optimal_dists), np.mean(dice_dists))"
   ]
  },
  {
   "cell_type": "markdown",
   "id": "39df6465",
   "metadata": {},
   "source": [
    "# Step 3: Heart Disease Dataset Experiments\n",
    "\n",
    "We run a few experiments using the heart disease dataset comparing DiCE model-agnostic methodologies and the Optimal Point method.\n",
    "\n",
    "We follow the following steps: \n",
    "\n",
    "1. Import the dataset using the helpers function from DiCE \n",
    "2. Initialize the classifier which is a Random Forest Classifier in this case\n",
    "3. Iterate for 50 or 100 randomly selected points using the Optimal point method \n",
    "4. After each iteration of generation with the optimal point method, we apply the run_dice_cfs method that enables us to generate counterfactuals using DiCE's specific model-agnostic approach"
   ]
  },
  {
   "cell_type": "code",
   "execution_count": null,
   "id": "3fcb7e40",
   "metadata": {},
   "outputs": [],
   "source": [
    "heart_disease = pd.read_csv(\n",
    "'../heart.csv'\n",
    ")"
   ]
  },
  {
   "cell_type": "code",
   "execution_count": null,
   "id": "d96881f0",
   "metadata": {},
   "outputs": [],
   "source": [
    "heart_disease"
   ]
  },
  {
   "cell_type": "code",
   "execution_count": null,
   "id": "54b14a15",
   "metadata": {},
   "outputs": [],
   "source": [
    "x_train = heart_disease.iloc[:,:-1]\n",
    "y_train = heart_disease.iloc[:,-1]\n",
    "continuous_features=[\"age\", \"trestbps\", \"thalach\", \"oldpeak\", \"chol\"]\n",
    "target='target'\n",
    "inv_map = { \n",
    "    0: 1, \n",
    "    1: 0\n",
    "}\n",
    "dice_dists, optimal_dists = [], [] \n",
    "dice_probs, optimal_probs = [], [] \n",
    "sub_dataset = heart_disease[heart_disease['target'] == 1]\n",
    "\n",
    "random_integers = random.sample(range(0, sub_dataset.shape[0]-1), 100)\n",
    "for i in random_integers:\n",
    "    real_idx = sub_dataset.index[i]\n",
    "    chosen_row=real_idx\n",
    "    query_instance=x_train.iloc[chosen_row:chosen_row+1,:]\n",
    "    df, model, query_instance, opt_point, dist = optimal_point(heart_disease, svm_classifier, desired_class=inv_map[label.item()], original_class=label.item(), threshold=5000, chosen_row=chosen_row, point_epsilon=1e-3, epsilon=0.01, constraints=[])\n",
    "    optimal_dists.append(dist)\n",
    "    dist_cfs = run_dice_cfs(df=df, model=model,query_instance=query_instance,method='kdtree', continuous_features=continuous_features, target=target, chosen_row=chosen_row)\n",
    "    dice_dists.extend(dist_cfs)"
   ]
  },
  {
   "cell_type": "code",
   "execution_count": null,
   "id": "0e0d0603",
   "metadata": {},
   "outputs": [],
   "source": [
    "print(np.mean(optimal_dists), np.mean(dice_dists))"
   ]
  },
  {
   "cell_type": "code",
   "execution_count": null,
   "id": "4c7a93d8",
   "metadata": {},
   "outputs": [],
   "source": [
    "x_train = heart_disease.iloc[:,:-1]\n",
    "y_train = heart_disease.iloc[:,-1]\n",
    "continuous_features=[\"age\", \"trestbps\", \"thalach\", \"oldpeak\", \"chol\"]\n",
    "target='target'\n",
    "inv_map = { \n",
    "    0: 1, \n",
    "    1: 0\n",
    "}\n",
    "dice_dists, optimal_dists = [], [] \n",
    "dice_probs, optimal_probs = [], [] \n",
    "sub_dataset = heart_disease[heart_disease['target'] == 1]\n",
    "\n",
    "random_integers = random.sample(range(0, sub_dataset.shape[0]-1), 100)\n",
    "for i in random_integers:\n",
    "    real_idx = sub_dataset.index[i]\n",
    "    chosen_row=real_idx\n",
    "    query_instance=x_train.iloc[chosen_row:chosen_row+1,:]\n",
    "    df, model, query_instance, opt_point, dist = optimal_point(heart_disease, svm_classifier, desired_class=inv_map[label.item()], original_class=label.item(), threshold=10000, chosen_row=chosen_row, point_epsilon=1e-4, epsilon=0.001, constraints=[])\n",
    "    optimal_dists.append(dist)\n",
    "    dist_cfs = run_dice_cfs(df=df, model=model,query_instance=query_instance,method='random', continuous_features=continuous_features, target=target, chosen_row=chosen_row)\n",
    "    dice_dists.extend(dist_cfs)"
   ]
  },
  {
   "cell_type": "code",
   "execution_count": null,
   "id": "a163fe80",
   "metadata": {},
   "outputs": [],
   "source": [
    "print(np.mean(optimal_dists), np.mean(dice_dists))"
   ]
  },
  {
   "cell_type": "code",
   "execution_count": null,
   "id": "34f8329d",
   "metadata": {},
   "outputs": [],
   "source": [
    "x_train = heart_disease.iloc[:,:-1]\n",
    "y_train = heart_disease.iloc[:,-1]\n",
    "continuous_features=[\"age\", \"trestbps\", \"thalach\", \"oldpeak\", \"chol\"]\n",
    "target='target'\n",
    "inv_map = { \n",
    "    0: 1, \n",
    "    1: 0\n",
    "}\n",
    "dice_dists, optimal_dists = [], [] \n",
    "dice_probs, optimal_probs = [], [] \n",
    "sub_dataset = heart_disease[heart_disease['target'] == 1]\n",
    "\n",
    "random_integers = random.sample(range(0, sub_dataset.shape[0]-1), 100)\n",
    "for i in random_integers:\n",
    "    real_idx = sub_dataset.index[i]\n",
    "    chosen_row=real_idx\n",
    "    query_instance=x_train.iloc[chosen_row:chosen_row+1,:]\n",
    "    df, model, query_instance, opt_point, dist = optimal_point(heart_disease, svm_classifier, desired_class=inv_map[label.item()], original_class=label.item(), threshold=5000, chosen_row=chosen_row, point_epsilon=1e-3, epsilon=0.01, constraints=[])\n",
    "    optimal_dists.append(dist)\n",
    "    dist_cfs = run_dice_cfs(df=df, model=model,query_instance=query_instance,method='genetic', continuous_features=continuous_features, target=target, chosen_row=chosen_row)\n",
    "    dice_dists.extend(dist_cfs)"
   ]
  },
  {
   "cell_type": "code",
   "execution_count": null,
   "id": "d2486f88",
   "metadata": {},
   "outputs": [],
   "source": [
    "print(np.mean(optimal_dists), np.mean(dice_dists))"
   ]
  },
  {
   "cell_type": "markdown",
   "id": "6830972b",
   "metadata": {},
   "source": [
    "# Step 4: Runtime Tests \n",
    "\n",
    "The function ```runtime_tests()``` are used for comparing DiCE's model-agnostic approaches and Optimal Point for time complexity. We use a logistic regression classifier for examining runtime."
   ]
  },
  {
   "cell_type": "code",
   "execution_count": null,
   "id": "5c997f3b",
   "metadata": {},
   "outputs": [],
   "source": [
    "def runtime_tests(number_of_features, method, total_random=100):\n",
    "    X, y = make_classification(n_samples=5000, n_features=number_of_features, n_informative=number_of_features,\n",
    "                            n_redundant=0, n_classes=2, random_state=42)\n",
    "    y = np.reshape(y, (-1, 1))\n",
    "    columns = [\"x\"+str(i) for i in range(1, X.shape[1]+1)] \n",
    "    columns.append('y')\n",
    "    dataset = pd.DataFrame(data=np.hstack((X,y)), columns=columns)\n",
    "    continuous_features=[\"x\"+str(i) for i in range(1, X.shape[1]+1)]\n",
    "    target='y'\n",
    "    inv_map = { \n",
    "        0: 1, \n",
    "        1: 0\n",
    "    }\n",
    "    dice_dists, optimal_dists = [], []\n",
    "    dice_runtime = [] \n",
    "    sub_dataset = dataset[dataset[target] == 0]\n",
    "    random_integers = random.sample(range(1, sub_dataset.shape[0]), total_random)\n",
    "    clf = LogisticRegression()\n",
    "\n",
    "    for i in random_integers:\n",
    "        real_idx = sub_dataset.index[i]\n",
    "        chosen_row=real_idx\n",
    "        query_instance=X[chosen_row:chosen_row+1,:]\n",
    "        label = y[chosen_row:chosen_row+1]\n",
    "        df, model, query_instance, opt_point, dist = optimal_point(dataset, clf, desired_class=inv_map[label.item()], original_class=label.item(), threshold=5000, chosen_row=chosen_row, point_epsilon=1e-3, epsilon=0.01, constraints=[])\n",
    "        optimal_dists.append(dist)\n",
    "        dist_cfs, total_seconds = run_dice_cfs(df=df, model=model,query_instance=query_instance,method=method, continuous_features=continuous_features, target=target, chosen_row=chosen_row)\n",
    "        dice_dists.extend(dist_cfs)\n",
    "        dice_runtime.append(total_seconds)\n",
    "\n",
    "    print(np.mean(dice_runtime))"
   ]
  },
  {
   "cell_type": "code",
   "execution_count": null,
   "id": "ff9c5da9",
   "metadata": {},
   "outputs": [],
   "source": [
    "runtime_tests(number_of_features=10, method='kdtree')"
   ]
  },
  {
   "cell_type": "code",
   "execution_count": null,
   "id": "1c41bcec",
   "metadata": {},
   "outputs": [],
   "source": [
    "runtime_tests(number_of_features=50, method='kdtree')"
   ]
  },
  {
   "cell_type": "code",
   "execution_count": null,
   "id": "a1f5df8c",
   "metadata": {},
   "outputs": [],
   "source": [
    "runtime_tests(number_of_features=10, method='random')"
   ]
  },
  {
   "cell_type": "code",
   "execution_count": null,
   "id": "b9b4ffd9",
   "metadata": {},
   "outputs": [],
   "source": [
    "runtime_tests(number_of_features=50, method='random')"
   ]
  },
  {
   "cell_type": "code",
   "execution_count": null,
   "id": "5e31fab9",
   "metadata": {},
   "outputs": [],
   "source": [
    "runtime_tests(number_of_features=10, method='genetic')"
   ]
  },
  {
   "cell_type": "code",
   "execution_count": null,
   "id": "a385e475",
   "metadata": {},
   "outputs": [],
   "source": [
    "runtime_tests(number_of_features=50, method='genetic')"
   ]
  }
 ],
 "metadata": {
  "kernelspec": {
   "display_name": "base",
   "language": "python",
   "name": "python3"
  },
  "language_info": {
   "codemirror_mode": {
    "name": "ipython",
    "version": 3
   },
   "file_extension": ".py",
   "mimetype": "text/x-python",
   "name": "python",
   "nbconvert_exporter": "python",
   "pygments_lexer": "ipython3",
   "version": "3.11.4"
  }
 },
 "nbformat": 4,
 "nbformat_minor": 5
}
