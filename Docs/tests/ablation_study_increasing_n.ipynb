{
 "cells": [
  {
   "cell_type": "markdown",
   "id": "548558a5",
   "metadata": {},
   "source": [
    "# Ablation Study: Increasing $n$ \n",
    "\n",
    "Below, we show that our SSBA method is robust for finding decision boundary points in high-dimensional space independent of whether the space is $\\mathbf{R}^2$, $\\mathbf{R}^{10}$, $\\mathbf{R}^{50}$, $\\mathbf{R}^{100}$, $\\mathbf{R}^{1,000}$, and $\\mathbf{R}^{10,000}$."
   ]
  },
  {
   "cell_type": "code",
   "execution_count": 5,
   "id": "4ccc98ba",
   "metadata": {},
   "outputs": [],
   "source": [
    "from sklearn.datasets import make_classification\n",
    "from sklearn.linear_model import LogisticRegression\n",
    "\n",
    "import numpy as np\n",
    "import pandas as pd\n",
    "import warnings\n",
    "import random\n",
    "\n",
    "random.seed(0)\n",
    "warnings.filterwarnings('ignore', category=UserWarning)\n",
    "\n",
    "import os\n",
    "import sys\n",
    "nb_dir = os.path.split(os.getcwd())[0]\n",
    "if nb_dir not in sys.path:\n",
    "    sys.path.append(nb_dir)"
   ]
  },
  {
   "cell_type": "code",
   "execution_count": 6,
   "id": "cdb60d76",
   "metadata": {},
   "outputs": [],
   "source": [
    "import os\n",
    "import sys\n",
    "nb_dir = os.path.split(os.getcwd())[0]\n",
    "if nb_dir not in sys.path:\n",
    "    sys.path.append(nb_dir)\n",
    "\n",
    "from files.binary_search_optimal_point import optimal_point\n",
    "from files.binary_search_optimal_point import multi_decision_boundary\n",
    "from files.common_functions import convert_columns"
   ]
  },
  {
   "cell_type": "code",
   "execution_count": 7,
   "id": "9f383db4",
   "metadata": {},
   "outputs": [
    {
     "name": "stdout",
     "output_type": "stream",
     "text": [
      "The cuml.accel extension is already loaded. To reload it, use:\n",
      "  %reload_ext cuml.accel\n"
     ]
    }
   ],
   "source": [
    "%load_ext cuml.accel"
   ]
  },
  {
   "cell_type": "markdown",
   "id": "462ea474",
   "metadata": {},
   "source": [
    "# 2-dimensions (Make a dataset of 2 features with 10,000 samples)\n",
    "\n",
    "We generate this dataset with sklearn's ```make_classification``` function and then generate the decision boundary points."
   ]
  },
  {
   "cell_type": "code",
   "execution_count": 19,
   "id": "5fef362a",
   "metadata": {},
   "outputs": [
    {
     "name": "stdout",
     "output_type": "stream",
     "text": [
      "Decision Boundary Points (All Features):\n",
      "              0         1\n",
      "0      0.040599  0.020677\n",
      "1      0.080198  0.009600\n",
      "2     -2.035127  0.601792\n",
      "3     -0.542671  0.183966\n",
      "4      0.818561 -0.197125\n",
      "...         ...       ...\n",
      "99995  0.806588 -0.193759\n",
      "99996  0.815623 -0.196318\n",
      "99997  0.392988 -0.077962\n",
      "99998  1.044134 -0.260215\n",
      "99999  0.116609 -0.000680\n",
      "\n",
      "[100000 rows x 2 columns]\n",
      "(100000, 2)\n"
     ]
    }
   ],
   "source": [
    "X, y = make_classification(n_samples=10000, n_features=2, n_informative=2,\n",
    "                           n_redundant=0, n_classes=2, random_state=42)\n",
    "model = LogisticRegression()\n",
    "y = y.reshape(-1,1)\n",
    "df1 = pd.DataFrame(data=np.hstack((X,y)))\n",
    "x_train = df1.iloc[:,:-1]\n",
    "y_train = df1.iloc[:,-1]\n",
    "model.fit(x_train,y_train)\n",
    "\n",
    "boundary_points = multi_decision_boundary(model, x_train, y_train, threshold=100000, epsilon=1e-4)\n",
    "\n",
    "# Print the decision bo un dary points\n",
    "print(\"Decision Boundary Points (All Features):\")\n",
    "print(boundary_points)\n",
    "print(boundary_points.shape)"
   ]
  },
  {
   "cell_type": "code",
   "execution_count": 20,
   "id": "0d80920e",
   "metadata": {},
   "outputs": [
    {
     "name": "stdout",
     "output_type": "stream",
     "text": [
      "[0.5000003 0.4999997]\n"
     ]
    }
   ],
   "source": [
    "preds = model.predict_proba(boundary_points)\n",
    "print(np.mean(preds, axis=0))"
   ]
  },
  {
   "cell_type": "markdown",
   "id": "21ad822e",
   "metadata": {},
   "source": [
    "# 10-dimensions (Make a dataset of 10 features with 10,000 samples)\n",
    "\n",
    "We generate this dataset with sklearn's ```make_classification``` function and then generate the decision boundary points."
   ]
  },
  {
   "cell_type": "code",
   "execution_count": 10,
   "id": "112576a1",
   "metadata": {},
   "outputs": [
    {
     "name": "stdout",
     "output_type": "stream",
     "text": [
      "Decision Boundary Points (All Features):\n",
      "              0         1         2         3         4         5         6  \\\n",
      "0      0.344977 -0.711479  0.827653 -0.333810  0.215280 -1.388243  0.720845   \n",
      "1      1.291301  1.315044  0.612367  1.792299  1.012659  0.811537  1.028102   \n",
      "2      0.273924 -1.467676  0.610951  0.182350 -0.990745 -2.413791  0.042187   \n",
      "3     -0.515922  1.090350  0.072823 -1.858131 -1.046706 -0.118363  1.419709   \n",
      "4      0.304791 -0.197972 -1.243321  0.299243 -0.247227 -0.597046  0.357661   \n",
      "...         ...       ...       ...       ...       ...       ...       ...   \n",
      "99995  0.917459 -1.713634  0.040953 -2.214056  0.279853  2.615245 -2.301024   \n",
      "99996  0.455650 -2.575891  1.017164 -1.178451  0.087640  1.437389 -0.052359   \n",
      "99997 -1.833092 -2.070737 -1.158018  1.948476 -0.457385 -0.180142 -0.171904   \n",
      "99998 -4.054517 -0.741327 -1.441348  4.185225  2.688837 -2.881441  2.663434   \n",
      "99999  1.658367 -2.429500  0.428732 -0.691912  0.012256  2.741878 -2.212955   \n",
      "\n",
      "              7         8         9  \n",
      "0     -0.356545 -1.707138 -0.205933  \n",
      "1      2.225315 -1.156543 -0.442581  \n",
      "2     -1.096612  0.024746 -0.379974  \n",
      "3      1.940741 -0.331616 -1.653260  \n",
      "4     -0.269762 -0.230671  0.769673  \n",
      "...         ...       ...       ...  \n",
      "99995 -1.054461 -1.088983  0.074217  \n",
      "99996  0.401571 -1.167075  0.362053  \n",
      "99997 -0.175673  0.894682 -1.483894  \n",
      "99998 -2.957268  0.490048  2.454060  \n",
      "99999 -1.876621 -0.800007 -0.277581  \n",
      "\n",
      "[100000 rows x 10 columns]\n",
      "(100000, 10)\n"
     ]
    }
   ],
   "source": [
    "X, y = make_classification(n_samples=10000, n_features=10, n_informative=10,\n",
    "                           n_redundant=0, n_classes=2, random_state=42)\n",
    "model = LogisticRegression()\n",
    "y = y.reshape(-1,1)\n",
    "df1 = pd.DataFrame(data=np.hstack((X,y)))\n",
    "x_train = df1.iloc[:,:-1]\n",
    "y_train = df1.iloc[:,-1]\n",
    "model.fit(x_train,y_train)\n",
    "\n",
    "boundary_points = multi_decision_boundary(model, x_train, y_train, threshold=100000, epsilon=1e-4)\n",
    "\n",
    "# Print the decision bo un dary points\n",
    "print(\"Decision Boundary Points (All Features):\")\n",
    "print(boundary_points)\n",
    "print(boundary_points.shape)"
   ]
  },
  {
   "cell_type": "code",
   "execution_count": 11,
   "id": "38abf0cd",
   "metadata": {},
   "outputs": [
    {
     "name": "stdout",
     "output_type": "stream",
     "text": [
      "[0.50000001 0.49999999]\n"
     ]
    }
   ],
   "source": [
    "preds = model.predict_proba(boundary_points)\n",
    "print(np.mean(preds, axis=0))"
   ]
  },
  {
   "cell_type": "markdown",
   "id": "2f23bbd6",
   "metadata": {},
   "source": [
    "# 50-dimensions (Make a dataset of 50 features with 10,000 samples)\n",
    "\n",
    "We generate this dataset with sklearn's ```make_classification``` function and then generate the decision boundary points."
   ]
  },
  {
   "cell_type": "code",
   "execution_count": 12,
   "id": "831aef48",
   "metadata": {},
   "outputs": [
    {
     "name": "stdout",
     "output_type": "stream",
     "text": [
      "Decision Boundary Points (All Features):\n",
      "             0         1         2         3         4         5         6   \\\n",
      "0      0.218235  7.693868  1.665100  1.277351  1.724377  0.126018 -3.840929   \n",
      "1      5.819518 -3.426723  0.231446 -1.772583  3.016519  1.969557 -8.112472   \n",
      "2     -1.308817 -0.710177  1.145592 -5.076736 -5.043330  3.143188  0.761503   \n",
      "3      0.953608  1.783508  2.607021  8.360754  3.528969 -2.856033 -0.230467   \n",
      "4      1.016778  7.020466 -0.769971  4.953099  4.608775  1.805922 -1.066066   \n",
      "...         ...       ...       ...       ...       ...       ...       ...   \n",
      "99995 -1.224525 -1.856533 -6.802889  1.669026 -0.323434  4.354281 -8.008714   \n",
      "99996  0.181690 -1.104154  0.308954  1.008115  3.319840 -3.337906 -3.596922   \n",
      "99997 -2.510536  0.081679 -1.114450  1.254121 -0.613860  5.408797  1.239509   \n",
      "99998  6.047208  1.822928  0.821667  1.336501 -0.414399  2.476832 -3.575018   \n",
      "99999 -3.696475  0.473278 -2.413074 -0.834047  5.846010 -3.142128  3.627409   \n",
      "\n",
      "             7         8         9   ...        40        41        42  \\\n",
      "0      0.103424  5.562590  4.399985  ... -0.523789  7.035670 -0.420550   \n",
      "1     -0.345083  2.617957  3.566305  ... -3.175193 -2.851695  1.744636   \n",
      "2     -1.047936  1.481894  4.561734  ...  2.910424 -0.324621  1.534765   \n",
      "3      2.013349  0.160057 -1.091522  ... -0.178631 -1.169866  5.312327   \n",
      "4      6.434897 -3.219309  6.074180  ...  0.988226 -4.221007 -0.502896   \n",
      "...         ...       ...       ...  ...       ...       ...       ...   \n",
      "99995 -4.758690  1.695885  3.869060  ... -2.533196 -2.142773  5.551732   \n",
      "99996  3.875168 -0.738889 -3.764196  ... -0.587554 -2.110797 -1.332264   \n",
      "99997 -4.019879  4.295497 -2.663154  ... -3.281414 -1.677917  4.533299   \n",
      "99998  1.141805 -1.757046  4.892180  ...  0.890594 -6.520943  3.752884   \n",
      "99999  2.808446 -0.125037  2.782400  ... -1.000524  5.561859 -3.008226   \n",
      "\n",
      "             43        44        45        46        47        48        49  \n",
      "0      5.437376  5.058858  4.982038 -6.719697 -5.626030 -0.583169 -1.216553  \n",
      "1      0.980022 -1.013985 -2.805029 -3.935008 -1.650504 -0.834248 -1.271136  \n",
      "2      2.931772 -3.019096  3.806924 -5.812773 -3.540596 -5.195852 -0.584711  \n",
      "3     -0.454668  2.282289  2.426869  4.207620 -2.192716 -3.516927  1.863082  \n",
      "4     -2.218719  4.851157  1.176264 -0.558394  0.130203  4.288052  0.894240  \n",
      "...         ...       ...       ...       ...       ...       ...       ...  \n",
      "99995 -1.693305  1.710599 -2.091482  2.184006  0.771540  0.037275 -1.298220  \n",
      "99996  0.293514  0.297339  7.048616  0.220049  3.311737 -4.307369  3.210877  \n",
      "99997  3.910412  4.795676 -1.802234 -0.540997 -5.113159 -5.266438 -0.037668  \n",
      "99998  2.838969 -4.931766  0.832934  3.374558 -0.479928  2.359700 -1.228541  \n",
      "99999  0.026343  5.956937 -2.371615  0.822344 -0.923834  2.073517  1.463407  \n",
      "\n",
      "[100000 rows x 50 columns]\n",
      "(100000, 50)\n"
     ]
    }
   ],
   "source": [
    "X, y = make_classification(n_samples=10000, n_features=50, n_informative=50,\n",
    "                           n_redundant=0, n_classes=2, random_state=42)\n",
    "model = LogisticRegression()\n",
    "y = y.reshape(-1,1)\n",
    "df1 = pd.DataFrame(data=np.hstack((X,y)))\n",
    "x_train = df1.iloc[:,:-1]\n",
    "y_train = df1.iloc[:,-1]\n",
    "model.fit(x_train,y_train)\n",
    "\n",
    "boundary_points = multi_decision_boundary(model, x_train, y_train, threshold=100000, epsilon=1e-4)\n",
    "\n",
    "# Print the decision bo un dary points\n",
    "print(\"Decision Boundary Points (All Features):\")\n",
    "print(boundary_points)\n",
    "print(boundary_points.shape)"
   ]
  },
  {
   "cell_type": "code",
   "execution_count": 13,
   "id": "6b1e775d",
   "metadata": {},
   "outputs": [
    {
     "name": "stdout",
     "output_type": "stream",
     "text": [
      "[0.49999991 0.50000009]\n"
     ]
    }
   ],
   "source": [
    "preds = model.predict_proba(boundary_points)\n",
    "print(np.mean(preds, axis=0))"
   ]
  },
  {
   "cell_type": "markdown",
   "id": "0f79826c",
   "metadata": {},
   "source": [
    "# 100-dimensions (Make a dataset of 100 features with 10,000 samples)\n",
    "\n",
    "We generate this dataset with sklearn's ```make_classification``` function and then generate the decision boundary points."
   ]
  },
  {
   "cell_type": "code",
   "execution_count": 14,
   "id": "83ce368c",
   "metadata": {},
   "outputs": [
    {
     "name": "stdout",
     "output_type": "stream",
     "text": [
      "Decision Boundary Points (All Features):\n",
      "              0         1         2         3         4         5         6   \\\n",
      "0      -2.123425 -3.573830  4.059642  1.231292 -0.922513  6.103835 -4.131007   \n",
      "1       2.898384  4.559818 -7.956736 -0.979956 -2.113784  5.851543 -2.546975   \n",
      "2       4.721329 -0.110252 -4.304770 -0.402017 -6.764269  4.817211 -0.389918   \n",
      "3       4.799491 -0.556895  4.761027 -3.441070 -8.988543 -2.150269  7.718331   \n",
      "4      10.248486  4.021094 -0.673259  4.370290  0.825422 -4.537100  5.021605   \n",
      "...          ...       ...       ...       ...       ...       ...       ...   \n",
      "99995  -2.641115 -5.706880  1.641024 -3.685080  4.990607  2.595660 -6.330964   \n",
      "99996  -4.430069  5.638364 -2.842166  3.295114  7.099627 -2.887428 -4.161907   \n",
      "99997  -4.870791 -2.612838 -8.129071 -0.954027  6.604742  1.556592 -1.862930   \n",
      "99998   4.049109  3.838568 -5.182991 -5.563124  3.632545 -3.617184 -6.762722   \n",
      "99999  -8.501031 -3.290897 -3.478756 -8.968627 -0.952077 -1.141752  6.249120   \n",
      "\n",
      "             7         8         9   ...        90         91        92  \\\n",
      "0     -1.261605  1.932821 -0.426068  ... -0.800453   0.248303  4.564086   \n",
      "1     -3.868794  4.300128 -0.708047  ...  2.121865   6.478409  5.587413   \n",
      "2      2.312140  1.417076 -0.598430  ...  5.611178   5.723580 -4.375226   \n",
      "3      0.276370  4.280232 -1.322642  ...  7.110950  -8.768118  0.214593   \n",
      "4     -2.766755 -4.121777  3.482136  ... -5.017320  -2.068226 -4.022284   \n",
      "...         ...       ...       ...  ...       ...        ...       ...   \n",
      "99995  4.655186 -9.373494 -0.153385  ... -5.490692 -12.164518 -4.933630   \n",
      "99996 -0.294864 -2.451193  4.519470  ...  0.963825  -3.368995 -2.262502   \n",
      "99997  1.432030 -1.784171 -0.987118  ...  2.026419  -5.635680  4.634506   \n",
      "99998  6.982575  2.501083 -8.309621  ...  5.237929  -0.270230 -0.626823   \n",
      "99999 -2.076283 -3.726275 -5.194683  ... -2.182770   1.619319  3.968585   \n",
      "\n",
      "             93        94        95        96        97        98        99  \n",
      "0      4.366935  3.290191  1.553639  0.595289  1.084877  6.023761  1.813057  \n",
      "1     -0.116302 -6.831468  6.238000 -6.051401  0.670714  1.187172  0.195205  \n",
      "2      3.116693  1.023583 -2.582745  0.588534  0.219600  4.485981  5.399238  \n",
      "3     -3.679098 -0.901438 -2.066876 -3.320402  5.022454 -1.557463 -3.590795  \n",
      "4      0.036544  1.969823  2.282691 -3.154726 -4.485296  7.713559  2.053534  \n",
      "...         ...       ...       ...       ...       ...       ...       ...  \n",
      "99995  1.736117  1.977431 -7.873762  1.525753 -7.674605 -2.443230 -3.983119  \n",
      "99996 -4.758248 -2.791996  6.139526  3.147200 -0.396491  1.463507 -1.501871  \n",
      "99997 -8.598872 -5.643615 -0.986991 -6.754603 -3.639649 -1.290267 -2.974917  \n",
      "99998  4.567959  3.025547  1.848559 -5.915692 -2.169094  6.932642 -0.305500  \n",
      "99999 -2.255333 -7.114508 -1.662633 -3.537954 -0.281635  3.366146 -4.078506  \n",
      "\n",
      "[100000 rows x 100 columns]\n",
      "(100000, 100)\n"
     ]
    }
   ],
   "source": [
    "X, y = make_classification(n_samples=10000, n_features=100, n_informative=100,\n",
    "                           n_redundant=0, n_classes=2, random_state=42)\n",
    "model = LogisticRegression()\n",
    "y = y.reshape(-1,1)\n",
    "df1 = pd.DataFrame(data=np.hstack((X,y)))\n",
    "x_train = df1.iloc[:,:-1]\n",
    "y_train = df1.iloc[:,-1]\n",
    "model.fit(x_train,y_train)\n",
    "\n",
    "boundary_points = multi_decision_boundary(model, x_train, y_train, threshold=100000, epsilon=1e-4)\n",
    "\n",
    "# Print the decision bo un dary points\n",
    "print(\"Decision Boundary Points (All Features):\")\n",
    "print(boundary_points)\n",
    "print(boundary_points.shape)"
   ]
  },
  {
   "cell_type": "code",
   "execution_count": 15,
   "id": "9230d494",
   "metadata": {},
   "outputs": [
    {
     "name": "stdout",
     "output_type": "stream",
     "text": [
      "[0.5 0.5]\n"
     ]
    }
   ],
   "source": [
    "preds = model.predict_proba(boundary_points)\n",
    "print(np.mean(preds, axis=0))"
   ]
  },
  {
   "cell_type": "markdown",
   "id": "8695ce45",
   "metadata": {},
   "source": [
    "# 1,000-dimensions (Make a dataset of 1,000 features with 10,000 samples)\n",
    "\n",
    "We generate this dataset with sklearn's ```make_classification``` function and then generate the decision boundary points."
   ]
  },
  {
   "cell_type": "code",
   "execution_count": 16,
   "id": "a2c9e666",
   "metadata": {},
   "outputs": [
    {
     "name": "stdout",
     "output_type": "stream",
     "text": [
      "Decision Boundary Points (All Features):\n",
      "             0          1          2          3          4          5    \\\n",
      "0     -13.045026   8.243744  14.586948 -20.198750  -2.438791  11.864213   \n",
      "1      21.337388  -5.768303  15.879739 -31.699827  38.359384  -4.350691   \n",
      "2      -5.094464  -7.429413   4.198130  -6.938273  22.462336  -2.772532   \n",
      "3      -5.115606 -22.910134  -8.727914 -21.588171   3.792181  20.597647   \n",
      "4     -43.272824 -27.929853  10.235323  -5.115085  14.113220  10.691403   \n",
      "...          ...        ...        ...        ...        ...        ...   \n",
      "99995   4.107162   9.464778   5.374426  -8.303174   0.941675   4.191754   \n",
      "99996  -6.844027  -4.858039  -0.431992 -13.887410  -7.091641   2.337031   \n",
      "99997  -8.762266 -19.647824   7.689708  -1.916639   3.655792   5.927405   \n",
      "99998  -2.480628   8.506003 -21.134646 -11.966840 -23.134685  40.350068   \n",
      "99999  22.695474 -17.619865 -19.211069   4.610801  15.226567  -0.138220   \n",
      "\n",
      "             6          7          8          9    ...        990        991  \\\n",
      "0       1.426741  -2.227970 -13.120322 -36.372900  ... -10.769432  -8.890430   \n",
      "1      30.687611  21.209840  14.001661 -24.837164  ...  35.282204 -25.979360   \n",
      "2       3.424793  12.413741   5.395781 -13.289848  ...  -0.175156  11.903503   \n",
      "3      16.728377   1.055515  13.563229  14.601504  ...  -3.698601 -21.572661   \n",
      "4      27.202783   8.903139  15.888873 -12.838776  ...  -0.692767 -19.766156   \n",
      "...          ...        ...        ...        ...  ...        ...        ...   \n",
      "99995  19.624621  19.288621   0.235675  -7.742101  ...   2.479276   3.277332   \n",
      "99996   5.421513  -5.626423 -36.776816  -9.434029  ...  -4.569802 -13.571378   \n",
      "99997 -25.519390 -12.398692  16.758120 -17.104282  ... -22.941540   3.691396   \n",
      "99998   7.801305   7.926880  -9.708039 -31.306113  ...   0.916943   7.127409   \n",
      "99999  31.662410  -4.691568  15.466799  -9.485910  ...  13.273561   2.854105   \n",
      "\n",
      "             992        993        994        995        996        997  \\\n",
      "0     -16.073013   1.119345  22.364877 -26.054869  -4.528832  -6.980304   \n",
      "1     -18.461247 -22.234714 -10.016984 -25.142181  22.209727 -10.531478   \n",
      "2       1.103137   2.563377  -5.425828 -12.902731   4.081461 -12.496060   \n",
      "3       7.437502 -15.198502  11.829943   1.836290 -27.162461   1.893907   \n",
      "4      -1.606493   6.411526  28.010541  15.815994  -7.601964   0.693669   \n",
      "...          ...        ...        ...        ...        ...        ...   \n",
      "99995  -0.473746  37.267857  13.867811 -18.051938  28.933493  -5.780811   \n",
      "99996  10.442263   0.109213   5.471346 -22.093612   4.551992  12.367651   \n",
      "99997 -25.775124 -27.400845  -6.748256  15.974843   2.887876 -12.696893   \n",
      "99998  16.732912  10.352977  12.711553  18.007506  12.130529   6.999008   \n",
      "99999  -5.145762  -4.639286   1.542722 -29.724398   7.264479   4.081928   \n",
      "\n",
      "             998        999  \n",
      "0     -12.538260  -4.347992  \n",
      "1      -0.659454  -2.920148  \n",
      "2      22.595964   8.658462  \n",
      "3      20.749415  17.051407  \n",
      "4      20.952422   2.954368  \n",
      "...          ...        ...  \n",
      "99995   2.418848   3.623276  \n",
      "99996 -11.551129  -4.323887  \n",
      "99997 -25.491495  -6.222317  \n",
      "99998   5.539689   3.937760  \n",
      "99999  -0.859406  16.982387  \n",
      "\n",
      "[100000 rows x 1000 columns]\n",
      "(100000, 1000)\n"
     ]
    }
   ],
   "source": [
    "X, y = make_classification(n_samples=10000, n_features=1000, n_informative=1000,\n",
    "                           n_redundant=0, n_classes=2, random_state=42)\n",
    "model = LogisticRegression()\n",
    "y = y.reshape(-1,1)\n",
    "df1 = pd.DataFrame(data=np.hstack((X,y)))\n",
    "x_train = df1.iloc[:,:-1]\n",
    "y_train = df1.iloc[:,-1]\n",
    "model.fit(x_train,y_train)\n",
    "\n",
    "boundary_points = multi_decision_boundary(model, x_train, y_train, threshold=100000, epsilon=1e-4)\n",
    "\n",
    "# Print the decision bo un dary points\n",
    "print(\"Decision Boundary Points (All Features):\")\n",
    "print(boundary_points)\n",
    "print(boundary_points.shape)"
   ]
  },
  {
   "cell_type": "code",
   "execution_count": 17,
   "id": "0f8b73fa",
   "metadata": {},
   "outputs": [
    {
     "name": "stdout",
     "output_type": "stream",
     "text": [
      "[0.49999995 0.50000005]\n"
     ]
    }
   ],
   "source": [
    "preds = model.predict_proba(boundary_points)\n",
    "print(np.mean(preds, axis=0))"
   ]
  },
  {
   "cell_type": "markdown",
   "id": "5f901bd5",
   "metadata": {},
   "source": [
    "# 10,000-dimensions (Make a dataset of 10,000 features with 10,000 samples)\n",
    "\n",
    "We generate this dataset with sklearn's ```make_classification``` function and then generate the decision boundary points."
   ]
  },
  {
   "cell_type": "code",
   "execution_count": null,
   "id": "b0485138",
   "metadata": {},
   "outputs": [],
   "source": [
    "X, y = make_classification(n_samples=10000, n_features=10000, n_informative=10000,\n",
    "                           n_redundant=0, n_classes=2, random_state=42)\n",
    "model = LogisticRegression()\n",
    "y = y.reshape(-1,1)\n",
    "df1 = pd.DataFrame(data=np.hstack((X,y)))\n",
    "x_train = df1.iloc[:,:-1]\n",
    "y_train = df1.iloc[:,-1]\n",
    "model.fit(x_train,y_train)\n",
    "\n",
    "boundary_points = multi_decision_boundary(model, x_train, y_train, threshold=100000, epsilon=1e-4)\n",
    "\n",
    "# Print the decision bo un dary points\n",
    "print(\"Decision Boundary Points (All Features):\")\n",
    "print(boundary_points)\n",
    "print(boundary_points.shape)"
   ]
  },
  {
   "cell_type": "code",
   "execution_count": null,
   "id": "0296b0e2",
   "metadata": {},
   "outputs": [],
   "source": [
    "preds = model.predict_proba(boundary_points)\n",
    "print(np.mean(preds, axis=0))"
   ]
  }
 ],
 "metadata": {
  "kernelspec": {
   "display_name": "gpu_env",
   "language": "python",
   "name": "python3"
  },
  "language_info": {
   "codemirror_mode": {
    "name": "ipython",
    "version": 3
   },
   "file_extension": ".py",
   "mimetype": "text/x-python",
   "name": "python",
   "nbconvert_exporter": "python",
   "pygments_lexer": "ipython3",
   "version": "3.12.11"
  }
 },
 "nbformat": 4,
 "nbformat_minor": 5
}
