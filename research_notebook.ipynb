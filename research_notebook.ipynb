{
 "cells": [
  {
   "cell_type": "markdown",
   "metadata": {},
   "source": [
    "- Imported libraries \n",
    "- Imported dataset \n",
    "- Created svm classifier"
   ]
  },
  {
   "cell_type": "code",
   "execution_count": 1,
   "metadata": {},
   "outputs": [
    {
     "name": "stderr",
     "output_type": "stream",
     "text": [
      "c:\\Users\\Compuworld\\anaconda3\\Lib\\site-packages\\pandas\\core\\arrays\\masked.py:60: UserWarning: Pandas requires version '1.3.6' or newer of 'bottleneck' (version '1.3.5' currently installed).\n",
      "  from pandas.core import (\n"
     ]
    }
   ],
   "source": [
    "import pandas as pd\n",
    "from sklearn import svm\n",
    "import matplotlib.pyplot as plt\n",
    "import numpy as np\n",
    "import warnings\n",
    "warnings.filterwarnings('ignore', category=UserWarning)\n",
    "\n",
    "\n",
    "# Reading in the dataset\n",
    "df=pd.read_csv('SVM_Dataset2.csv')\n",
    "\n",
    "# SVM classifier with polynomial decision boundary\n",
    "svm_classifier = svm.SVC(kernel='poly',C=10, degree=2, probability=True)\n",
    "# svm_classifier = svm.SVC(kernel='rbf', gamma=0.1, C=100)"
   ]
  },
  {
   "cell_type": "markdown",
   "metadata": {},
   "source": [
    "- Used KDTree for finding the closest point\n",
    "- Rewrote the optimal_point function around KDTree"
   ]
  },
  {
   "cell_type": "code",
   "execution_count": 2,
   "metadata": {},
   "outputs": [],
   "source": [
    "from scipy.spatial import KDTree\n",
    "\n",
    "# Function to find closest point to contour from the non healthy point\n",
    "def closest_point(point, contour):\n",
    "    tree = KDTree(contour)\n",
    "    closest_index = tree.query(point)[1]\n",
    "    closest_point = contour[closest_index]\n",
    "    return closest_point"
   ]
  },
  {
   "cell_type": "markdown",
   "metadata": {},
   "source": [
    "# Displacement from A to B \n",
    "\n",
    "- We added ```move_from_A_to_B_with_x1_displacement``` to the ```optimal_point()``` function"
   ]
  },
  {
   "cell_type": "code",
   "execution_count": 3,
   "metadata": {},
   "outputs": [
    {
     "name": "stdout",
     "output_type": "stream",
     "text": [
      "0.5\n",
      "[3 3 3]\n",
      "New point P with desired x1 movement: [2.5 3.5 4.5]\n"
     ]
    }
   ],
   "source": [
    "def move_from_A_to_B_with_x1_displacement(A, B, delta_x1, constrs=[]):\n",
    "    \"\"\"\n",
    "    Move from point A to point B in n-dimensional space with a desired movement in the x1 dimension.\n",
    "    \n",
    "    Parameters:\n",
    "    - A: list or np.array, coordinates of the starting point A\n",
    "    - B: list or np.array, coordinates of the target point B\n",
    "    - delta_x1: float, the desired displacement in the x1 dimension\n",
    "    \n",
    "    Returns:\n",
    "    - P: np.array, coordinates of the new point after moving delta_x1 along x1-axis\n",
    "    \"\"\"\n",
    "    A = np.array(A)\n",
    "    B = np.array(B)\n",
    "    \n",
    "    # Calculate direction vector from A to B\n",
    "    D = B - A\n",
    "    \n",
    "    # Calculate the scaling factor t for the desired movement in x1\n",
    "    t = delta_x1 / D[0]  # D[0] is the x1 component of the direction vector\n",
    "\n",
    "    if len(constrs) > 0:\n",
    "        for i in range(D.shape[0]): \n",
    "            D[i] = D[i] * (constrs[i])\n",
    "    \n",
    "    # Calculate the new point P based on t\n",
    "    P = A + t * D\n",
    "\n",
    "    print(t) \n",
    "    print(D)\n",
    "    \n",
    "    return P\n",
    "\n",
    "# Example usage\n",
    "A = [1, 2, 3]  # Starting point in 3D space\n",
    "B = [4, 5, 6]  # Target point in 3D space\n",
    "delta_x1 = 1.5  # Desired movement in x1 dimension\n",
    "\n",
    "P = move_from_A_to_B_with_x1_displacement(A, B, delta_x1)\n",
    "print(\"New point P with desired x1 movement:\", P)"
   ]
  },
  {
   "cell_type": "code",
   "execution_count": 4,
   "metadata": {},
   "outputs": [],
   "source": [
    "from scipy.interpolate import interp1d\n",
    "\n",
    "# Generates the decision boundary in the case of binary classification\n",
    "def boundary_generator(xx1, xx2, model): \n",
    "    x_in = np.c_[xx1.ravel(), xx2.ravel()]\n",
    "    y_pred = model.predict(x_in)\n",
    "    y_pred = np.round(y_pred).reshape(xx1.shape)\n",
    "    bound_data = []\n",
    "    contour = plt.contour(xx1, xx2, y_pred, colors='red')\n",
    "    for collection in contour.collections[:1]:\n",
    "        for path in collection.get_paths():\n",
    "            vertices = path.vertices\n",
    "            x_coords = vertices[:, 0]\n",
    "            y_coords = vertices[:, 1]\n",
    "            bound_data.extend(zip(x_coords,y_coords))\n",
    "    boundary_df = pd.DataFrame(data=bound_data, columns=['x1','x2'])\n",
    "    return boundary_df\n",
    "\n",
    "# Gets boundary points\n",
    "def boundary_points(xx1, xx2, model): \n",
    "    boundary_df = boundary_generator(xx1=xx1, xx2=xx2, model=model)\n",
    "    boundary_df = boundary_df.drop_duplicates(subset='x1')\n",
    "\n",
    "    bound_x, bound_y = boundary_df.iloc[:, 0], boundary_df.iloc[:, 1]\n",
    "    return bound_x, bound_y \n",
    "\n",
    "# Algorithm that determines the point that is closest to the decision boundary from a specified data point (undesired_coords) \n",
    "def optimal_point(df, model, desired_class, undesired_coords, epsilon=0.01, x1_constr=1, x2_constr=1): \n",
    "\n",
    "    X1=df['x1']\n",
    "    X2=df['x2']\n",
    "    X_train=np.array(list(zip(X1,X2)))\n",
    "    y_train=df['y'].values\n",
    "\n",
    "    model.fit(X_train, y_train)\n",
    "\n",
    "    bound_x, bound_y = None, None\n",
    "    X = X_train\n",
    "    x1_min, x1_max = X[:, 0].min() - 1, X[:, 0].max() + 1\n",
    "    x2_min, x2_max = X[:, 1].min() - 1, X[:, 1].max() + 1\n",
    "    xx1, xx2 = np.meshgrid(np.linspace(x1_min,x1_max, 2000),np.linspace(x2_min, x2_max, 2000))\n",
    "\n",
    "    bound_x, bound_y = boundary_points(xx1, xx2, model)\n",
    "\n",
    "    N = 200000\n",
    "    f = interp1d(bound_x, bound_y, kind='cubic')\n",
    "    X_pred = np.linspace(np.min(bound_x), np.max(bound_x), N)[:, np.newaxis]\n",
    "    Y_pred = f(X_pred)\n",
    "\n",
    "    contours = np.c_[X_pred, Y_pred]\n",
    "    plt.plot(X_pred, Y_pred, color='black')\n",
    "\n",
    "    undesired_datapt = np.array([undesired_coords[0], undesired_coords[1]])\n",
    "    optimal_datapt = closest_point(undesired_datapt, contour=contours)\n",
    "\n",
    "    D = optimal_datapt - undesired_datapt\n",
    "    delta_x1 = D[0]\n",
    "    if desired_class == 1: \n",
    "        delta_x1 = delta_x1 * (1+epsilon)\n",
    "        optimal_datapt = move_from_A_to_B_with_x1_displacement(undesired_datapt, optimal_datapt, delta_x1=delta_x1, constrs=[x1_constr, x2_constr])\n",
    "        plt.scatter(undesired_datapt[0], undesired_datapt[1], c = 'r')\n",
    "        plt.text(undesired_datapt[0]+0.002, undesired_datapt[1]+0.002, 'NH')\n",
    "        plt.scatter(optimal_datapt[0], optimal_datapt[1], c = 'b')\n",
    "        plt.text(optimal_datapt[0]+0.002, optimal_datapt[1]+0.002, 'H')\n",
    "        plt.plot([undesired_datapt[0], optimal_datapt[0]], [undesired_datapt[1],optimal_datapt[1]], linestyle='--')\n",
    "        return optimal_datapt \n",
    "    elif desired_class == -1: \n",
    "        optimal_datapt = move_from_A_to_B_with_x1_displacement(undesired_datapt, optimal_datapt, delta_x1=delta_x1, constrs=[x1_constr, x2_constr])\n",
    "        plt.scatter(undesired_datapt[0], undesired_datapt[1], c = 'r')\n",
    "        plt.text(undesired_datapt[0]+0.002, undesired_datapt[1]+0.002, 'NH')\n",
    "        plt.scatter(optimal_datapt[0], optimal_datapt[1], c = 'r')\n",
    "        plt.text(optimal_datapt[0]+0.002, optimal_datapt[1]+0.002, 'NH')\n",
    "        plt.plot([undesired_datapt[0], optimal_datapt[0]], [undesired_datapt[1],optimal_datapt[1]], linestyle='--')\n",
    "        return optimal_datapt"
   ]
  },
  {
   "cell_type": "code",
   "execution_count": 5,
   "metadata": {},
   "outputs": [
    {
     "name": "stdout",
     "output_type": "stream",
     "text": [
      "1.07\n",
      "[-0.27054087 -4.52735398]\n"
     ]
    },
    {
     "data": {
      "text/plain": [
       "array([10.71052127, 10.15573124])"
      ]
     },
     "execution_count": 5,
     "metadata": {},
     "output_type": "execute_result"
    },
    {
     "data": {
      "image/png": "[encoded data removed]",
      "text/plain": [
       "<Figure size 640x480 with 1 Axes>"
      ]
     },
     "metadata": {},
     "output_type": "display_data"
    }
   ],
   "source": [
    "optimal_projection1 = optimal_point(df, svm_classifier, desired_class=1, undesired_coords=(11,15), epsilon=0.07)\n",
    "optimal_projection1"
   ]
  },
  {
   "cell_type": "code",
   "execution_count": 6,
   "metadata": {},
   "outputs": [
    {
     "name": "stdout",
     "output_type": "stream",
     "text": [
      "     x1  x2\n",
      "0   7.0  20\n",
      "1   8.0  12\n",
      "2   9.0  19\n",
      "3  10.0  17\n",
      "4  11.0  15\n",
      "5  13.0  14\n",
      "6  14.0  12\n",
      "7  15.0  14\n",
      "8  15.0  17\n",
      "9  16.0  16\n",
      "1.05\n",
      "[-3.57288938 -0.6407448 ]\n",
      "1.05\n",
      "[-0.4127413  -0.69482652]\n",
      "1.05\n",
      "[-5.2099653 -1.2938909]\n",
      "1.05\n",
      "[-5.21218395 -2.30546576]\n",
      "1.05\n",
      "[-0.27054087 -4.52735398]\n",
      "1.05\n",
      "[ 0.51421018 -3.36582022]\n",
      "1.05\n",
      "[ 0.21448665 -1.2552767 ]\n",
      "1.05\n",
      "[ 0.72695907 -2.94918771]\n",
      "1.05\n",
      "[ 1.47636923 -5.77057428]\n",
      "1.05\n",
      "[ 0.9807346  -4.64298964]\n"
     ]
    },
    {
     "data": {
      "image/png": "[encoded data removed]",
      "text/plain": [
       "<Figure size 640x480 with 1 Axes>"
      ]
     },
     "metadata": {},
     "output_type": "display_data"
    }
   ],
   "source": [
    "# Data frame consisting of all \"non-healthy\" data points or points where the classification is -1\n",
    "undesired_df = df.loc[df['y'] == -1]\n",
    "\n",
    "undesired_df = undesired_df.drop(columns=['y'])\n",
    "print(undesired_df)\n",
    "optimal_datapts1 = pd.DataFrame(data=[], columns=('x1', 'x2'))\n",
    "\n",
    "# Iterates over each of the rows of the undesired dataframe and finds the optimal point\n",
    "for r in range(undesired_df.shape[0]): \n",
    "    \n",
    "    # Undesired data point\n",
    "    data_pt = undesired_df.iloc[r]  \n",
    "    optimal_pt = optimal_point(df, svm_classifier, desired_class=1, undesired_coords=(data_pt.iloc[0], data_pt.iloc[1]), epsilon=0.05)\n",
    "    optimal_datapts1.loc[len(optimal_datapts1)] = optimal_pt"
   ]
  },
  {
   "cell_type": "code",
   "execution_count": 7,
   "metadata": {},
   "outputs": [
    {
     "data": {
      "text/html": [
       "<div>\n",
       "<style scoped>\n",
       "    .dataframe tbody tr th:only-of-type {\n",
       "        vertical-align: middle;\n",
       "    }\n",
       "\n",
       "    .dataframe tbody tr th {\n",
       "        vertical-align: top;\n",
       "    }\n",
       "\n",
       "    .dataframe thead th {\n",
       "        text-align: right;\n",
       "    }\n",
       "</style>\n",
       "<table border=\"1\" class=\"dataframe\">\n",
       "  <thead>\n",
       "    <tr style=\"text-align: right;\">\n",
       "      <th></th>\n",
       "      <th>x1</th>\n",
       "      <th>x2</th>\n",
       "    </tr>\n",
       "  </thead>\n",
       "  <tbody>\n",
       "    <tr>\n",
       "      <th>0</th>\n",
       "      <td>3.248466</td>\n",
       "      <td>19.327218</td>\n",
       "    </tr>\n",
       "    <tr>\n",
       "      <th>1</th>\n",
       "      <td>7.566622</td>\n",
       "      <td>11.270432</td>\n",
       "    </tr>\n",
       "    <tr>\n",
       "      <th>2</th>\n",
       "      <td>3.529536</td>\n",
       "      <td>17.641415</td>\n",
       "    </tr>\n",
       "    <tr>\n",
       "      <th>3</th>\n",
       "      <td>4.527207</td>\n",
       "      <td>14.579261</td>\n",
       "    </tr>\n",
       "    <tr>\n",
       "      <th>4</th>\n",
       "      <td>10.715932</td>\n",
       "      <td>10.246278</td>\n",
       "    </tr>\n",
       "    <tr>\n",
       "      <th>5</th>\n",
       "      <td>13.539921</td>\n",
       "      <td>10.465889</td>\n",
       "    </tr>\n",
       "    <tr>\n",
       "      <th>6</th>\n",
       "      <td>14.225211</td>\n",
       "      <td>10.681959</td>\n",
       "    </tr>\n",
       "    <tr>\n",
       "      <th>7</th>\n",
       "      <td>15.763307</td>\n",
       "      <td>10.903353</td>\n",
       "    </tr>\n",
       "    <tr>\n",
       "      <th>8</th>\n",
       "      <td>16.550188</td>\n",
       "      <td>10.940897</td>\n",
       "    </tr>\n",
       "    <tr>\n",
       "      <th>9</th>\n",
       "      <td>17.029771</td>\n",
       "      <td>11.124861</td>\n",
       "    </tr>\n",
       "  </tbody>\n",
       "</table>\n",
       "</div>"
      ],
      "text/plain": [
       "          x1         x2\n",
       "0   3.248466  19.327218\n",
       "1   7.566622  11.270432\n",
       "2   3.529536  17.641415\n",
       "3   4.527207  14.579261\n",
       "4  10.715932  10.246278\n",
       "5  13.539921  10.465889\n",
       "6  14.225211  10.681959\n",
       "7  15.763307  10.903353\n",
       "8  16.550188  10.940897\n",
       "9  17.029771  11.124861"
      ]
     },
     "execution_count": 7,
     "metadata": {},
     "output_type": "execute_result"
    }
   ],
   "source": [
    "optimal_datapts1"
   ]
  },
  {
   "cell_type": "markdown",
   "metadata": {},
   "source": [
    "- The black line was generated from a set of points where the probability from the classifier matched 0.5 exactly or was sufficiently close to 0.5 (50%) \n",
    "- The red line was generated using the boundary function that we have defined above"
   ]
  },
  {
   "cell_type": "code",
   "execution_count": null,
   "metadata": {},
   "outputs": [
    {
     "data": {
      "image/png": "[encoded data removed]",
      "text/plain": [
       "<Figure size 640x480 with 1 Axes>"
      ]
     },
     "metadata": {},
     "output_type": "display_data"
    }
   ],
   "source": [
    "X1=df['x1']\n",
    "X2=df['x2']\n",
    "X_train=np.array(list(zip(X1,X2)))\n",
    "y_train=df['y'].values\n",
    "X=X_train\n",
    "\n",
    "svm_classifier.fit(X_train, y_train)\n",
    "\n",
    "X = X_train\n",
    "x1_min, x1_max = X[:, 0].min() - 2, X[:, 0].max() + 2\n",
    "x2_min, x2_max = X[:, 1].min() - 2, X[:, 1].max() + 2\n",
    "\n",
    "xx1, xx2 = np.meshgrid(np.linspace(x1_min,x1_max, 100),np.linspace(x2_min, x2_max, 100))\n",
    "Z = svm_classifier.decision_function(np.array([xx1.ravel(), xx2.ravel()]).T).reshape(xx1.shape)\n",
    "x_in = np.c_[xx1.ravel(), xx2.ravel()]\n",
    "y_pred = svm_classifier.predict(x_in)\n",
    "y_pred = np.round(y_pred).reshape(xx1.shape)\n",
    "\n",
    "bound_data = []\n",
    "contour = plt.contour(xx1, xx2, y_pred, colors='black')\n",
    "for collection in contour.collections[:1]:\n",
    "    for path in collection.get_paths():\n",
    "        vertices = path.vertices\n",
    "        x_coords = vertices[:, 0]\n",
    "        y_coords = vertices[:, 1]\n",
    "        bound_data.extend(zip(x_coords,y_coords))\n",
    "for collection in contour.collections:\n",
    "    collection.set_visible(False)\n",
    "boundary_df = pd.DataFrame(data=bound_data, columns=['x1','x2'])\n",
    "N=200000\n",
    "boundary_df = boundary_df.drop_duplicates(subset='x1')\n",
    "bound_x, bound_y = boundary_df.iloc[:, 0], boundary_df.iloc[:, 1]\n",
    "\n",
    "f =            (bound_x, bound_y, kind='cubic')\n",
    "X_pred = np.linspace(np.min(bound_x), np.max(bound_x), N)[:, np.newaxis]\n",
    "Y_pred = f(X_pred)\n",
    "plt.plot(X_pred, Y_pred, c='r')\n",
    "plt.contour(xx1, xx2, Z, levels=[-1, 0, 1], colors=['purple','black','green'])\n",
    "plt.scatter(X[:, 0], X[:, 1])\n",
    "plt.show()"
   ]
  },
  {
   "cell_type": "markdown",
   "metadata": {},
   "source": [
    "# Applying Constraints on both $X_1$ and $X_2$ \n",
    "\n",
    "- Below, we apply the constraints to the magnitude of the direction vector from the original unhealthy point to the decision boundary \n",
    "- We apply the constraints independently for each feature $x_1$ and $x_2$ while fixing the other constraint. For instance, we fix $x_2$ feature while changing the scale factor for the direction of the $x_1$ feature. We also do this vice versa for the other feature.\n",
    "\n",
    "Parameters: \n",
    "- Apply $\\epsilon = 0.05$ and undesired coordinates $(9,19)$ "
   ]
  },
  {
   "cell_type": "markdown",
   "metadata": {},
   "source": [
    "First, we evaluate the ```optimal_point()``` function for the above parameters and get the optimal coordinates $(3.529, 17.641)$"
   ]
  },
  {
   "cell_type": "code",
   "execution_count": 9,
   "metadata": {},
   "outputs": [
    {
     "name": "stdout",
     "output_type": "stream",
     "text": [
      "1.05\n",
      "[-5.2099653 -1.2938909]\n"
     ]
    },
    {
     "data": {
      "text/plain": [
       "array([ 3.52953644, 17.64141455])"
      ]
     },
     "execution_count": 9,
     "metadata": {},
     "output_type": "execute_result"
    },
    {
     "data": {
      "image/png": "[encoded data removed]",
      "text/plain": [
       "<Figure size 640x480 with 1 Axes>"
      ]
     },
     "metadata": {},
     "output_type": "display_data"
    }
   ],
   "source": [
    "optimal_projection = optimal_point(df, svm_classifier, desired_class=1, undesired_coords=(9,19), epsilon=0.05)\n",
    "optimal_projection"
   ]
  },
  {
   "cell_type": "markdown",
   "metadata": {},
   "source": [
    "We now fix the $x_2$ feature using the $x_2$ constraint variable and then change the $x_1$ feature across different scales, $0.2, 0.5, 0.8, 0.99$."
   ]
  },
  {
   "cell_type": "code",
   "execution_count": 10,
   "metadata": {},
   "outputs": [
    {
     "name": "stdout",
     "output_type": "stream",
     "text": [
      "1.0\n",
      "[-1.04199306 -0.25877818]\n"
     ]
    },
    {
     "data": {
      "text/plain": [
       "array([ 7.95800694, 18.74122182])"
      ]
     },
     "execution_count": 10,
     "metadata": {},
     "output_type": "execute_result"
    },
    {
     "data": {
      "image/png": "[encoded data removed]",
      "text/plain": [
       "<Figure size 640x480 with 1 Axes>"
      ]
     },
     "metadata": {},
     "output_type": "display_data"
    }
   ],
   "source": [
    "optimal_projection = optimal_point(df, svm_classifier, desired_class=-1, undesired_coords=(9,19), x1_constr=0.2, x2_constr=0.2)\n",
    "optimal_projection"
   ]
  },
  {
   "cell_type": "code",
   "execution_count": 11,
   "metadata": {},
   "outputs": [
    {
     "name": "stdout",
     "output_type": "stream",
     "text": [
      "1.0\n",
      "[-2.60498265 -0.25877818]\n"
     ]
    },
    {
     "data": {
      "text/plain": [
       "array([ 6.39501735, 18.74122182])"
      ]
     },
     "execution_count": 11,
     "metadata": {},
     "output_type": "execute_result"
    },
    {
     "data": {
      "image/png": "[encoded data removed]",
      "text/plain": [
       "<Figure size 640x480 with 1 Axes>"
      ]
     },
     "metadata": {},
     "output_type": "display_data"
    }
   ],
   "source": [
    "optimal_projection = optimal_point(df, svm_classifier, desired_class=-1, undesired_coords=(9,19), x1_constr=0.5, x2_constr=0.2)\n",
    "optimal_projection"
   ]
  },
  {
   "cell_type": "code",
   "execution_count": 12,
   "metadata": {},
   "outputs": [
    {
     "name": "stdout",
     "output_type": "stream",
     "text": [
      "1.0\n",
      "[-4.16797224 -0.25877818]\n"
     ]
    },
    {
     "data": {
      "text/plain": [
       "array([ 4.83202776, 18.74122182])"
      ]
     },
     "execution_count": 12,
     "metadata": {},
     "output_type": "execute_result"
    },
    {
     "data": {
      "image/png": "[encoded data removed]",
      "text/plain": [
       "<Figure size 640x480 with 1 Axes>"
      ]
     },
     "metadata": {},
     "output_type": "display_data"
    }
   ],
   "source": [
    "optimal_projection = optimal_point(df, svm_classifier, desired_class=-1, undesired_coords=(9,19), x1_constr=0.8, x2_constr=0.2)\n",
    "optimal_projection"
   ]
  },
  {
   "cell_type": "code",
   "execution_count": 13,
   "metadata": {},
   "outputs": [
    {
     "name": "stdout",
     "output_type": "stream",
     "text": [
      "1.0\n",
      "[-5.15786565 -0.25877818]\n"
     ]
    },
    {
     "data": {
      "text/plain": [
       "array([ 3.84213435, 18.74122182])"
      ]
     },
     "execution_count": 13,
     "metadata": {},
     "output_type": "execute_result"
    },
    {
     "data": {
      "image/png": "[encoded data removed]",
      "text/plain": [
       "<Figure size 640x480 with 1 Axes>"
      ]
     },
     "metadata": {},
     "output_type": "display_data"
    }
   ],
   "source": [
    "optimal_projection = optimal_point(df, svm_classifier, desired_class=-1, undesired_coords=(9,19), x1_constr=0.99, x2_constr=0.2)\n",
    "optimal_projection"
   ]
  },
  {
   "cell_type": "markdown",
   "metadata": {},
   "source": [
    "We now fix the $x_1$ feature using the $x_1$ constraint variable and then change the $x_2$ feature across different scales, $0.5, 0.8, 0.99$."
   ]
  },
  {
   "cell_type": "code",
   "execution_count": 14,
   "metadata": {},
   "outputs": [
    {
     "name": "stdout",
     "output_type": "stream",
     "text": [
      "1.0\n",
      "[-1.04199306 -0.64694545]\n"
     ]
    },
    {
     "data": {
      "text/plain": [
       "array([ 7.95800694, 18.35305455])"
      ]
     },
     "execution_count": 14,
     "metadata": {},
     "output_type": "execute_result"
    },
    {
     "data": {
      "image/png": "[encoded data removed]",
      "text/plain": [
       "<Figure size 640x480 with 1 Axes>"
      ]
     },
     "metadata": {},
     "output_type": "display_data"
    }
   ],
   "source": [
    "optimal_projection = optimal_point(df, svm_classifier, desired_class=-1, undesired_coords=(9,19), x1_constr=0.2, x2_constr=0.5)\n",
    "optimal_projection"
   ]
  },
  {
   "cell_type": "code",
   "execution_count": 15,
   "metadata": {},
   "outputs": [
    {
     "name": "stdout",
     "output_type": "stream",
     "text": [
      "1.0\n",
      "[-1.04199306 -1.03511272]\n"
     ]
    },
    {
     "data": {
      "text/plain": [
       "array([ 7.95800694, 17.96488728])"
      ]
     },
     "execution_count": 15,
     "metadata": {},
     "output_type": "execute_result"
    },
    {
     "data": {
      "image/png": "[encoded data removed]",
      "text/plain": [
       "<Figure size 640x480 with 1 Axes>"
      ]
     },
     "metadata": {},
     "output_type": "display_data"
    }
   ],
   "source": [
    "optimal_projection = optimal_point(df, svm_classifier, desired_class=-1, undesired_coords=(9,19), x1_constr=0.2, x2_constr=0.8)\n",
    "optimal_projection"
   ]
  },
  {
   "cell_type": "code",
   "execution_count": 16,
   "metadata": {},
   "outputs": [
    {
     "name": "stdout",
     "output_type": "stream",
     "text": [
      "1.0\n",
      "[-1.04199306 -1.280952  ]\n"
     ]
    },
    {
     "data": {
      "text/plain": [
       "array([ 7.95800694, 17.719048  ])"
      ]
     },
     "execution_count": 16,
     "metadata": {},
     "output_type": "execute_result"
    },
    {
     "data": {
      "image/png": "[encoded data removed]",
      "text/plain": [
       "<Figure size 640x480 with 1 Axes>"
      ]
     },
     "metadata": {},
     "output_type": "display_data"
    }
   ],
   "source": [
    "optimal_projection = optimal_point(df, svm_classifier, desired_class=-1, undesired_coords=(9,19), x1_constr=0.2, x2_constr=0.99)\n",
    "optimal_projection"
   ]
  },
  {
   "cell_type": "code",
   "execution_count": 17,
   "metadata": {},
   "outputs": [
    {
     "name": "stdout",
     "output_type": "stream",
     "text": [
      "1.0\n",
      "[-1.04199306 -0.25877818]\n"
     ]
    },
    {
     "data": {
      "text/plain": [
       "array([ 7.95800694, 18.74122182])"
      ]
     },
     "execution_count": 17,
     "metadata": {},
     "output_type": "execute_result"
    },
    {
     "data": {
      "image/png": "[encoded data removed]",
      "text/plain": [
       "<Figure size 640x480 with 1 Axes>"
      ]
     },
     "metadata": {},
     "output_type": "display_data"
    }
   ],
   "source": [
    "optimal_projection = optimal_point(df, svm_classifier, desired_class=-1, undesired_coords=(9,19), x1_constr=0.2, x2_constr=0.2)\n",
    "optimal_projection"
   ]
  },
  {
   "cell_type": "code",
   "execution_count": 18,
   "metadata": {},
   "outputs": [
    {
     "name": "stdout",
     "output_type": "stream",
     "text": [
      "1.0\n",
      "[-2.60498265 -0.64694545]\n"
     ]
    },
    {
     "data": {
      "text/plain": [
       "array([ 6.39501735, 18.35305455])"
      ]
     },
     "execution_count": 18,
     "metadata": {},
     "output_type": "execute_result"
    },
    {
     "data": {
      "image/png": "[encoded data removed]",
      "text/plain": [
       "<Figure size 640x480 with 1 Axes>"
      ]
     },
     "metadata": {},
     "output_type": "display_data"
    }
   ],
   "source": [
    "optimal_projection = optimal_point(df, svm_classifier, desired_class=-1, undesired_coords=(9,19), x1_constr=0.5, x2_constr=0.5)\n",
    "optimal_projection"
   ]
  },
  {
   "cell_type": "code",
   "execution_count": 19,
   "metadata": {},
   "outputs": [
    {
     "name": "stdout",
     "output_type": "stream",
     "text": [
      "1.0\n",
      "[-4.68896877 -1.16450181]\n"
     ]
    },
    {
     "data": {
      "text/plain": [
       "array([ 4.31103123, 17.83549819])"
      ]
     },
     "execution_count": 19,
     "metadata": {},
     "output_type": "execute_result"
    },
    {
     "data": {
      "image/png": "[encoded data removed]",
      "text/plain": [
       "<Figure size 640x480 with 1 Axes>"
      ]
     },
     "metadata": {},
     "output_type": "display_data"
    }
   ],
   "source": [
    "optimal_projection = optimal_point(df, svm_classifier, desired_class=-1, undesired_coords=(9,19), x1_constr=0.9, x2_constr=0.9)\n",
    "optimal_projection"
   ]
  },
  {
   "cell_type": "markdown",
   "metadata": {},
   "source": [
    "# Synthetic Dataset Construction \n",
    "\n",
    "- Below, we construct a synthetic dataset consisting of three features. We have two features ```x1``` and ```x2``` and add a third feature to the SVM dataset for the sex of the patient."
   ]
  },
  {
   "cell_type": "code",
   "execution_count": 20,
   "metadata": {},
   "outputs": [
    {
     "data": {
      "text/html": [
       "<div>\n",
       "<style scoped>\n",
       "    .dataframe tbody tr th:only-of-type {\n",
       "        vertical-align: middle;\n",
       "    }\n",
       "\n",
       "    .dataframe tbody tr th {\n",
       "        vertical-align: top;\n",
       "    }\n",
       "\n",
       "    .dataframe thead th {\n",
       "        text-align: right;\n",
       "    }\n",
       "</style>\n",
       "<table border=\"1\" class=\"dataframe\">\n",
       "  <thead>\n",
       "    <tr style=\"text-align: right;\">\n",
       "      <th></th>\n",
       "      <th>age</th>\n",
       "      <th>sex</th>\n",
       "      <th>cp</th>\n",
       "      <th>trestbps</th>\n",
       "      <th>chol</th>\n",
       "      <th>fbs</th>\n",
       "      <th>restecg</th>\n",
       "      <th>thalach</th>\n",
       "      <th>exang</th>\n",
       "      <th>oldpeak</th>\n",
       "      <th>slope</th>\n",
       "      <th>ca</th>\n",
       "      <th>thal</th>\n",
       "      <th>num</th>\n",
       "    </tr>\n",
       "  </thead>\n",
       "  <tbody>\n",
       "    <tr>\n",
       "      <th>0</th>\n",
       "      <td>67.0</td>\n",
       "      <td>1.0</td>\n",
       "      <td>4.0</td>\n",
       "      <td>160.0</td>\n",
       "      <td>286.0</td>\n",
       "      <td>0.0</td>\n",
       "      <td>2.0</td>\n",
       "      <td>108.0</td>\n",
       "      <td>1.0</td>\n",
       "      <td>1.5</td>\n",
       "      <td>2.0</td>\n",
       "      <td>3.0</td>\n",
       "      <td>3.0</td>\n",
       "      <td>2</td>\n",
       "    </tr>\n",
       "    <tr>\n",
       "      <th>1</th>\n",
       "      <td>67.0</td>\n",
       "      <td>1.0</td>\n",
       "      <td>4.0</td>\n",
       "      <td>120.0</td>\n",
       "      <td>229.0</td>\n",
       "      <td>0.0</td>\n",
       "      <td>2.0</td>\n",
       "      <td>129.0</td>\n",
       "      <td>1.0</td>\n",
       "      <td>2.6</td>\n",
       "      <td>2.0</td>\n",
       "      <td>2.0</td>\n",
       "      <td>7.0</td>\n",
       "      <td>1</td>\n",
       "    </tr>\n",
       "    <tr>\n",
       "      <th>2</th>\n",
       "      <td>37.0</td>\n",
       "      <td>1.0</td>\n",
       "      <td>3.0</td>\n",
       "      <td>130.0</td>\n",
       "      <td>250.0</td>\n",
       "      <td>0.0</td>\n",
       "      <td>0.0</td>\n",
       "      <td>187.0</td>\n",
       "      <td>0.0</td>\n",
       "      <td>3.5</td>\n",
       "      <td>3.0</td>\n",
       "      <td>0.0</td>\n",
       "      <td>3.0</td>\n",
       "      <td>0</td>\n",
       "    </tr>\n",
       "    <tr>\n",
       "      <th>3</th>\n",
       "      <td>41.0</td>\n",
       "      <td>0.0</td>\n",
       "      <td>2.0</td>\n",
       "      <td>130.0</td>\n",
       "      <td>204.0</td>\n",
       "      <td>0.0</td>\n",
       "      <td>2.0</td>\n",
       "      <td>172.0</td>\n",
       "      <td>0.0</td>\n",
       "      <td>1.4</td>\n",
       "      <td>1.0</td>\n",
       "      <td>0.0</td>\n",
       "      <td>3.0</td>\n",
       "      <td>0</td>\n",
       "    </tr>\n",
       "    <tr>\n",
       "      <th>4</th>\n",
       "      <td>56.0</td>\n",
       "      <td>1.0</td>\n",
       "      <td>2.0</td>\n",
       "      <td>120.0</td>\n",
       "      <td>236.0</td>\n",
       "      <td>0.0</td>\n",
       "      <td>0.0</td>\n",
       "      <td>178.0</td>\n",
       "      <td>0.0</td>\n",
       "      <td>0.8</td>\n",
       "      <td>1.0</td>\n",
       "      <td>0.0</td>\n",
       "      <td>3.0</td>\n",
       "      <td>0</td>\n",
       "    </tr>\n",
       "    <tr>\n",
       "      <th>...</th>\n",
       "      <td>...</td>\n",
       "      <td>...</td>\n",
       "      <td>...</td>\n",
       "      <td>...</td>\n",
       "      <td>...</td>\n",
       "      <td>...</td>\n",
       "      <td>...</td>\n",
       "      <td>...</td>\n",
       "      <td>...</td>\n",
       "      <td>...</td>\n",
       "      <td>...</td>\n",
       "      <td>...</td>\n",
       "      <td>...</td>\n",
       "      <td>...</td>\n",
       "    </tr>\n",
       "    <tr>\n",
       "      <th>297</th>\n",
       "      <td>45.0</td>\n",
       "      <td>1.0</td>\n",
       "      <td>1.0</td>\n",
       "      <td>110.0</td>\n",
       "      <td>264.0</td>\n",
       "      <td>0.0</td>\n",
       "      <td>0.0</td>\n",
       "      <td>132.0</td>\n",
       "      <td>0.0</td>\n",
       "      <td>1.2</td>\n",
       "      <td>2.0</td>\n",
       "      <td>0.0</td>\n",
       "      <td>7.0</td>\n",
       "      <td>1</td>\n",
       "    </tr>\n",
       "    <tr>\n",
       "      <th>298</th>\n",
       "      <td>68.0</td>\n",
       "      <td>1.0</td>\n",
       "      <td>4.0</td>\n",
       "      <td>144.0</td>\n",
       "      <td>193.0</td>\n",
       "      <td>1.0</td>\n",
       "      <td>0.0</td>\n",
       "      <td>141.0</td>\n",
       "      <td>0.0</td>\n",
       "      <td>3.4</td>\n",
       "      <td>2.0</td>\n",
       "      <td>2.0</td>\n",
       "      <td>7.0</td>\n",
       "      <td>2</td>\n",
       "    </tr>\n",
       "    <tr>\n",
       "      <th>299</th>\n",
       "      <td>57.0</td>\n",
       "      <td>1.0</td>\n",
       "      <td>4.0</td>\n",
       "      <td>130.0</td>\n",
       "      <td>131.0</td>\n",
       "      <td>0.0</td>\n",
       "      <td>0.0</td>\n",
       "      <td>115.0</td>\n",
       "      <td>1.0</td>\n",
       "      <td>1.2</td>\n",
       "      <td>2.0</td>\n",
       "      <td>1.0</td>\n",
       "      <td>7.0</td>\n",
       "      <td>3</td>\n",
       "    </tr>\n",
       "    <tr>\n",
       "      <th>300</th>\n",
       "      <td>57.0</td>\n",
       "      <td>0.0</td>\n",
       "      <td>2.0</td>\n",
       "      <td>130.0</td>\n",
       "      <td>236.0</td>\n",
       "      <td>0.0</td>\n",
       "      <td>2.0</td>\n",
       "      <td>174.0</td>\n",
       "      <td>0.0</td>\n",
       "      <td>0.0</td>\n",
       "      <td>2.0</td>\n",
       "      <td>1.0</td>\n",
       "      <td>3.0</td>\n",
       "      <td>1</td>\n",
       "    </tr>\n",
       "    <tr>\n",
       "      <th>301</th>\n",
       "      <td>38.0</td>\n",
       "      <td>1.0</td>\n",
       "      <td>3.0</td>\n",
       "      <td>138.0</td>\n",
       "      <td>175.0</td>\n",
       "      <td>0.0</td>\n",
       "      <td>0.0</td>\n",
       "      <td>173.0</td>\n",
       "      <td>0.0</td>\n",
       "      <td>0.0</td>\n",
       "      <td>1.0</td>\n",
       "      <td>?</td>\n",
       "      <td>3.0</td>\n",
       "      <td>0</td>\n",
       "    </tr>\n",
       "  </tbody>\n",
       "</table>\n",
       "<p>302 rows × 14 columns</p>\n",
       "</div>"
      ],
      "text/plain": [
       "      age  sex   cp  trestbps   chol  fbs  restecg  thalach  exang  oldpeak  \\\n",
       "0    67.0  1.0  4.0     160.0  286.0  0.0      2.0    108.0    1.0      1.5   \n",
       "1    67.0  1.0  4.0     120.0  229.0  0.0      2.0    129.0    1.0      2.6   \n",
       "2    37.0  1.0  3.0     130.0  250.0  0.0      0.0    187.0    0.0      3.5   \n",
       "3    41.0  0.0  2.0     130.0  204.0  0.0      2.0    172.0    0.0      1.4   \n",
       "4    56.0  1.0  2.0     120.0  236.0  0.0      0.0    178.0    0.0      0.8   \n",
       "..    ...  ...  ...       ...    ...  ...      ...      ...    ...      ...   \n",
       "297  45.0  1.0  1.0     110.0  264.0  0.0      0.0    132.0    0.0      1.2   \n",
       "298  68.0  1.0  4.0     144.0  193.0  1.0      0.0    141.0    0.0      3.4   \n",
       "299  57.0  1.0  4.0     130.0  131.0  0.0      0.0    115.0    1.0      1.2   \n",
       "300  57.0  0.0  2.0     130.0  236.0  0.0      2.0    174.0    0.0      0.0   \n",
       "301  38.0  1.0  3.0     138.0  175.0  0.0      0.0    173.0    0.0      0.0   \n",
       "\n",
       "     slope   ca thal  num  \n",
       "0      2.0  3.0  3.0    2  \n",
       "1      2.0  2.0  7.0    1  \n",
       "2      3.0  0.0  3.0    0  \n",
       "3      1.0  0.0  3.0    0  \n",
       "4      1.0  0.0  3.0    0  \n",
       "..     ...  ...  ...  ...  \n",
       "297    2.0  0.0  7.0    1  \n",
       "298    2.0  2.0  7.0    2  \n",
       "299    2.0  1.0  7.0    3  \n",
       "300    2.0  1.0  3.0    1  \n",
       "301    1.0    ?  3.0    0  \n",
       "\n",
       "[302 rows x 14 columns]"
      ]
     },
     "execution_count": 20,
     "metadata": {},
     "output_type": "execute_result"
    }
   ],
   "source": [
    "import random \n",
    "random.seed(0)\n",
    "synthetic_df = pd.read_csv('processed.cleveland.data')\n",
    "synthetic_df.columns = ['age', 'sex', 'cp', 'trestbps', 'chol', \n",
    "                        'fbs', 'restecg', 'thalach', 'exang',\n",
    "                         'oldpeak', 'slope', 'ca', 'thal', 'num']\n",
    "synthetic_df"
   ]
  },
  {
   "cell_type": "markdown",
   "metadata": {},
   "source": [
    "# Removing Categorical Features \n",
    "\n",
    "- We remove all categorical features except for only categorical feature, namely the \"sex\" of the patient"
   ]
  },
  {
   "cell_type": "code",
   "execution_count": 21,
   "metadata": {},
   "outputs": [
    {
     "data": {
      "text/html": [
       "<div>\n",
       "<style scoped>\n",
       "    .dataframe tbody tr th:only-of-type {\n",
       "        vertical-align: middle;\n",
       "    }\n",
       "\n",
       "    .dataframe tbody tr th {\n",
       "        vertical-align: top;\n",
       "    }\n",
       "\n",
       "    .dataframe thead th {\n",
       "        text-align: right;\n",
       "    }\n",
       "</style>\n",
       "<table border=\"1\" class=\"dataframe\">\n",
       "  <thead>\n",
       "    <tr style=\"text-align: right;\">\n",
       "      <th></th>\n",
       "      <th>age</th>\n",
       "      <th>sex</th>\n",
       "      <th>trestbps</th>\n",
       "      <th>chol</th>\n",
       "      <th>thalach</th>\n",
       "      <th>oldpeak</th>\n",
       "      <th>num</th>\n",
       "    </tr>\n",
       "  </thead>\n",
       "  <tbody>\n",
       "    <tr>\n",
       "      <th>0</th>\n",
       "      <td>67.0</td>\n",
       "      <td>1.0</td>\n",
       "      <td>160.0</td>\n",
       "      <td>286.0</td>\n",
       "      <td>108.0</td>\n",
       "      <td>1.5</td>\n",
       "      <td>2</td>\n",
       "    </tr>\n",
       "    <tr>\n",
       "      <th>1</th>\n",
       "      <td>67.0</td>\n",
       "      <td>1.0</td>\n",
       "      <td>120.0</td>\n",
       "      <td>229.0</td>\n",
       "      <td>129.0</td>\n",
       "      <td>2.6</td>\n",
       "      <td>1</td>\n",
       "    </tr>\n",
       "    <tr>\n",
       "      <th>2</th>\n",
       "      <td>37.0</td>\n",
       "      <td>1.0</td>\n",
       "      <td>130.0</td>\n",
       "      <td>250.0</td>\n",
       "      <td>187.0</td>\n",
       "      <td>3.5</td>\n",
       "      <td>0</td>\n",
       "    </tr>\n",
       "    <tr>\n",
       "      <th>3</th>\n",
       "      <td>41.0</td>\n",
       "      <td>0.0</td>\n",
       "      <td>130.0</td>\n",
       "      <td>204.0</td>\n",
       "      <td>172.0</td>\n",
       "      <td>1.4</td>\n",
       "      <td>0</td>\n",
       "    </tr>\n",
       "    <tr>\n",
       "      <th>4</th>\n",
       "      <td>56.0</td>\n",
       "      <td>1.0</td>\n",
       "      <td>120.0</td>\n",
       "      <td>236.0</td>\n",
       "      <td>178.0</td>\n",
       "      <td>0.8</td>\n",
       "      <td>0</td>\n",
       "    </tr>\n",
       "    <tr>\n",
       "      <th>...</th>\n",
       "      <td>...</td>\n",
       "      <td>...</td>\n",
       "      <td>...</td>\n",
       "      <td>...</td>\n",
       "      <td>...</td>\n",
       "      <td>...</td>\n",
       "      <td>...</td>\n",
       "    </tr>\n",
       "    <tr>\n",
       "      <th>297</th>\n",
       "      <td>45.0</td>\n",
       "      <td>1.0</td>\n",
       "      <td>110.0</td>\n",
       "      <td>264.0</td>\n",
       "      <td>132.0</td>\n",
       "      <td>1.2</td>\n",
       "      <td>1</td>\n",
       "    </tr>\n",
       "    <tr>\n",
       "      <th>298</th>\n",
       "      <td>68.0</td>\n",
       "      <td>1.0</td>\n",
       "      <td>144.0</td>\n",
       "      <td>193.0</td>\n",
       "      <td>141.0</td>\n",
       "      <td>3.4</td>\n",
       "      <td>2</td>\n",
       "    </tr>\n",
       "    <tr>\n",
       "      <th>299</th>\n",
       "      <td>57.0</td>\n",
       "      <td>1.0</td>\n",
       "      <td>130.0</td>\n",
       "      <td>131.0</td>\n",
       "      <td>115.0</td>\n",
       "      <td>1.2</td>\n",
       "      <td>3</td>\n",
       "    </tr>\n",
       "    <tr>\n",
       "      <th>300</th>\n",
       "      <td>57.0</td>\n",
       "      <td>0.0</td>\n",
       "      <td>130.0</td>\n",
       "      <td>236.0</td>\n",
       "      <td>174.0</td>\n",
       "      <td>0.0</td>\n",
       "      <td>1</td>\n",
       "    </tr>\n",
       "    <tr>\n",
       "      <th>301</th>\n",
       "      <td>38.0</td>\n",
       "      <td>1.0</td>\n",
       "      <td>138.0</td>\n",
       "      <td>175.0</td>\n",
       "      <td>173.0</td>\n",
       "      <td>0.0</td>\n",
       "      <td>0</td>\n",
       "    </tr>\n",
       "  </tbody>\n",
       "</table>\n",
       "<p>302 rows × 7 columns</p>\n",
       "</div>"
      ],
      "text/plain": [
       "      age  sex  trestbps   chol  thalach  oldpeak  num\n",
       "0    67.0  1.0     160.0  286.0    108.0      1.5    2\n",
       "1    67.0  1.0     120.0  229.0    129.0      2.6    1\n",
       "2    37.0  1.0     130.0  250.0    187.0      3.5    0\n",
       "3    41.0  0.0     130.0  204.0    172.0      1.4    0\n",
       "4    56.0  1.0     120.0  236.0    178.0      0.8    0\n",
       "..    ...  ...       ...    ...      ...      ...  ...\n",
       "297  45.0  1.0     110.0  264.0    132.0      1.2    1\n",
       "298  68.0  1.0     144.0  193.0    141.0      3.4    2\n",
       "299  57.0  1.0     130.0  131.0    115.0      1.2    3\n",
       "300  57.0  0.0     130.0  236.0    174.0      0.0    1\n",
       "301  38.0  1.0     138.0  175.0    173.0      0.0    0\n",
       "\n",
       "[302 rows x 7 columns]"
      ]
     },
     "execution_count": 21,
     "metadata": {},
     "output_type": "execute_result"
    }
   ],
   "source": [
    "cat_features_removed = ['cp', 'fbs', 'restecg', 'exang', 'slope', 'thal', 'ca']\n",
    "\n",
    "synthetic_df = synthetic_df.drop(cat_features_removed, axis=1)\n",
    "synthetic_df"
   ]
  },
  {
   "cell_type": "code",
   "execution_count": 22,
   "metadata": {},
   "outputs": [],
   "source": [
    "synthetic_df.loc[synthetic_df['num'] > 0, 'num'] = 1"
   ]
  },
  {
   "cell_type": "code",
   "execution_count": 23,
   "metadata": {},
   "outputs": [
    {
     "data": {
      "text/html": [
       "<div>\n",
       "<style scoped>\n",
       "    .dataframe tbody tr th:only-of-type {\n",
       "        vertical-align: middle;\n",
       "    }\n",
       "\n",
       "    .dataframe tbody tr th {\n",
       "        vertical-align: top;\n",
       "    }\n",
       "\n",
       "    .dataframe thead th {\n",
       "        text-align: right;\n",
       "    }\n",
       "</style>\n",
       "<table border=\"1\" class=\"dataframe\">\n",
       "  <thead>\n",
       "    <tr style=\"text-align: right;\">\n",
       "      <th></th>\n",
       "      <th>age</th>\n",
       "      <th>sex</th>\n",
       "      <th>trestbps</th>\n",
       "      <th>chol</th>\n",
       "      <th>thalach</th>\n",
       "      <th>oldpeak</th>\n",
       "      <th>num</th>\n",
       "    </tr>\n",
       "  </thead>\n",
       "  <tbody>\n",
       "    <tr>\n",
       "      <th>0</th>\n",
       "      <td>67.0</td>\n",
       "      <td>1.0</td>\n",
       "      <td>160.0</td>\n",
       "      <td>286.0</td>\n",
       "      <td>108.0</td>\n",
       "      <td>1.5</td>\n",
       "      <td>1</td>\n",
       "    </tr>\n",
       "    <tr>\n",
       "      <th>1</th>\n",
       "      <td>67.0</td>\n",
       "      <td>1.0</td>\n",
       "      <td>120.0</td>\n",
       "      <td>229.0</td>\n",
       "      <td>129.0</td>\n",
       "      <td>2.6</td>\n",
       "      <td>1</td>\n",
       "    </tr>\n",
       "    <tr>\n",
       "      <th>2</th>\n",
       "      <td>37.0</td>\n",
       "      <td>1.0</td>\n",
       "      <td>130.0</td>\n",
       "      <td>250.0</td>\n",
       "      <td>187.0</td>\n",
       "      <td>3.5</td>\n",
       "      <td>0</td>\n",
       "    </tr>\n",
       "    <tr>\n",
       "      <th>3</th>\n",
       "      <td>41.0</td>\n",
       "      <td>0.0</td>\n",
       "      <td>130.0</td>\n",
       "      <td>204.0</td>\n",
       "      <td>172.0</td>\n",
       "      <td>1.4</td>\n",
       "      <td>0</td>\n",
       "    </tr>\n",
       "    <tr>\n",
       "      <th>4</th>\n",
       "      <td>56.0</td>\n",
       "      <td>1.0</td>\n",
       "      <td>120.0</td>\n",
       "      <td>236.0</td>\n",
       "      <td>178.0</td>\n",
       "      <td>0.8</td>\n",
       "      <td>0</td>\n",
       "    </tr>\n",
       "    <tr>\n",
       "      <th>...</th>\n",
       "      <td>...</td>\n",
       "      <td>...</td>\n",
       "      <td>...</td>\n",
       "      <td>...</td>\n",
       "      <td>...</td>\n",
       "      <td>...</td>\n",
       "      <td>...</td>\n",
       "    </tr>\n",
       "    <tr>\n",
       "      <th>297</th>\n",
       "      <td>45.0</td>\n",
       "      <td>1.0</td>\n",
       "      <td>110.0</td>\n",
       "      <td>264.0</td>\n",
       "      <td>132.0</td>\n",
       "      <td>1.2</td>\n",
       "      <td>1</td>\n",
       "    </tr>\n",
       "    <tr>\n",
       "      <th>298</th>\n",
       "      <td>68.0</td>\n",
       "      <td>1.0</td>\n",
       "      <td>144.0</td>\n",
       "      <td>193.0</td>\n",
       "      <td>141.0</td>\n",
       "      <td>3.4</td>\n",
       "      <td>1</td>\n",
       "    </tr>\n",
       "    <tr>\n",
       "      <th>299</th>\n",
       "      <td>57.0</td>\n",
       "      <td>1.0</td>\n",
       "      <td>130.0</td>\n",
       "      <td>131.0</td>\n",
       "      <td>115.0</td>\n",
       "      <td>1.2</td>\n",
       "      <td>1</td>\n",
       "    </tr>\n",
       "    <tr>\n",
       "      <th>300</th>\n",
       "      <td>57.0</td>\n",
       "      <td>0.0</td>\n",
       "      <td>130.0</td>\n",
       "      <td>236.0</td>\n",
       "      <td>174.0</td>\n",
       "      <td>0.0</td>\n",
       "      <td>1</td>\n",
       "    </tr>\n",
       "    <tr>\n",
       "      <th>301</th>\n",
       "      <td>38.0</td>\n",
       "      <td>1.0</td>\n",
       "      <td>138.0</td>\n",
       "      <td>175.0</td>\n",
       "      <td>173.0</td>\n",
       "      <td>0.0</td>\n",
       "      <td>0</td>\n",
       "    </tr>\n",
       "  </tbody>\n",
       "</table>\n",
       "<p>302 rows × 7 columns</p>\n",
       "</div>"
      ],
      "text/plain": [
       "      age  sex  trestbps   chol  thalach  oldpeak  num\n",
       "0    67.0  1.0     160.0  286.0    108.0      1.5    1\n",
       "1    67.0  1.0     120.0  229.0    129.0      2.6    1\n",
       "2    37.0  1.0     130.0  250.0    187.0      3.5    0\n",
       "3    41.0  0.0     130.0  204.0    172.0      1.4    0\n",
       "4    56.0  1.0     120.0  236.0    178.0      0.8    0\n",
       "..    ...  ...       ...    ...      ...      ...  ...\n",
       "297  45.0  1.0     110.0  264.0    132.0      1.2    1\n",
       "298  68.0  1.0     144.0  193.0    141.0      3.4    1\n",
       "299  57.0  1.0     130.0  131.0    115.0      1.2    1\n",
       "300  57.0  0.0     130.0  236.0    174.0      0.0    1\n",
       "301  38.0  1.0     138.0  175.0    173.0      0.0    0\n",
       "\n",
       "[302 rows x 7 columns]"
      ]
     },
     "execution_count": 23,
     "metadata": {},
     "output_type": "execute_result"
    }
   ],
   "source": [
    "synthetic_df"
   ]
  },
  {
   "cell_type": "code",
   "execution_count": 24,
   "metadata": {},
   "outputs": [
    {
     "name": "stdout",
     "output_type": "stream",
     "text": [
      "(241, 6) (61, 6) (241,) (61,)\n"
     ]
    }
   ],
   "source": [
    "from sklearn.model_selection import train_test_split \n",
    "\n",
    "X = synthetic_df.drop(columns='num')\n",
    "y = synthetic_df['num']\n",
    "\n",
    "X_train, X_test, y_train, y_test = train_test_split(X, y, test_size=0.2, random_state=42) \n",
    "\n",
    "print(X_train.shape, X_test.shape, y_train.shape, y_test.shape)"
   ]
  },
  {
   "cell_type": "code",
   "execution_count": 25,
   "metadata": {},
   "outputs": [
    {
     "data": {
      "text/html": [
       "<div>\n",
       "<style scoped>\n",
       "    .dataframe tbody tr th:only-of-type {\n",
       "        vertical-align: middle;\n",
       "    }\n",
       "\n",
       "    .dataframe tbody tr th {\n",
       "        vertical-align: top;\n",
       "    }\n",
       "\n",
       "    .dataframe thead th {\n",
       "        text-align: right;\n",
       "    }\n",
       "</style>\n",
       "<table border=\"1\" class=\"dataframe\">\n",
       "  <thead>\n",
       "    <tr style=\"text-align: right;\">\n",
       "      <th></th>\n",
       "      <th>age</th>\n",
       "      <th>sex</th>\n",
       "      <th>trestbps</th>\n",
       "      <th>chol</th>\n",
       "      <th>thalach</th>\n",
       "      <th>oldpeak</th>\n",
       "    </tr>\n",
       "  </thead>\n",
       "  <tbody>\n",
       "    <tr>\n",
       "      <th>132</th>\n",
       "      <td>51.0</td>\n",
       "      <td>1.0</td>\n",
       "      <td>140.0</td>\n",
       "      <td>261.0</td>\n",
       "      <td>186.0</td>\n",
       "      <td>0.0</td>\n",
       "    </tr>\n",
       "    <tr>\n",
       "      <th>202</th>\n",
       "      <td>64.0</td>\n",
       "      <td>0.0</td>\n",
       "      <td>140.0</td>\n",
       "      <td>313.0</td>\n",
       "      <td>133.0</td>\n",
       "      <td>0.2</td>\n",
       "    </tr>\n",
       "    <tr>\n",
       "      <th>196</th>\n",
       "      <td>45.0</td>\n",
       "      <td>0.0</td>\n",
       "      <td>138.0</td>\n",
       "      <td>236.0</td>\n",
       "      <td>152.0</td>\n",
       "      <td>0.2</td>\n",
       "    </tr>\n",
       "    <tr>\n",
       "      <th>75</th>\n",
       "      <td>60.0</td>\n",
       "      <td>1.0</td>\n",
       "      <td>125.0</td>\n",
       "      <td>258.0</td>\n",
       "      <td>141.0</td>\n",
       "      <td>2.8</td>\n",
       "    </tr>\n",
       "    <tr>\n",
       "      <th>176</th>\n",
       "      <td>56.0</td>\n",
       "      <td>1.0</td>\n",
       "      <td>132.0</td>\n",
       "      <td>184.0</td>\n",
       "      <td>105.0</td>\n",
       "      <td>2.1</td>\n",
       "    </tr>\n",
       "    <tr>\n",
       "      <th>...</th>\n",
       "      <td>...</td>\n",
       "      <td>...</td>\n",
       "      <td>...</td>\n",
       "      <td>...</td>\n",
       "      <td>...</td>\n",
       "      <td>...</td>\n",
       "    </tr>\n",
       "    <tr>\n",
       "      <th>188</th>\n",
       "      <td>69.0</td>\n",
       "      <td>1.0</td>\n",
       "      <td>140.0</td>\n",
       "      <td>254.0</td>\n",
       "      <td>146.0</td>\n",
       "      <td>2.0</td>\n",
       "    </tr>\n",
       "    <tr>\n",
       "      <th>71</th>\n",
       "      <td>62.0</td>\n",
       "      <td>1.0</td>\n",
       "      <td>120.0</td>\n",
       "      <td>267.0</td>\n",
       "      <td>99.0</td>\n",
       "      <td>1.8</td>\n",
       "    </tr>\n",
       "    <tr>\n",
       "      <th>106</th>\n",
       "      <td>57.0</td>\n",
       "      <td>1.0</td>\n",
       "      <td>128.0</td>\n",
       "      <td>229.0</td>\n",
       "      <td>150.0</td>\n",
       "      <td>0.4</td>\n",
       "    </tr>\n",
       "    <tr>\n",
       "      <th>270</th>\n",
       "      <td>66.0</td>\n",
       "      <td>1.0</td>\n",
       "      <td>160.0</td>\n",
       "      <td>228.0</td>\n",
       "      <td>138.0</td>\n",
       "      <td>2.3</td>\n",
       "    </tr>\n",
       "    <tr>\n",
       "      <th>102</th>\n",
       "      <td>71.0</td>\n",
       "      <td>0.0</td>\n",
       "      <td>110.0</td>\n",
       "      <td>265.0</td>\n",
       "      <td>130.0</td>\n",
       "      <td>0.0</td>\n",
       "    </tr>\n",
       "  </tbody>\n",
       "</table>\n",
       "<p>241 rows × 6 columns</p>\n",
       "</div>"
      ],
      "text/plain": [
       "      age  sex  trestbps   chol  thalach  oldpeak\n",
       "132  51.0  1.0     140.0  261.0    186.0      0.0\n",
       "202  64.0  0.0     140.0  313.0    133.0      0.2\n",
       "196  45.0  0.0     138.0  236.0    152.0      0.2\n",
       "75   60.0  1.0     125.0  258.0    141.0      2.8\n",
       "176  56.0  1.0     132.0  184.0    105.0      2.1\n",
       "..    ...  ...       ...    ...      ...      ...\n",
       "188  69.0  1.0     140.0  254.0    146.0      2.0\n",
       "71   62.0  1.0     120.0  267.0     99.0      1.8\n",
       "106  57.0  1.0     128.0  229.0    150.0      0.4\n",
       "270  66.0  1.0     160.0  228.0    138.0      2.3\n",
       "102  71.0  0.0     110.0  265.0    130.0      0.0\n",
       "\n",
       "[241 rows x 6 columns]"
      ]
     },
     "execution_count": 25,
     "metadata": {},
     "output_type": "execute_result"
    }
   ],
   "source": [
    "X_train"
   ]
  },
  {
   "cell_type": "code",
   "execution_count": 26,
   "metadata": {},
   "outputs": [
    {
     "data": {
      "text/plain": [
       "False"
      ]
     },
     "execution_count": 26,
     "metadata": {},
     "output_type": "execute_result"
    }
   ],
   "source": [
    "duplicates = X_train.duplicated()\n",
    "duplicates.any()"
   ]
  },
  {
   "cell_type": "code",
   "execution_count": 27,
   "metadata": {},
   "outputs": [
    {
     "data": {
      "text/plain": [
       "132    0\n",
       "202    0\n",
       "196    0\n",
       "75     1\n",
       "176    1\n",
       "      ..\n",
       "188    1\n",
       "71     1\n",
       "106    1\n",
       "270    0\n",
       "102    0\n",
       "Name: num, Length: 241, dtype: int64"
      ]
     },
     "execution_count": 27,
     "metadata": {},
     "output_type": "execute_result"
    }
   ],
   "source": [
    "y_train"
   ]
  },
  {
   "cell_type": "markdown",
   "metadata": {},
   "source": [
    "# Working with Categorical Features\n",
    "\n",
    "- We want to generalize the decision boundary function for any $N$ number of features including $C$ categorical features. \n",
    "- We want to ensure that the search space is only $N-C$ whereas the model fits on the entire $N$ set of features. "
   ]
  },
  {
   "cell_type": "markdown",
   "metadata": {},
   "source": [
    "# Using the Synthetic Dataset \n",
    "\n",
    "- Below, we use the synthetic dataset constructed from three features (two from the original SVM dataset and one categorical variable for the sex of the patient) \n",
    "- As shown below, we return the optimal data point where we exclude the categorical feature \"sex\""
   ]
  },
  {
   "cell_type": "code",
   "execution_count": 101,
   "metadata": {},
   "outputs": [
    {
     "name": "stdout",
     "output_type": "stream",
     "text": [
      "(241, 6) (241,)\n"
     ]
    }
   ],
   "source": [
    "print(X_train.shape, y_train.shape)"
   ]
  },
  {
   "cell_type": "code",
   "execution_count": 102,
   "metadata": {},
   "outputs": [
    {
     "data": {
      "text/html": [
       "<style>#sk-container-id-2 {color: black;}#sk-container-id-2 pre{padding: 0;}#sk-container-id-2 div.sk-toggleable {background-color: white;}#sk-container-id-2 label.sk-toggleable__label {cursor: pointer;display: block;width: 100%;margin-bottom: 0;padding: 0.3em;box-sizing: border-box;text-align: center;}#sk-container-id-2 label.sk-toggleable__label-arrow:before {content: \"▸\";float: left;margin-right: 0.25em;color: #696969;}#sk-container-id-2 label.sk-toggleable__label-arrow:hover:before {color: black;}#sk-container-id-2 div.sk-estimator:hover label.sk-toggleable__label-arrow:before {color: black;}#sk-container-id-2 div.sk-toggleable__content {max-height: 0;max-width: 0;overflow: hidden;text-align: left;background-color: #f0f8ff;}#sk-container-id-2 div.sk-toggleable__content pre {margin: 0.2em;color: black;border-radius: 0.25em;background-color: #f0f8ff;}#sk-container-id-2 input.sk-toggleable__control:checked~div.sk-toggleable__content {max-height: 200px;max-width: 100%;overflow: auto;}#sk-container-id-2 input.sk-toggleable__control:checked~label.sk-toggleable__label-arrow:before {content: \"▾\";}#sk-container-id-2 div.sk-estimator input.sk-toggleable__control:checked~label.sk-toggleable__label {background-color: #d4ebff;}#sk-container-id-2 div.sk-label input.sk-toggleable__control:checked~label.sk-toggleable__label {background-color: #d4ebff;}#sk-container-id-2 input.sk-hidden--visually {border: 0;clip: rect(1px 1px 1px 1px);clip: rect(1px, 1px, 1px, 1px);height: 1px;margin: -1px;overflow: hidden;padding: 0;position: absolute;width: 1px;}#sk-container-id-2 div.sk-estimator {font-family: monospace;background-color: #f0f8ff;border: 1px dotted black;border-radius: 0.25em;box-sizing: border-box;margin-bottom: 0.5em;}#sk-container-id-2 div.sk-estimator:hover {background-color: #d4ebff;}#sk-container-id-2 div.sk-parallel-item::after {content: \"\";width: 100%;border-bottom: 1px solid gray;flex-grow: 1;}#sk-container-id-2 div.sk-label:hover label.sk-toggleable__label {background-color: #d4ebff;}#sk-container-id-2 div.sk-serial::before {content: \"\";position: absolute;border-left: 1px solid gray;box-sizing: border-box;top: 0;bottom: 0;left: 50%;z-index: 0;}#sk-container-id-2 div.sk-serial {display: flex;flex-direction: column;align-items: center;background-color: white;padding-right: 0.2em;padding-left: 0.2em;position: relative;}#sk-container-id-2 div.sk-item {position: relative;z-index: 1;}#sk-container-id-2 div.sk-parallel {display: flex;align-items: stretch;justify-content: center;background-color: white;position: relative;}#sk-container-id-2 div.sk-item::before, #sk-container-id-2 div.sk-parallel-item::before {content: \"\";position: absolute;border-left: 1px solid gray;box-sizing: border-box;top: 0;bottom: 0;left: 50%;z-index: -1;}#sk-container-id-2 div.sk-parallel-item {display: flex;flex-direction: column;z-index: 1;position: relative;background-color: white;}#sk-container-id-2 div.sk-parallel-item:first-child::after {align-self: flex-end;width: 50%;}#sk-container-id-2 div.sk-parallel-item:last-child::after {align-self: flex-start;width: 50%;}#sk-container-id-2 div.sk-parallel-item:only-child::after {width: 0;}#sk-container-id-2 div.sk-dashed-wrapped {border: 1px dashed gray;margin: 0 0.4em 0.5em 0.4em;box-sizing: border-box;padding-bottom: 0.4em;background-color: white;}#sk-container-id-2 div.sk-label label {font-family: monospace;font-weight: bold;display: inline-block;line-height: 1.2em;}#sk-container-id-2 div.sk-label-container {text-align: center;}#sk-container-id-2 div.sk-container {/* jupyter's `normalize.less` sets `[hidden] { display: none; }` but bootstrap.min.css set `[hidden] { display: none !important; }` so we also need the `!important` here to be able to override the default hidden behavior on the sphinx rendered scikit-learn.org. See: https://github.com/scikit-learn/scikit-learn/issues/21755 */display: inline-block !important;position: relative;}#sk-container-id-2 div.sk-text-repr-fallback {display: none;}</style><div id=\"sk-container-id-2\" class=\"sk-top-container\"><div class=\"sk-text-repr-fallback\"><pre>SVC(C=10, degree=2, kernel=&#x27;poly&#x27;, probability=True)</pre><b>In a Jupyter environment, please rerun this cell to show the HTML representation or trust the notebook. <br />On GitHub, the HTML representation is unable to render, please try loading this page with nbviewer.org.</b></div><div class=\"sk-container\" hidden><div class=\"sk-item\"><div class=\"sk-estimator sk-toggleable\"><input class=\"sk-toggleable__control sk-hidden--visually\" id=\"sk-estimator-id-2\" type=\"checkbox\" checked><label for=\"sk-estimator-id-2\" class=\"sk-toggleable__label sk-toggleable__label-arrow\">SVC</label><div class=\"sk-toggleable__content\"><pre>SVC(C=10, degree=2, kernel=&#x27;poly&#x27;, probability=True)</pre></div></div></div></div></div>"
      ],
      "text/plain": [
       "SVC(C=10, degree=2, kernel='poly', probability=True)"
      ]
     },
     "execution_count": 102,
     "metadata": {},
     "output_type": "execute_result"
    }
   ],
   "source": [
    "svm_classifier.fit(X_train, y_train)"
   ]
  },
  {
   "cell_type": "code",
   "execution_count": 103,
   "metadata": {},
   "outputs": [
    {
     "data": {
      "text/html": [
       "<div>\n",
       "<style scoped>\n",
       "    .dataframe tbody tr th:only-of-type {\n",
       "        vertical-align: middle;\n",
       "    }\n",
       "\n",
       "    .dataframe tbody tr th {\n",
       "        vertical-align: top;\n",
       "    }\n",
       "\n",
       "    .dataframe thead th {\n",
       "        text-align: right;\n",
       "    }\n",
       "</style>\n",
       "<table border=\"1\" class=\"dataframe\">\n",
       "  <thead>\n",
       "    <tr style=\"text-align: right;\">\n",
       "      <th></th>\n",
       "      <th>age</th>\n",
       "      <th>sex</th>\n",
       "      <th>trestbps</th>\n",
       "      <th>chol</th>\n",
       "      <th>thalach</th>\n",
       "      <th>oldpeak</th>\n",
       "    </tr>\n",
       "  </thead>\n",
       "  <tbody>\n",
       "    <tr>\n",
       "      <th>0</th>\n",
       "      <td>28.75</td>\n",
       "      <td>-0.25</td>\n",
       "      <td>93.75</td>\n",
       "      <td>125.75</td>\n",
       "      <td>70.75</td>\n",
       "      <td>-0.250000</td>\n",
       "    </tr>\n",
       "    <tr>\n",
       "      <th>1</th>\n",
       "      <td>28.75</td>\n",
       "      <td>-0.25</td>\n",
       "      <td>93.75</td>\n",
       "      <td>125.75</td>\n",
       "      <td>70.75</td>\n",
       "      <td>0.156667</td>\n",
       "    </tr>\n",
       "    <tr>\n",
       "      <th>2</th>\n",
       "      <td>28.75</td>\n",
       "      <td>-0.25</td>\n",
       "      <td>93.75</td>\n",
       "      <td>125.75</td>\n",
       "      <td>70.75</td>\n",
       "      <td>0.563333</td>\n",
       "    </tr>\n",
       "    <tr>\n",
       "      <th>3</th>\n",
       "      <td>28.75</td>\n",
       "      <td>-0.25</td>\n",
       "      <td>93.75</td>\n",
       "      <td>125.75</td>\n",
       "      <td>70.75</td>\n",
       "      <td>0.970000</td>\n",
       "    </tr>\n",
       "    <tr>\n",
       "      <th>4</th>\n",
       "      <td>28.75</td>\n",
       "      <td>-0.25</td>\n",
       "      <td>93.75</td>\n",
       "      <td>125.75</td>\n",
       "      <td>70.75</td>\n",
       "      <td>1.376667</td>\n",
       "    </tr>\n",
       "    <tr>\n",
       "      <th>...</th>\n",
       "      <td>...</td>\n",
       "      <td>...</td>\n",
       "      <td>...</td>\n",
       "      <td>...</td>\n",
       "      <td>...</td>\n",
       "      <td>...</td>\n",
       "    </tr>\n",
       "    <tr>\n",
       "      <th>16777211</th>\n",
       "      <td>77.25</td>\n",
       "      <td>1.25</td>\n",
       "      <td>192.25</td>\n",
       "      <td>564.25</td>\n",
       "      <td>202.25</td>\n",
       "      <td>4.223333</td>\n",
       "    </tr>\n",
       "    <tr>\n",
       "      <th>16777212</th>\n",
       "      <td>77.25</td>\n",
       "      <td>1.25</td>\n",
       "      <td>192.25</td>\n",
       "      <td>564.25</td>\n",
       "      <td>202.25</td>\n",
       "      <td>4.630000</td>\n",
       "    </tr>\n",
       "    <tr>\n",
       "      <th>16777213</th>\n",
       "      <td>77.25</td>\n",
       "      <td>1.25</td>\n",
       "      <td>192.25</td>\n",
       "      <td>564.25</td>\n",
       "      <td>202.25</td>\n",
       "      <td>5.036667</td>\n",
       "    </tr>\n",
       "    <tr>\n",
       "      <th>16777214</th>\n",
       "      <td>77.25</td>\n",
       "      <td>1.25</td>\n",
       "      <td>192.25</td>\n",
       "      <td>564.25</td>\n",
       "      <td>202.25</td>\n",
       "      <td>5.443333</td>\n",
       "    </tr>\n",
       "    <tr>\n",
       "      <th>16777215</th>\n",
       "      <td>77.25</td>\n",
       "      <td>1.25</td>\n",
       "      <td>192.25</td>\n",
       "      <td>564.25</td>\n",
       "      <td>202.25</td>\n",
       "      <td>5.850000</td>\n",
       "    </tr>\n",
       "  </tbody>\n",
       "</table>\n",
       "<p>16777216 rows × 6 columns</p>\n",
       "</div>"
      ],
      "text/plain": [
       "            age   sex  trestbps    chol  thalach   oldpeak\n",
       "0         28.75 -0.25     93.75  125.75    70.75 -0.250000\n",
       "1         28.75 -0.25     93.75  125.75    70.75  0.156667\n",
       "2         28.75 -0.25     93.75  125.75    70.75  0.563333\n",
       "3         28.75 -0.25     93.75  125.75    70.75  0.970000\n",
       "4         28.75 -0.25     93.75  125.75    70.75  1.376667\n",
       "...         ...   ...       ...     ...      ...       ...\n",
       "16777211  77.25  1.25    192.25  564.25   202.25  4.223333\n",
       "16777212  77.25  1.25    192.25  564.25   202.25  4.630000\n",
       "16777213  77.25  1.25    192.25  564.25   202.25  5.036667\n",
       "16777214  77.25  1.25    192.25  564.25   202.25  5.443333\n",
       "16777215  77.25  1.25    192.25  564.25   202.25  5.850000\n",
       "\n",
       "[16777216 rows x 6 columns]"
      ]
     },
     "execution_count": 103,
     "metadata": {},
     "output_type": "execute_result"
    }
   ],
   "source": [
    "ranges = [np.linspace(X_train.iloc[:, j].min() - 0.25, X_train.iloc[:, j].max() + 0.25, 16) for j in range(X_train.shape[1])]\n",
    "grids = np.meshgrid(*ranges) \n",
    "\n",
    "# Stack into a flat array of points (n_points^6 rows, 6 columns)\n",
    "grid_points = np.vstack([g.ravel() for g in grids]).T\n",
    "\n",
    "# # Convert to DataFrame with same column names (for consistency)\n",
    "# # Grid points are not valid since sex is a categorical variable\n",
    "grid_df = pd.DataFrame(grid_points, columns=X_train.columns)\n",
    "\n",
    "grid_df"
   ]
  },
  {
   "cell_type": "code",
   "execution_count": 104,
   "metadata": {},
   "outputs": [],
   "source": [
    "sex_vector = [0 for _ in range(grid_df.shape[0]//2)]\n",
    "sex_vector.extend([1 for _ in range(grid_df.shape[0]//2)])\n",
    "# Add sex column vector (Random)\n",
    "# Grid points must be a categorical value of 0 or 1 \n",
    "grid_df['sex'] = sex_vector"
   ]
  },
  {
   "cell_type": "code",
   "execution_count": 105,
   "metadata": {},
   "outputs": [
    {
     "name": "stdout",
     "output_type": "stream",
     "text": [
      "            age  sex  trestbps        chol     thalach   oldpeak\n",
      "131       28.75    0     93.75  125.750000  140.883333  0.970000\n",
      "132       28.75    0     93.75  125.750000  140.883333  1.376667\n",
      "133       28.75    0     93.75  125.750000  140.883333  1.783333\n",
      "134       28.75    0     93.75  125.750000  140.883333  2.190000\n",
      "392       28.75    0     93.75  154.983333  140.883333  3.003333\n",
      "...         ...  ...       ...         ...         ...       ...\n",
      "16776392  77.25    1    192.25  476.550000  175.950000  3.003333\n",
      "16776645  77.25    1    192.25  505.783333  175.950000  1.783333\n",
      "16776646  77.25    1    192.25  505.783333  175.950000  2.190000\n",
      "16776899  77.25    1    192.25  535.016667  175.950000  0.970000\n",
      "16777153  77.25    1    192.25  564.250000  175.950000  0.156667\n",
      "\n",
      "[110448 rows x 6 columns]\n"
     ]
    }
   ],
   "source": [
    "# # Get probability predictions (ensure model outputs probabilities)\n",
    "prob0 = svm_classifier.predict_proba(grid_df)[:, 0] \n",
    "prob1 = svm_classifier.predict_proba(grid_df)[:, 1] \n",
    "\n",
    "# Find points near the decision boundary (P(class 1) ≈ 0.5)\n",
    "threshold = 1E-6  # Tight threshold for \"50%-50%\" (adjust as needed)\n",
    "boundary_mask = np.abs(prob0 - 0.5) < threshold\n",
    "boundary_points_scaled = pd.DataFrame(grid_df[boundary_mask], columns=X_train.columns)\n",
    "print(boundary_points_scaled)"
   ]
  },
  {
   "cell_type": "code",
   "execution_count": 107,
   "metadata": {},
   "outputs": [],
   "source": [
    "sex_vector = [1 for _ in range(grid_df.shape[0]//2)]\n",
    "sex_vector.extend([0 for _ in range(grid_df.shape[0]//2)])\n",
    "# Add sex column vector (Random)\n",
    "# Grid points must be a categorical value of 0 or 1 \n",
    "grid_df['sex'] = sex_vector"
   ]
  },
  {
   "cell_type": "code",
   "execution_count": 139,
   "metadata": {},
   "outputs": [
    {
     "name": "stdout",
     "output_type": "stream",
     "text": [
      "           age  sex  trestbps        chol  thalach  oldpeak\n",
      "130       28.5    1      93.5  125.500000    140.9     0.38\n",
      "131       28.5    1      93.5  125.500000    140.9     0.82\n",
      "132       28.5    1      93.5  125.500000    140.9     1.26\n",
      "133       28.5    1      93.5  125.500000    140.9     1.70\n",
      "391       28.5    1      93.5  154.766667    140.9     2.58\n",
      "...        ...  ...       ...         ...      ...      ...\n",
      "16776393  77.5    0     192.5  476.700000    176.1     3.46\n",
      "16776647  77.5    0     192.5  505.966667    176.1     2.58\n",
      "16776901  77.5    0     192.5  535.233333    176.1     1.70\n",
      "16777154  77.5    0     192.5  564.500000    176.1     0.38\n",
      "16777155  77.5    0     192.5  564.500000    176.1     0.82\n",
      "\n",
      "[110448 rows x 6 columns]\n"
     ]
    }
   ],
   "source": [
    "# Get probability predictions (ensure model outputs probabilities)\n",
    "prob0 = svm_classifier.predict_proba(grid_df)[:, 0] \n",
    "prob1 = svm_classifier.predict_proba(grid_df)[:, 1] \n",
    "\n",
    "# Find points near the decision boundary (P(class 1) ≈ 0.5)\n",
    "threshold = 1E-3  # Tight threshold for \"50%-50%\" (adjust as needed)\n",
    "boundary_mask = np.abs(prob0 - 0.5) < threshold\n",
    "contour_pts = pd.DataFrame(grid_df[boundary_mask], columns=X_train.columns)\n",
    "print(contour_pts)"
   ]
  },
  {
   "cell_type": "code",
   "execution_count": 140,
   "metadata": {},
   "outputs": [],
   "source": [
    "contour_pts = contour_pts.drop_duplicates(subset=X_train.columns)"
   ]
  },
  {
   "cell_type": "code",
   "execution_count": 141,
   "metadata": {},
   "outputs": [
    {
     "name": "stdout",
     "output_type": "stream",
     "text": [
      "(13806, 6)\n"
     ]
    }
   ],
   "source": [
    "print(contour_pts.shape)"
   ]
  },
  {
   "cell_type": "code",
   "execution_count": 142,
   "metadata": {},
   "outputs": [
    {
     "data": {
      "text/html": [
       "<div>\n",
       "<style scoped>\n",
       "    .dataframe tbody tr th:only-of-type {\n",
       "        vertical-align: middle;\n",
       "    }\n",
       "\n",
       "    .dataframe tbody tr th {\n",
       "        vertical-align: top;\n",
       "    }\n",
       "\n",
       "    .dataframe thead th {\n",
       "        text-align: right;\n",
       "    }\n",
       "</style>\n",
       "<table border=\"1\" class=\"dataframe\">\n",
       "  <thead>\n",
       "    <tr style=\"text-align: right;\">\n",
       "      <th></th>\n",
       "      <th>age</th>\n",
       "      <th>sex</th>\n",
       "      <th>trestbps</th>\n",
       "      <th>chol</th>\n",
       "      <th>thalach</th>\n",
       "      <th>oldpeak</th>\n",
       "    </tr>\n",
       "  </thead>\n",
       "  <tbody>\n",
       "    <tr>\n",
       "      <th>0</th>\n",
       "      <td>28.5</td>\n",
       "      <td>1</td>\n",
       "      <td>93.5</td>\n",
       "      <td>125.500000</td>\n",
       "      <td>140.9</td>\n",
       "      <td>0.38</td>\n",
       "    </tr>\n",
       "    <tr>\n",
       "      <th>1</th>\n",
       "      <td>28.5</td>\n",
       "      <td>1</td>\n",
       "      <td>93.5</td>\n",
       "      <td>125.500000</td>\n",
       "      <td>140.9</td>\n",
       "      <td>0.82</td>\n",
       "    </tr>\n",
       "    <tr>\n",
       "      <th>2</th>\n",
       "      <td>28.5</td>\n",
       "      <td>1</td>\n",
       "      <td>93.5</td>\n",
       "      <td>125.500000</td>\n",
       "      <td>140.9</td>\n",
       "      <td>1.26</td>\n",
       "    </tr>\n",
       "    <tr>\n",
       "      <th>3</th>\n",
       "      <td>28.5</td>\n",
       "      <td>1</td>\n",
       "      <td>93.5</td>\n",
       "      <td>125.500000</td>\n",
       "      <td>140.9</td>\n",
       "      <td>1.70</td>\n",
       "    </tr>\n",
       "    <tr>\n",
       "      <th>4</th>\n",
       "      <td>28.5</td>\n",
       "      <td>1</td>\n",
       "      <td>93.5</td>\n",
       "      <td>154.766667</td>\n",
       "      <td>140.9</td>\n",
       "      <td>2.58</td>\n",
       "    </tr>\n",
       "    <tr>\n",
       "      <th>...</th>\n",
       "      <td>...</td>\n",
       "      <td>...</td>\n",
       "      <td>...</td>\n",
       "      <td>...</td>\n",
       "      <td>...</td>\n",
       "      <td>...</td>\n",
       "    </tr>\n",
       "    <tr>\n",
       "      <th>13801</th>\n",
       "      <td>77.5</td>\n",
       "      <td>0</td>\n",
       "      <td>192.5</td>\n",
       "      <td>476.700000</td>\n",
       "      <td>176.1</td>\n",
       "      <td>3.46</td>\n",
       "    </tr>\n",
       "    <tr>\n",
       "      <th>13802</th>\n",
       "      <td>77.5</td>\n",
       "      <td>0</td>\n",
       "      <td>192.5</td>\n",
       "      <td>505.966667</td>\n",
       "      <td>176.1</td>\n",
       "      <td>2.58</td>\n",
       "    </tr>\n",
       "    <tr>\n",
       "      <th>13803</th>\n",
       "      <td>77.5</td>\n",
       "      <td>0</td>\n",
       "      <td>192.5</td>\n",
       "      <td>535.233333</td>\n",
       "      <td>176.1</td>\n",
       "      <td>1.70</td>\n",
       "    </tr>\n",
       "    <tr>\n",
       "      <th>13804</th>\n",
       "      <td>77.5</td>\n",
       "      <td>0</td>\n",
       "      <td>192.5</td>\n",
       "      <td>564.500000</td>\n",
       "      <td>176.1</td>\n",
       "      <td>0.38</td>\n",
       "    </tr>\n",
       "    <tr>\n",
       "      <th>13805</th>\n",
       "      <td>77.5</td>\n",
       "      <td>0</td>\n",
       "      <td>192.5</td>\n",
       "      <td>564.500000</td>\n",
       "      <td>176.1</td>\n",
       "      <td>0.82</td>\n",
       "    </tr>\n",
       "  </tbody>\n",
       "</table>\n",
       "<p>13806 rows × 6 columns</p>\n",
       "</div>"
      ],
      "text/plain": [
       "        age  sex  trestbps        chol  thalach  oldpeak\n",
       "0      28.5    1      93.5  125.500000    140.9     0.38\n",
       "1      28.5    1      93.5  125.500000    140.9     0.82\n",
       "2      28.5    1      93.5  125.500000    140.9     1.26\n",
       "3      28.5    1      93.5  125.500000    140.9     1.70\n",
       "4      28.5    1      93.5  154.766667    140.9     2.58\n",
       "...     ...  ...       ...         ...      ...      ...\n",
       "13801  77.5    0     192.5  476.700000    176.1     3.46\n",
       "13802  77.5    0     192.5  505.966667    176.1     2.58\n",
       "13803  77.5    0     192.5  535.233333    176.1     1.70\n",
       "13804  77.5    0     192.5  564.500000    176.1     0.38\n",
       "13805  77.5    0     192.5  564.500000    176.1     0.82\n",
       "\n",
       "[13806 rows x 6 columns]"
      ]
     },
     "execution_count": 142,
     "metadata": {},
     "output_type": "execute_result"
    }
   ],
   "source": [
    "contour_pts = contour_pts.reset_index(drop=True)\n",
    "\n",
    "contour_pts"
   ]
  },
  {
   "cell_type": "markdown",
   "metadata": {},
   "source": [
    "# Find the closest point using KDTree and scattered points of the contour line"
   ]
  },
  {
   "cell_type": "code",
   "execution_count": null,
   "metadata": {},
   "outputs": [
    {
     "name": "stdout",
     "output_type": "stream",
     "text": [
      "(6,)\n"
     ]
    },
    {
     "ename": "KeyError",
     "evalue": "\"None of [Index([4931], dtype='int64')] are in the [columns]\"",
     "output_type": "error",
     "traceback": [
      "\u001b[1;31m---------------------------------------------------------------------------\u001b[0m",
      "\u001b[1;31mKeyError\u001b[0m                                  Traceback (most recent call last)",
      "Cell \u001b[1;32mIn[143], line 11\u001b[0m\n\u001b[0;32m      8\u001b[0m     \u001b[38;5;28;01mreturn\u001b[39;00m closest_point\n\u001b[0;32m     10\u001b[0m \u001b[38;5;28mprint\u001b[39m(X_train\u001b[38;5;241m.\u001b[39miloc[\u001b[38;5;241m0\u001b[39m,:]\u001b[38;5;241m.\u001b[39mshape)\n\u001b[1;32m---> 11\u001b[0m cl_pt \u001b[38;5;241m=\u001b[39m closest_point(point\u001b[38;5;241m=\u001b[39mnp\u001b[38;5;241m.\u001b[39mreshape(X_train\u001b[38;5;241m.\u001b[39miloc[\u001b[38;5;241m0\u001b[39m,:], (\u001b[38;5;241m1\u001b[39m,\u001b[38;5;241m-\u001b[39m\u001b[38;5;241m1\u001b[39m)), contour\u001b[38;5;241m=\u001b[39mcontour_pts)\n\u001b[0;32m     12\u001b[0m cl_pt\n",
      "Cell \u001b[1;32mIn[143], line 7\u001b[0m, in \u001b[0;36mclosest_point\u001b[1;34m(point, contour)\u001b[0m\n\u001b[0;32m      5\u001b[0m tree \u001b[38;5;241m=\u001b[39m KDTree(contour)\n\u001b[0;32m      6\u001b[0m closest_index \u001b[38;5;241m=\u001b[39m tree\u001b[38;5;241m.\u001b[39mquery(point)[\u001b[38;5;241m1\u001b[39m]\n\u001b[1;32m----> 7\u001b[0m closest_point \u001b[38;5;241m=\u001b[39m contour[closest_index]\n\u001b[0;32m      8\u001b[0m \u001b[38;5;28;01mreturn\u001b[39;00m closest_point\n",
      "File \u001b[1;32mc:\\Users\\Compuworld\\anaconda3\\Lib\\site-packages\\pandas\\core\\frame.py:4108\u001b[0m, in \u001b[0;36mDataFrame.__getitem__\u001b[1;34m(self, key)\u001b[0m\n\u001b[0;32m   4106\u001b[0m     \u001b[38;5;28;01mif\u001b[39;00m is_iterator(key):\n\u001b[0;32m   4107\u001b[0m         key \u001b[38;5;241m=\u001b[39m \u001b[38;5;28mlist\u001b[39m(key)\n\u001b[1;32m-> 4108\u001b[0m     indexer \u001b[38;5;241m=\u001b[39m \u001b[38;5;28mself\u001b[39m\u001b[38;5;241m.\u001b[39mcolumns\u001b[38;5;241m.\u001b[39m_get_indexer_strict(key, \u001b[38;5;124m\"\u001b[39m\u001b[38;5;124mcolumns\u001b[39m\u001b[38;5;124m\"\u001b[39m)[\u001b[38;5;241m1\u001b[39m]\n\u001b[0;32m   4110\u001b[0m \u001b[38;5;66;03m# take() does not accept boolean indexers\u001b[39;00m\n\u001b[0;32m   4111\u001b[0m \u001b[38;5;28;01mif\u001b[39;00m \u001b[38;5;28mgetattr\u001b[39m(indexer, \u001b[38;5;124m\"\u001b[39m\u001b[38;5;124mdtype\u001b[39m\u001b[38;5;124m\"\u001b[39m, \u001b[38;5;28;01mNone\u001b[39;00m) \u001b[38;5;241m==\u001b[39m \u001b[38;5;28mbool\u001b[39m:\n",
      "File \u001b[1;32mc:\\Users\\Compuworld\\anaconda3\\Lib\\site-packages\\pandas\\core\\indexes\\base.py:6200\u001b[0m, in \u001b[0;36mIndex._get_indexer_strict\u001b[1;34m(self, key, axis_name)\u001b[0m\n\u001b[0;32m   6197\u001b[0m \u001b[38;5;28;01melse\u001b[39;00m:\n\u001b[0;32m   6198\u001b[0m     keyarr, indexer, new_indexer \u001b[38;5;241m=\u001b[39m \u001b[38;5;28mself\u001b[39m\u001b[38;5;241m.\u001b[39m_reindex_non_unique(keyarr)\n\u001b[1;32m-> 6200\u001b[0m \u001b[38;5;28mself\u001b[39m\u001b[38;5;241m.\u001b[39m_raise_if_missing(keyarr, indexer, axis_name)\n\u001b[0;32m   6202\u001b[0m keyarr \u001b[38;5;241m=\u001b[39m \u001b[38;5;28mself\u001b[39m\u001b[38;5;241m.\u001b[39mtake(indexer)\n\u001b[0;32m   6203\u001b[0m \u001b[38;5;28;01mif\u001b[39;00m \u001b[38;5;28misinstance\u001b[39m(key, Index):\n\u001b[0;32m   6204\u001b[0m     \u001b[38;5;66;03m# GH 42790 - Preserve name from an Index\u001b[39;00m\n",
      "File \u001b[1;32mc:\\Users\\Compuworld\\anaconda3\\Lib\\site-packages\\pandas\\core\\indexes\\base.py:6249\u001b[0m, in \u001b[0;36mIndex._raise_if_missing\u001b[1;34m(self, key, indexer, axis_name)\u001b[0m\n\u001b[0;32m   6247\u001b[0m \u001b[38;5;28;01mif\u001b[39;00m nmissing:\n\u001b[0;32m   6248\u001b[0m     \u001b[38;5;28;01mif\u001b[39;00m nmissing \u001b[38;5;241m==\u001b[39m \u001b[38;5;28mlen\u001b[39m(indexer):\n\u001b[1;32m-> 6249\u001b[0m         \u001b[38;5;28;01mraise\u001b[39;00m \u001b[38;5;167;01mKeyError\u001b[39;00m(\u001b[38;5;124mf\u001b[39m\u001b[38;5;124m\"\u001b[39m\u001b[38;5;124mNone of [\u001b[39m\u001b[38;5;132;01m{\u001b[39;00mkey\u001b[38;5;132;01m}\u001b[39;00m\u001b[38;5;124m] are in the [\u001b[39m\u001b[38;5;132;01m{\u001b[39;00maxis_name\u001b[38;5;132;01m}\u001b[39;00m\u001b[38;5;124m]\u001b[39m\u001b[38;5;124m\"\u001b[39m)\n\u001b[0;32m   6251\u001b[0m     not_found \u001b[38;5;241m=\u001b[39m \u001b[38;5;28mlist\u001b[39m(ensure_index(key)[missing_mask\u001b[38;5;241m.\u001b[39mnonzero()[\u001b[38;5;241m0\u001b[39m]]\u001b[38;5;241m.\u001b[39munique())\n\u001b[0;32m   6252\u001b[0m     \u001b[38;5;28;01mraise\u001b[39;00m \u001b[38;5;167;01mKeyError\u001b[39;00m(\u001b[38;5;124mf\u001b[39m\u001b[38;5;124m\"\u001b[39m\u001b[38;5;132;01m{\u001b[39;00mnot_found\u001b[38;5;132;01m}\u001b[39;00m\u001b[38;5;124m not in index\u001b[39m\u001b[38;5;124m\"\u001b[39m)\n",
      "\u001b[1;31mKeyError\u001b[0m: \"None of [Index([4931], dtype='int64')] are in the [columns]\""
     ]
    }
   ],
   "source": [
    "from scipy.spatial import KDTree\n",
    "\n",
    "# Function to find closest point to contour from the non healthy point\n",
    "def closest_point(point, contour):\n",
    "    tree = KDTree(contour)\n",
    "    closest_index = tree.query(point)[1]\n",
    "    closest_point = contour[closest_index]\n",
    "    return closest_point\n",
    "\n",
    "print(X_train.iloc[0,:].shape)\n",
    "cl_pt = 0(point=np.reshape(X_train.iloc[0,:], (1,-1)), contour=contour_pts)\n",
    "cl_pt"
   ]
  },
  {
   "cell_type": "markdown",
   "metadata": {},
   "source": [
    "# Cubic Interpolation of the dataset\n",
    "\n",
    "- Structured data vs Unstructured data \n",
    "- $R^n \\Rightarrow R^n$ versus $R^n \\Rightarrow R^1$"
   ]
  },
  {
   "cell_type": "code",
   "execution_count": 77,
   "metadata": {},
   "outputs": [
    {
     "ename": "ValueError",
     "evalue": "There are 29004 point arrays, but values has 1 dimensions",
     "output_type": "error",
     "traceback": [
      "\u001b[1;31m---------------------------------------------------------------------------\u001b[0m",
      "\u001b[1;31mValueError\u001b[0m                                Traceback (most recent call last)",
      "Cell \u001b[1;32mIn[77], line 8\u001b[0m\n\u001b[0;32m      5\u001b[0m new_point \u001b[38;5;241m=\u001b[39m [\u001b[38;5;241m2\u001b[39m, \u001b[38;5;241m5\u001b[39m, \u001b[38;5;241m1.5\u001b[39m, \u001b[38;5;241m3.5\u001b[39m, \u001b[38;5;241m4.5\u001b[39m, \u001b[38;5;241m1.5\u001b[39m]  \u001b[38;5;66;03m# Point to interpolate\u001b[39;00m\n\u001b[0;32m      7\u001b[0m \u001b[38;5;66;03m# Interpolate using griddata\u001b[39;00m\n\u001b[1;32m----> 8\u001b[0m x_i \u001b[38;5;241m=\u001b[39m interpn(X, y, new_point, method\u001b[38;5;241m=\u001b[39m\u001b[38;5;124m'\u001b[39m\u001b[38;5;124mcubic\u001b[39m\u001b[38;5;124m'\u001b[39m)  \u001b[38;5;66;03m# or 'nearest', 'linear'\u001b[39;00m\n\u001b[0;32m      9\u001b[0m \u001b[38;5;28mprint\u001b[39m(x_i)\n",
      "File \u001b[1;32mc:\\Users\\Compuworld\\anaconda3\\Lib\\site-packages\\scipy\\interpolate\\_rgi.py:627\u001b[0m, in \u001b[0;36minterpn\u001b[1;34m(points, values, xi, method, bounds_error, fill_value)\u001b[0m\n\u001b[0;32m    625\u001b[0m \u001b[38;5;66;03m# sanity check consistency of input dimensions\u001b[39;00m\n\u001b[0;32m    626\u001b[0m \u001b[38;5;28;01mif\u001b[39;00m \u001b[38;5;28mlen\u001b[39m(points) \u001b[38;5;241m>\u001b[39m ndim:\n\u001b[1;32m--> 627\u001b[0m     \u001b[38;5;28;01mraise\u001b[39;00m \u001b[38;5;167;01mValueError\u001b[39;00m(\u001b[38;5;124m\"\u001b[39m\u001b[38;5;124mThere are \u001b[39m\u001b[38;5;132;01m%d\u001b[39;00m\u001b[38;5;124m point arrays, but values has \u001b[39m\u001b[38;5;132;01m%d\u001b[39;00m\u001b[38;5;124m \u001b[39m\u001b[38;5;124m\"\u001b[39m\n\u001b[0;32m    628\u001b[0m                      \u001b[38;5;124m\"\u001b[39m\u001b[38;5;124mdimensions\u001b[39m\u001b[38;5;124m\"\u001b[39m \u001b[38;5;241m%\u001b[39m (\u001b[38;5;28mlen\u001b[39m(points), ndim))\n\u001b[0;32m    629\u001b[0m \u001b[38;5;28;01mif\u001b[39;00m \u001b[38;5;28mlen\u001b[39m(points) \u001b[38;5;241m!=\u001b[39m ndim \u001b[38;5;129;01mand\u001b[39;00m method \u001b[38;5;241m==\u001b[39m \u001b[38;5;124m'\u001b[39m\u001b[38;5;124msplinef2d\u001b[39m\u001b[38;5;124m'\u001b[39m:\n\u001b[0;32m    630\u001b[0m     \u001b[38;5;28;01mraise\u001b[39;00m \u001b[38;5;167;01mValueError\u001b[39;00m(\u001b[38;5;124m\"\u001b[39m\u001b[38;5;124mThe method splinef2d can only be used for \u001b[39m\u001b[38;5;124m\"\u001b[39m\n\u001b[0;32m    631\u001b[0m                      \u001b[38;5;124m\"\u001b[39m\u001b[38;5;124mscalar data with one point per coordinate\u001b[39m\u001b[38;5;124m\"\u001b[39m)\n",
      "\u001b[1;31mValueError\u001b[0m: There are 29004 point arrays, but values has 1 dimensions"
     ]
    }
   ],
   "source": [
    "from scipy.interpolate import interpn\n",
    "\n",
    "X = boundary_points_scaled  # Shape: (29004, 6)\n",
    "y = svm_classifier.predict(X)  # Shape: (29004,)\n",
    "new_point = [2, 5, 1.5, 3.5, 4.5, 1.5]  # Point to interpolate\n",
    "\n",
    "# Interpolate using griddata\n",
    "x_i = interpn(X, y, new_point, method='cubic')  # or 'nearest', 'linear'\n",
    "print(x_i)"
   ]
  },
  {
   "cell_type": "markdown",
   "metadata": {},
   "source": [
    "# Nearest Neighbor Interpolation (interpn) of the dataset "
   ]
  },
  {
   "cell_type": "code",
   "execution_count": null,
   "metadata": {},
   "outputs": [
    {
     "name": "stdout",
     "output_type": "stream",
     "text": [
      "[1]\n"
     ]
    }
   ],
   "source": [
    "from scipy.interpolate import NearestNDInterpolator\n",
    "\n",
    "X = boundary_points_scaled  # Shape: (29004, 6)\n",
    "y = svm_classifier.predict(X)  # Shape: (29004,)\n",
    "new_point = [2, 5, 1.5, 3.5, 4.5, 1.5]  # Point to interpolate\n",
    "\n",
    "# Interpolate using griddata\n",
    "x_i = NearestNDInterpolator(X, y)  # or 'nearest', 'linear'\n",
    "print(x_i)"
   ]
  },
  {
   "cell_type": "markdown",
   "metadata": {},
   "source": [
    "# RBF Interpolation of the dataset"
   ]
  },
  {
   "cell_type": "code",
   "execution_count": 78,
   "metadata": {},
   "outputs": [],
   "source": [
    "from scipy.interpolate import RBFInterpolator\n",
    "\n",
    "X = boundary_points_scaled[:, 0:5]\n",
    "y = boundary_points_scaled[:, -1]\n",
    "\n",
    "interpolator = RBFInterpolator(X,y,kernel='gaussian', epsilon=10, smoothing=1e-12)"
   ]
  },
  {
   "cell_type": "code",
   "execution_count": 79,
   "metadata": {},
   "outputs": [
    {
     "data": {
      "text/plain": [
       "array([1.9866971])"
      ]
     },
     "execution_count": 79,
     "metadata": {},
     "output_type": "execute_result"
    }
   ],
   "source": [
    "interpolated_val = interpolator(np.reshape(boundary_points_scaled[0, 0:5], (1,-1)))\n",
    "interpolated_val"
   ]
  },
  {
   "cell_type": "code",
   "execution_count": 80,
   "metadata": {},
   "outputs": [
    {
     "data": {
      "text/plain": [
       "array([ 28.75      ,   0.        ,  93.75      , 125.75      ,\n",
       "       140.88333333,   1.37666667])"
      ]
     },
     "execution_count": 80,
     "metadata": {},
     "output_type": "execute_result"
    }
   ],
   "source": [
    "boundary_points_scaled[0]"
   ]
  },
  {
   "cell_type": "code",
   "execution_count": 84,
   "metadata": {},
   "outputs": [
    {
     "name": "stdout",
     "output_type": "stream",
     "text": [
      "(3125, 5)\n"
     ]
    }
   ],
   "source": [
    "ranges = [np.linspace(np.min(boundary_points_scaled[:, j], axis=0) - 0.0001, np.max(boundary_points_scaled[:, j], axis=0) + 0.0001, 5) for j in range(boundary_points_scaled.shape[1]-1)]\n",
    "grids = np.meshgrid(*ranges) \n",
    "\n",
    "grid_points = np.vstack([g.ravel() for g in grids]).T\n",
    "\n",
    "print(grid_points.shape)"
   ]
  },
  {
   "cell_type": "code",
   "execution_count": 85,
   "metadata": {},
   "outputs": [
    {
     "name": "stdout",
     "output_type": "stream",
     "text": [
      "(3125, 6)\n"
     ]
    }
   ],
   "source": [
    "clf=svm_classifier \n",
    "X = grid_points[:, 0:5]\n",
    "\n",
    "interpolated_vals = interpolator(X)\n",
    "grid_points = np.append(grid_points, np.reshape(interpolated_vals, (-1,1)), axis=1)\n",
    "print(grid_points.shape)"
   ]
  },
  {
   "cell_type": "code",
   "execution_count": 86,
   "metadata": {},
   "outputs": [
    {
     "name": "stdout",
     "output_type": "stream",
     "text": [
      "(6,)\n"
     ]
    },
    {
     "data": {
      "text/plain": [
       "array([[0.34143238, 0.65856762]])"
      ]
     },
     "execution_count": 86,
     "metadata": {},
     "output_type": "execute_result"
    }
   ],
   "source": [
    "print(grid_points[1].shape)\n",
    "clf.predict_proba(np.reshape(grid_points[1000], (1,-1)))"
   ]
  },
  {
   "cell_type": "markdown",
   "metadata": {},
   "source": [
    "# Defining the function without Interpolation"
   ]
  },
  {
   "cell_type": "code",
   "execution_count": 99,
   "metadata": {},
   "outputs": [],
   "source": [
    "\n",
    "# Algorithm that determines the point that is closest to the decision boundary from a specified data point (undesired_coords) \n",
    "def optimal_point(df, model, desired_class, undesired_coords, epsilon=0.01, x1_constr=1, x2_constr=1): \n",
    "\n",
    "    list_feats = np.zeros((20,1))\n",
    "\n",
    "    X_train=list_feats\n",
    "    y_train=df['y'].values\n",
    "\n",
    "    model.fit(X_train, y_train)\n",
    "\n",
    "    # Out of a collection of N features with C categorical features, we remove C categorical features such that the space only consists of N-C variables\n",
    "    for col in df.columns:\n",
    "        \n",
    "        col_feat = df[col] \n",
    "    \n",
    "        count0   = len(col_feat[col_feat==0])\n",
    "        count1   = len(col_feat[col_feat==1])\n",
    "\n",
    "        if col != 'y' and not (len(col_feat) == count0 + count1): \n",
    "            np_col = col_feat.to_numpy().reshape(-1,1)\n",
    "            list_feats = np.append(list_feats, np_col, axis=1)\n",
    "\n",
    "    list_feats = np.delete(list_feats, 0, axis=1)\n",
    "\n",
    "    ranges = [np.linspace(X_train.iloc[:, j].min() - 0.5, X_train.iloc[:, j].max() + 0.5, 16) for j in range(X_train.shape[1])]\n",
    "    grids = np.meshgrid(*ranges) \n",
    "\n",
    "    # Stack into a flat array of points (n_points^6 rows, 6 columns)\n",
    "    grid_points = np.vstack([g.ravel() for g in grids]).T\n",
    "\n",
    "    # # Convert to DataFrame with same column names (for consistency)\n",
    "    # # Grid points are not valid since sex is a categorical variable\n",
    "    grid_df = pd.DataFrame(grid_points, columns=X_train.columns)\n",
    "\n",
    "    sex_vector = [0 for _ in range(grid_df.shape[0]//2)]\n",
    "    sex_vector.extend([1 for _ in range(grid_df.shape[0]//2)])\n",
    "    # Add sex column vector (Random)\n",
    "    # Grid points must be a categorical value of 0 or 1 \n",
    "    grid_df['sex'] = sex_vector\n",
    "\n",
    "    # Get probability predictions (ensure model outputs probabilities)\n",
    "    prob0 = svm_classifier.predict_proba(grid_df)[:, 0] \n",
    "\n",
    "    # Find points near the decision boundary (P(class 1) ≈ 0.5)\n",
    "    threshold = 1E-6  # Tight threshold for \"50%-50%\" (adjust as needed)\n",
    "    boundary_mask = np.abs(prob0 - 0.5) < threshold\n",
    "    boundary_points_scaled = pd.DataFrame(grid_df[boundary_mask], columns=X_train.columns)\n",
    "\n",
    "    boundary_points_scaled = boundary_points_scaled.drop(columns=X_train.columns)\n",
    "\n",
    "    undesired_datapt = np.array([undesired_coords[0], undesired_coords[1]])\n",
    "    optimal_datapt = closest_point(undesired_datapt, contour=boundary_points_scaled)\n",
    "\n",
    "    D = optimal_datapt - undesired_datapt\n",
    "    delta_x1 = D[0]\n",
    "    if desired_class == 1: \n",
    "        delta_x1 = delta_x1 * (1+epsilon)\n",
    "        optimal_datapt = move_from_A_to_B_with_x1_displacement(undesired_datapt, optimal_datapt, delta_x1=delta_x1, constrs=[x1_constr, x2_constr])\n",
    "        return optimal_datapt \n",
    "    elif desired_class == -1: \n",
    "        optimal_datapt = move_from_A_to_B_with_x1_displacement(undesired_datapt, optimal_datapt, delta_x1=delta_x1, constrs=[x1_constr, x2_constr])\n",
    "        return optimal_datapt"
   ]
  }
 ],
 "metadata": {
  "kernelspec": {
   "display_name": "base",
   "language": "python",
   "name": "python3"
  },
  "language_info": {
   "codemirror_mode": {
    "name": "ipython",
    "version": 3
   },
   "file_extension": ".py",
   "mimetype": "text/x-python",
   "name": "python",
   "nbconvert_exporter": "python",
   "pygments_lexer": "ipython3",
   "version": "3.11.4"
  }
 },
 "nbformat": 4,
 "nbformat_minor": 2
}
